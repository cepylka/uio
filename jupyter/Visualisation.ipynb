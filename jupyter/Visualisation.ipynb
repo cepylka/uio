{
 "cells": [
  {
   "cell_type": "code",
   "execution_count": null,
   "metadata": {
    "collapsed": true,
    "jupyter": {
     "outputs_hidden": true
    }
   },
   "outputs": [],
   "source": [
    "%matplotlib widget\n",
    "import matplotlib.pyplot as plt\n",
    "from helita.sim import rh15d \n",
    "from helita.vis import rh15d_vis\n",
    "\n",
    "from pathlib import Path\n",
    "\n",
    "rhRepoPath = Path(\"/Users/elka127/Documents/code/rh\")"
   ]
  },
  {
   "cell_type": "markdown",
   "metadata": {},
   "source": [
    "We now load output from RH 1.5D. There are some sample output files in this directory, but in the future you should do this in the directory where you saved your RH 1.5D output files."
   ]
  },
  {
   "cell_type": "code",
   "execution_count": null,
   "metadata": {},
   "outputs": [],
   "source": [
    "# это что было в репозитории рядом с ноутбуками\n",
    "data = rh15d.Rh15dout(rhRepoPath / \"doc/notebooks\")\n",
    "\n",
    "# а это наши результаты\n",
    "#data = rh15d.Rh15dout(rhRepoPath / \"rh15d/run/output\")"
   ]
  },
  {
   "source": [
    "We can now use this `data` object to make visualisations"
   ],
   "cell_type": "markdown",
   "metadata": {}
  },
  {
   "source": [
    "Simple inspection of the intensity"
   ],
   "cell_type": "markdown",
   "metadata": {}
  },
  {
   "cell_type": "code",
   "execution_count": null,
   "metadata": {},
   "outputs": [],
   "source": [
    "fig, ax = plt.subplots()\n",
    "data.ray.intensity.plot()"
   ]
  },
  {
   "cell_type": "markdown",
   "metadata": {},
   "source": [
    "## 1. Populations visualisation"
   ]
  },
  {
   "cell_type": "code",
   "execution_count": null,
   "metadata": {},
   "outputs": [],
   "source": [
    "rh15d_vis.Populations(data);\n",
    "#rh15d_vis.InputAtmosphere(rhRepoPath / \"Atmos/FALC_82_5x5.hdf5\");"
   ]
  },
  {
   "cell_type": "markdown",
   "metadata": {},
   "source": [
    "In the above, you can plot the populations, LTE populations, and departure coefficients for different levels in all available atoms."
   ]
  },
  {
   "cell_type": "markdown",
   "metadata": {},
   "source": [
    "## 2. Source function visualisation"
   ]
  },
  {
   "cell_type": "markdown",
   "metadata": {},
   "source": [
    "You can also explore the source function and associated quantities such as the angle-averaged intensity and Planck function. This output is not written by default: one must edit the `ray.input` file to add wavelengths selected for detailed output ([see documentation](https://rh15d.readthedocs.io/en/latest/input.html#configuration-files)).\n",
    "\n",
    "If you have selected detailed output, you can explore the source function with the widget:"
   ]
  },
  {
   "cell_type": "code",
   "execution_count": null,
   "metadata": {},
   "outputs": [],
   "source": [
    "rh15d_vis.SourceFunction(data);"
   ]
  }
 ],
 "metadata": {
  "kernelspec": {
   "display_name": "Python 3",
   "language": "python",
   "name": "python3"
  },
  "language_info": {
   "codemirror_mode": {
    "name": "ipython",
    "version": 3
   },
   "file_extension": ".py",
   "mimetype": "text/x-python",
   "name": "python",
   "nbconvert_exporter": "python",
   "pygments_lexer": "ipython3",
   "version": "3.8.7-final"
  }
 },
 "nbformat": 4,
 "nbformat_minor": 4
}