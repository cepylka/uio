{
 "metadata": {
  "language_info": {
   "codemirror_mode": {
    "name": "ipython",
    "version": 3
   },
   "file_extension": ".py",
   "mimetype": "text/x-python",
   "name": "python",
   "nbconvert_exporter": "python",
   "pygments_lexer": "ipython3",
   "version": "3.8.7-final"
  },
  "orig_nbformat": 2,
  "kernelspec": {
   "name": "python3",
   "display_name": "Python 3",
   "language": "python"
  }
 },
 "nbformat": 4,
 "nbformat_minor": 2,
 "cells": [
  {
   "cell_type": "code",
   "execution_count": null,
   "metadata": {},
   "outputs": [],
   "source": [
    "import numpy as np\n",
    "\n",
    "x = []\n",
    "y = [1,2]\n",
    "z = [3,4]\n",
    "x.append(y)\n",
    "x.append(z)\n",
    "print(x)"
   ]
  },
  {
   "cell_type": "code",
   "execution_count": null,
   "metadata": {},
   "outputs": [],
   "source": [
    "from scipy import integrate\n",
    "x = [1,2,3]\n",
    "\n",
    "y = 2*x\n",
    "tmpMu = integrate.cumtrapz(y,x,axis=-1)\n",
    "print(tmpMu)"
   ]
  },
  {
   "cell_type": "code",
   "execution_count": 171,
   "metadata": {},
   "outputs": [
    {
     "output_type": "stream",
     "name": "stdout",
     "text": [
      "[[3.74561504e+12 3.67910255e+12 3.68113811e+12 3.68138359e+12\n  3.68140649e+12 3.68140865e+12 3.68140885e+12 3.68140887e+12\n  3.68140887e+12 3.68140887e+12 3.68140887e+12]\n [3.73900668e+12 3.73956614e+12 3.73957574e+12 3.73957632e+12\n  3.73957637e+12 3.73957638e+12 3.73957638e+12 3.73957638e+12\n  3.73957638e+12 3.73957638e+12 3.73957638e+12]\n [3.78540434e+12 3.78613118e+12 3.78614319e+12 3.78614411e+12\n  3.78614420e+12 3.78614421e+12 3.78614421e+12 3.78614421e+12\n  3.78614421e+12 3.78614421e+12 3.78614421e+12]\n [3.81944702e+12 3.82031325e+12 3.82032711e+12 3.82032837e+12\n  3.82032849e+12 3.82032850e+12 3.82032850e+12 3.82032850e+12\n  3.82032850e+12 3.82032850e+12 3.82032850e+12]]\n"
     ]
    }
   ],
   "source": [
    "from scipy.io import loadmat\n",
    "annots = loadmat('/Users/elka127/Desktop/UIO/II Semester/Atmosperic Chemistry/Assignment Atm Chem/data/old/allOzons.mat')\n",
    "# print(annots)\n",
    "\n",
    "osonesarray = np.array(annots[\"allOzons\"])\n",
    "\n",
    "print(osonesarray)"
   ]
  },
  {
   "cell_type": "code",
   "execution_count": 149,
   "metadata": {},
   "outputs": [
    {
     "output_type": "stream",
     "name": "stdout",
     "text": [
      "[[3.92938301e+10 8.67879664e+10 0.00000000e+00 0.00000000e+00\n  0.00000000e+00 0.00000000e+00]\n [0.00000000e+00 4.91359355e+10 6.11352513e+10 9.14980597e+10\n  1.29655217e+11 0.00000000e+00]\n [3.17901811e+10 2.54772729e+10 3.77178270e+10 5.35288648e+10\n  7.17166684e+10 9.44636725e+10]\n [2.15685707e+10 1.87975739e+10 2.74883358e+10 3.81479655e+10\n  5.00831343e+10 6.17792998e+10]\n [1.54660877e+10 1.48191116e+10 2.18022529e+10 2.95258750e+10\n  3.85710406e+10 4.81123983e+10]\n [1.56648842e+10 1.25608688e+10 1.78289165e+10 2.39709532e+10\n  3.06982968e+10 3.27354449e+10]\n [1.08622387e+10 1.05241027e+10 1.50902360e+10 2.09166971e+10\n  2.64572554e+10 2.91749448e+10]\n [1.03427595e+10 9.36429044e+09 1.31542775e+10 1.79484025e+10\n  2.30360042e+10 2.84896541e+10]]\n"
     ]
    }
   ],
   "source": [
    "osonesarray[osonesarray > 2e11] = 0.0\n",
    "print(osonesarray)"
   ]
  },
  {
   "cell_type": "code",
   "execution_count": 142,
   "metadata": {},
   "outputs": [
    {
     "output_type": "stream",
     "name": "stdout",
     "text": [
      "[[2.15685707e+10 1.87975739e+10 2.74883358e+10 3.81479655e+10\n  5.00831343e+10 6.17792998e+10]\n [1.54660877e+10 1.48191116e+10 2.18022529e+10 2.95258750e+10\n  3.85710406e+10 4.81123983e+10]\n [1.56648842e+10 1.25608688e+10 1.78289165e+10 2.39709532e+10\n  3.06982968e+10 3.27354449e+10]\n [1.08622387e+10 1.05241027e+10 1.50902360e+10 2.09166971e+10\n  2.64572554e+10 2.91749448e+10]\n [1.03427595e+10 9.36429044e+09 1.31542775e+10 1.79484025e+10\n  2.30360042e+10 2.84896541e+10]]\n"
     ]
    }
   ],
   "source": [
    "osoneDeleteRow1 = np.delete(osonesarray, 0, 0)\n",
    "osoneDeleteRow1 = np.delete(osoneDeleteRow1, 0, 0)\n",
    "osoneDeleteRow1 = np.delete(osoneDeleteRow1, 0, 0)\n",
    "# osoneDeleteRow1 = np.delete(osoneDeleteRow1, 3, 0)\n",
    "print(osoneDeleteRow1)"
   ]
  },
  {
   "source": [
    "```\n",
    "1:ozone = 6.18 ppb, for PHC = 2E+11; molecules/(s*cm3) PNO=  1.5E+11; molecules/(s*cm3)\n",
    "сломался на PHC = 12E+11; PNO=  0.5E+11;\n",
    "2:ozone=1.21 ppb for  PHC = 4E+11; molecules/(s*cm3) PNO= 1E+12; molecules/(s*cm3)\n",
    "3: пытался сломаться но не сломался ozone = 0.41 PHC = 6E+11; PNO= 4E+12; за пределами \n",
    "не нужно\n",
    "4: ozone = 7.5 ppb for PHC = 6E+11; PNO= 4E+11;\n",
    "5: ozone = 1.98 ppb for PHC = 5E+11; PNO= 8E+11;\n",
    "6: ozone = 0.55 ppb for PHC = 3E+11; PNO= 16E+11;\n",
    "7: ozone = 1.91 ppb PHC = 6E+11; PNO= 10E+11\n",
    "8: ozone = 0.58 ppb  PHC = 2E+11;  PNO= 10E+11;\n",
    "9: ozone = 0.32 ppb PHC = 2E+11; PNO= 18E+11; \n",
    "10: ozone = 8.3 ppb PHC = 3E+11; PNO= 2E+11;\n",
    "11 ozon бешеный принтер все в озоне все умерли 12000 PHC = 5E+11;            % Emissions molecules/(s*cm3) PNO= 2E+11;            % Emissions molecules/(s*cm3)\n",
    "12 ozone = 7.45 ppb PHC = 6E+11; PNO= 4E+11;\n",
    "13 ozone = 3.5 ppb PHC = 6E+11;  PNO= 6E+11;\n",
    "14 ozone = 2.099 ppb PHC = 4E+11; PNO= 6E+11;\n",
    "15 ozone = 1 ppb PHC = 2E+11; PNO= 6E+11;\n",
    "16 ozone = 1.5 ppb PHC = 2E+11; PNO= 4E+11;\n",
    "17 ozone = 1.5 ppb PHC = 6E+11; PNO= 12E+11;\n",
    "18 ozone = 1.5 ppb PHC = 1E+11; PNO = 2E+11;\n",
    "19 ozone = 0,48 ppb PHC = 1E+11; PNO = 6E+11;\n",
    "\n",
    "PHC = 1E+11, 1E+11, 6E+11; PNO = 2E+11; 2E+11; 16E+11;\n",
    "\n",
    "```"
   ],
   "cell_type": "markdown",
   "metadata": {}
  },
  {
   "cell_type": "code",
   "execution_count": 242,
   "metadata": {},
   "outputs": [],
   "source": [
    "import numpy as np\n",
    "\n",
    "# Ozone45 = [[83.5202,118.859,147.515,171.824,192.92,211.623,228.301,243.586],\n",
    "# [88.5518,139.1,174.57,204.594,231.812,255.794,278.131,297.402],\n",
    "# [10.1031,169.711,192.526,225.799,256.036,283.58,308.661,332.28],\n",
    "# [6.2232,24.9757,222.273,243.619,274.657,304.41,330.797,357.235],\n",
    "# [4.51481,12.3312,55.7984,274.744,293.175,322.473,351.056,378.026],\n",
    "# [3.50326,8.62951,20.8129,154.402,325.894,341.909,369.17,395.216],\n",
    "# [2.95651,6.71641,13.5328,33.3565,377.742,375.138,389.866,415.07],\n",
    "# [2.52578,5.48905,10.2889,19.3716,53.9354,446.538,423.548,436.844]]\n",
    "\n",
    "\n",
    "Ozone45 = [[71.7412,99.43,122.005,140.011,156.089,172.151,184.458,195.897],[83.5202,118.859,147.515,171.824,192.92,211.623,228.301,243.586],\n",
    "[91.0332,130.686,163.131,190.883,215.388,236.948,256.725,274.815],\n",
    "[88.5518,139.1,174.57,204.594,231.812,255.794,278.131,297.402],\n",
    "[15.6755,146.899,183.737,193.732,244.395,270.163,293.509,316.627],\n",
    "[10.1031,169.711,192.526,225.799,256.036,283.58,308.661,332.28],\n",
    "[7.66237,60.6275,202.234,233.652,265.305,294.523,320.775,345.434],\n",
    "[6.2232,24.9757,222.273,243.619,274.657,304.41,330.797,357.235]]\n",
    "# [4.51481,12.3312,55.7984,274.744,293.175,322.473,351.056,378.026],\n",
    "# [3.50326,8.62951,20.8129,154.402,325.894,341.909,369.17,395.216],\n",
    "# [2.95651,6.71641,13.5328,33.3565,377.742,375.138,389.866,415.07],\n",
    "# [2.52578,5.48905,10.2889,19.3716,53.9354,446.538,423.548,436.844]]\n",
    "\n",
    "\n",
    "\n",
    "\n",
    "Ozone30 = [[84.2178,119.886,148.692,173.514,194.924,213.948,230.996,246.663],\n",
    "[113.751,139.527,176.01,206.635,233.992,258.628,281.227,301.684],\n",
    "[11.03,164.76,193.67,227.81,258.526,286.526,312.091,335.906],\n",
    "[6.6745,28.2716,219.259,244.712,277.236,307.42,335.127,361.258],\n",
    "[4.83051,13.4504,76.4896,271.822,295.137,325.376,354.219,379.809],\n",
    "[3.81878,9.26865,23.2412,292.628,320.947,344.197,372.328,400.556],\n",
    "[3.151149,7.14442,14.6212,38.9435,393.872,373.216,391.085,417.897],\n",
    "[2.68621,5.79228,10.9192,21.5287,67.1297,441.684,422.074,438.885]]\n",
    "\n"
   ]
  },
  {
   "cell_type": "code",
   "execution_count": 230,
   "metadata": {},
   "outputs": [
    {
     "output_type": "display_data",
     "data": {
      "text/plain": "Canvas(toolbar=Toolbar(toolitems=[('Home', 'Reset original view', 'home', 'home'), ('Back', 'Back to previous …",
      "application/vnd.jupyter.widget-view+json": {
       "version_major": 2,
       "version_minor": 0,
       "model_id": "2186dfc6990c4b9f9c71d0e2353dca41"
      }
     },
     "metadata": {}
    },
    {
     "output_type": "execute_result",
     "data": {
      "text/plain": [
       "Text(0, 0.5, 'NO emmision')"
      ]
     },
     "metadata": {},
     "execution_count": 230
    }
   ],
   "source": [
    "import numpy as np\n",
    "import matplotlib.pyplot as plt\n",
    "\n",
    "# Mair=2.5e19\n",
    "# # osoneDeleteRow1 = osoneDeleteRow1*1.0E+9/Mair\n",
    "# osonesarray = osonesarray*1.0E+9/2.5e19\n",
    "# print(osonesarray)\n",
    "\n",
    "\n",
    "\n",
    "\n",
    "fig, axs = plt.subplots()\n",
    "# # (1,3,figsize=(15,5),facecolor='w', edgecolor='k')\n",
    "# # fig.subplots_adjust(hspace = 0.25,wspace=0.25,left=0.05,right=0.95,top=0.93,bottom=0.07)\n",
    "# # axs.ravel()\n",
    "\n",
    "im=axs.matshow(Ozone30)\n",
    "cbar=plt.colorbar(im)\n",
    "cbar.set_label('Ozone consentrations, ppb')\n",
    "axs.set_xlabel('HC emission')\n",
    "axs.set_ylabel('NO emmision')"
   ]
  },
  {
   "cell_type": "code",
   "execution_count": 252,
   "metadata": {},
   "outputs": [
    {
     "output_type": "display_data",
     "data": {
      "text/plain": "Canvas(toolbar=Toolbar(toolitems=[('Home', 'Reset original view', 'home', 'home'), ('Back', 'Back to previous …",
      "application/vnd.jupyter.widget-view+json": {
       "version_major": 2,
       "version_minor": 0,
       "model_id": "5cc8d3bf3e424a7d9584a8ec8f559c7e"
      }
     },
     "metadata": {}
    },
    {
     "output_type": "error",
     "ename": "AttributeError",
     "evalue": "'list' object has no attribute 'clabel'",
     "traceback": [
      "\u001b[0;31m---------------------------------------------------------------------------\u001b[0m",
      "\u001b[0;31mAttributeError\u001b[0m                            Traceback (most recent call last)",
      "\u001b[0;32m<ipython-input-252-b8414a8f9d00>\u001b[0m in \u001b[0;36m<module>\u001b[0;34m\u001b[0m\n\u001b[1;32m     13\u001b[0m \u001b[0mplt\u001b[0m\u001b[0;34m.\u001b[0m\u001b[0mcontour\u001b[0m\u001b[0;34m(\u001b[0m\u001b[0mxv\u001b[0m\u001b[0;34m,\u001b[0m\u001b[0myv\u001b[0m\u001b[0;34m,\u001b[0m\u001b[0mz\u001b[0m\u001b[0;34m)\u001b[0m\u001b[0;34m\u001b[0m\u001b[0;34m\u001b[0m\u001b[0m\n\u001b[1;32m     14\u001b[0m \u001b[0;31m# plt.contourf(xv,yv,z)\u001b[0m\u001b[0;34m\u001b[0m\u001b[0;34m\u001b[0m\u001b[0;34m\u001b[0m\u001b[0m\n\u001b[0;32m---> 15\u001b[0;31m \u001b[0mplt\u001b[0m\u001b[0;34m.\u001b[0m\u001b[0mclabel\u001b[0m\u001b[0;34m(\u001b[0m\u001b[0mz\u001b[0m\u001b[0;34m,\u001b[0m \u001b[0minline\u001b[0m\u001b[0;34m=\u001b[0m\u001b[0;32mTrue\u001b[0m\u001b[0;34m,\u001b[0m \u001b[0mfontsize\u001b[0m\u001b[0;34m=\u001b[0m\u001b[0;36m10\u001b[0m\u001b[0;34m)\u001b[0m\u001b[0;34m\u001b[0m\u001b[0;34m\u001b[0m\u001b[0m\n\u001b[0m\u001b[1;32m     16\u001b[0m \u001b[0;31m#     # colors=['#808080', '#A0A0A0', '#C0C0C0'], extend='both')\u001b[0m\u001b[0;34m\u001b[0m\u001b[0;34m\u001b[0m\u001b[0;34m\u001b[0m\u001b[0m\n\u001b[1;32m     17\u001b[0m \u001b[0;31m# cs.cmap.set_over('red')\u001b[0m\u001b[0;34m\u001b[0m\u001b[0;34m\u001b[0m\u001b[0;34m\u001b[0m\u001b[0m\n",
      "\u001b[0;32m/usr/local/lib/python3.8/site-packages/matplotlib/pyplot.py\u001b[0m in \u001b[0;36mclabel\u001b[0;34m(CS, levels, **kwargs)\u001b[0m\n\u001b[1;32m   2530\u001b[0m \u001b[0;34m@\u001b[0m\u001b[0m_copy_docstring_and_deprecators\u001b[0m\u001b[0;34m(\u001b[0m\u001b[0mAxes\u001b[0m\u001b[0;34m.\u001b[0m\u001b[0mclabel\u001b[0m\u001b[0;34m)\u001b[0m\u001b[0;34m\u001b[0m\u001b[0;34m\u001b[0m\u001b[0m\n\u001b[1;32m   2531\u001b[0m \u001b[0;32mdef\u001b[0m \u001b[0mclabel\u001b[0m\u001b[0;34m(\u001b[0m\u001b[0mCS\u001b[0m\u001b[0;34m,\u001b[0m \u001b[0mlevels\u001b[0m\u001b[0;34m=\u001b[0m\u001b[0;32mNone\u001b[0m\u001b[0;34m,\u001b[0m \u001b[0;34m**\u001b[0m\u001b[0mkwargs\u001b[0m\u001b[0;34m)\u001b[0m\u001b[0;34m:\u001b[0m\u001b[0;34m\u001b[0m\u001b[0;34m\u001b[0m\u001b[0m\n\u001b[0;32m-> 2532\u001b[0;31m     \u001b[0;32mreturn\u001b[0m \u001b[0mgca\u001b[0m\u001b[0;34m(\u001b[0m\u001b[0;34m)\u001b[0m\u001b[0;34m.\u001b[0m\u001b[0mclabel\u001b[0m\u001b[0;34m(\u001b[0m\u001b[0mCS\u001b[0m\u001b[0;34m,\u001b[0m \u001b[0mlevels\u001b[0m\u001b[0;34m=\u001b[0m\u001b[0mlevels\u001b[0m\u001b[0;34m,\u001b[0m \u001b[0;34m**\u001b[0m\u001b[0mkwargs\u001b[0m\u001b[0;34m)\u001b[0m\u001b[0;34m\u001b[0m\u001b[0;34m\u001b[0m\u001b[0m\n\u001b[0m\u001b[1;32m   2533\u001b[0m \u001b[0;34m\u001b[0m\u001b[0m\n\u001b[1;32m   2534\u001b[0m \u001b[0;34m\u001b[0m\u001b[0m\n",
      "\u001b[0;32m/usr/local/lib/python3.8/site-packages/matplotlib/axes/_axes.py\u001b[0m in \u001b[0;36mclabel\u001b[0;34m(self, CS, levels, **kwargs)\u001b[0m\n\u001b[1;32m   6353\u001b[0m             \u001b[0mAll\u001b[0m \u001b[0mother\u001b[0m \u001b[0mparameters\u001b[0m \u001b[0mare\u001b[0m \u001b[0mdocumented\u001b[0m \u001b[0;32min\u001b[0m\u001b[0;31m \u001b[0m\u001b[0;31m`\u001b[0m\u001b[0;34m~\u001b[0m\u001b[0;34m.\u001b[0m\u001b[0mContourLabeler\u001b[0m\u001b[0;34m.\u001b[0m\u001b[0mclabel\u001b[0m\u001b[0;31m`\u001b[0m\u001b[0;34m.\u001b[0m\u001b[0;34m\u001b[0m\u001b[0;34m\u001b[0m\u001b[0m\n\u001b[1;32m   6354\u001b[0m         \"\"\"\n\u001b[0;32m-> 6355\u001b[0;31m         \u001b[0;32mreturn\u001b[0m \u001b[0mCS\u001b[0m\u001b[0;34m.\u001b[0m\u001b[0mclabel\u001b[0m\u001b[0;34m(\u001b[0m\u001b[0mlevels\u001b[0m\u001b[0;34m,\u001b[0m \u001b[0;34m**\u001b[0m\u001b[0mkwargs\u001b[0m\u001b[0;34m)\u001b[0m\u001b[0;34m\u001b[0m\u001b[0;34m\u001b[0m\u001b[0m\n\u001b[0m\u001b[1;32m   6356\u001b[0m \u001b[0;34m\u001b[0m\u001b[0m\n\u001b[1;32m   6357\u001b[0m     \u001b[0;31m#### Data analysis\u001b[0m\u001b[0;34m\u001b[0m\u001b[0;34m\u001b[0m\u001b[0;34m\u001b[0m\u001b[0m\n",
      "\u001b[0;31mAttributeError\u001b[0m: 'list' object has no attribute 'clabel'"
     ]
    }
   ],
   "source": [
    "import numpy as np\n",
    "import matplotlib.pyplot as plt\n",
    "%matplotlib widget\n",
    "\n",
    "z = Ozone30\n",
    "nx, ny = (8, 8)\n",
    "x = np.linspace(1, 8, nx)\n",
    "y = np.linspace(2, 16, ny)\n",
    "xv, yv = np.meshgrid(x, y)\n",
    "\n",
    "# xi = np.linspace(1,6,1)\n",
    "# yi = np.linspace(2,16,2)\n",
    "plt.contour(xv,yv,z)\n",
    "# plt.contourf(xv,yv,z)\n",
    "# plt.clabel(z, inline=True, fontsize=10)\n",
    "#     # colors=['#808080', '#A0A0A0', '#C0C0C0'], extend='both')\n",
    "# cs.cmap.set_over('red')\n",
    "# cs.cmap.set_under('blue')\n",
    "# cs.changed()\n",
    "\n",
    "cbar=plt.colorbar(im)\n",
    "cbar.set_label('Ozone consentrations, ppb')\n",
    "plt.xlabel('HC emission, 1e+7, mol/s/cm2')\n",
    "plt.ylabel('NO emmision, 1e+6, mol/s/cm2')\n",
    "plt.savefig(\"30lat.svg\", format=\"svg\")\n"
   ]
  },
  {
   "cell_type": "code",
   "execution_count": 194,
   "metadata": {},
   "outputs": [
    {
     "output_type": "display_data",
     "data": {
      "text/plain": "Canvas(toolbar=Toolbar(toolitems=[('Home', 'Reset original view', 'home', 'home'), ('Back', 'Back to previous …",
      "application/vnd.jupyter.widget-view+json": {
       "version_major": 2,
       "version_minor": 0,
       "model_id": "2578b12a346342459b09790808f8f87a"
      }
     },
     "metadata": {}
    },
    {
     "output_type": "execute_result",
     "data": {
      "text/plain": [
       "Text(0, 0.5, 'O3')"
      ]
     },
     "metadata": {},
     "execution_count": 194
    }
   ],
   "source": [
    "import numpy as np\n",
    "import matplotlib.pyplot as plt\n",
    "%matplotlib widget\n",
    "\n",
    "from scipy.io import loadmat\n",
    "ozoneDays = loadmat('/Users/elka127/Desktop/UIO/II Semester/Atmosperic Chemistry/Assignment Atm Chem/data/ozonOnly15.mat')\n",
    "\n",
    "osonesarrayDays = np.array(ozoneDays[\"ozonOnly\"])\n",
    "# print(osonesarrayDays)\n",
    "# print(osonesarrayDays.shape)\n",
    "# time = loadmat('/Users/elka127/Desktop/UIO/II Semester/Atmosperic Chemistry/Assignment Atm Chem/data/t.mat')\n",
    "# # print(annots)\n",
    "# # print(time)\n",
    "# timeDays = np.array(time[\"t\"])\n",
    "# print(timeDays.shape)\n",
    "# print(timeDays)\n",
    "fig1, ax1=plt.subplots()\n",
    "#ax1.plot(vz1t[:,22],np.log10(tg1t[:,22]))\n",
    "ax1.plot(osonesarrayDays)\n",
    "\n",
    "plt.xlabel('t')\n",
    "plt.ylabel('O3')\n",
    "# plt.figure()\n",
    "# plt.plot(osonesarrayDays, \n",
    "#     #  *1.0E+9/Mair   \n",
    "# )\n",
    "# print(atmos.height_scale[0,0]/1e6)"
   ]
  },
  {
   "source": [
    "```\n",
    "#3.92938301e+10*1.0E+9/2.5e19\n",
    "\n",
    "````"
   ],
   "cell_type": "markdown",
   "metadata": {}
  },
  {
   "cell_type": "code",
   "execution_count": 193,
   "metadata": {},
   "outputs": [
    {
     "output_type": "stream",
     "name": "stdout",
     "text": [
      "14000.0\n"
     ]
    }
   ],
   "source": [
    "a = 3.5e14*1.0e9/2.5e19\n",
    "print(a)"
   ]
  },
  {
   "cell_type": "code",
   "execution_count": 158,
   "metadata": {},
   "outputs": [
    {
     "output_type": "stream",
     "name": "stdout",
     "text": [
      "487.2611464968153\n"
     ]
    }
   ],
   "source": [
    "a = 153e6/3.14e5\n",
    "print(a)"
   ]
  },
  {
   "source": [
    "```\n",
    "45latitude\n",
    "0   1           2    3 4 5      6\n",
    "1 ([71.7412],[99.43],[122.005],[140.011],[156.089],[172.151],[184.458],[195.897])\n",
    "2 ([83.5202],[118.859],[147.515],[171.824],[192.92],[211.623],[228.301],[243.586])\n",
    "3 ([91.0332],[130.686],[163.131],[190.883],[215.388],[236.948],[256.725],[274.815])\n",
    "4 ([88.5518],[139.1],[174.57],[204.594],[231.812],[255.794],[278.131],[297.402])\n",
    "5 ([15.6755],[146.899],[183.737],[193.732],[244.395],[270.163],[293.509],[316.627])\n",
    "6 ([10.1031],[169.711],[192.526],[225.799],[256.036],[283.58],[308.661],[332.28])\n",
    "7 ([7.66237],[60.62.75],[202.234],[233.652],[265.305],[294.523],[320.775],[345.434])\n",
    "8 ([6.2232],[24.9757],[222.273],[243.619],[274.657],[304.41],[330.797],[357.235])\n",
    "10 ([4.51481],[12.3312],[55.7984],[274.744],[293.175],[322.473],[351.056],[378.026])\n",
    "12([3.50326],[8.62951],[20.8129],[154.402],[325.894],[341.909],[369.17],[395.216])\n",
    "14([2.95651],[6.71641],[13.5328],[33.3565],[377.742],[375.138],[389.866],[415.07])\n",
    "16([2.52578],[5.48905],[10.2889],[19.3716],[53.9354],[446.538],[423.548],[436.844])\n",
    "\n",
    "\n",
    "```"
   ],
   "cell_type": "markdown",
   "metadata": {}
  },
  {
   "source": [
    "```\n",
    "30 latitude\n",
    "2 ([84.2178],[119.886],[148.692],[173.514],[194.924],[213.948],[230.996],[246.663])\n",
    "4 ([113.751],[139.527],[176.01],[206.635],[233.992],[258.628],[281.227],[301.684])\n",
    "6 ([11.03],[164.76],[193.67],[227.81],[258.526],[286.526],[312.091],[335.906])\n",
    "8 ([6.6745],[28.2716],[219.259],[244.712],[277.236],[307.42],[335.127],[361.258])\n",
    "10 ([4.83051],[13.4504],[76.4896],[271.822],[295.137],[325.376],[354.219],[379.809])\n",
    "12 ([3.81878],[9.26865],[23.2412],[292.628],[320.947],[344.197],[372.328],[400.556])\n",
    "14 ([3.151149],[7.14442],[14.6212],[38.9435],[393.872],[373.216],[391.085],[417.897])\n",
    "16 ([2.68621],[5.79228],[10.9192],[21.5287],[67.1297],[441.684],[422.074],[438.885])"
   ],
   "cell_type": "markdown",
   "metadata": {}
  }
 ]
}