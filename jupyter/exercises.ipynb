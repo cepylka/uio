{
 "metadata": {
  "language_info": {
   "codemirror_mode": {
    "name": "ipython",
    "version": 3
   },
   "file_extension": ".py",
   "mimetype": "text/x-python",
   "name": "python",
   "nbconvert_exporter": "python",
   "pygments_lexer": "ipython3",
   "version": "3.8.7-final"
  },
  "orig_nbformat": 2,
  "kernelspec": {
   "name": "python3",
   "display_name": "Python 3",
   "language": "python"
  }
 },
 "nbformat": 4,
 "nbformat_minor": 2,
 "cells": [
  {
   "cell_type": "code",
   "execution_count": 3,
   "metadata": {},
   "outputs": [],
   "source": [
    "%matplotlib widget\n",
    "import matplotlib.pyplot as plt\n",
    "from helita.sim import rh15d \n",
    "from helita.vis import rh15d_vis\n",
    "\n",
    "from pathlib import Path\n",
    "\n",
    "rhRepoPath = Path(\"/Users/elka127/Documents/code/rh\")"
   ]
  },
  {
   "source": [
    "# Zero radiation\n",
    "\n",
    "```\n",
    "../../Atoms_example/H_6.atom     ACTIVE    ZERO_RADIATION   pops.H.out\n",
    "../../Atoms_example/CaII.atom    PASSIVE   ZERO_RADIATION   pops.CA.out\n",
    "```"
   ],
   "cell_type": "markdown",
   "metadata": {}
  },
  {
   "cell_type": "code",
   "execution_count": 7,
   "metadata": {},
   "outputs": [
    {
     "output_type": "display_data",
     "data": {
      "text/plain": "Canvas(toolbar=Toolbar(toolitems=[('Home', 'Reset original view', 'home', 'home'), ('Back', 'Back to previous …",
      "application/vnd.jupyter.widget-view+json": {
       "version_major": 2,
       "version_minor": 0,
       "model_id": "0d9fc7adbed04c6199c66f2153705b5e"
      }
     },
     "metadata": {}
    },
    {
     "output_type": "stream",
     "name": "stdout",
     "text": [
      "--- Read /Users/elka127/Documents/code/rh/rh15d/run/output/output_ray.hdf5 file.\n--- Read /Users/elka127/Documents/code/rh/rh15d/run/output/output_ray_NLTE.hdf5 file.\n"
     ]
    },
    {
     "output_type": "execute_result",
     "data": {
      "text/plain": [
       "[<matplotlib.lines.Line2D at 0x11f545ee0>]"
      ]
     },
     "metadata": {},
     "execution_count": 7
    }
   ],
   "source": [
    "fig, ax = plt.subplots()\n",
    "data1 = rh15d.Rh15dout(rhRepoPath / \"rh15d/run/output\")\n",
    "data2 = rh15d.Rh15dout(rhRepoPath / \"rh15d/run/output\", autoread=False)\n",
    "data2.read_ray(rhRepoPath / \"rh15d/run/output/output_ray_NLTE.hdf5\")\n",
    "data1.ray.intensity.plot()\n",
    "data2.ray.intensity.plot()"
   ]
  },
  {
   "source": [
    "# LTE population\n",
    "\n",
    "```\n",
    "../../Atoms_example/H_6.atom     ACTIVE   LTE_POPULATIONS   pops.H.out\n",
    "../../Atoms_example/CaII.atom    PASSIVE   ZERO_RADIATION   pops.CA.out\n",
    "```"
   ],
   "cell_type": "markdown",
   "metadata": {}
  },
  {
   "cell_type": "code",
   "execution_count": 8,
   "metadata": {},
   "outputs": [
    {
     "output_type": "display_data",
     "data": {
      "text/plain": "Canvas(toolbar=Toolbar(toolitems=[('Home', 'Reset original view', 'home', 'home'), ('Back', 'Back to previous …",
      "application/vnd.jupyter.widget-view+json": {
       "version_major": 2,
       "version_minor": 0,
       "model_id": "5630562cba0f453f8f456e9a125d04bc"
      }
     },
     "metadata": {}
    },
    {
     "output_type": "stream",
     "name": "stdout",
     "text": [
      "--- Read /Users/elka127/Documents/code/rh/rh15d/run/output/output_aux.hdf5 file.\n--- Read /Users/elka127/Documents/code/rh/rh15d/run/output/output_indata.hdf5 file.\n--- Read /Users/elka127/Documents/code/rh/rh15d/run/output/output_ray.hdf5 file.\n--- Read /Users/elka127/Documents/code/rh/rh15d/run/output/output_ray_NLTE.hdf5 file.\n"
     ]
    },
    {
     "output_type": "execute_result",
     "data": {
      "text/plain": [
       "[<matplotlib.lines.Line2D at 0x11fc33ac0>]"
      ]
     },
     "metadata": {},
     "execution_count": 8
    }
   ],
   "source": [
    "fig, ax = plt.subplots()\n",
    "data1 = rh15d.Rh15dout(rhRepoPath / \"rh15d/run/output\")\n",
    "data2 = rh15d.Rh15dout(rhRepoPath / \"rh15d/run/output\", autoread=False)\n",
    "data2.read_ray(rhRepoPath / \"rh15d/run/output/output_ray_NLTE.hdf5\")\n",
    "data1.ray.intensity.plot()\n",
    "data2.ray.intensity.plot()"
   ]
  },
  {
   "cell_type": "code",
   "execution_count": null,
   "metadata": {},
   "outputs": [],
   "source": []
  }
 ]
}