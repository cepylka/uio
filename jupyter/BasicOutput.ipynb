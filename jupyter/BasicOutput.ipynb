{
 "cells": [
  {
   "cell_type": "code",
   "execution_count": null,
   "metadata": {},
   "outputs": [],
   "source": [
    "%matplotlib widget\n",
    "import matplotlib.pyplot as plt"
   ]
  },
  {
   "cell_type": "markdown",
   "metadata": {},
   "source": [
    "###  Reading RH 1.5D output\n",
    "\n",
    "This notebook presents some basic commands to analyse the output of [RH 1.5D](https://github.com/ITA-Solar/rh).\n",
    "\n",
    "You should have run RH 1.5D before and have the three output files in your current directory:\n",
    "* output_ray.hdf5\n",
    "* output_indata.hdf5\n",
    "* output_aux.hdf5\n",
    "\n",
    "We'll start by importing the [helita.sim.rh15d](https://github.com/ITA-Solar/helita/blob/master/helita/sim/rh15d.py) module that has the interface to RH 1.5D:"
   ]
  },
  {
   "cell_type": "code",
   "execution_count": null,
   "metadata": {},
   "outputs": [],
   "source": [
    "from helita.sim import rh15d"
   ]
  },
  {
   "cell_type": "markdown",
   "metadata": {},
   "source": [
    "And load the output into a structure we'll call `data`:"
   ]
  },
  {
   "cell_type": "code",
   "execution_count": null,
   "metadata": {
    "collapsed": true,
    "jupyter": {
     "outputs_hidden": true
    }
   },
   "outputs": [],
   "source": [
    "data = rh15d.Rh15dout()"
   ]
  },
  {
   "cell_type": "markdown",
   "metadata": {},
   "source": [
    "We can now do a quick plot of the intensity:"
   ]
  },
  {
   "cell_type": "code",
   "execution_count": null,
   "metadata": {},
   "outputs": [],
   "source": [
    "data.ray.intensity.plot()\n",
    "plt.axis([278.7, 280.7, 0, 2e-9])"
   ]
  },
  {
   "cell_type": "markdown",
   "metadata": {},
   "source": [
    "The object ``data`` contains a variety of datasets that were written by RH 1.5D. The actual arrays saved depend on the options used when running the code. The output variables and file structure is explained in the [RH 1.5D documentation](https://rh15d.readthedocs.io/en/latest/output.html#output-file-structure). Generally, the Python routines load the following datasets:\n",
    "\n",
    "* ``data.ray``: intensity, wavelength, other radiative transfer quantities\n",
    "* ``data.atom_MG``: one of per active atom (e.g. ``data.atom_CA`` for Ca), can contain level populations and radiative rates\n",
    "* ``data.atmos``: parts of input atmosphere (temperature, velocity, etc.)\n",
    "* ``data.mpi``: information on convergence, and how each column was run\n",
    "* ``data.input``: contains some of the input options used\n",
    "\n",
    "For example, to plot the temperature vs. height in Mm for the first column we do:"
   ]
  },
  {
   "cell_type": "code",
   "execution_count": null,
   "metadata": {},
   "outputs": [],
   "source": [
    "plt.figure()\n",
    "plt.plot(data.atmos.height_scale[0, 0] / 1e6, data.atmos.temperature[0, 0])\n",
    "plt.xlabel(\"Height (Mm)\")\n",
    "plt.ylabel(\"Temperature (K)\")\n",
    "plt.ylim(4000, 10000)"
   ]
  },
  {
   "cell_type": "markdown",
   "metadata": {},
   "source": [
    "And to plot the departure coefficients for the first three levels of Mg II, we can do:"
   ]
  },
  {
   "cell_type": "code",
   "execution_count": null,
   "metadata": {},
   "outputs": [],
   "source": [
    "plt.figure()\n",
    "for i in range(3):\n",
    "    plt.plot(data.atmos.height_scale[0,0]/1e6, \n",
    "             data.atom_MG.populations[i, 0, 0]/data.atom_MG.populations_LTE[i, 0, 0],\n",
    "             label='Level %i' % (i + 1))\n",
    "plt.legend(loc=\"upper left\")\n",
    "plt.xlabel(\"Height (Mm)\")\n",
    "plt.ylabel(\"Departure coefficients\")\n",
    "plt.ylim(0.05, 2)"
   ]
  },
  {
   "cell_type": "markdown",
   "metadata": {},
   "source": [
    "You can now explore different variables from the RH 1.5D output."
   ]
  }
 ],
 "metadata": {
  "kernelspec": {
   "display_name": "Python 3",
   "language": "python",
   "name": "python3"
  },
  "language_info": {
   "codemirror_mode": {
    "name": "ipython",
    "version": 3
   },
   "file_extension": ".py",
   "mimetype": "text/x-python",
   "name": "python",
   "nbconvert_exporter": "python",
   "pygments_lexer": "ipython3",
   "version": "3.8.5"
  }
 },
 "nbformat": 4,
 "nbformat_minor": 4
}