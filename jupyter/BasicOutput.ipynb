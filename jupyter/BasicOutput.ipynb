{
 "cells": [
  {
   "cell_type": "code",
   "execution_count": 1,
   "metadata": {},
   "outputs": [],
   "source": [
    "%matplotlib widget\n",
    "import matplotlib.pyplot as plt\n",
    "\n",
    "from pathlib import Path\n",
    "\n",
    "rhRepoPath = Path(\"/Users/elka127/Documents/code/rh\")"
   ]
  },
  {
   "cell_type": "markdown",
   "metadata": {},
   "source": [
    "###  Reading RH 1.5D output\n",
    "\n",
    "This notebook presents some basic commands to analyse the output of [RH 1.5D](https://github.com/ITA-Solar/rh).\n",
    "\n",
    "You should have run RH 1.5D before and have the three output files in your current directory:\n",
    "* output_ray.hdf5\n",
    "* output_indata.hdf5\n",
    "* output_aux.hdf5\n",
    "\n",
    "We'll start by importing the [helita.sim.rh15d](https://github.com/ITA-Solar/helita/blob/master/helita/sim/rh15d.py) module that has the interface to RH 1.5D:"
   ]
  },
  {
   "cell_type": "code",
   "execution_count": 2,
   "metadata": {},
   "outputs": [],
   "source": [
    "from helita.sim import rh15d"
   ]
  },
  {
   "cell_type": "markdown",
   "metadata": {},
   "source": [
    "And load the output into a structure we'll call `data`:"
   ]
  },
  {
   "cell_type": "code",
   "execution_count": 3,
   "metadata": {
    "collapsed": true,
    "jupyter": {
     "outputs_hidden": true
    }
   },
   "outputs": [
    {
     "output_type": "stream",
     "name": "stdout",
     "text": [
      "--- Read /Users/elka127/Documents/code/rh/rh15d/run/output/output_aux.hdf5 file.\n--- Read /Users/elka127/Documents/code/rh/rh15d/run/output/output_indata.hdf5 file.\n--- Read /Users/elka127/Documents/code/rh/rh15d/run/output/output_ray.hdf5 file.\n"
     ]
    }
   ],
   "source": [
    "#data = rh15d.Rh15dout()\n",
    "\n",
    "# а это наши результаты\n",
    "data = rh15d.Rh15dout(rhRepoPath / \"rh15d/run/output\")"
   ]
  },
  {
   "cell_type": "markdown",
   "metadata": {},
   "source": [
    "We can now do a quick plot of the intensity:"
   ]
  },
  {
   "cell_type": "code",
   "execution_count": 4,
   "metadata": {},
   "outputs": [
    {
     "output_type": "display_data",
     "data": {
      "text/plain": "Canvas(toolbar=Toolbar(toolitems=[('Home', 'Reset original view', 'home', 'home'), ('Back', 'Back to previous …",
      "application/vnd.jupyter.widget-view+json": {
       "version_major": 2,
       "version_minor": 0,
       "model_id": "309d1d9de731453886ef637ee8d51b20"
      }
     },
     "metadata": {}
    },
    {
     "output_type": "execute_result",
     "data": {
      "text/plain": [
       "(278.7, 280.7, 0.0, 2e-09)"
      ]
     },
     "metadata": {},
     "execution_count": 4
    }
   ],
   "source": [
    "data.ray.intensity.plot()\n",
    "plt.axis([278.7, 280.7, 0, 2e-9])"
   ]
  },
  {
   "cell_type": "markdown",
   "metadata": {},
   "source": [
    "The object ``data`` contains a variety of datasets that were written by RH 1.5D. The actual arrays saved depend on the options used when running the code. The output variables and file structure is explained in the [RH 1.5D documentation](https://rh15d.readthedocs.io/en/latest/output.html#output-file-structure). Generally, the Python routines load the following datasets:\n",
    "\n",
    "* ``data.ray``: intensity, wavelength, other radiative transfer quantities\n",
    "* ``data.atom_MG``: one of per active atom (e.g. ``data.atom_CA`` for Ca), can contain level populations and radiative rates\n",
    "* ``data.atmos``: parts of input atmosphere (temperature, velocity, etc.)\n",
    "* ``data.mpi``: information on convergence, and how each column was run\n",
    "* ``data.input``: contains some of the input options used\n",
    "\n",
    "For example, to plot the temperature vs. height in Mm for the first column we do:"
   ]
  },
  {
   "cell_type": "code",
   "execution_count": 6,
   "metadata": {},
   "outputs": [
    {
     "output_type": "display_data",
     "data": {
      "text/plain": "Canvas(toolbar=Toolbar(toolitems=[('Home', 'Reset original view', 'home', 'home'), ('Back', 'Back to previous …",
      "application/vnd.jupyter.widget-view+json": {
       "version_major": 2,
       "version_minor": 0,
       "model_id": "78a2549f10d84e198ba53768828d522a"
      }
     },
     "metadata": {}
    },
    {
     "output_type": "execute_result",
     "data": {
      "text/plain": [
       "(400.0, 100000.0)"
      ]
     },
     "metadata": {},
     "execution_count": 6
    }
   ],
   "source": [
    "plt.figure()\n",
    "plt.plot(data.atmos.height_scale[0, 0] / 1e6, data.atmos.temperature[0, 0])\n",
    "plt.xlabel(\"Height (Mm)\")\n",
    "plt.ylabel(\"Temperature (K)\")\n",
    "plt.ylim(400, 100000)"
   ]
  },
  {
   "cell_type": "markdown",
   "metadata": {},
   "source": [
    "And to plot the departure coefficients for the first three levels of Mg II, we can do:"
   ]
  },
  {
   "cell_type": "code",
   "execution_count": 8,
   "metadata": {},
   "outputs": [
    {
     "output_type": "display_data",
     "data": {
      "text/plain": "Canvas(toolbar=Toolbar(toolitems=[('Home', 'Reset original view', 'home', 'home'), ('Back', 'Back to previous …",
      "application/vnd.jupyter.widget-view+json": {
       "version_major": 2,
       "version_minor": 0,
       "model_id": "12cbc307ef2c410695d10012ed9e5af6"
      }
     },
     "metadata": {}
    },
    {
     "output_type": "error",
     "ename": "AttributeError",
     "evalue": "'Rh15dout' object has no attribute 'atom_H'",
     "traceback": [
      "\u001b[0;31m---------------------------------------------------------------------------\u001b[0m",
      "\u001b[0;31mAttributeError\u001b[0m                            Traceback (most recent call last)",
      "\u001b[0;32m<ipython-input-8-feb80768d3c7>\u001b[0m in \u001b[0;36m<module>\u001b[0;34m\u001b[0m\n\u001b[1;32m      2\u001b[0m \u001b[0;32mfor\u001b[0m \u001b[0mi\u001b[0m \u001b[0;32min\u001b[0m \u001b[0mrange\u001b[0m\u001b[0;34m(\u001b[0m\u001b[0;36m3\u001b[0m\u001b[0;34m)\u001b[0m\u001b[0;34m:\u001b[0m\u001b[0;34m\u001b[0m\u001b[0;34m\u001b[0m\u001b[0m\n\u001b[1;32m      3\u001b[0m     plt.plot(data.atmos.height_scale[0,0]/1e6, \n\u001b[0;32m----> 4\u001b[0;31m              \u001b[0mdata\u001b[0m\u001b[0;34m.\u001b[0m\u001b[0matom_H\u001b[0m\u001b[0;34m.\u001b[0m\u001b[0mpopulations\u001b[0m\u001b[0;34m[\u001b[0m\u001b[0mi\u001b[0m\u001b[0;34m,\u001b[0m \u001b[0;36m0\u001b[0m\u001b[0;34m,\u001b[0m \u001b[0;36m0\u001b[0m\u001b[0;34m]\u001b[0m\u001b[0;34m/\u001b[0m\u001b[0mdata\u001b[0m\u001b[0;34m.\u001b[0m\u001b[0matom_H\u001b[0m\u001b[0;34m.\u001b[0m\u001b[0mpopulations_LTE\u001b[0m\u001b[0;34m[\u001b[0m\u001b[0mi\u001b[0m\u001b[0;34m,\u001b[0m \u001b[0;36m0\u001b[0m\u001b[0;34m,\u001b[0m \u001b[0;36m0\u001b[0m\u001b[0;34m]\u001b[0m\u001b[0;34m,\u001b[0m\u001b[0;34m\u001b[0m\u001b[0;34m\u001b[0m\u001b[0m\n\u001b[0m\u001b[1;32m      5\u001b[0m              label='Level %i' % (i + 1))\n\u001b[1;32m      6\u001b[0m \u001b[0mplt\u001b[0m\u001b[0;34m.\u001b[0m\u001b[0mlegend\u001b[0m\u001b[0;34m(\u001b[0m\u001b[0mloc\u001b[0m\u001b[0;34m=\u001b[0m\u001b[0;34m\"upper left\"\u001b[0m\u001b[0;34m)\u001b[0m\u001b[0;34m\u001b[0m\u001b[0;34m\u001b[0m\u001b[0m\n",
      "\u001b[0;31mAttributeError\u001b[0m: 'Rh15dout' object has no attribute 'atom_H'"
     ]
    }
   ],
   "source": [
    "plt.figure()\n",
    "for i in range(3):\n",
    "    plt.plot(data.atmos.height_scale[0,0]/1e6, \n",
    "             data.atom_H.populations[i, 0, 0]/data.atom_H.populations_LTE[i, 0, 0],\n",
    "             label='Level %i' % (i + 1))\n",
    "plt.legend(loc=\"upper left\")\n",
    "plt.xlabel(\"Height (Mm)\")\n",
    "plt.ylabel(\"Departure coefficients\")\n",
    "plt.ylim(0.05, 2)"
   ]
  },
  {
   "cell_type": "markdown",
   "metadata": {},
   "source": [
    "You can now explore different variables from the RH 1.5D output."
   ]
  }
 ],
 "metadata": {
  "kernelspec": {
   "display_name": "Python 3",
   "language": "python",
   "name": "python3"
  },
  "language_info": {
   "codemirror_mode": {
    "name": "ipython",
    "version": 3
   },
   "file_extension": ".py",
   "mimetype": "text/x-python",
   "name": "python",
   "nbconvert_exporter": "python",
   "pygments_lexer": "ipython3",
   "version": "3.8.7-final"
  }
 },
 "nbformat": 4,
 "nbformat_minor": 4
}