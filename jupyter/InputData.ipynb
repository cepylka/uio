{
 "cells": [
  {
   "cell_type": "code",
   "execution_count": 11,
   "metadata": {},
   "outputs": [],
   "source": [
    "%matplotlib widget\n",
    "from helita.sim import rh15d\n",
    "from helita.vis import rh15d_vis"
   ]
  },
  {
   "cell_type": "markdown",
   "metadata": {},
   "source": [
    "Now we need to be in the directory where we have the RH 1.5D atmosphere files. You can change the line below to a directory in your computer."
   ]
  },
  {
   "cell_type": "markdown",
   "metadata": {},
   "source": [
    "## 1. Input atmosphere visualisation\n",
    "\n",
    "One can explore the input atmosphere using a function from `helita.sim.rh15d_vis`. Enter the file name and path as argument:"
   ]
  },
  {
   "cell_type": "code",
   "execution_count": 15,
   "metadata": {},
   "outputs": [
    {
     "output_type": "display_data",
     "data": {
      "text/plain": "Canvas(toolbar=Toolbar(toolitems=[('Home', 'Reset original view', 'home', 'home'), ('Back', 'Back to previous …",
      "application/vnd.jupyter.widget-view+json": {
       "version_major": 2,
       "version_minor": 0,
       "model_id": "d47ca0e18d56493d8f2788e8d3d60e9e"
      }
     },
     "metadata": {}
    },
    {
     "output_type": "display_data",
     "data": {
      "text/plain": "interactive(children=(IntSlider(value=0, description='x', max=4), IntSlider(value=0, description='y', max=4), …",
      "application/vnd.jupyter.widget-view+json": {
       "version_major": 2,
       "version_minor": 0,
       "model_id": "c40c8692936743a7b8869f2ff6f3d9ab"
      }
     },
     "metadata": {}
    },
    {
     "output_type": "execute_result",
     "data": {
      "text/plain": [
       "<helita.vis.rh15d_vis.InputAtmosphere at 0x12931fc10>"
      ]
     },
     "metadata": {},
     "execution_count": 15
    }
   ],
   "source": [
    "rh15d_vis.InputAtmosphere(\"/Users/elka127/Documents/code/rh/Atmos/FALC_82_5x5.hdf5\")\n",
    "# rh15d_vis.InputAtmosphere(\"/Users/elka127/Documents/code/rh/Atmos/FALC_82_5x5.hdf5\")\n",
    "#rh15d_vis.InputAtmosphere(\"/Users/elka127/Documents/uio/project-Mflare/mflares/tx.m2F12-37.max2F12_Ec37_d3.ncdf\")"
   ]
  },
  {
   "cell_type": "code",
   "execution_count": 16,
   "metadata": {},
   "outputs": [
    {
     "output_type": "execute_result",
     "data": {
      "text/plain": [
       "<xarray.Dataset>\n",
       "Dimensions:               (depth: 82, nhydr: 6, snapshot_number: 1, x: 5, y: 5)\n",
       "Coordinates:\n",
       "  * x                     (x) int64 0 1 2 3 4\n",
       "  * y                     (y) int64 0 1 2 3 4\n",
       "    z                     (snapshot_number, depth) float32 ...\n",
       "  * snapshot_number       (snapshot_number) int32 0\n",
       "Dimensions without coordinates: depth, nhydr\n",
       "Data variables:\n",
       "    temperature           (snapshot_number, x, y, depth) float32 ...\n",
       "    velocity_z            (snapshot_number, x, y, depth) float32 ...\n",
       "    electron_density      (snapshot_number, x, y, depth) float64 ...\n",
       "    hydrogen_populations  (snapshot_number, nhydr, x, y, depth) float32 ...\n",
       "    velocity_turbulent    (snapshot_number, x, y, depth) float32 ...\n",
       "Attributes:\n",
       "    comment:          Created with make_xarray_atmos on 2018-01-25 15:28:10.4...\n",
       "    boundary_top:     0\n",
       "    boundary_bottom:  1\n",
       "    has_B:            0\n",
       "    description:      FAL C model with 82 depth points replicated to 5x5 colu...\n",
       "    nx:               5\n",
       "    ny:               5\n",
       "    nz:               82\n",
       "    nt:               1"
      ],
      "text/html": "<div><svg style=\"position: absolute; width: 0; height: 0; overflow: hidden\">\n<defs>\n<symbol id=\"icon-database\" viewBox=\"0 0 32 32\">\n<path d=\"M16 0c-8.837 0-16 2.239-16 5v4c0 2.761 7.163 5 16 5s16-2.239 16-5v-4c0-2.761-7.163-5-16-5z\"></path>\n<path d=\"M16 17c-8.837 0-16-2.239-16-5v6c0 2.761 7.163 5 16 5s16-2.239 16-5v-6c0 2.761-7.163 5-16 5z\"></path>\n<path d=\"M16 26c-8.837 0-16-2.239-16-5v6c0 2.761 7.163 5 16 5s16-2.239 16-5v-6c0 2.761-7.163 5-16 5z\"></path>\n</symbol>\n<symbol id=\"icon-file-text2\" viewBox=\"0 0 32 32\">\n<path d=\"M28.681 7.159c-0.694-0.947-1.662-2.053-2.724-3.116s-2.169-2.030-3.116-2.724c-1.612-1.182-2.393-1.319-2.841-1.319h-15.5c-1.378 0-2.5 1.121-2.5 2.5v27c0 1.378 1.122 2.5 2.5 2.5h23c1.378 0 2.5-1.122 2.5-2.5v-19.5c0-0.448-0.137-1.23-1.319-2.841zM24.543 5.457c0.959 0.959 1.712 1.825 2.268 2.543h-4.811v-4.811c0.718 0.556 1.584 1.309 2.543 2.268zM28 29.5c0 0.271-0.229 0.5-0.5 0.5h-23c-0.271 0-0.5-0.229-0.5-0.5v-27c0-0.271 0.229-0.5 0.5-0.5 0 0 15.499-0 15.5 0v7c0 0.552 0.448 1 1 1h7v19.5z\"></path>\n<path d=\"M23 26h-14c-0.552 0-1-0.448-1-1s0.448-1 1-1h14c0.552 0 1 0.448 1 1s-0.448 1-1 1z\"></path>\n<path d=\"M23 22h-14c-0.552 0-1-0.448-1-1s0.448-1 1-1h14c0.552 0 1 0.448 1 1s-0.448 1-1 1z\"></path>\n<path d=\"M23 18h-14c-0.552 0-1-0.448-1-1s0.448-1 1-1h14c0.552 0 1 0.448 1 1s-0.448 1-1 1z\"></path>\n</symbol>\n</defs>\n</svg>\n<style>/* CSS stylesheet for displaying xarray objects in jupyterlab.\n *\n */\n\n:root {\n  --xr-font-color0: var(--jp-content-font-color0, rgba(0, 0, 0, 1));\n  --xr-font-color2: var(--jp-content-font-color2, rgba(0, 0, 0, 0.54));\n  --xr-font-color3: var(--jp-content-font-color3, rgba(0, 0, 0, 0.38));\n  --xr-border-color: var(--jp-border-color2, #e0e0e0);\n  --xr-disabled-color: var(--jp-layout-color3, #bdbdbd);\n  --xr-background-color: var(--jp-layout-color0, white);\n  --xr-background-color-row-even: var(--jp-layout-color1, white);\n  --xr-background-color-row-odd: var(--jp-layout-color2, #eeeeee);\n}\n\nhtml[theme=dark],\nbody.vscode-dark {\n  --xr-font-color0: rgba(255, 255, 255, 1);\n  --xr-font-color2: rgba(255, 255, 255, 0.54);\n  --xr-font-color3: rgba(255, 255, 255, 0.38);\n  --xr-border-color: #1F1F1F;\n  --xr-disabled-color: #515151;\n  --xr-background-color: #111111;\n  --xr-background-color-row-even: #111111;\n  --xr-background-color-row-odd: #313131;\n}\n\n.xr-wrap {\n  display: block;\n  min-width: 300px;\n  max-width: 700px;\n}\n\n.xr-text-repr-fallback {\n  /* fallback to plain text repr when CSS is not injected (untrusted notebook) */\n  display: none;\n}\n\n.xr-header {\n  padding-top: 6px;\n  padding-bottom: 6px;\n  margin-bottom: 4px;\n  border-bottom: solid 1px var(--xr-border-color);\n}\n\n.xr-header > div,\n.xr-header > ul {\n  display: inline;\n  margin-top: 0;\n  margin-bottom: 0;\n}\n\n.xr-obj-type,\n.xr-array-name {\n  margin-left: 2px;\n  margin-right: 10px;\n}\n\n.xr-obj-type {\n  color: var(--xr-font-color2);\n}\n\n.xr-sections {\n  padding-left: 0 !important;\n  display: grid;\n  grid-template-columns: 150px auto auto 1fr 20px 20px;\n}\n\n.xr-section-item {\n  display: contents;\n}\n\n.xr-section-item input {\n  display: none;\n}\n\n.xr-section-item input + label {\n  color: var(--xr-disabled-color);\n}\n\n.xr-section-item input:enabled + label {\n  cursor: pointer;\n  color: var(--xr-font-color2);\n}\n\n.xr-section-item input:enabled + label:hover {\n  color: var(--xr-font-color0);\n}\n\n.xr-section-summary {\n  grid-column: 1;\n  color: var(--xr-font-color2);\n  font-weight: 500;\n}\n\n.xr-section-summary > span {\n  display: inline-block;\n  padding-left: 0.5em;\n}\n\n.xr-section-summary-in:disabled + label {\n  color: var(--xr-font-color2);\n}\n\n.xr-section-summary-in + label:before {\n  display: inline-block;\n  content: '►';\n  font-size: 11px;\n  width: 15px;\n  text-align: center;\n}\n\n.xr-section-summary-in:disabled + label:before {\n  color: var(--xr-disabled-color);\n}\n\n.xr-section-summary-in:checked + label:before {\n  content: '▼';\n}\n\n.xr-section-summary-in:checked + label > span {\n  display: none;\n}\n\n.xr-section-summary,\n.xr-section-inline-details {\n  padding-top: 4px;\n  padding-bottom: 4px;\n}\n\n.xr-section-inline-details {\n  grid-column: 2 / -1;\n}\n\n.xr-section-details {\n  display: none;\n  grid-column: 1 / -1;\n  margin-bottom: 5px;\n}\n\n.xr-section-summary-in:checked ~ .xr-section-details {\n  display: contents;\n}\n\n.xr-array-wrap {\n  grid-column: 1 / -1;\n  display: grid;\n  grid-template-columns: 20px auto;\n}\n\n.xr-array-wrap > label {\n  grid-column: 1;\n  vertical-align: top;\n}\n\n.xr-preview {\n  color: var(--xr-font-color3);\n}\n\n.xr-array-preview,\n.xr-array-data {\n  padding: 0 5px !important;\n  grid-column: 2;\n}\n\n.xr-array-data,\n.xr-array-in:checked ~ .xr-array-preview {\n  display: none;\n}\n\n.xr-array-in:checked ~ .xr-array-data,\n.xr-array-preview {\n  display: inline-block;\n}\n\n.xr-dim-list {\n  display: inline-block !important;\n  list-style: none;\n  padding: 0 !important;\n  margin: 0;\n}\n\n.xr-dim-list li {\n  display: inline-block;\n  padding: 0;\n  margin: 0;\n}\n\n.xr-dim-list:before {\n  content: '(';\n}\n\n.xr-dim-list:after {\n  content: ')';\n}\n\n.xr-dim-list li:not(:last-child):after {\n  content: ',';\n  padding-right: 5px;\n}\n\n.xr-has-index {\n  font-weight: bold;\n}\n\n.xr-var-list,\n.xr-var-item {\n  display: contents;\n}\n\n.xr-var-item > div,\n.xr-var-item label,\n.xr-var-item > .xr-var-name span {\n  background-color: var(--xr-background-color-row-even);\n  margin-bottom: 0;\n}\n\n.xr-var-item > .xr-var-name:hover span {\n  padding-right: 5px;\n}\n\n.xr-var-list > li:nth-child(odd) > div,\n.xr-var-list > li:nth-child(odd) > label,\n.xr-var-list > li:nth-child(odd) > .xr-var-name span {\n  background-color: var(--xr-background-color-row-odd);\n}\n\n.xr-var-name {\n  grid-column: 1;\n}\n\n.xr-var-dims {\n  grid-column: 2;\n}\n\n.xr-var-dtype {\n  grid-column: 3;\n  text-align: right;\n  color: var(--xr-font-color2);\n}\n\n.xr-var-preview {\n  grid-column: 4;\n}\n\n.xr-var-name,\n.xr-var-dims,\n.xr-var-dtype,\n.xr-preview,\n.xr-attrs dt {\n  white-space: nowrap;\n  overflow: hidden;\n  text-overflow: ellipsis;\n  padding-right: 10px;\n}\n\n.xr-var-name:hover,\n.xr-var-dims:hover,\n.xr-var-dtype:hover,\n.xr-attrs dt:hover {\n  overflow: visible;\n  width: auto;\n  z-index: 1;\n}\n\n.xr-var-attrs,\n.xr-var-data {\n  display: none;\n  background-color: var(--xr-background-color) !important;\n  padding-bottom: 5px !important;\n}\n\n.xr-var-attrs-in:checked ~ .xr-var-attrs,\n.xr-var-data-in:checked ~ .xr-var-data {\n  display: block;\n}\n\n.xr-var-data > table {\n  float: right;\n}\n\n.xr-var-name span,\n.xr-var-data,\n.xr-attrs {\n  padding-left: 25px !important;\n}\n\n.xr-attrs,\n.xr-var-attrs,\n.xr-var-data {\n  grid-column: 1 / -1;\n}\n\ndl.xr-attrs {\n  padding: 0;\n  margin: 0;\n  display: grid;\n  grid-template-columns: 125px auto;\n}\n\n.xr-attrs dt,\n.xr-attrs dd {\n  padding: 0;\n  margin: 0;\n  float: left;\n  padding-right: 10px;\n  width: auto;\n}\n\n.xr-attrs dt {\n  font-weight: normal;\n  grid-column: 1;\n}\n\n.xr-attrs dt:hover span {\n  display: inline-block;\n  background: var(--xr-background-color);\n  padding-right: 10px;\n}\n\n.xr-attrs dd {\n  grid-column: 2;\n  white-space: pre-wrap;\n  word-break: break-all;\n}\n\n.xr-icon-database,\n.xr-icon-file-text2 {\n  display: inline-block;\n  vertical-align: middle;\n  width: 1em;\n  height: 1.5em !important;\n  stroke-width: 0;\n  stroke: currentColor;\n  fill: currentColor;\n}\n</style><pre class='xr-text-repr-fallback'>&lt;xarray.Dataset&gt;\nDimensions:               (depth: 82, nhydr: 6, snapshot_number: 1, x: 5, y: 5)\nCoordinates:\n  * x                     (x) int64 0 1 2 3 4\n  * y                     (y) int64 0 1 2 3 4\n    z                     (snapshot_number, depth) float32 2.158e+06 ... -1.0...\n  * snapshot_number       (snapshot_number) int32 0\nDimensions without coordinates: depth, nhydr\nData variables:\n    temperature           (snapshot_number, x, y, depth) float32 1e+05 ... 9....\n    velocity_z            (snapshot_number, x, y, depth) float32 0.0 0.0 ... 0.0\n    electron_density      (snapshot_number, x, y, depth) float64 1.252e+16 .....\n    hydrogen_populations  (snapshot_number, nhydr, x, y, depth) float32 1.358...\n    velocity_turbulent    (snapshot_number, x, y, depth) float32 1.068e+04 .....\nAttributes:\n    comment:          Created with make_xarray_atmos on 2018-01-25 15:28:10.4...\n    boundary_top:     0\n    boundary_bottom:  1\n    has_B:            0\n    description:      FAL C model with 82 depth points replicated to 5x5 colu...\n    nx:               5\n    ny:               5\n    nz:               82\n    nt:               1</pre><div class='xr-wrap' hidden><div class='xr-header'><div class='xr-obj-type'>xarray.Dataset</div></div><ul class='xr-sections'><li class='xr-section-item'><input id='section-603bc28e-68ac-4800-8d33-5921e29ba9ad' class='xr-section-summary-in' type='checkbox' disabled ><label for='section-603bc28e-68ac-4800-8d33-5921e29ba9ad' class='xr-section-summary'  title='Expand/collapse section'>Dimensions:</label><div class='xr-section-inline-details'><ul class='xr-dim-list'><li><span>depth</span>: 82</li><li><span>nhydr</span>: 6</li><li><span class='xr-has-index'>snapshot_number</span>: 1</li><li><span class='xr-has-index'>x</span>: 5</li><li><span class='xr-has-index'>y</span>: 5</li></ul></div><div class='xr-section-details'></div></li><li class='xr-section-item'><input id='section-baf01387-97b4-4da1-b478-4320f8eb8415' class='xr-section-summary-in' type='checkbox'  checked><label for='section-baf01387-97b4-4da1-b478-4320f8eb8415' class='xr-section-summary' >Coordinates: <span>(4)</span></label><div class='xr-section-inline-details'></div><div class='xr-section-details'><ul class='xr-var-list'><li class='xr-var-item'><div class='xr-var-name'><span class='xr-has-index'>x</span></div><div class='xr-var-dims'>(x)</div><div class='xr-var-dtype'>int64</div><div class='xr-var-preview xr-preview'>0 1 2 3 4</div><input id='attrs-01732144-fc2e-4177-89e1-4526e1d58a2a' class='xr-var-attrs-in' type='checkbox' ><label for='attrs-01732144-fc2e-4177-89e1-4526e1d58a2a' title='Show/Hide attributes'><svg class='icon xr-icon-file-text2'><use xlink:href='#icon-file-text2'></use></svg></label><input id='data-b81a5562-8dcb-4102-9691-439c7bbb3730' class='xr-var-data-in' type='checkbox'><label for='data-b81a5562-8dcb-4102-9691-439c7bbb3730' title='Show/Hide data repr'><svg class='icon xr-icon-database'><use xlink:href='#icon-database'></use></svg></label><div class='xr-var-attrs'><dl class='xr-attrs'><dt><span>units :</span></dt><dd>m</dd></dl></div><div class='xr-var-data'><pre>array([0, 1, 2, 3, 4])</pre></div></li><li class='xr-var-item'><div class='xr-var-name'><span class='xr-has-index'>y</span></div><div class='xr-var-dims'>(y)</div><div class='xr-var-dtype'>int64</div><div class='xr-var-preview xr-preview'>0 1 2 3 4</div><input id='attrs-3bb9426b-ae4f-4bef-b88c-313e477b6918' class='xr-var-attrs-in' type='checkbox' ><label for='attrs-3bb9426b-ae4f-4bef-b88c-313e477b6918' title='Show/Hide attributes'><svg class='icon xr-icon-file-text2'><use xlink:href='#icon-file-text2'></use></svg></label><input id='data-2710e3c7-a90b-4e6d-9a09-63ce7f742977' class='xr-var-data-in' type='checkbox'><label for='data-2710e3c7-a90b-4e6d-9a09-63ce7f742977' title='Show/Hide data repr'><svg class='icon xr-icon-database'><use xlink:href='#icon-database'></use></svg></label><div class='xr-var-attrs'><dl class='xr-attrs'><dt><span>units :</span></dt><dd>m</dd></dl></div><div class='xr-var-data'><pre>array([0, 1, 2, 3, 4])</pre></div></li><li class='xr-var-item'><div class='xr-var-name'><span>z</span></div><div class='xr-var-dims'>(snapshot_number, depth)</div><div class='xr-var-dtype'>float32</div><div class='xr-var-preview xr-preview'>...</div><input id='attrs-91700656-b811-4e3f-9dd5-4ae6e15a3d23' class='xr-var-attrs-in' type='checkbox' ><label for='attrs-91700656-b811-4e3f-9dd5-4ae6e15a3d23' title='Show/Hide attributes'><svg class='icon xr-icon-file-text2'><use xlink:href='#icon-file-text2'></use></svg></label><input id='data-8947177c-63e5-4494-999d-eb4bb9a7a960' class='xr-var-data-in' type='checkbox'><label for='data-8947177c-63e5-4494-999d-eb4bb9a7a960' title='Show/Hide data repr'><svg class='icon xr-icon-database'><use xlink:href='#icon-database'></use></svg></label><div class='xr-var-attrs'><dl class='xr-attrs'><dt><span>units :</span></dt><dd>m</dd></dl></div><div class='xr-var-data'><pre>array([[ 2.157784e+06,  2.156550e+06,  2.155307e+06,  2.153661e+06,\n         2.152015e+06,  2.151174e+06,  2.150328e+06,  2.149468e+06,\n         2.148631e+06,  2.148227e+06,  2.147852e+06,  2.147488e+06,\n         2.147135e+06,  2.146801e+06,  2.146488e+06,  2.146196e+06,\n         2.145874e+06,  2.145622e+06,  2.145419e+06,  2.145157e+06,\n         2.144864e+06,  2.144611e+06,  2.144328e+06,  2.143984e+06,\n         2.143499e+06,  2.142882e+06,  2.141992e+06,  2.140870e+06,\n         2.138990e+06,  2.131578e+06,  2.117423e+06,  2.085100e+06,\n         2.036718e+06,  1.982376e+06,  1.926065e+06,  1.876902e+06,\n         1.814577e+06,  1.734441e+06,  1.641442e+06,  1.556152e+06,\n         1.453589e+06,  1.349325e+06,  1.256688e+06,  1.160274e+06,\n         1.068932e+06,  9.781448e+05,  9.096739e+05,  8.505999e+05,\n         8.010876e+05,  7.517039e+05,  7.024878e+05,  6.487562e+05,\n         5.996223e+05,  5.598866e+05,  5.249686e+05,  4.900301e+05,\n         4.502362e+05,  4.008868e+05,  3.514804e+05,  3.020122e+05,\n         2.524744e+05,  2.028614e+05,  1.776711e+05,  1.524689e+05,\n         1.272565e+05,  1.020355e+05,  7.680622e+04,  5.156710e+04,\n         3.639820e+04,  2.122979e+04,  1.111442e+04,  9.994145e+02,\n        -9.115369e+03, -1.923040e+04, -2.934521e+04, -3.945975e+04,\n        -4.957388e+04, -5.968779e+04, -6.980167e+04, -7.991544e+04,\n        -9.002928e+04, -1.001434e+05]], dtype=float32)</pre></div></li><li class='xr-var-item'><div class='xr-var-name'><span class='xr-has-index'>snapshot_number</span></div><div class='xr-var-dims'>(snapshot_number)</div><div class='xr-var-dtype'>int32</div><div class='xr-var-preview xr-preview'>0</div><input id='attrs-5accc28f-597f-48f3-b47d-5930f2285dd4' class='xr-var-attrs-in' type='checkbox' ><label for='attrs-5accc28f-597f-48f3-b47d-5930f2285dd4' title='Show/Hide attributes'><svg class='icon xr-icon-file-text2'><use xlink:href='#icon-file-text2'></use></svg></label><input id='data-3d85689a-3136-4606-b456-44c35ae918d9' class='xr-var-data-in' type='checkbox'><label for='data-3d85689a-3136-4606-b456-44c35ae918d9' title='Show/Hide data repr'><svg class='icon xr-icon-database'><use xlink:href='#icon-database'></use></svg></label><div class='xr-var-attrs'><dl class='xr-attrs'><dt><span>units :</span></dt><dd></dd></dl></div><div class='xr-var-data'><pre>array([0], dtype=int32)</pre></div></li></ul></div></li><li class='xr-section-item'><input id='section-cf6941da-b111-419e-a9a9-3006dfb55b36' class='xr-section-summary-in' type='checkbox'  checked><label for='section-cf6941da-b111-419e-a9a9-3006dfb55b36' class='xr-section-summary' >Data variables: <span>(5)</span></label><div class='xr-section-inline-details'></div><div class='xr-section-details'><ul class='xr-var-list'><li class='xr-var-item'><div class='xr-var-name'><span>temperature</span></div><div class='xr-var-dims'>(snapshot_number, x, y, depth)</div><div class='xr-var-dtype'>float32</div><div class='xr-var-preview xr-preview'>...</div><input id='attrs-d2ba7f7d-b806-4f27-9f9a-5c2121b65238' class='xr-var-attrs-in' type='checkbox' ><label for='attrs-d2ba7f7d-b806-4f27-9f9a-5c2121b65238' title='Show/Hide attributes'><svg class='icon xr-icon-file-text2'><use xlink:href='#icon-file-text2'></use></svg></label><input id='data-98c23de9-4004-4267-9cdc-15f71cc49f9d' class='xr-var-data-in' type='checkbox'><label for='data-98c23de9-4004-4267-9cdc-15f71cc49f9d' title='Show/Hide data repr'><svg class='icon xr-icon-database'><use xlink:href='#icon-database'></use></svg></label><div class='xr-var-attrs'><dl class='xr-attrs'><dt><span>units :</span></dt><dd>K</dd></dl></div><div class='xr-var-data'><pre>array([[[[100000., ...,   9400.],\n         ...,\n         [100000., ...,   9400.]],\n\n        ...,\n\n        [[100000., ...,   9400.],\n         ...,\n         [100000., ...,   9400.]]]], dtype=float32)</pre></div></li><li class='xr-var-item'><div class='xr-var-name'><span>velocity_z</span></div><div class='xr-var-dims'>(snapshot_number, x, y, depth)</div><div class='xr-var-dtype'>float32</div><div class='xr-var-preview xr-preview'>...</div><input id='attrs-aba1c904-1261-4f84-8e96-a46cf16d26af' class='xr-var-attrs-in' type='checkbox' ><label for='attrs-aba1c904-1261-4f84-8e96-a46cf16d26af' title='Show/Hide attributes'><svg class='icon xr-icon-file-text2'><use xlink:href='#icon-file-text2'></use></svg></label><input id='data-610df9f3-740d-429e-a4a8-a77bf9fad692' class='xr-var-data-in' type='checkbox'><label for='data-610df9f3-740d-429e-a4a8-a77bf9fad692' title='Show/Hide data repr'><svg class='icon xr-icon-database'><use xlink:href='#icon-database'></use></svg></label><div class='xr-var-attrs'><dl class='xr-attrs'><dt><span>units :</span></dt><dd>m s^-1</dd></dl></div><div class='xr-var-data'><pre>array([[[[0., ..., 0.],\n         ...,\n         [0., ..., 0.]],\n\n        ...,\n\n        [[0., ..., 0.],\n         ...,\n         [0., ..., 0.]]]], dtype=float32)</pre></div></li><li class='xr-var-item'><div class='xr-var-name'><span>electron_density</span></div><div class='xr-var-dims'>(snapshot_number, x, y, depth)</div><div class='xr-var-dtype'>float64</div><div class='xr-var-preview xr-preview'>...</div><input id='attrs-f1397ee7-624e-4ef4-825e-089f0e95b3cf' class='xr-var-attrs-in' type='checkbox' ><label for='attrs-f1397ee7-624e-4ef4-825e-089f0e95b3cf' title='Show/Hide attributes'><svg class='icon xr-icon-file-text2'><use xlink:href='#icon-file-text2'></use></svg></label><input id='data-3c198ddd-32aa-4c14-9015-43617349c00d' class='xr-var-data-in' type='checkbox'><label for='data-3c198ddd-32aa-4c14-9015-43617349c00d' title='Show/Hide data repr'><svg class='icon xr-icon-database'><use xlink:href='#icon-database'></use></svg></label><div class='xr-var-attrs'><dl class='xr-attrs'><dt><span>units :</span></dt><dd>m^-3</dd></dl></div><div class='xr-var-data'><pre>array([[[[1.251891e+16, ..., 3.831726e+21],\n         ...,\n         [1.251891e+16, ..., 3.831726e+21]],\n\n        ...,\n\n        [[1.251891e+16, ..., 3.831726e+21],\n         ...,\n         [1.251891e+16, ..., 3.831726e+21]]]])</pre></div></li><li class='xr-var-item'><div class='xr-var-name'><span>hydrogen_populations</span></div><div class='xr-var-dims'>(snapshot_number, nhydr, x, y, depth)</div><div class='xr-var-dtype'>float32</div><div class='xr-var-preview xr-preview'>...</div><input id='attrs-70f412ae-8c95-488b-99f7-22145210b103' class='xr-var-attrs-in' type='checkbox' ><label for='attrs-70f412ae-8c95-488b-99f7-22145210b103' title='Show/Hide attributes'><svg class='icon xr-icon-file-text2'><use xlink:href='#icon-file-text2'></use></svg></label><input id='data-8a2d9bc5-63bc-4588-bd05-bc1c985e2179' class='xr-var-data-in' type='checkbox'><label for='data-8a2d9bc5-63bc-4588-bd05-bc1c985e2179' title='Show/Hide data repr'><svg class='icon xr-icon-database'><use xlink:href='#icon-database'></use></svg></label><div class='xr-var-attrs'><dl class='xr-attrs'><dt><span>units :</span></dt><dd>m^-3</dd></dl></div><div class='xr-var-data'><pre>array([[[[[1.357500e+11, ..., 1.288699e+23],\n          ...,\n          [1.357500e+11, ..., 1.288699e+23]],\n\n         ...,\n\n         [[1.357500e+11, ..., 1.288699e+23],\n          ...,\n          [1.357500e+11, ..., 1.288699e+23]]],\n\n\n        ...,\n\n\n        [[[1.045700e+16, ..., 3.789696e+21],\n          ...,\n          [1.045700e+16, ..., 3.789696e+21]],\n\n         ...,\n\n         [[1.045700e+16, ..., 3.789696e+21],\n          ...,\n          [1.045700e+16, ..., 3.789696e+21]]]]], dtype=float32)</pre></div></li><li class='xr-var-item'><div class='xr-var-name'><span>velocity_turbulent</span></div><div class='xr-var-dims'>(snapshot_number, x, y, depth)</div><div class='xr-var-dtype'>float32</div><div class='xr-var-preview xr-preview'>...</div><input id='attrs-91cce5fb-7a5b-4e36-b784-c667370f53f9' class='xr-var-attrs-in' type='checkbox' ><label for='attrs-91cce5fb-7a5b-4e36-b784-c667370f53f9' title='Show/Hide attributes'><svg class='icon xr-icon-file-text2'><use xlink:href='#icon-file-text2'></use></svg></label><input id='data-92129eec-1129-4f15-a2da-a516b6c25dbd' class='xr-var-data-in' type='checkbox'><label for='data-92129eec-1129-4f15-a2da-a516b6c25dbd' title='Show/Hide data repr'><svg class='icon xr-icon-database'><use xlink:href='#icon-database'></use></svg></label><div class='xr-var-attrs'><dl class='xr-attrs'><dt><span>units :</span></dt><dd>m s^-1</dd></dl></div><div class='xr-var-data'><pre>array([[[[10680.96 , ...,  1806.787],\n         ...,\n         [10680.96 , ...,  1806.787]],\n\n        ...,\n\n        [[10680.96 , ...,  1806.787],\n         ...,\n         [10680.96 , ...,  1806.787]]]], dtype=float32)</pre></div></li></ul></div></li><li class='xr-section-item'><input id='section-ec87a2dc-9bdd-4d17-8436-10b6124bfa6d' class='xr-section-summary-in' type='checkbox'  checked><label for='section-ec87a2dc-9bdd-4d17-8436-10b6124bfa6d' class='xr-section-summary' >Attributes: <span>(9)</span></label><div class='xr-section-inline-details'></div><div class='xr-section-details'><dl class='xr-attrs'><dt><span>comment :</span></dt><dd>Created with make_xarray_atmos on 2018-01-25 15:28:10.459853</dd><dt><span>boundary_top :</span></dt><dd>0</dd><dt><span>boundary_bottom :</span></dt><dd>1</dd><dt><span>has_B :</span></dt><dd>0</dd><dt><span>description :</span></dt><dd>FAL C model with 82 depth points replicated to 5x5 columns for RH 1.5D</dd><dt><span>nx :</span></dt><dd>5</dd><dt><span>ny :</span></dt><dd>5</dd><dt><span>nz :</span></dt><dd>82</dd><dt><span>nt :</span></dt><dd>1</dd></dl></div></li></ul></div></div>"
     },
     "metadata": {},
     "execution_count": 16
    }
   ],
   "source": [
    "import xarray\n",
    "atmos = xarray.open_dataset(\"/Users/elka127/Documents/code/rh/Atmos/FALC_82_5x5.hdf5\")\n",
    "atmos"
   ]
  },
  {
   "cell_type": "code",
   "execution_count": null,
   "metadata": {},
   "outputs": [],
   "source": []
  }
 ],
 "metadata": {
  "kernelspec": {
   "display_name": "Python 3",
   "language": "python",
   "name": "python3"
  },
  "language_info": {
   "codemirror_mode": {
    "name": "ipython",
    "version": 3
   },
   "file_extension": ".py",
   "mimetype": "text/x-python",
   "name": "python",
   "nbconvert_exporter": "python",
   "pygments_lexer": "ipython3",
   "version": "3.8.7-final"
  }
 },
 "nbformat": 4,
 "nbformat_minor": 4
}