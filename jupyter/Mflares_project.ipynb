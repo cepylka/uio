{
 "metadata": {
  "language_info": {
   "codemirror_mode": {
    "name": "ipython",
    "version": 3
   },
   "file_extension": ".py",
   "mimetype": "text/x-python",
   "name": "python",
   "nbconvert_exporter": "python",
   "pygments_lexer": "ipython3",
   "version": "3.8.7-final"
  },
  "orig_nbformat": 2,
  "kernelspec": {
   "name": "python3",
   "display_name": "Python 3",
   "language": "python"
  }
 },
 "nbformat": 4,
 "nbformat_minor": 2,
 "cells": [
  {
   "cell_type": "code",
   "execution_count": 177,
   "metadata": {},
   "outputs": [],
   "source": [
    "%matplotlib widget\n",
    "import numpy as np\n",
    "import matplotlib.pyplot as plt\n",
    "from helita.sim import rh15d \n",
    "from helita.vis import rh15d_vis\n",
    "\n",
    "from scipy.integrate import quadrature\n",
    "from scipy.integrate import cumtrapz\n",
    "\n",
    "from pathlib import Path\n",
    "\n",
    "rhRepoPath = Path(\"/Users/elka127/Documents/code/rh\")"
   ]
  },
  {
   "source": [
    "# With the Bifrost Snapshot or with existing atmosperes' models\n",
    "\n",
    "```\n",
    "# There are four 1D models of flares on M-dwarfs (/mn/stornext/u3/matsc/rh/Atmos/mflares/). \n",
    "# These are:\n",
    "\n",
    "# radyn_out.F13_dpl_GRID_pt1s.ncdf\n",
    "# tx.m2F12-37.max2F12_Ec37_d3.ncdf\n",
    "# tx.m5F12-37.max5F12_Ec37_d3.ncdf\n",
    "# tx.mF13-37.maxF13_Ec37_d3_dt0.1_10s.ncdf\n",
    "\n",
    "# the three \"tx\" models all have a low cut-off energy of 37 keV and a power index of 3 \n",
    "# (see Allred et al. 2015) \n",
    "# but vary in maximum beam energy: 2e12, 5e12 and 1e13 erg/cm^2/s. \n",
    "\n",
    "#The model from Kowalski et al. 2015 is radyn_out.F13_dpl_GRID_pt1s.ncdf.\n",
    "```\n",
    "\n"
   ],
   "cell_type": "markdown",
   "metadata": {}
  },
  {
   "cell_type": "code",
   "execution_count": null,
   "metadata": {},
   "outputs": [],
   "source": [
    "import h5py\n",
    "from mpl_toolkits.axes_grid1 import make_axes_locatable\n",
    "dpath_sim = \"/Users/elka127/Documents/uio/project-Mflare/mflares/\""
   ]
  },
  {
   "cell_type": "code",
   "execution_count": 132,
   "metadata": {},
   "outputs": [
    {
     "output_type": "execute_result",
     "data": {
      "text/plain": [
       "<xarray.Dataset>\n",
       "Dimensions:               (nhydr: 6, nt: 1, nx: 52, ny: 1, nz: 249)\n",
       "Dimensions without coordinates: nhydr, nt, nx, ny, nz\n",
       "Data variables:\n",
       "    temperature           (nt, nx, ny, nz) float32 ...\n",
       "    velocity_z            (nt, nx, ny, nz) float32 ...\n",
       "    electron_density      (nt, nx, ny, nz) float64 ...\n",
       "    hydrogen_populations  (nt, nhydr, nx, ny, nz) float32 ...\n",
       "    snapshot_number       (nt) int32 ...\n",
       "    x                     (nx) float32 ...\n",
       "    y                     (ny) float32 ...\n",
       "    z                     (nt, nx, ny, nz) float64 ...\n",
       "Attributes:\n",
       "    description:     2.5324933e-71\n",
       "    has_B:        0"
      ],
      "text/html": "<div><svg style=\"position: absolute; width: 0; height: 0; overflow: hidden\">\n<defs>\n<symbol id=\"icon-database\" viewBox=\"0 0 32 32\">\n<path d=\"M16 0c-8.837 0-16 2.239-16 5v4c0 2.761 7.163 5 16 5s16-2.239 16-5v-4c0-2.761-7.163-5-16-5z\"></path>\n<path d=\"M16 17c-8.837 0-16-2.239-16-5v6c0 2.761 7.163 5 16 5s16-2.239 16-5v-6c0 2.761-7.163 5-16 5z\"></path>\n<path d=\"M16 26c-8.837 0-16-2.239-16-5v6c0 2.761 7.163 5 16 5s16-2.239 16-5v-6c0 2.761-7.163 5-16 5z\"></path>\n</symbol>\n<symbol id=\"icon-file-text2\" viewBox=\"0 0 32 32\">\n<path d=\"M28.681 7.159c-0.694-0.947-1.662-2.053-2.724-3.116s-2.169-2.030-3.116-2.724c-1.612-1.182-2.393-1.319-2.841-1.319h-15.5c-1.378 0-2.5 1.121-2.5 2.5v27c0 1.378 1.122 2.5 2.5 2.5h23c1.378 0 2.5-1.122 2.5-2.5v-19.5c0-0.448-0.137-1.23-1.319-2.841zM24.543 5.457c0.959 0.959 1.712 1.825 2.268 2.543h-4.811v-4.811c0.718 0.556 1.584 1.309 2.543 2.268zM28 29.5c0 0.271-0.229 0.5-0.5 0.5h-23c-0.271 0-0.5-0.229-0.5-0.5v-27c0-0.271 0.229-0.5 0.5-0.5 0 0 15.499-0 15.5 0v7c0 0.552 0.448 1 1 1h7v19.5z\"></path>\n<path d=\"M23 26h-14c-0.552 0-1-0.448-1-1s0.448-1 1-1h14c0.552 0 1 0.448 1 1s-0.448 1-1 1z\"></path>\n<path d=\"M23 22h-14c-0.552 0-1-0.448-1-1s0.448-1 1-1h14c0.552 0 1 0.448 1 1s-0.448 1-1 1z\"></path>\n<path d=\"M23 18h-14c-0.552 0-1-0.448-1-1s0.448-1 1-1h14c0.552 0 1 0.448 1 1s-0.448 1-1 1z\"></path>\n</symbol>\n</defs>\n</svg>\n<style>/* CSS stylesheet for displaying xarray objects in jupyterlab.\n *\n */\n\n:root {\n  --xr-font-color0: var(--jp-content-font-color0, rgba(0, 0, 0, 1));\n  --xr-font-color2: var(--jp-content-font-color2, rgba(0, 0, 0, 0.54));\n  --xr-font-color3: var(--jp-content-font-color3, rgba(0, 0, 0, 0.38));\n  --xr-border-color: var(--jp-border-color2, #e0e0e0);\n  --xr-disabled-color: var(--jp-layout-color3, #bdbdbd);\n  --xr-background-color: var(--jp-layout-color0, white);\n  --xr-background-color-row-even: var(--jp-layout-color1, white);\n  --xr-background-color-row-odd: var(--jp-layout-color2, #eeeeee);\n}\n\nhtml[theme=dark],\nbody.vscode-dark {\n  --xr-font-color0: rgba(255, 255, 255, 1);\n  --xr-font-color2: rgba(255, 255, 255, 0.54);\n  --xr-font-color3: rgba(255, 255, 255, 0.38);\n  --xr-border-color: #1F1F1F;\n  --xr-disabled-color: #515151;\n  --xr-background-color: #111111;\n  --xr-background-color-row-even: #111111;\n  --xr-background-color-row-odd: #313131;\n}\n\n.xr-wrap {\n  display: block;\n  min-width: 300px;\n  max-width: 700px;\n}\n\n.xr-text-repr-fallback {\n  /* fallback to plain text repr when CSS is not injected (untrusted notebook) */\n  display: none;\n}\n\n.xr-header {\n  padding-top: 6px;\n  padding-bottom: 6px;\n  margin-bottom: 4px;\n  border-bottom: solid 1px var(--xr-border-color);\n}\n\n.xr-header > div,\n.xr-header > ul {\n  display: inline;\n  margin-top: 0;\n  margin-bottom: 0;\n}\n\n.xr-obj-type,\n.xr-array-name {\n  margin-left: 2px;\n  margin-right: 10px;\n}\n\n.xr-obj-type {\n  color: var(--xr-font-color2);\n}\n\n.xr-sections {\n  padding-left: 0 !important;\n  display: grid;\n  grid-template-columns: 150px auto auto 1fr 20px 20px;\n}\n\n.xr-section-item {\n  display: contents;\n}\n\n.xr-section-item input {\n  display: none;\n}\n\n.xr-section-item input + label {\n  color: var(--xr-disabled-color);\n}\n\n.xr-section-item input:enabled + label {\n  cursor: pointer;\n  color: var(--xr-font-color2);\n}\n\n.xr-section-item input:enabled + label:hover {\n  color: var(--xr-font-color0);\n}\n\n.xr-section-summary {\n  grid-column: 1;\n  color: var(--xr-font-color2);\n  font-weight: 500;\n}\n\n.xr-section-summary > span {\n  display: inline-block;\n  padding-left: 0.5em;\n}\n\n.xr-section-summary-in:disabled + label {\n  color: var(--xr-font-color2);\n}\n\n.xr-section-summary-in + label:before {\n  display: inline-block;\n  content: '►';\n  font-size: 11px;\n  width: 15px;\n  text-align: center;\n}\n\n.xr-section-summary-in:disabled + label:before {\n  color: var(--xr-disabled-color);\n}\n\n.xr-section-summary-in:checked + label:before {\n  content: '▼';\n}\n\n.xr-section-summary-in:checked + label > span {\n  display: none;\n}\n\n.xr-section-summary,\n.xr-section-inline-details {\n  padding-top: 4px;\n  padding-bottom: 4px;\n}\n\n.xr-section-inline-details {\n  grid-column: 2 / -1;\n}\n\n.xr-section-details {\n  display: none;\n  grid-column: 1 / -1;\n  margin-bottom: 5px;\n}\n\n.xr-section-summary-in:checked ~ .xr-section-details {\n  display: contents;\n}\n\n.xr-array-wrap {\n  grid-column: 1 / -1;\n  display: grid;\n  grid-template-columns: 20px auto;\n}\n\n.xr-array-wrap > label {\n  grid-column: 1;\n  vertical-align: top;\n}\n\n.xr-preview {\n  color: var(--xr-font-color3);\n}\n\n.xr-array-preview,\n.xr-array-data {\n  padding: 0 5px !important;\n  grid-column: 2;\n}\n\n.xr-array-data,\n.xr-array-in:checked ~ .xr-array-preview {\n  display: none;\n}\n\n.xr-array-in:checked ~ .xr-array-data,\n.xr-array-preview {\n  display: inline-block;\n}\n\n.xr-dim-list {\n  display: inline-block !important;\n  list-style: none;\n  padding: 0 !important;\n  margin: 0;\n}\n\n.xr-dim-list li {\n  display: inline-block;\n  padding: 0;\n  margin: 0;\n}\n\n.xr-dim-list:before {\n  content: '(';\n}\n\n.xr-dim-list:after {\n  content: ')';\n}\n\n.xr-dim-list li:not(:last-child):after {\n  content: ',';\n  padding-right: 5px;\n}\n\n.xr-has-index {\n  font-weight: bold;\n}\n\n.xr-var-list,\n.xr-var-item {\n  display: contents;\n}\n\n.xr-var-item > div,\n.xr-var-item label,\n.xr-var-item > .xr-var-name span {\n  background-color: var(--xr-background-color-row-even);\n  margin-bottom: 0;\n}\n\n.xr-var-item > .xr-var-name:hover span {\n  padding-right: 5px;\n}\n\n.xr-var-list > li:nth-child(odd) > div,\n.xr-var-list > li:nth-child(odd) > label,\n.xr-var-list > li:nth-child(odd) > .xr-var-name span {\n  background-color: var(--xr-background-color-row-odd);\n}\n\n.xr-var-name {\n  grid-column: 1;\n}\n\n.xr-var-dims {\n  grid-column: 2;\n}\n\n.xr-var-dtype {\n  grid-column: 3;\n  text-align: right;\n  color: var(--xr-font-color2);\n}\n\n.xr-var-preview {\n  grid-column: 4;\n}\n\n.xr-var-name,\n.xr-var-dims,\n.xr-var-dtype,\n.xr-preview,\n.xr-attrs dt {\n  white-space: nowrap;\n  overflow: hidden;\n  text-overflow: ellipsis;\n  padding-right: 10px;\n}\n\n.xr-var-name:hover,\n.xr-var-dims:hover,\n.xr-var-dtype:hover,\n.xr-attrs dt:hover {\n  overflow: visible;\n  width: auto;\n  z-index: 1;\n}\n\n.xr-var-attrs,\n.xr-var-data {\n  display: none;\n  background-color: var(--xr-background-color) !important;\n  padding-bottom: 5px !important;\n}\n\n.xr-var-attrs-in:checked ~ .xr-var-attrs,\n.xr-var-data-in:checked ~ .xr-var-data {\n  display: block;\n}\n\n.xr-var-data > table {\n  float: right;\n}\n\n.xr-var-name span,\n.xr-var-data,\n.xr-attrs {\n  padding-left: 25px !important;\n}\n\n.xr-attrs,\n.xr-var-attrs,\n.xr-var-data {\n  grid-column: 1 / -1;\n}\n\ndl.xr-attrs {\n  padding: 0;\n  margin: 0;\n  display: grid;\n  grid-template-columns: 125px auto;\n}\n\n.xr-attrs dt,\n.xr-attrs dd {\n  padding: 0;\n  margin: 0;\n  float: left;\n  padding-right: 10px;\n  width: auto;\n}\n\n.xr-attrs dt {\n  font-weight: normal;\n  grid-column: 1;\n}\n\n.xr-attrs dt:hover span {\n  display: inline-block;\n  background: var(--xr-background-color);\n  padding-right: 10px;\n}\n\n.xr-attrs dd {\n  grid-column: 2;\n  white-space: pre-wrap;\n  word-break: break-all;\n}\n\n.xr-icon-database,\n.xr-icon-file-text2 {\n  display: inline-block;\n  vertical-align: middle;\n  width: 1em;\n  height: 1.5em !important;\n  stroke-width: 0;\n  stroke: currentColor;\n  fill: currentColor;\n}\n</style><pre class='xr-text-repr-fallback'>&lt;xarray.Dataset&gt;\nDimensions:               (nhydr: 6, nt: 1, nx: 52, ny: 1, nz: 249)\nDimensions without coordinates: nhydr, nt, nx, ny, nz\nData variables:\n    temperature           (nt, nx, ny, nz) float32 5.971e+06 ... 5.921e+03\n    velocity_z            (nt, nx, ny, nz) float32 6.234 6.244 ... 8.044 0.0\n    electron_density      (nt, nx, ny, nz) float64 2.607e+16 ... 1.542e+20\n    hydrogen_populations  (nt, nhydr, nx, ny, nz) float32 5.875e+07 ... 2.737...\n    snapshot_number       (nt) int32 0\n    x                     (nx) float32 10.0 11.0 12.0 13.0 ... 59.0 60.0 61.0\n    y                     (ny) float32 10.0\n    z                     (nt, nx, ny, nz) float64 1.024e+07 ... -1.373e+05\nAttributes:\n    description:     2.5324933e-71\n    has_B:        0</pre><div class='xr-wrap' hidden><div class='xr-header'><div class='xr-obj-type'>xarray.Dataset</div></div><ul class='xr-sections'><li class='xr-section-item'><input id='section-9d1a180b-b5aa-4166-93e0-511bf6b41c8e' class='xr-section-summary-in' type='checkbox' disabled ><label for='section-9d1a180b-b5aa-4166-93e0-511bf6b41c8e' class='xr-section-summary'  title='Expand/collapse section'>Dimensions:</label><div class='xr-section-inline-details'><ul class='xr-dim-list'><li><span>nhydr</span>: 6</li><li><span>nt</span>: 1</li><li><span>nx</span>: 52</li><li><span>ny</span>: 1</li><li><span>nz</span>: 249</li></ul></div><div class='xr-section-details'></div></li><li class='xr-section-item'><input id='section-475ec8fb-6eea-499b-b75e-bfd6ab706e10' class='xr-section-summary-in' type='checkbox' disabled ><label for='section-475ec8fb-6eea-499b-b75e-bfd6ab706e10' class='xr-section-summary'  title='Expand/collapse section'>Coordinates: <span>(0)</span></label><div class='xr-section-inline-details'></div><div class='xr-section-details'><ul class='xr-var-list'></ul></div></li><li class='xr-section-item'><input id='section-c33d713b-0c6e-41c1-b55d-733050a7276c' class='xr-section-summary-in' type='checkbox'  checked><label for='section-c33d713b-0c6e-41c1-b55d-733050a7276c' class='xr-section-summary' >Data variables: <span>(8)</span></label><div class='xr-section-inline-details'></div><div class='xr-section-details'><ul class='xr-var-list'><li class='xr-var-item'><div class='xr-var-name'><span>temperature</span></div><div class='xr-var-dims'>(nt, nx, ny, nz)</div><div class='xr-var-dtype'>float32</div><div class='xr-var-preview xr-preview'>...</div><input id='attrs-01f91aa4-d868-41d1-803c-f90f9bb32e2f' class='xr-var-attrs-in' type='checkbox' disabled><label for='attrs-01f91aa4-d868-41d1-803c-f90f9bb32e2f' title='Show/Hide attributes'><svg class='icon xr-icon-file-text2'><use xlink:href='#icon-file-text2'></use></svg></label><input id='data-c3a20878-7b19-44b6-8328-2e4c89845578' class='xr-var-data-in' type='checkbox'><label for='data-c3a20878-7b19-44b6-8328-2e4c89845578' title='Show/Hide data repr'><svg class='icon xr-icon-database'><use xlink:href='#icon-database'></use></svg></label><div class='xr-var-attrs'><dl class='xr-attrs'></dl></div><div class='xr-var-data'><pre>array([[[[5.970647e+06, ..., 6.025555e+03]],\n\n        ...,\n\n        [[4.652273e+07, ..., 5.921341e+03]]]], dtype=float32)</pre></div></li><li class='xr-var-item'><div class='xr-var-name'><span>velocity_z</span></div><div class='xr-var-dims'>(nt, nx, ny, nz)</div><div class='xr-var-dtype'>float32</div><div class='xr-var-preview xr-preview'>...</div><input id='attrs-6cbb4a05-0fd9-435a-a645-f9d694216a57' class='xr-var-attrs-in' type='checkbox' disabled><label for='attrs-6cbb4a05-0fd9-435a-a645-f9d694216a57' title='Show/Hide attributes'><svg class='icon xr-icon-file-text2'><use xlink:href='#icon-file-text2'></use></svg></label><input id='data-a908ded7-0417-4da3-bfb3-c2215a79f4a9' class='xr-var-data-in' type='checkbox'><label for='data-a908ded7-0417-4da3-bfb3-c2215a79f4a9' title='Show/Hide data repr'><svg class='icon xr-icon-database'><use xlink:href='#icon-database'></use></svg></label><div class='xr-var-attrs'><dl class='xr-attrs'></dl></div><div class='xr-var-data'><pre>array([[[[6.233521e+00, ..., 0.000000e+00]],\n\n        ...,\n\n        [[6.237311e+04, ..., 0.000000e+00]]]], dtype=float32)</pre></div></li><li class='xr-var-item'><div class='xr-var-name'><span>electron_density</span></div><div class='xr-var-dims'>(nt, nx, ny, nz)</div><div class='xr-var-dtype'>float64</div><div class='xr-var-preview xr-preview'>...</div><input id='attrs-39e794f9-816a-4cfb-a1b0-2dde1c68cbe2' class='xr-var-attrs-in' type='checkbox' disabled><label for='attrs-39e794f9-816a-4cfb-a1b0-2dde1c68cbe2' title='Show/Hide attributes'><svg class='icon xr-icon-file-text2'><use xlink:href='#icon-file-text2'></use></svg></label><input id='data-11714236-bbd5-4137-82f0-400641395f8b' class='xr-var-data-in' type='checkbox'><label for='data-11714236-bbd5-4137-82f0-400641395f8b' title='Show/Hide data repr'><svg class='icon xr-icon-database'><use xlink:href='#icon-database'></use></svg></label><div class='xr-var-attrs'><dl class='xr-attrs'></dl></div><div class='xr-var-data'><pre>array([[[[2.607068e+16, ..., 1.753566e+20]],\n\n        ...,\n\n        [[2.788813e+16, ..., 1.541888e+20]]]])</pre></div></li><li class='xr-var-item'><div class='xr-var-name'><span>hydrogen_populations</span></div><div class='xr-var-dims'>(nt, nhydr, nx, ny, nz)</div><div class='xr-var-dtype'>float32</div><div class='xr-var-preview xr-preview'>...</div><input id='attrs-e48ca5a3-c732-4546-80ef-e7f8ab2f7d4b' class='xr-var-attrs-in' type='checkbox' disabled><label for='attrs-e48ca5a3-c732-4546-80ef-e7f8ab2f7d4b' title='Show/Hide attributes'><svg class='icon xr-icon-file-text2'><use xlink:href='#icon-file-text2'></use></svg></label><input id='data-339b598a-9e21-4c3a-b93a-727b3949ef0a' class='xr-var-data-in' type='checkbox'><label for='data-339b598a-9e21-4c3a-b93a-727b3949ef0a' title='Show/Hide data repr'><svg class='icon xr-icon-database'><use xlink:href='#icon-database'></use></svg></label><div class='xr-var-attrs'><dl class='xr-attrs'></dl></div><div class='xr-var-data'><pre>array([[[[[5.875386e+07, ..., 1.506444e+24]],\n\n         ...,\n\n         [[1.684623e+06, ..., 1.464778e+24]]],\n\n\n        ...,\n\n\n        [[[2.598975e+16, ..., 4.029184e+19]],\n\n         ...,\n\n         [[2.780160e+16, ..., 2.737055e+19]]]]], dtype=float32)</pre></div></li><li class='xr-var-item'><div class='xr-var-name'><span>snapshot_number</span></div><div class='xr-var-dims'>(nt)</div><div class='xr-var-dtype'>int32</div><div class='xr-var-preview xr-preview'>...</div><input id='attrs-4d373f83-85c1-4970-a4d8-870d3ba2ee78' class='xr-var-attrs-in' type='checkbox' disabled><label for='attrs-4d373f83-85c1-4970-a4d8-870d3ba2ee78' title='Show/Hide attributes'><svg class='icon xr-icon-file-text2'><use xlink:href='#icon-file-text2'></use></svg></label><input id='data-314aef7d-4428-4bd9-aeb0-4a3df0ea8640' class='xr-var-data-in' type='checkbox'><label for='data-314aef7d-4428-4bd9-aeb0-4a3df0ea8640' title='Show/Hide data repr'><svg class='icon xr-icon-database'><use xlink:href='#icon-database'></use></svg></label><div class='xr-var-attrs'><dl class='xr-attrs'></dl></div><div class='xr-var-data'><pre>array([0], dtype=int32)</pre></div></li><li class='xr-var-item'><div class='xr-var-name'><span>x</span></div><div class='xr-var-dims'>(nx)</div><div class='xr-var-dtype'>float32</div><div class='xr-var-preview xr-preview'>...</div><input id='attrs-71aa4f6c-b6cc-4b0c-add9-fda8b28ac24e' class='xr-var-attrs-in' type='checkbox' disabled><label for='attrs-71aa4f6c-b6cc-4b0c-add9-fda8b28ac24e' title='Show/Hide attributes'><svg class='icon xr-icon-file-text2'><use xlink:href='#icon-file-text2'></use></svg></label><input id='data-085b44df-bc81-474e-83c1-a6b057aea121' class='xr-var-data-in' type='checkbox'><label for='data-085b44df-bc81-474e-83c1-a6b057aea121' title='Show/Hide data repr'><svg class='icon xr-icon-database'><use xlink:href='#icon-database'></use></svg></label><div class='xr-var-attrs'><dl class='xr-attrs'></dl></div><div class='xr-var-data'><pre>array([10., 11., 12., 13., 14., 15., 16., 17., 18., 19., 20., 21., 22., 23.,\n       24., 25., 26., 27., 28., 29., 30., 31., 32., 33., 34., 35., 36., 37.,\n       38., 39., 40., 41., 42., 43., 44., 45., 46., 47., 48., 49., 50., 51.,\n       52., 53., 54., 55., 56., 57., 58., 59., 60., 61.], dtype=float32)</pre></div></li><li class='xr-var-item'><div class='xr-var-name'><span>y</span></div><div class='xr-var-dims'>(ny)</div><div class='xr-var-dtype'>float32</div><div class='xr-var-preview xr-preview'>...</div><input id='attrs-874790f8-6da2-4689-9b8d-a808e1c6066c' class='xr-var-attrs-in' type='checkbox' disabled><label for='attrs-874790f8-6da2-4689-9b8d-a808e1c6066c' title='Show/Hide attributes'><svg class='icon xr-icon-file-text2'><use xlink:href='#icon-file-text2'></use></svg></label><input id='data-2b41d474-610a-4560-80d3-6b9daa930e8b' class='xr-var-data-in' type='checkbox'><label for='data-2b41d474-610a-4560-80d3-6b9daa930e8b' title='Show/Hide data repr'><svg class='icon xr-icon-database'><use xlink:href='#icon-database'></use></svg></label><div class='xr-var-attrs'><dl class='xr-attrs'></dl></div><div class='xr-var-data'><pre>array([10.], dtype=float32)</pre></div></li><li class='xr-var-item'><div class='xr-var-name'><span>z</span></div><div class='xr-var-dims'>(nt, nx, ny, nz)</div><div class='xr-var-dtype'>float64</div><div class='xr-var-preview xr-preview'>...</div><input id='attrs-2903ab8b-3af5-49e4-a86f-ccb23c8c52d0' class='xr-var-attrs-in' type='checkbox' disabled><label for='attrs-2903ab8b-3af5-49e4-a86f-ccb23c8c52d0' title='Show/Hide attributes'><svg class='icon xr-icon-file-text2'><use xlink:href='#icon-file-text2'></use></svg></label><input id='data-88cf08a9-46a7-48a4-b81e-1e1c7b46d0e5' class='xr-var-data-in' type='checkbox'><label for='data-88cf08a9-46a7-48a4-b81e-1e1c7b46d0e5' title='Show/Hide data repr'><svg class='icon xr-icon-database'><use xlink:href='#icon-database'></use></svg></label><div class='xr-var-attrs'><dl class='xr-attrs'></dl></div><div class='xr-var-data'><pre>array([[[[10244341.371021, ...,  -137315.771231]],\n\n        ...,\n\n        [[10239592.10447 , ...,  -137315.771211]]]])</pre></div></li></ul></div></li><li class='xr-section-item'><input id='section-9bbaa497-4305-40f7-8a2e-f1bd7cac9afe' class='xr-section-summary-in' type='checkbox'  checked><label for='section-9bbaa497-4305-40f7-8a2e-f1bd7cac9afe' class='xr-section-summary' >Attributes: <span>(2)</span></label><div class='xr-section-inline-details'></div><div class='xr-section-details'><dl class='xr-attrs'><dt><span>description :</span></dt><dd>   2.5324933e-71</dd><dt><span>has_B :</span></dt><dd>0</dd></dl></div></li></ul></div></div>"
     },
     "metadata": {},
     "execution_count": 132
    }
   ],
   "source": [
    "# to read xarray.Dataset and see dimentions, coordinates, data variables and attributes \n",
    "import xarray\n",
    "atmos = xarray.open_dataset(dpath_sim+\"radyn_out.F13_dpl_GRID_pt1s.ncdf\")\n",
    "#atmos = xarray.open_dataset(dpath_sim+\"tx.m2F12-37.max2F12_Ec37_d3.ncdf\")\n",
    "#atmos = xarray.open_dataset(dpath_sim+\"tx.m5F12-37.max5F12_Ec37_d3.ncdf\")\n",
    "#atmos = xarray.open_dataset(dpath_sim+\"tx.mF13-37.maxF13_Ec37_d3_dt0.1_10s.ncdf\")\n",
    "atmos"
   ]
  },
  {
   "source": [
    "# Plotting atmospheres"
   ],
   "cell_type": "markdown",
   "metadata": {}
  },
  {
   "cell_type": "code",
   "execution_count": 89,
   "metadata": {},
   "outputs": [
    {
     "output_type": "display_data",
     "data": {
      "text/plain": "Canvas(toolbar=Toolbar(toolitems=[('Home', 'Reset original view', 'home', 'home'), ('Back', 'Back to previous …",
      "application/vnd.jupyter.widget-view+json": {
       "version_major": 2,
       "version_minor": 0,
       "model_id": "ef7f38244a6b440aa32a8d933b8291e1"
      }
     },
     "metadata": {}
    },
    {
     "output_type": "execute_result",
     "data": {
      "text/plain": [
       "Text(0, 0.5, 'time')"
      ]
     },
     "metadata": {},
     "execution_count": 89
    }
   ],
   "source": [
    "# to plot 2-d atmospheres with height scale as index \n",
    "fig, ax = plt.subplots()\n",
    "#atmos.temperature.plot.hist()\n",
    "atmos.temperature.plot()\n",
    "#atmos.velocity_z.plot()\n",
    "#atmos.electron_density.plot()\n",
    "\n",
    "ax.set_xlabel('height')\n",
    "ax.set_ylabel('time')\n"
   ]
  },
  {
   "source": [
    "```\n",
    "# additional way to see variables\n",
    "```"
   ],
   "cell_type": "markdown",
   "metadata": {}
  },
  {
   "cell_type": "code",
   "execution_count": null,
   "metadata": {},
   "outputs": [],
   "source": [
    "hf = h5py.File(dpath_sim+\"radyn_out.F13_dpl_GRID_pt1s.ncdf\",\"r\")\n",
    "#hf = h5py.File(dpath_sim+\"tx.m2F12-37.max2F12_Ec37_d3.ncdf\",\"r\")\n",
    "#hf = h5py.File(dpath_sim+\"tx.m5F12-37.max5F12_Ec37_d3.ncdf\",\"r\")\n",
    "#hf = h5py.File(dpath_sim+\"tx.mF13-37.maxF13_Ec37_d3_dt0.1_10s.ncdf\",\"r\")"
   ]
  },
  {
   "cell_type": "code",
   "execution_count": null,
   "metadata": {},
   "outputs": [],
   "source": [
    "# To see what data is in this file, we can call the keys() method on the file object.\n",
    "hf.keys() # variables in the Bifrost snapshot"
   ]
  },
  {
   "source": [
    "# Plotting atmospheres in real height"
   ],
   "cell_type": "markdown",
   "metadata": {}
  },
  {
   "cell_type": "code",
   "execution_count": 133,
   "metadata": {},
   "outputs": [
    {
     "output_type": "execute_result",
     "data": {
      "text/plain": [
       "<xarray.DataArray 'z' (nt: 1, nx: 52, ny: 1, nz: 249)>\n",
       "array([[[[10244341.371021, ...,  -137315.771231]],\n",
       "\n",
       "        ...,\n",
       "\n",
       "        [[10239592.10447 , ...,  -137315.771211]]]])\n",
       "Dimensions without coordinates: nt, nx, ny, nz"
      ],
      "text/html": "<div><svg style=\"position: absolute; width: 0; height: 0; overflow: hidden\">\n<defs>\n<symbol id=\"icon-database\" viewBox=\"0 0 32 32\">\n<path d=\"M16 0c-8.837 0-16 2.239-16 5v4c0 2.761 7.163 5 16 5s16-2.239 16-5v-4c0-2.761-7.163-5-16-5z\"></path>\n<path d=\"M16 17c-8.837 0-16-2.239-16-5v6c0 2.761 7.163 5 16 5s16-2.239 16-5v-6c0 2.761-7.163 5-16 5z\"></path>\n<path d=\"M16 26c-8.837 0-16-2.239-16-5v6c0 2.761 7.163 5 16 5s16-2.239 16-5v-6c0 2.761-7.163 5-16 5z\"></path>\n</symbol>\n<symbol id=\"icon-file-text2\" viewBox=\"0 0 32 32\">\n<path d=\"M28.681 7.159c-0.694-0.947-1.662-2.053-2.724-3.116s-2.169-2.030-3.116-2.724c-1.612-1.182-2.393-1.319-2.841-1.319h-15.5c-1.378 0-2.5 1.121-2.5 2.5v27c0 1.378 1.122 2.5 2.5 2.5h23c1.378 0 2.5-1.122 2.5-2.5v-19.5c0-0.448-0.137-1.23-1.319-2.841zM24.543 5.457c0.959 0.959 1.712 1.825 2.268 2.543h-4.811v-4.811c0.718 0.556 1.584 1.309 2.543 2.268zM28 29.5c0 0.271-0.229 0.5-0.5 0.5h-23c-0.271 0-0.5-0.229-0.5-0.5v-27c0-0.271 0.229-0.5 0.5-0.5 0 0 15.499-0 15.5 0v7c0 0.552 0.448 1 1 1h7v19.5z\"></path>\n<path d=\"M23 26h-14c-0.552 0-1-0.448-1-1s0.448-1 1-1h14c0.552 0 1 0.448 1 1s-0.448 1-1 1z\"></path>\n<path d=\"M23 22h-14c-0.552 0-1-0.448-1-1s0.448-1 1-1h14c0.552 0 1 0.448 1 1s-0.448 1-1 1z\"></path>\n<path d=\"M23 18h-14c-0.552 0-1-0.448-1-1s0.448-1 1-1h14c0.552 0 1 0.448 1 1s-0.448 1-1 1z\"></path>\n</symbol>\n</defs>\n</svg>\n<style>/* CSS stylesheet for displaying xarray objects in jupyterlab.\n *\n */\n\n:root {\n  --xr-font-color0: var(--jp-content-font-color0, rgba(0, 0, 0, 1));\n  --xr-font-color2: var(--jp-content-font-color2, rgba(0, 0, 0, 0.54));\n  --xr-font-color3: var(--jp-content-font-color3, rgba(0, 0, 0, 0.38));\n  --xr-border-color: var(--jp-border-color2, #e0e0e0);\n  --xr-disabled-color: var(--jp-layout-color3, #bdbdbd);\n  --xr-background-color: var(--jp-layout-color0, white);\n  --xr-background-color-row-even: var(--jp-layout-color1, white);\n  --xr-background-color-row-odd: var(--jp-layout-color2, #eeeeee);\n}\n\nhtml[theme=dark],\nbody.vscode-dark {\n  --xr-font-color0: rgba(255, 255, 255, 1);\n  --xr-font-color2: rgba(255, 255, 255, 0.54);\n  --xr-font-color3: rgba(255, 255, 255, 0.38);\n  --xr-border-color: #1F1F1F;\n  --xr-disabled-color: #515151;\n  --xr-background-color: #111111;\n  --xr-background-color-row-even: #111111;\n  --xr-background-color-row-odd: #313131;\n}\n\n.xr-wrap {\n  display: block;\n  min-width: 300px;\n  max-width: 700px;\n}\n\n.xr-text-repr-fallback {\n  /* fallback to plain text repr when CSS is not injected (untrusted notebook) */\n  display: none;\n}\n\n.xr-header {\n  padding-top: 6px;\n  padding-bottom: 6px;\n  margin-bottom: 4px;\n  border-bottom: solid 1px var(--xr-border-color);\n}\n\n.xr-header > div,\n.xr-header > ul {\n  display: inline;\n  margin-top: 0;\n  margin-bottom: 0;\n}\n\n.xr-obj-type,\n.xr-array-name {\n  margin-left: 2px;\n  margin-right: 10px;\n}\n\n.xr-obj-type {\n  color: var(--xr-font-color2);\n}\n\n.xr-sections {\n  padding-left: 0 !important;\n  display: grid;\n  grid-template-columns: 150px auto auto 1fr 20px 20px;\n}\n\n.xr-section-item {\n  display: contents;\n}\n\n.xr-section-item input {\n  display: none;\n}\n\n.xr-section-item input + label {\n  color: var(--xr-disabled-color);\n}\n\n.xr-section-item input:enabled + label {\n  cursor: pointer;\n  color: var(--xr-font-color2);\n}\n\n.xr-section-item input:enabled + label:hover {\n  color: var(--xr-font-color0);\n}\n\n.xr-section-summary {\n  grid-column: 1;\n  color: var(--xr-font-color2);\n  font-weight: 500;\n}\n\n.xr-section-summary > span {\n  display: inline-block;\n  padding-left: 0.5em;\n}\n\n.xr-section-summary-in:disabled + label {\n  color: var(--xr-font-color2);\n}\n\n.xr-section-summary-in + label:before {\n  display: inline-block;\n  content: '►';\n  font-size: 11px;\n  width: 15px;\n  text-align: center;\n}\n\n.xr-section-summary-in:disabled + label:before {\n  color: var(--xr-disabled-color);\n}\n\n.xr-section-summary-in:checked + label:before {\n  content: '▼';\n}\n\n.xr-section-summary-in:checked + label > span {\n  display: none;\n}\n\n.xr-section-summary,\n.xr-section-inline-details {\n  padding-top: 4px;\n  padding-bottom: 4px;\n}\n\n.xr-section-inline-details {\n  grid-column: 2 / -1;\n}\n\n.xr-section-details {\n  display: none;\n  grid-column: 1 / -1;\n  margin-bottom: 5px;\n}\n\n.xr-section-summary-in:checked ~ .xr-section-details {\n  display: contents;\n}\n\n.xr-array-wrap {\n  grid-column: 1 / -1;\n  display: grid;\n  grid-template-columns: 20px auto;\n}\n\n.xr-array-wrap > label {\n  grid-column: 1;\n  vertical-align: top;\n}\n\n.xr-preview {\n  color: var(--xr-font-color3);\n}\n\n.xr-array-preview,\n.xr-array-data {\n  padding: 0 5px !important;\n  grid-column: 2;\n}\n\n.xr-array-data,\n.xr-array-in:checked ~ .xr-array-preview {\n  display: none;\n}\n\n.xr-array-in:checked ~ .xr-array-data,\n.xr-array-preview {\n  display: inline-block;\n}\n\n.xr-dim-list {\n  display: inline-block !important;\n  list-style: none;\n  padding: 0 !important;\n  margin: 0;\n}\n\n.xr-dim-list li {\n  display: inline-block;\n  padding: 0;\n  margin: 0;\n}\n\n.xr-dim-list:before {\n  content: '(';\n}\n\n.xr-dim-list:after {\n  content: ')';\n}\n\n.xr-dim-list li:not(:last-child):after {\n  content: ',';\n  padding-right: 5px;\n}\n\n.xr-has-index {\n  font-weight: bold;\n}\n\n.xr-var-list,\n.xr-var-item {\n  display: contents;\n}\n\n.xr-var-item > div,\n.xr-var-item label,\n.xr-var-item > .xr-var-name span {\n  background-color: var(--xr-background-color-row-even);\n  margin-bottom: 0;\n}\n\n.xr-var-item > .xr-var-name:hover span {\n  padding-right: 5px;\n}\n\n.xr-var-list > li:nth-child(odd) > div,\n.xr-var-list > li:nth-child(odd) > label,\n.xr-var-list > li:nth-child(odd) > .xr-var-name span {\n  background-color: var(--xr-background-color-row-odd);\n}\n\n.xr-var-name {\n  grid-column: 1;\n}\n\n.xr-var-dims {\n  grid-column: 2;\n}\n\n.xr-var-dtype {\n  grid-column: 3;\n  text-align: right;\n  color: var(--xr-font-color2);\n}\n\n.xr-var-preview {\n  grid-column: 4;\n}\n\n.xr-var-name,\n.xr-var-dims,\n.xr-var-dtype,\n.xr-preview,\n.xr-attrs dt {\n  white-space: nowrap;\n  overflow: hidden;\n  text-overflow: ellipsis;\n  padding-right: 10px;\n}\n\n.xr-var-name:hover,\n.xr-var-dims:hover,\n.xr-var-dtype:hover,\n.xr-attrs dt:hover {\n  overflow: visible;\n  width: auto;\n  z-index: 1;\n}\n\n.xr-var-attrs,\n.xr-var-data {\n  display: none;\n  background-color: var(--xr-background-color) !important;\n  padding-bottom: 5px !important;\n}\n\n.xr-var-attrs-in:checked ~ .xr-var-attrs,\n.xr-var-data-in:checked ~ .xr-var-data {\n  display: block;\n}\n\n.xr-var-data > table {\n  float: right;\n}\n\n.xr-var-name span,\n.xr-var-data,\n.xr-attrs {\n  padding-left: 25px !important;\n}\n\n.xr-attrs,\n.xr-var-attrs,\n.xr-var-data {\n  grid-column: 1 / -1;\n}\n\ndl.xr-attrs {\n  padding: 0;\n  margin: 0;\n  display: grid;\n  grid-template-columns: 125px auto;\n}\n\n.xr-attrs dt,\n.xr-attrs dd {\n  padding: 0;\n  margin: 0;\n  float: left;\n  padding-right: 10px;\n  width: auto;\n}\n\n.xr-attrs dt {\n  font-weight: normal;\n  grid-column: 1;\n}\n\n.xr-attrs dt:hover span {\n  display: inline-block;\n  background: var(--xr-background-color);\n  padding-right: 10px;\n}\n\n.xr-attrs dd {\n  grid-column: 2;\n  white-space: pre-wrap;\n  word-break: break-all;\n}\n\n.xr-icon-database,\n.xr-icon-file-text2 {\n  display: inline-block;\n  vertical-align: middle;\n  width: 1em;\n  height: 1.5em !important;\n  stroke-width: 0;\n  stroke: currentColor;\n  fill: currentColor;\n}\n</style><pre class='xr-text-repr-fallback'>&lt;xarray.DataArray &#x27;z&#x27; (nt: 1, nx: 52, ny: 1, nz: 249)&gt;\narray([[[[10244341.371021, ...,  -137315.771231]],\n\n        ...,\n\n        [[10239592.10447 , ...,  -137315.771211]]]])\nDimensions without coordinates: nt, nx, ny, nz</pre><div class='xr-wrap' hidden><div class='xr-header'><div class='xr-obj-type'>xarray.DataArray</div><div class='xr-array-name'>'z'</div><ul class='xr-dim-list'><li><span>nt</span>: 1</li><li><span>nx</span>: 52</li><li><span>ny</span>: 1</li><li><span>nz</span>: 249</li></ul></div><ul class='xr-sections'><li class='xr-section-item'><div class='xr-array-wrap'><input id='section-bc4ac85b-5feb-4ec1-8b42-5a3a33a1864c' class='xr-array-in' type='checkbox' checked><label for='section-bc4ac85b-5feb-4ec1-8b42-5a3a33a1864c' title='Show/hide data repr'><svg class='icon xr-icon-database'><use xlink:href='#icon-database'></use></svg></label><div class='xr-array-preview xr-preview'><span>1.024e+07 1.016e+07 1.008e+07 ... -1.301e+05 -1.341e+05 -1.373e+05</span></div><div class='xr-array-data'><pre>array([[[[10244341.371021, ...,  -137315.771231]],\n\n        ...,\n\n        [[10239592.10447 , ...,  -137315.771211]]]])</pre></div></div></li><li class='xr-section-item'><input id='section-3d04f507-3788-4bec-b732-a9d8ac627789' class='xr-section-summary-in' type='checkbox' disabled ><label for='section-3d04f507-3788-4bec-b732-a9d8ac627789' class='xr-section-summary'  title='Expand/collapse section'>Coordinates: <span>(0)</span></label><div class='xr-section-inline-details'></div><div class='xr-section-details'><ul class='xr-var-list'></ul></div></li><li class='xr-section-item'><input id='section-4e2444b8-402b-49ae-a788-d6da6fbdce58' class='xr-section-summary-in' type='checkbox' disabled ><label for='section-4e2444b8-402b-49ae-a788-d6da6fbdce58' class='xr-section-summary'  title='Expand/collapse section'>Attributes: <span>(0)</span></label><div class='xr-section-inline-details'></div><div class='xr-section-details'><dl class='xr-attrs'></dl></div></li></ul></div></div>"
     },
     "metadata": {},
     "execution_count": 133
    }
   ],
   "source": [
    "atmosTemp = atmos.temperature \n",
    "#atmostemp\n",
    "\n",
    "# print(atmosTemp[0,:,:,248])\n",
    "# print()\n",
    "# print(atmosTemp[0,:,:,247])\n",
    "\n",
    "# 1 - nt(1) - ?\n",
    "# 2 - nx(52) - время\n",
    "# 3 - ny(1) - ?\n",
    "# 4 - nz(249) - высота\n",
    "\n",
    "# sm1 = atmosTemp[0,0,0,248]\n",
    "# print(sm1)\n",
    "# sm2 = atmosTemp[0,0,0]\n",
    "# print(sm2)\n",
    "\n",
    "#print(atmosTemp[0,:,:,:])\n",
    "\n",
    "# ---\n",
    "\n",
    "atmosHeight = atmos.z\n",
    "atmosHeight"
   ]
  },
  {
   "cell_type": "code",
   "execution_count": 135,
   "metadata": {},
   "outputs": [
    {
     "output_type": "display_data",
     "data": {
      "text/plain": "Canvas(toolbar=Toolbar(toolitems=[('Home', 'Reset original view', 'home', 'home'), ('Back', 'Back to previous …",
      "application/vnd.jupyter.widget-view+json": {
       "version_major": 2,
       "version_minor": 0,
       "model_id": "76bfe452526d4663897f5d9547bd586e"
      }
     },
     "metadata": {}
    },
    {
     "output_type": "execute_result",
     "data": {
      "text/plain": [
       "Text(0, 0.5, 'pixels')"
      ]
     },
     "metadata": {},
     "execution_count": 135
    }
   ],
   "source": [
    "fig, axs = plt.subplots(1,3,figsize=(15,5),facecolor='w', edgecolor='k')\n",
    "#fig.subplots_adjust(hspace = 0.1,wspace=0.25,left=0.05,right=0.95,top=0.93,bottom=0.07)\n",
    "#axs.ravel()\n",
    "\n",
    "# im=axs[0].imshow(atmosTemp[0,:,:,248],cmap='plasma')\n",
    "# im=axs[1].imshow(atmosTemp[0,:,:,247],cmap='plasma')\n",
    "# im=axs[2].imshow(atmosTemp[0,:,:,246],cmap='plasma')\n",
    "\n",
    "im=axs[0].plot(atmosTemp[0,:,:,247])\n",
    "im=axs[1].plot(atmosHeight[0,:,:,247])\n",
    "#im=axs[2].plot(atmosTemp[0,:,:,246])\n",
    "\n",
    "# divider0 = make_axes_locatable(axs[0])\n",
    "# cax0 = divider0.append_axes(\"right\", size=\"5%\", pad=0.05)\n",
    "# cbar0=plt.colorbar(im,cax=cax0)\n",
    "# cbar0.set_label('T (K)')\n",
    "\n",
    "# divider1 = make_axes_locatable(axs[1])\n",
    "# cax1 = divider1.append_axes(\"right\", size=\"5%\", pad=0.05)\n",
    "# cbar1=plt.colorbar(im,cax=cax1)\n",
    "# cbar1.set_label('T (K)')\n",
    "\n",
    "#axs[0].set_xlabel('pixels')\n",
    "axs[0].set_ylabel('pixels')"
   ]
  },
  {
   "cell_type": "code",
   "execution_count": 136,
   "metadata": {},
   "outputs": [
    {
     "output_type": "error",
     "ename": "IndentationError",
     "evalue": "unexpected indent (<ipython-input-136-df3dba25b9cd>, line 4)",
     "traceback": [
      "\u001b[0;36m  File \u001b[0;32m\"<ipython-input-136-df3dba25b9cd>\"\u001b[0;36m, line \u001b[0;32m4\u001b[0m\n\u001b[0;31m    plt.plot(\u001b[0m\n\u001b[0m    ^\u001b[0m\n\u001b[0;31mIndentationError\u001b[0m\u001b[0;31m:\u001b[0m unexpected indent\n"
     ]
    }
   ],
   "source": [
    "#H = hf['z'][0,:] \n",
    "# geometric height\n",
    "plt.figure()\n",
    "    plt.plot(\n",
    "        atmos.height_scale[0,0]/1e6, \n",
    "        atmos.electron_density[0, 0, 0]\n",
    "    )\n"
   ]
  },
  {
   "cell_type": "code",
   "execution_count": null,
   "metadata": {},
   "outputs": [],
   "source": [
    "print(atmos.height_scale[0,0]/1e6)\n"
   ]
  },
  {
   "source": [
    "# Atoms for CaII\n",
    "\n",
    "```\n",
    "# Nmetal\n",
    "   10\n",
    "\n",
    "# Metals\n",
    "#  model file              ACTIVE/PASSIVE  INITIAL_SOLUTION   population file\n",
    "\n",
    "\n",
    "# ../../Atoms/CaII.atom            PASSIVE    ZERO_RADIATION\n",
    "  ../../Atoms/H_6.atom             PASSIVE    ZERO_RADIATION\n",
    "  ../../Atoms/MgII-IRIS.atom       PASSIVE    ZERO_RADIATION\n",
    "  ../../Atoms/CaII_PRD.atom        ACTIVE     ZERO_RADIATION\n",
    "  ../../Atoms/Si.atom              PASSIVE    LTE_POPULATIONS\n",
    "  ../../Atoms/Al.atom              PASSIVE    LTE_POPULATIONS\n",
    "  ../../Atoms/Fe.atom              PASSIVE    LTE_POPULATIONS\n",
    "  ../../Atoms/He.atom              PASSIVE    LTE_POPULATIONS\n",
    "  ../../Atoms/N.atom               PASSIVE    LTE_POPULATIONS\n",
    "  ../../Atoms/Na.atom              PASSIVE    LTE_POPULATIONS\n",
    "  ../../Atoms/S.atom               PASSIVE    LTE_POPULATIONS\n",
    "```"
   ],
   "cell_type": "markdown",
   "metadata": {}
  },
  {
   "cell_type": "code",
   "execution_count": 178,
   "metadata": {},
   "outputs": [
    {
     "output_type": "stream",
     "name": "stdout",
     "text": [
      "--- Read /Users/elka127/Documents/code/rh/rh15d/run/output/output_aux.hdf5 file.\n--- Read /Users/elka127/Documents/code/rh/rh15d/run/output/output_indata.hdf5 file.\n--- Read /Users/elka127/Documents/code/rh/rh15d/run/output/output_ray.hdf5 file.\n"
     ]
    }
   ],
   "source": [
    "data = rh15d.Rh15dout(rhRepoPath / \"rh15d/run/output\")\n",
    "wave = data.ray.wavelength\n",
    "indices = np.arange(len(wave))[(wave > 20.0) & (wave < 4000.0)]\n",
    "\n",
    "wave.sel(wavelength=500, method=\"nearest\")\n",
    "index500 = np.argmin(np.abs(wave.data - 500))\n",
    "\n",
    "with open(rhRepoPath / \"rh15d/run/ray.input\", \"w\") as f:\n",
    "    f.write(\"1.00\\n\")\n",
    "    output = str(len(indices) + 1)\n",
    "    for ind in indices:\n",
    "        output += f\" {ind}\"\n",
    "    output += f\" {index500}\\n\"\n",
    "    f.write(output)"
   ]
  },
  {
   "source": [
    "# Writing ray.input file"
   ],
   "cell_type": "markdown",
   "metadata": {}
  },
  {
   "cell_type": "code",
   "execution_count": 179,
   "metadata": {},
   "outputs": [
    {
     "output_type": "stream",
     "name": "stdout",
     "text": [
      "--- Read /Users/elka127/Documents/code/rh/rh15d/run/output/output_aux.hdf5 file.\n--- Read /Users/elka127/Documents/code/rh/rh15d/run/output/output_indata.hdf5 file.\n--- Read /Users/elka127/Documents/code/rh/rh15d/run/output/output_ray.hdf5 file.\n"
     ]
    }
   ],
   "source": [
    "data = rh15d.Rh15dout(rhRepoPath / \"rh15d/run/output\")\n",
    "wave = data.ray.wavelength\n",
    "indices = np.arange(len(wave))[(wave > 20.0) & (wave < 4000.0)]"
   ]
  },
  {
   "source": [
    "```\n",
    "#if we want to save particular wavelenghts, 500 for example, and get its index\n",
    "```"
   ],
   "cell_type": "markdown",
   "metadata": {}
  },
  {
   "cell_type": "code",
   "execution_count": 180,
   "metadata": {},
   "outputs": [
    {
     "output_type": "execute_result",
     "data": {
      "text/plain": [
       "<xarray.DataArray 'wavelength' ()>\n",
       "array(500.)\n",
       "Coordinates:\n",
       "    wavelength  float64 500.0\n",
       "Attributes:\n",
       "    units:    nm"
      ],
      "text/html": "<div><svg style=\"position: absolute; width: 0; height: 0; overflow: hidden\">\n<defs>\n<symbol id=\"icon-database\" viewBox=\"0 0 32 32\">\n<path d=\"M16 0c-8.837 0-16 2.239-16 5v4c0 2.761 7.163 5 16 5s16-2.239 16-5v-4c0-2.761-7.163-5-16-5z\"></path>\n<path d=\"M16 17c-8.837 0-16-2.239-16-5v6c0 2.761 7.163 5 16 5s16-2.239 16-5v-6c0 2.761-7.163 5-16 5z\"></path>\n<path d=\"M16 26c-8.837 0-16-2.239-16-5v6c0 2.761 7.163 5 16 5s16-2.239 16-5v-6c0 2.761-7.163 5-16 5z\"></path>\n</symbol>\n<symbol id=\"icon-file-text2\" viewBox=\"0 0 32 32\">\n<path d=\"M28.681 7.159c-0.694-0.947-1.662-2.053-2.724-3.116s-2.169-2.030-3.116-2.724c-1.612-1.182-2.393-1.319-2.841-1.319h-15.5c-1.378 0-2.5 1.121-2.5 2.5v27c0 1.378 1.122 2.5 2.5 2.5h23c1.378 0 2.5-1.122 2.5-2.5v-19.5c0-0.448-0.137-1.23-1.319-2.841zM24.543 5.457c0.959 0.959 1.712 1.825 2.268 2.543h-4.811v-4.811c0.718 0.556 1.584 1.309 2.543 2.268zM28 29.5c0 0.271-0.229 0.5-0.5 0.5h-23c-0.271 0-0.5-0.229-0.5-0.5v-27c0-0.271 0.229-0.5 0.5-0.5 0 0 15.499-0 15.5 0v7c0 0.552 0.448 1 1 1h7v19.5z\"></path>\n<path d=\"M23 26h-14c-0.552 0-1-0.448-1-1s0.448-1 1-1h14c0.552 0 1 0.448 1 1s-0.448 1-1 1z\"></path>\n<path d=\"M23 22h-14c-0.552 0-1-0.448-1-1s0.448-1 1-1h14c0.552 0 1 0.448 1 1s-0.448 1-1 1z\"></path>\n<path d=\"M23 18h-14c-0.552 0-1-0.448-1-1s0.448-1 1-1h14c0.552 0 1 0.448 1 1s-0.448 1-1 1z\"></path>\n</symbol>\n</defs>\n</svg>\n<style>/* CSS stylesheet for displaying xarray objects in jupyterlab.\n *\n */\n\n:root {\n  --xr-font-color0: var(--jp-content-font-color0, rgba(0, 0, 0, 1));\n  --xr-font-color2: var(--jp-content-font-color2, rgba(0, 0, 0, 0.54));\n  --xr-font-color3: var(--jp-content-font-color3, rgba(0, 0, 0, 0.38));\n  --xr-border-color: var(--jp-border-color2, #e0e0e0);\n  --xr-disabled-color: var(--jp-layout-color3, #bdbdbd);\n  --xr-background-color: var(--jp-layout-color0, white);\n  --xr-background-color-row-even: var(--jp-layout-color1, white);\n  --xr-background-color-row-odd: var(--jp-layout-color2, #eeeeee);\n}\n\nhtml[theme=dark],\nbody.vscode-dark {\n  --xr-font-color0: rgba(255, 255, 255, 1);\n  --xr-font-color2: rgba(255, 255, 255, 0.54);\n  --xr-font-color3: rgba(255, 255, 255, 0.38);\n  --xr-border-color: #1F1F1F;\n  --xr-disabled-color: #515151;\n  --xr-background-color: #111111;\n  --xr-background-color-row-even: #111111;\n  --xr-background-color-row-odd: #313131;\n}\n\n.xr-wrap {\n  display: block;\n  min-width: 300px;\n  max-width: 700px;\n}\n\n.xr-text-repr-fallback {\n  /* fallback to plain text repr when CSS is not injected (untrusted notebook) */\n  display: none;\n}\n\n.xr-header {\n  padding-top: 6px;\n  padding-bottom: 6px;\n  margin-bottom: 4px;\n  border-bottom: solid 1px var(--xr-border-color);\n}\n\n.xr-header > div,\n.xr-header > ul {\n  display: inline;\n  margin-top: 0;\n  margin-bottom: 0;\n}\n\n.xr-obj-type,\n.xr-array-name {\n  margin-left: 2px;\n  margin-right: 10px;\n}\n\n.xr-obj-type {\n  color: var(--xr-font-color2);\n}\n\n.xr-sections {\n  padding-left: 0 !important;\n  display: grid;\n  grid-template-columns: 150px auto auto 1fr 20px 20px;\n}\n\n.xr-section-item {\n  display: contents;\n}\n\n.xr-section-item input {\n  display: none;\n}\n\n.xr-section-item input + label {\n  color: var(--xr-disabled-color);\n}\n\n.xr-section-item input:enabled + label {\n  cursor: pointer;\n  color: var(--xr-font-color2);\n}\n\n.xr-section-item input:enabled + label:hover {\n  color: var(--xr-font-color0);\n}\n\n.xr-section-summary {\n  grid-column: 1;\n  color: var(--xr-font-color2);\n  font-weight: 500;\n}\n\n.xr-section-summary > span {\n  display: inline-block;\n  padding-left: 0.5em;\n}\n\n.xr-section-summary-in:disabled + label {\n  color: var(--xr-font-color2);\n}\n\n.xr-section-summary-in + label:before {\n  display: inline-block;\n  content: '►';\n  font-size: 11px;\n  width: 15px;\n  text-align: center;\n}\n\n.xr-section-summary-in:disabled + label:before {\n  color: var(--xr-disabled-color);\n}\n\n.xr-section-summary-in:checked + label:before {\n  content: '▼';\n}\n\n.xr-section-summary-in:checked + label > span {\n  display: none;\n}\n\n.xr-section-summary,\n.xr-section-inline-details {\n  padding-top: 4px;\n  padding-bottom: 4px;\n}\n\n.xr-section-inline-details {\n  grid-column: 2 / -1;\n}\n\n.xr-section-details {\n  display: none;\n  grid-column: 1 / -1;\n  margin-bottom: 5px;\n}\n\n.xr-section-summary-in:checked ~ .xr-section-details {\n  display: contents;\n}\n\n.xr-array-wrap {\n  grid-column: 1 / -1;\n  display: grid;\n  grid-template-columns: 20px auto;\n}\n\n.xr-array-wrap > label {\n  grid-column: 1;\n  vertical-align: top;\n}\n\n.xr-preview {\n  color: var(--xr-font-color3);\n}\n\n.xr-array-preview,\n.xr-array-data {\n  padding: 0 5px !important;\n  grid-column: 2;\n}\n\n.xr-array-data,\n.xr-array-in:checked ~ .xr-array-preview {\n  display: none;\n}\n\n.xr-array-in:checked ~ .xr-array-data,\n.xr-array-preview {\n  display: inline-block;\n}\n\n.xr-dim-list {\n  display: inline-block !important;\n  list-style: none;\n  padding: 0 !important;\n  margin: 0;\n}\n\n.xr-dim-list li {\n  display: inline-block;\n  padding: 0;\n  margin: 0;\n}\n\n.xr-dim-list:before {\n  content: '(';\n}\n\n.xr-dim-list:after {\n  content: ')';\n}\n\n.xr-dim-list li:not(:last-child):after {\n  content: ',';\n  padding-right: 5px;\n}\n\n.xr-has-index {\n  font-weight: bold;\n}\n\n.xr-var-list,\n.xr-var-item {\n  display: contents;\n}\n\n.xr-var-item > div,\n.xr-var-item label,\n.xr-var-item > .xr-var-name span {\n  background-color: var(--xr-background-color-row-even);\n  margin-bottom: 0;\n}\n\n.xr-var-item > .xr-var-name:hover span {\n  padding-right: 5px;\n}\n\n.xr-var-list > li:nth-child(odd) > div,\n.xr-var-list > li:nth-child(odd) > label,\n.xr-var-list > li:nth-child(odd) > .xr-var-name span {\n  background-color: var(--xr-background-color-row-odd);\n}\n\n.xr-var-name {\n  grid-column: 1;\n}\n\n.xr-var-dims {\n  grid-column: 2;\n}\n\n.xr-var-dtype {\n  grid-column: 3;\n  text-align: right;\n  color: var(--xr-font-color2);\n}\n\n.xr-var-preview {\n  grid-column: 4;\n}\n\n.xr-var-name,\n.xr-var-dims,\n.xr-var-dtype,\n.xr-preview,\n.xr-attrs dt {\n  white-space: nowrap;\n  overflow: hidden;\n  text-overflow: ellipsis;\n  padding-right: 10px;\n}\n\n.xr-var-name:hover,\n.xr-var-dims:hover,\n.xr-var-dtype:hover,\n.xr-attrs dt:hover {\n  overflow: visible;\n  width: auto;\n  z-index: 1;\n}\n\n.xr-var-attrs,\n.xr-var-data {\n  display: none;\n  background-color: var(--xr-background-color) !important;\n  padding-bottom: 5px !important;\n}\n\n.xr-var-attrs-in:checked ~ .xr-var-attrs,\n.xr-var-data-in:checked ~ .xr-var-data {\n  display: block;\n}\n\n.xr-var-data > table {\n  float: right;\n}\n\n.xr-var-name span,\n.xr-var-data,\n.xr-attrs {\n  padding-left: 25px !important;\n}\n\n.xr-attrs,\n.xr-var-attrs,\n.xr-var-data {\n  grid-column: 1 / -1;\n}\n\ndl.xr-attrs {\n  padding: 0;\n  margin: 0;\n  display: grid;\n  grid-template-columns: 125px auto;\n}\n\n.xr-attrs dt,\n.xr-attrs dd {\n  padding: 0;\n  margin: 0;\n  float: left;\n  padding-right: 10px;\n  width: auto;\n}\n\n.xr-attrs dt {\n  font-weight: normal;\n  grid-column: 1;\n}\n\n.xr-attrs dt:hover span {\n  display: inline-block;\n  background: var(--xr-background-color);\n  padding-right: 10px;\n}\n\n.xr-attrs dd {\n  grid-column: 2;\n  white-space: pre-wrap;\n  word-break: break-all;\n}\n\n.xr-icon-database,\n.xr-icon-file-text2 {\n  display: inline-block;\n  vertical-align: middle;\n  width: 1em;\n  height: 1.5em !important;\n  stroke-width: 0;\n  stroke: currentColor;\n  fill: currentColor;\n}\n</style><pre class='xr-text-repr-fallback'>&lt;xarray.DataArray &#x27;wavelength&#x27; ()&gt;\narray(500.)\nCoordinates:\n    wavelength  float64 500.0\nAttributes:\n    units:    nm</pre><div class='xr-wrap' hidden><div class='xr-header'><div class='xr-obj-type'>xarray.DataArray</div><div class='xr-array-name'>'wavelength'</div></div><ul class='xr-sections'><li class='xr-section-item'><div class='xr-array-wrap'><input id='section-07597e7f-3be0-4d24-8145-d31b40f9fb46' class='xr-array-in' type='checkbox' checked><label for='section-07597e7f-3be0-4d24-8145-d31b40f9fb46' title='Show/hide data repr'><svg class='icon xr-icon-database'><use xlink:href='#icon-database'></use></svg></label><div class='xr-array-preview xr-preview'><span>500.0</span></div><div class='xr-array-data'><pre>array(500.)</pre></div></div></li><li class='xr-section-item'><input id='section-1e8cd547-849a-48a9-826e-5b58cfb60084' class='xr-section-summary-in' type='checkbox'  checked><label for='section-1e8cd547-849a-48a9-826e-5b58cfb60084' class='xr-section-summary' >Coordinates: <span>(1)</span></label><div class='xr-section-inline-details'></div><div class='xr-section-details'><ul class='xr-var-list'><li class='xr-var-item'><div class='xr-var-name'><span>wavelength</span></div><div class='xr-var-dims'>()</div><div class='xr-var-dtype'>float64</div><div class='xr-var-preview xr-preview'>500.0</div><input id='attrs-4fe89369-97f3-4150-938a-d58fd5c30550' class='xr-var-attrs-in' type='checkbox' ><label for='attrs-4fe89369-97f3-4150-938a-d58fd5c30550' title='Show/Hide attributes'><svg class='icon xr-icon-file-text2'><use xlink:href='#icon-file-text2'></use></svg></label><input id='data-1919faa9-5ede-42c1-b802-4cab1926b43b' class='xr-var-data-in' type='checkbox'><label for='data-1919faa9-5ede-42c1-b802-4cab1926b43b' title='Show/Hide data repr'><svg class='icon xr-icon-database'><use xlink:href='#icon-database'></use></svg></label><div class='xr-var-attrs'><dl class='xr-attrs'><dt><span>units :</span></dt><dd>nm</dd></dl></div><div class='xr-var-data'><pre>array(500.)</pre></div></li></ul></div></li><li class='xr-section-item'><input id='section-afee3204-ae44-4688-99c3-f203a1b0554c' class='xr-section-summary-in' type='checkbox'  checked><label for='section-afee3204-ae44-4688-99c3-f203a1b0554c' class='xr-section-summary' >Attributes: <span>(1)</span></label><div class='xr-section-inline-details'></div><div class='xr-section-details'><dl class='xr-attrs'><dt><span>units :</span></dt><dd>nm</dd></dl></div></li></ul></div></div>"
     },
     "metadata": {},
     "execution_count": 180
    }
   ],
   "source": [
    "wave.sel(wavelength=500, method='nearest')"
   ]
  },
  {
   "cell_type": "code",
   "execution_count": 181,
   "metadata": {},
   "outputs": [],
   "source": [
    "index500 = np.argmin(np.abs(wave.data - 500))"
   ]
  },
  {
   "source": [
    "```\n",
    "# To save this into a file ray.input we do:\n",
    "```"
   ],
   "cell_type": "markdown",
   "metadata": {}
  },
  {
   "cell_type": "code",
   "execution_count": 182,
   "metadata": {},
   "outputs": [],
   "source": [
    "f = open('ray.input', 'w')  \n",
    "# this will overwrite any existing file!\n",
    "f.write('1.00\\n')\n",
    "output = str(len(indices) + 1)\n",
    "for ind in indices:\n",
    "    output += ' %i' % ind\n",
    "output += ' %i\\n' % index500 \n",
    "f.write(output)\n",
    "f.close()"
   ]
  },
  {
   "source": [
    "# Create own wavetable file"
   ],
   "cell_type": "markdown",
   "metadata": {}
  },
  {
   "source": [
    "```\n",
    "# Writes RH wave file (in xdr format). All wavelengths should be in nm.\n",
    "\n",
    "# Parameters\n",
    "# ----------\n",
    "# start: number\n",
    "#     Starting wavelength.\n",
    "# end: number\n",
    "#     Ending wavelength (non-inclusive)\n",
    "# step: number\n",
    "#     Wavelength separation\n",
    "# outfile: string\n",
    "#     Name of file to write.\n",
    "# ewave: 1-D array, optional\n",
    "#    Array of existing wavelengths. Program will make discard points\n",
    "#    to make sure no step is enforced using these points too.\n",
    "# air: boolean, optional\n",
    "#     If true, will at the end convert the wavelengths into vacuum\n",
    "#     wavelengths.\n",
    "```"
   ],
   "cell_type": "markdown",
   "metadata": {}
  },
  {
   "cell_type": "code",
   "execution_count": 162,
   "metadata": {},
   "outputs": [
    {
     "output_type": "error",
     "ename": "SyntaxError",
     "evalue": "unexpected EOF while parsing (<ipython-input-162-79697deb18d6>, line 3)",
     "traceback": [
      "\u001b[0;36m  File \u001b[0;32m\"<ipython-input-162-79697deb18d6>\"\u001b[0;36m, line \u001b[0;32m3\u001b[0m\n\u001b[0;31m    \u001b[0m\n\u001b[0m    ^\u001b[0m\n\u001b[0;31mSyntaxError\u001b[0m\u001b[0;31m:\u001b[0m unexpected EOF while parsing\n"
     ]
    }
   ],
   "source": [
    "def make_wave_file(mywave, start=20, end=4000, step=0.01, new_wave=None,\n",
    "                   ewave=None, air=False):\n",
    "  "
   ]
  },
  {
   "cell_type": "code",
   "execution_count": null,
   "metadata": {},
   "outputs": [],
   "source": [
    "from helita.sim import rh15d\n",
    "rr = rh15d.Rh15dout()\n",
    "# this will write wavelenghts from xxx to xxx nm, x.xx nm spacing:\n",
    "rh15d.make_wave_file('my.wave', 20, 4000, 0.1)\n",
    "# this will write an existing array \"my_waves\", if it exists\n",
    "#rh15d.make_wave_file('my.wave', ewave=my_waves)"
   ]
  },
  {
   "source": [
    "# Intencity plot for Ca II"
   ],
   "cell_type": "markdown",
   "metadata": {}
  },
  {
   "cell_type": "code",
   "execution_count": 183,
   "metadata": {},
   "outputs": [
    {
     "output_type": "stream",
     "name": "stdout",
     "text": [
      "--- Read /Users/elka127/Documents/code/rh/rh15d/run/output/output_aux.hdf5 file.\n--- Read /Users/elka127/Documents/code/rh/rh15d/run/output/output_indata.hdf5 file.\n--- Read /Users/elka127/Documents/code/rh/rh15d/run/output/output_ray.hdf5 file.\n"
     ]
    }
   ],
   "source": [
    "data = rh15d.Rh15dout(rhRepoPath / \"rh15d/run/output\")"
   ]
  },
  {
   "cell_type": "code",
   "execution_count": 184,
   "metadata": {},
   "outputs": [
    {
     "output_type": "display_data",
     "data": {
      "text/plain": "Canvas(toolbar=Toolbar(toolitems=[('Home', 'Reset original view', 'home', 'home'), ('Back', 'Back to previous …",
      "application/vnd.jupyter.widget-view+json": {
       "version_major": 2,
       "version_minor": 0,
       "model_id": "d7b7c32219a04f6d8bbacafcfdbec5f9"
      }
     },
     "metadata": {}
    },
    {
     "output_type": "execute_result",
     "data": {
      "text/plain": [
       "<matplotlib.collections.QuadMesh at 0x129247ac0>"
      ]
     },
     "metadata": {},
     "execution_count": 184
    }
   ],
   "source": [
    "data.ray.intensity.plot()\n",
    "#plt.axis([20, 1000, 0, 62])"
   ]
  },
  {
   "source": [
    "# Calculating optical depths"
   ],
   "cell_type": "markdown",
   "metadata": {}
  },
  {
   "cell_type": "code",
   "execution_count": 172,
   "metadata": {},
   "outputs": [
    {
     "output_type": "stream",
     "name": "stdout",
     "text": [
      "--- Read /Users/elka127/Documents/code/rh/rh15d/run/output/output_aux.hdf5 file.\n--- Read /Users/elka127/Documents/code/rh/rh15d/run/output/output_indata.hdf5 file.\n--- Read /Users/elka127/Documents/code/rh/rh15d/run/output/output_ray.hdf5 file.\n<xarray.DataArray 'wavelength_selected' (wavelength_selected: 44)>\narray([392.926626, 393.079987, 393.190157, 393.26934 , 393.326292, 393.367295,\n       393.396854, 393.418205, 393.433666, 393.444901, 393.453105, 393.459133,\n       393.463602, 393.466951, 393.469496, 393.471466, 393.473022, 393.474282,\n       393.475329, 393.476223, 393.477007, 393.477713, 393.478419, 393.479204,\n       393.480098, 393.481145, 393.482405, 393.483961, 393.48593 , 393.488476,\n       393.491825, 393.496293, 393.502322, 393.510526, 393.521761, 393.537222,\n       393.558572, 393.588132, 393.629135, 393.686087, 393.76527 , 393.87544 ,\n       394.028801, 500.      ])\nCoordinates:\n  * wavelength_selected  (wavelength_selected) float64 392.9 393.1 ... 500.0\nAttributes:\n    units:    nm\n-\n[392.92662578 393.07998681 393.19015678 393.2693399  393.32629191\n 393.36729451 393.39685441 393.41820491 393.43366566 393.44490091\n 393.45310462 393.4591334  393.4636018  393.46695072 393.46949649\n 393.47146605 393.47302222 393.4742818  393.4753286  393.47622275\n 393.47700737 393.47771342 393.47841947 393.4792041  393.48009824\n 393.48114504 393.48240463 393.48396079 393.48593035 393.48847613\n 393.49182505 393.49629345 393.50232222 393.51052593 393.52176118\n 393.53722194 393.55857243 393.58813233 393.62913493 393.68608694\n 393.76527006 393.87544004 394.02880107 500.        ]\n"
     ]
    }
   ],
   "source": [
    "data = rh15d.Rh15dout(rhRepoPath / \"rh15d/run/output\")\n",
    "print(data.ray.wavelength_selected)\n",
    "print(\"-\")\n",
    "print(data.ray.wavelength_selected.data)\n",
    "\n",
    "# first column\n",
    "height = data.atmos.height_scale[0, 0].dropna('height')  \n",
    "# index of 500 nm\n",
    "index500 = np.argmin(np.abs(data.ray.wavelength_selected.data - 500))  \n",
    "\n",
    "tau500 = cumtrapz(data.ray.chi[0, 0, :, index500].dropna('height'), x=-height)\n",
    "# ensure tau500 and height have same size\n",
    "tau500 = np.concatenate([[1e-20], tau500])  \n",
    "\n",
    " "
   ]
  },
  {
   "cell_type": "code",
   "execution_count": 173,
   "metadata": {},
   "outputs": [
    {
     "output_type": "display_data",
     "data": {
      "text/plain": "Canvas(toolbar=Toolbar(toolitems=[('Home', 'Reset original view', 'home', 'home'), ('Back', 'Back to previous …",
      "application/vnd.jupyter.widget-view+json": {
       "version_major": 2,
       "version_minor": 0,
       "model_id": "4754690537ce4610a45ddafcacbb1099"
      }
     },
     "metadata": {}
    },
    {
     "output_type": "execute_result",
     "data": {
      "text/plain": [
       "<matplotlib.lines.Line2D at 0x128d8bdc0>"
      ]
     },
     "metadata": {},
     "execution_count": 173
    }
   ],
   "source": [
    "fig, ax = plt.subplots()\n",
    "ax.plot(height / 1e6, tau500)  # height in Mm\n",
    "ax.set_xlabel('H (Mm)')\n",
    "ax.set_ylabel(r'$\\tau$$_{500}$')\n",
    "ax.set_yscale('log')\n",
    "ax.axhline(y=1,linestyle='dashed',color='black')\n",
    "ax.axvline(x=0.5,linestyle='dashed',color='black')"
   ]
  },
  {
   "source": [
    "# Plot the departure coefficients for the levels of Ca II\n",
    "\n"
   ],
   "cell_type": "markdown",
   "metadata": {}
  },
  {
   "cell_type": "code",
   "execution_count": 185,
   "metadata": {},
   "outputs": [
    {
     "output_type": "display_data",
     "data": {
      "text/plain": "Canvas(toolbar=Toolbar(toolitems=[('Home', 'Reset original view', 'home', 'home'), ('Back', 'Back to previous …",
      "application/vnd.jupyter.widget-view+json": {
       "version_major": 2,
       "version_minor": 0,
       "model_id": "2164e1ae4b33495ea00de73b40bac46b"
      }
     },
     "metadata": {}
    },
    {
     "output_type": "error",
     "ename": "ValueError",
     "evalue": "incomplete format",
     "traceback": [
      "\u001b[0;31m---------------------------------------------------------------------------\u001b[0m",
      "\u001b[0;31mValueError\u001b[0m                                Traceback (most recent call last)",
      "\u001b[0;32m<ipython-input-185-7f0e8d998960>\u001b[0m in \u001b[0;36m<module>\u001b[0;34m\u001b[0m\n\u001b[1;32m     11\u001b[0m \u001b[0;31m#              label='Level %i' % (i + 1))\u001b[0m\u001b[0;34m\u001b[0m\u001b[0;34m\u001b[0m\u001b[0;34m\u001b[0m\u001b[0m\n\u001b[1;32m     12\u001b[0m \u001b[0mfig\u001b[0m\u001b[0;34m,\u001b[0m \u001b[0max\u001b[0m \u001b[0;34m=\u001b[0m \u001b[0mplt\u001b[0m\u001b[0;34m.\u001b[0m\u001b[0msubplots\u001b[0m\u001b[0;34m(\u001b[0m\u001b[0;34m)\u001b[0m\u001b[0;34m\u001b[0m\u001b[0;34m\u001b[0m\u001b[0m\n\u001b[0;32m---> 13\u001b[0;31m \u001b[0max\u001b[0m\u001b[0;34m.\u001b[0m\u001b[0mplot\u001b[0m\u001b[0;34m(\u001b[0m\u001b[0mtau500\u001b[0m\u001b[0;34m,\u001b[0m\u001b[0mdata\u001b[0m\u001b[0;34m.\u001b[0m\u001b[0matom_CA\u001b[0m\u001b[0;34m.\u001b[0m\u001b[0mpopulations\u001b[0m\u001b[0;34m[\u001b[0m\u001b[0;36m1\u001b[0m\u001b[0;34m,\u001b[0m \u001b[0;36m0\u001b[0m\u001b[0;34m,\u001b[0m \u001b[0;36m0\u001b[0m\u001b[0;34m]\u001b[0m\u001b[0;34m/\u001b[0m\u001b[0mdata\u001b[0m\u001b[0;34m.\u001b[0m\u001b[0matom_CA\u001b[0m\u001b[0;34m.\u001b[0m\u001b[0mpopulations_LTE\u001b[0m\u001b[0;34m[\u001b[0m\u001b[0;36m1\u001b[0m\u001b[0;34m,\u001b[0m \u001b[0;36m0\u001b[0m\u001b[0;34m,\u001b[0m \u001b[0;36m0\u001b[0m\u001b[0;34m]\u001b[0m\u001b[0;34m,\u001b[0m \u001b[0mlabel\u001b[0m\u001b[0;34m=\u001b[0m\u001b[0;34m'Level %1'\u001b[0m \u001b[0;34m%\u001b[0m \u001b[0;34m(\u001b[0m\u001b[0;36m1\u001b[0m\u001b[0;34m)\u001b[0m\u001b[0;34m)\u001b[0m\u001b[0;34m\u001b[0m\u001b[0;34m\u001b[0m\u001b[0m\n\u001b[0m\u001b[1;32m     14\u001b[0m \u001b[0mplt\u001b[0m\u001b[0;34m.\u001b[0m\u001b[0mlegend\u001b[0m\u001b[0;34m(\u001b[0m\u001b[0mloc\u001b[0m\u001b[0;34m=\u001b[0m\u001b[0;34m\"upper left\"\u001b[0m\u001b[0;34m)\u001b[0m\u001b[0;34m\u001b[0m\u001b[0;34m\u001b[0m\u001b[0m\n\u001b[1;32m     15\u001b[0m \u001b[0mplt\u001b[0m\u001b[0;34m.\u001b[0m\u001b[0mxlabel\u001b[0m\u001b[0;34m(\u001b[0m\u001b[0;34m\"tau500\"\u001b[0m\u001b[0;34m)\u001b[0m\u001b[0;34m\u001b[0m\u001b[0;34m\u001b[0m\u001b[0m\n",
      "\u001b[0;31mValueError\u001b[0m: incomplete format"
     ]
    }
   ],
   "source": [
    "# plt.figure()\n",
    "# for i in range(5):\n",
    "#     plt.plot(data.atmos.height_scale[0,0]/1e6, \n",
    "#              data.atom_CA.populations[i, 0, 0]/data.atom_CA.populations_LTE[i, 0, 0],\n",
    "#              label='Level %i' % (i + 1))\n",
    "# plt.legend(loc=\"upper left\")\n",
    "# plt.figure()\n",
    "# for i in range(5):\n",
    "#     plt.plot(data.atmos.height_scale[0,0]/1e6, \n",
    "#              data.atom_CA.populations[i, 0, 0]/data.atom_CA.populations_LTE[i, 0, 0],\n",
    "#              label='Level %i' % (i + 1))\n",
    "fig, ax = plt.subplots()\n",
    "ax.plot(tau500,data.atom_CA.populations[1, 0, 0]/data.atom_CA.populations_LTE[1, 0, 0], label='Level %1' % (1)) \n",
    "plt.legend(loc=\"upper left\")\n",
    "plt.xlabel(\"tau500\")\n",
    "plt.ylim(0.05, 2)\n",
    "plt.ylabel(\"Departure coefficients\")\n",
    "plt.ylim(0.05, 2)"
   ]
  },
  {
   "source": [
    "# от тау 500"
   ],
   "cell_type": "markdown",
   "metadata": {}
  },
  {
   "cell_type": "code",
   "execution_count": 186,
   "metadata": {
    "tags": []
   },
   "outputs": [
    {
     "output_type": "stream",
     "name": "stdout",
     "text": [
      "<xarray.DataArray 'populations' (height: 249)>\narray([1.732042e+00, 1.721472e+00, 1.717624e+00, ..., 3.084783e+18,\n       2.959077e+18, 2.871737e+18], dtype=float32)\nCoordinates:\n    x        float64 32.0\n    y        float64 10.0\nDimensions without coordinates: height\n"
     ]
    }
   ],
   "source": [
    "# xVals = data.atmos.height_scale[0,0]/1e6\n",
    "# with open(\"/tmp/x.txt\", \"w\") as f:\n",
    "#     for x in xVals.data:\n",
    "#         f.write(f\"{x}\\n\")\n",
    "\n",
    "print(data.atom_CA.populations[0,22,0])\n",
    "# yVals = data.atom_CA.populations[0,0,0]\n",
    "# with open(\"/tmp/y.txt\", \"w\") as f:\n",
    "#     for y in yVals.data:\n",
    "#         f.write(f\"{y}\\n\")\n",
    "\n",
    "\n",
    "#print(data.atom_CA.populations[0,0,0][247])\n",
    "# print(\"- - - - -\")\n",
    "# print(data.atom_CA.populations[1,0,0])\n",
    "# print(\"- - - - -\")\n",
    "# print(data.atom_CA.populations[2,0,0])"
   ]
  },
  {
   "cell_type": "code",
   "execution_count": 187,
   "metadata": {},
   "outputs": [
    {
     "output_type": "display_data",
     "data": {
      "text/plain": "Canvas(toolbar=Toolbar(toolitems=[('Home', 'Reset original view', 'home', 'home'), ('Back', 'Back to previous …",
      "application/vnd.jupyter.widget-view+json": {
       "version_major": 2,
       "version_minor": 0,
       "model_id": "dc055b00c020459ea47298f3bf0c9b42"
      }
     },
     "metadata": {}
    }
   ],
   "source": [
    "import matplotlib.animation as animation\n",
    "\n",
    "fig, ax = plt.subplots()\n",
    "\n",
    "line, = ax.plot(\n",
    "    data.atmos.height_scale[0,0]/1e6,\n",
    "    data.atom_CA.populations[0,0,0]\n",
    ")\n",
    "\n",
    "def animate(i):\n",
    "    #line.set_xdata(x)\n",
    "    line.set_ydata(data.atom_CA.populations[0, i, 0][0])\n",
    "    return line,\n",
    "\n",
    "ani = animation.FuncAnimation(\n",
    "    fig,\n",
    "    animate,\n",
    "    np.arange(52),\n",
    "    #blit=True,\n",
    "    repeat=False\n",
    ")\n",
    "plt.show()"
   ]
  },
  {
   "cell_type": "code",
   "execution_count": 188,
   "metadata": {},
   "outputs": [
    {
     "output_type": "display_data",
     "data": {
      "text/plain": "Canvas(toolbar=Toolbar(toolitems=[('Home', 'Reset original view', 'home', 'home'), ('Back', 'Back to previous …",
      "application/vnd.jupyter.widget-view+json": {
       "version_major": 2,
       "version_minor": 0,
       "model_id": "e7ba9c202f1e4f5fb8e3d065221e3ecb"
      }
     },
     "metadata": {}
    },
    {
     "output_type": "execute_result",
     "data": {
      "text/plain": [
       "(-20.0, 10000.0)"
      ]
     },
     "metadata": {},
     "execution_count": 188
    }
   ],
   "source": [
    "plt.figure()\n",
    "for i in range(5):\n",
    "    plt.plot(\n",
    "        data.atmos.height_scale[0,0]/1e6, \n",
    "        data.atom_CA.populations[i, 51, 0]/data.atom_CA.populations_LTE[i, 51, 0],\n",
    "        label='Level %i' % (i + 1)\n",
    "    )\n",
    "plt.legend(loc=\"upper left\")\n",
    "plt.xlabel(\"Height (Mm)\")\n",
    "plt.ylabel(\"Departure coefficients\")\n",
    "plt.xlim(0,11)\n",
    "plt.ylim(-20,10000)\n",
    "#/data.atom_CA.populations_LTE[i, 100, 0]"
   ]
  },
  {
   "source": [
    "# Source function"
   ],
   "cell_type": "markdown",
   "metadata": {}
  },
  {
   "cell_type": "code",
   "execution_count": 175,
   "metadata": {},
   "outputs": [
    {
     "output_type": "display_data",
     "data": {
      "text/plain": "Canvas(toolbar=Toolbar(toolitems=[('Home', 'Reset original view', 'home', 'home'), ('Back', 'Back to previous …",
      "application/vnd.jupyter.widget-view+json": {
       "version_major": 2,
       "version_minor": 0,
       "model_id": "d111f19e04ec44899113f50300863ece"
      }
     },
     "metadata": {}
    },
    {
     "output_type": "display_data",
     "data": {
      "text/plain": "interactive(children=(IntSlider(value=0, description='wavelength', max=43), Checkbox(value=True, description='…",
      "application/vnd.jupyter.widget-view+json": {
       "version_major": 2,
       "version_minor": 0,
       "model_id": "7f85894f0847432db76bd222a6796a96"
      }
     },
     "metadata": {}
    }
   ],
   "source": [
    "rh15d_vis.SourceFunction(data);"
   ]
  },
  {
   "cell_type": "code",
   "execution_count": null,
   "metadata": {},
   "outputs": [],
   "source": []
  }
 ]
}