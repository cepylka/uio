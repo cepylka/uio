{
 "metadata": {
  "language_info": {
   "codemirror_mode": {
    "name": "ipython",
    "version": 3
   },
   "file_extension": ".py",
   "mimetype": "text/x-python",
   "name": "python",
   "nbconvert_exporter": "python",
   "pygments_lexer": "ipython3",
   "version": "3.8.7-final"
  },
  "orig_nbformat": 2,
  "kernelspec": {
   "name": "python3",
   "display_name": "Python 3",
   "language": "python"
  }
 },
 "nbformat": 4,
 "nbformat_minor": 2,
 "cells": [
  {
   "cell_type": "code",
   "execution_count": 1047,
   "metadata": {},
   "outputs": [],
   "source": [
    "%matplotlib widget\n",
    "#%matplotlib inline\n",
    "\n",
    "\n",
    "import numpy as np\n",
    "import matplotlib.pyplot as plt\n",
    "from helita.sim import rh15d \n",
    "from helita.vis import rh15d_vis\n",
    "\n",
    "from scipy.integrate import quadrature\n",
    "from scipy.integrate import cumtrapz\n",
    "\n",
    "from pathlib import Path\n",
    "\n",
    "rhRepoPath = Path(\"/Users/elka127/Documents/code/rh\")\n",
    "#set_matplotlib_formats('svg')\n",
    "# plt.rc('legend', frameon=False)\n",
    "# plt.rc('figure', figsize=(7, 7 / 1.75)) # Larger figure sizes\n",
    "# plt.rc('font', size=12)"
   ]
  },
  {
   "source": [
    "# With the Bifrost Snapshot or with existing atmosperes' models\n",
    "\n",
    "```\n",
    "# There are four 1D models of flares on M-dwarfs (/mn/stornext/u3/matsc/rh/Atmos/mflares/). \n",
    "# These are:\n",
    "\n",
    "# radyn_out.F13_dpl_GRID_pt1s.ncdf\n",
    "# tx.m2F12-37.max2F12_Ec37_d3.ncdf\n",
    "# tx.m5F12-37.max5F12_Ec37_d3.ncdf\n",
    "# tx.mF13-37.maxF13_Ec37_d3_dt0.1_10s.ncdf\n",
    "\n",
    "# the three \"tx\" models all have a low cut-off energy of 37 keV and a power index of 3 \n",
    "# (see Allred et al. 2015) \n",
    "# but vary in maximum beam energy: 2e12, 5e12 and 1e13 erg/cm^2/s. \n",
    "\n",
    "#The model from Kowalski et al. 2015 is radyn_out.F13_dpl_GRID_pt1s.ncdf.\n",
    "```\n",
    "\n"
   ],
   "cell_type": "markdown",
   "metadata": {}
  },
  {
   "cell_type": "code",
   "execution_count": 415,
   "metadata": {},
   "outputs": [],
   "source": [
    "import h5py\n",
    "from mpl_toolkits.axes_grid1 import make_axes_locatable\n",
    "dpath_sim = \"/Users/elka127/Documents/code/rh/Atmos/\""
   ]
  },
  {
   "cell_type": "code",
   "execution_count": 416,
   "metadata": {},
   "outputs": [
    {
     "output_type": "execute_result",
     "data": {
      "text/plain": [
       "<xarray.Dataset>\n",
       "Dimensions:               (nhydr: 6, nt: 1, nx: 52, ny: 1, nz: 249)\n",
       "Dimensions without coordinates: nhydr, nt, nx, ny, nz\n",
       "Data variables:\n",
       "    temperature           (nt, nx, ny, nz) float32 ...\n",
       "    velocity_z            (nt, nx, ny, nz) float32 ...\n",
       "    electron_density      (nt, nx, ny, nz) float64 ...\n",
       "    hydrogen_populations  (nt, nhydr, nx, ny, nz) float32 ...\n",
       "    snapshot_number       (nt) int32 ...\n",
       "    x                     (nx) float32 ...\n",
       "    y                     (ny) float32 ...\n",
       "    z                     (nt, nx, ny, nz) float64 ...\n",
       "Attributes:\n",
       "    description:     2.5324933e-71\n",
       "    has_B:        0"
      ],
      "text/html": "<div><svg style=\"position: absolute; width: 0; height: 0; overflow: hidden\">\n<defs>\n<symbol id=\"icon-database\" viewBox=\"0 0 32 32\">\n<path d=\"M16 0c-8.837 0-16 2.239-16 5v4c0 2.761 7.163 5 16 5s16-2.239 16-5v-4c0-2.761-7.163-5-16-5z\"></path>\n<path d=\"M16 17c-8.837 0-16-2.239-16-5v6c0 2.761 7.163 5 16 5s16-2.239 16-5v-6c0 2.761-7.163 5-16 5z\"></path>\n<path d=\"M16 26c-8.837 0-16-2.239-16-5v6c0 2.761 7.163 5 16 5s16-2.239 16-5v-6c0 2.761-7.163 5-16 5z\"></path>\n</symbol>\n<symbol id=\"icon-file-text2\" viewBox=\"0 0 32 32\">\n<path d=\"M28.681 7.159c-0.694-0.947-1.662-2.053-2.724-3.116s-2.169-2.030-3.116-2.724c-1.612-1.182-2.393-1.319-2.841-1.319h-15.5c-1.378 0-2.5 1.121-2.5 2.5v27c0 1.378 1.122 2.5 2.5 2.5h23c1.378 0 2.5-1.122 2.5-2.5v-19.5c0-0.448-0.137-1.23-1.319-2.841zM24.543 5.457c0.959 0.959 1.712 1.825 2.268 2.543h-4.811v-4.811c0.718 0.556 1.584 1.309 2.543 2.268zM28 29.5c0 0.271-0.229 0.5-0.5 0.5h-23c-0.271 0-0.5-0.229-0.5-0.5v-27c0-0.271 0.229-0.5 0.5-0.5 0 0 15.499-0 15.5 0v7c0 0.552 0.448 1 1 1h7v19.5z\"></path>\n<path d=\"M23 26h-14c-0.552 0-1-0.448-1-1s0.448-1 1-1h14c0.552 0 1 0.448 1 1s-0.448 1-1 1z\"></path>\n<path d=\"M23 22h-14c-0.552 0-1-0.448-1-1s0.448-1 1-1h14c0.552 0 1 0.448 1 1s-0.448 1-1 1z\"></path>\n<path d=\"M23 18h-14c-0.552 0-1-0.448-1-1s0.448-1 1-1h14c0.552 0 1 0.448 1 1s-0.448 1-1 1z\"></path>\n</symbol>\n</defs>\n</svg>\n<style>/* CSS stylesheet for displaying xarray objects in jupyterlab.\n *\n */\n\n:root {\n  --xr-font-color0: var(--jp-content-font-color0, rgba(0, 0, 0, 1));\n  --xr-font-color2: var(--jp-content-font-color2, rgba(0, 0, 0, 0.54));\n  --xr-font-color3: var(--jp-content-font-color3, rgba(0, 0, 0, 0.38));\n  --xr-border-color: var(--jp-border-color2, #e0e0e0);\n  --xr-disabled-color: var(--jp-layout-color3, #bdbdbd);\n  --xr-background-color: var(--jp-layout-color0, white);\n  --xr-background-color-row-even: var(--jp-layout-color1, white);\n  --xr-background-color-row-odd: var(--jp-layout-color2, #eeeeee);\n}\n\nhtml[theme=dark],\nbody.vscode-dark {\n  --xr-font-color0: rgba(255, 255, 255, 1);\n  --xr-font-color2: rgba(255, 255, 255, 0.54);\n  --xr-font-color3: rgba(255, 255, 255, 0.38);\n  --xr-border-color: #1F1F1F;\n  --xr-disabled-color: #515151;\n  --xr-background-color: #111111;\n  --xr-background-color-row-even: #111111;\n  --xr-background-color-row-odd: #313131;\n}\n\n.xr-wrap {\n  display: block;\n  min-width: 300px;\n  max-width: 700px;\n}\n\n.xr-text-repr-fallback {\n  /* fallback to plain text repr when CSS is not injected (untrusted notebook) */\n  display: none;\n}\n\n.xr-header {\n  padding-top: 6px;\n  padding-bottom: 6px;\n  margin-bottom: 4px;\n  border-bottom: solid 1px var(--xr-border-color);\n}\n\n.xr-header > div,\n.xr-header > ul {\n  display: inline;\n  margin-top: 0;\n  margin-bottom: 0;\n}\n\n.xr-obj-type,\n.xr-array-name {\n  margin-left: 2px;\n  margin-right: 10px;\n}\n\n.xr-obj-type {\n  color: var(--xr-font-color2);\n}\n\n.xr-sections {\n  padding-left: 0 !important;\n  display: grid;\n  grid-template-columns: 150px auto auto 1fr 20px 20px;\n}\n\n.xr-section-item {\n  display: contents;\n}\n\n.xr-section-item input {\n  display: none;\n}\n\n.xr-section-item input + label {\n  color: var(--xr-disabled-color);\n}\n\n.xr-section-item input:enabled + label {\n  cursor: pointer;\n  color: var(--xr-font-color2);\n}\n\n.xr-section-item input:enabled + label:hover {\n  color: var(--xr-font-color0);\n}\n\n.xr-section-summary {\n  grid-column: 1;\n  color: var(--xr-font-color2);\n  font-weight: 500;\n}\n\n.xr-section-summary > span {\n  display: inline-block;\n  padding-left: 0.5em;\n}\n\n.xr-section-summary-in:disabled + label {\n  color: var(--xr-font-color2);\n}\n\n.xr-section-summary-in + label:before {\n  display: inline-block;\n  content: '►';\n  font-size: 11px;\n  width: 15px;\n  text-align: center;\n}\n\n.xr-section-summary-in:disabled + label:before {\n  color: var(--xr-disabled-color);\n}\n\n.xr-section-summary-in:checked + label:before {\n  content: '▼';\n}\n\n.xr-section-summary-in:checked + label > span {\n  display: none;\n}\n\n.xr-section-summary,\n.xr-section-inline-details {\n  padding-top: 4px;\n  padding-bottom: 4px;\n}\n\n.xr-section-inline-details {\n  grid-column: 2 / -1;\n}\n\n.xr-section-details {\n  display: none;\n  grid-column: 1 / -1;\n  margin-bottom: 5px;\n}\n\n.xr-section-summary-in:checked ~ .xr-section-details {\n  display: contents;\n}\n\n.xr-array-wrap {\n  grid-column: 1 / -1;\n  display: grid;\n  grid-template-columns: 20px auto;\n}\n\n.xr-array-wrap > label {\n  grid-column: 1;\n  vertical-align: top;\n}\n\n.xr-preview {\n  color: var(--xr-font-color3);\n}\n\n.xr-array-preview,\n.xr-array-data {\n  padding: 0 5px !important;\n  grid-column: 2;\n}\n\n.xr-array-data,\n.xr-array-in:checked ~ .xr-array-preview {\n  display: none;\n}\n\n.xr-array-in:checked ~ .xr-array-data,\n.xr-array-preview {\n  display: inline-block;\n}\n\n.xr-dim-list {\n  display: inline-block !important;\n  list-style: none;\n  padding: 0 !important;\n  margin: 0;\n}\n\n.xr-dim-list li {\n  display: inline-block;\n  padding: 0;\n  margin: 0;\n}\n\n.xr-dim-list:before {\n  content: '(';\n}\n\n.xr-dim-list:after {\n  content: ')';\n}\n\n.xr-dim-list li:not(:last-child):after {\n  content: ',';\n  padding-right: 5px;\n}\n\n.xr-has-index {\n  font-weight: bold;\n}\n\n.xr-var-list,\n.xr-var-item {\n  display: contents;\n}\n\n.xr-var-item > div,\n.xr-var-item label,\n.xr-var-item > .xr-var-name span {\n  background-color: var(--xr-background-color-row-even);\n  margin-bottom: 0;\n}\n\n.xr-var-item > .xr-var-name:hover span {\n  padding-right: 5px;\n}\n\n.xr-var-list > li:nth-child(odd) > div,\n.xr-var-list > li:nth-child(odd) > label,\n.xr-var-list > li:nth-child(odd) > .xr-var-name span {\n  background-color: var(--xr-background-color-row-odd);\n}\n\n.xr-var-name {\n  grid-column: 1;\n}\n\n.xr-var-dims {\n  grid-column: 2;\n}\n\n.xr-var-dtype {\n  grid-column: 3;\n  text-align: right;\n  color: var(--xr-font-color2);\n}\n\n.xr-var-preview {\n  grid-column: 4;\n}\n\n.xr-var-name,\n.xr-var-dims,\n.xr-var-dtype,\n.xr-preview,\n.xr-attrs dt {\n  white-space: nowrap;\n  overflow: hidden;\n  text-overflow: ellipsis;\n  padding-right: 10px;\n}\n\n.xr-var-name:hover,\n.xr-var-dims:hover,\n.xr-var-dtype:hover,\n.xr-attrs dt:hover {\n  overflow: visible;\n  width: auto;\n  z-index: 1;\n}\n\n.xr-var-attrs,\n.xr-var-data {\n  display: none;\n  background-color: var(--xr-background-color) !important;\n  padding-bottom: 5px !important;\n}\n\n.xr-var-attrs-in:checked ~ .xr-var-attrs,\n.xr-var-data-in:checked ~ .xr-var-data {\n  display: block;\n}\n\n.xr-var-data > table {\n  float: right;\n}\n\n.xr-var-name span,\n.xr-var-data,\n.xr-attrs {\n  padding-left: 25px !important;\n}\n\n.xr-attrs,\n.xr-var-attrs,\n.xr-var-data {\n  grid-column: 1 / -1;\n}\n\ndl.xr-attrs {\n  padding: 0;\n  margin: 0;\n  display: grid;\n  grid-template-columns: 125px auto;\n}\n\n.xr-attrs dt,\n.xr-attrs dd {\n  padding: 0;\n  margin: 0;\n  float: left;\n  padding-right: 10px;\n  width: auto;\n}\n\n.xr-attrs dt {\n  font-weight: normal;\n  grid-column: 1;\n}\n\n.xr-attrs dt:hover span {\n  display: inline-block;\n  background: var(--xr-background-color);\n  padding-right: 10px;\n}\n\n.xr-attrs dd {\n  grid-column: 2;\n  white-space: pre-wrap;\n  word-break: break-all;\n}\n\n.xr-icon-database,\n.xr-icon-file-text2 {\n  display: inline-block;\n  vertical-align: middle;\n  width: 1em;\n  height: 1.5em !important;\n  stroke-width: 0;\n  stroke: currentColor;\n  fill: currentColor;\n}\n</style><pre class='xr-text-repr-fallback'>&lt;xarray.Dataset&gt;\nDimensions:               (nhydr: 6, nt: 1, nx: 52, ny: 1, nz: 249)\nDimensions without coordinates: nhydr, nt, nx, ny, nz\nData variables:\n    temperature           (nt, nx, ny, nz) float32 5.971e+06 ... 5.921e+03\n    velocity_z            (nt, nx, ny, nz) float32 6.234 6.244 ... 8.044 0.0\n    electron_density      (nt, nx, ny, nz) float64 2.607e+16 ... 1.542e+20\n    hydrogen_populations  (nt, nhydr, nx, ny, nz) float32 5.875e+07 ... 2.737...\n    snapshot_number       (nt) int32 0\n    x                     (nx) float32 10.0 11.0 12.0 13.0 ... 59.0 60.0 61.0\n    y                     (ny) float32 10.0\n    z                     (nt, nx, ny, nz) float64 1.024e+07 ... -1.373e+05\nAttributes:\n    description:     2.5324933e-71\n    has_B:        0</pre><div class='xr-wrap' hidden><div class='xr-header'><div class='xr-obj-type'>xarray.Dataset</div></div><ul class='xr-sections'><li class='xr-section-item'><input id='section-57f04cee-f2de-4efe-aa09-c6cf8bc112e2' class='xr-section-summary-in' type='checkbox' disabled ><label for='section-57f04cee-f2de-4efe-aa09-c6cf8bc112e2' class='xr-section-summary'  title='Expand/collapse section'>Dimensions:</label><div class='xr-section-inline-details'><ul class='xr-dim-list'><li><span>nhydr</span>: 6</li><li><span>nt</span>: 1</li><li><span>nx</span>: 52</li><li><span>ny</span>: 1</li><li><span>nz</span>: 249</li></ul></div><div class='xr-section-details'></div></li><li class='xr-section-item'><input id='section-f075f02c-de9f-4e0a-bba9-627275784fb4' class='xr-section-summary-in' type='checkbox' disabled ><label for='section-f075f02c-de9f-4e0a-bba9-627275784fb4' class='xr-section-summary'  title='Expand/collapse section'>Coordinates: <span>(0)</span></label><div class='xr-section-inline-details'></div><div class='xr-section-details'><ul class='xr-var-list'></ul></div></li><li class='xr-section-item'><input id='section-87ffeec8-f157-44e9-afb3-74ac2d8fa89c' class='xr-section-summary-in' type='checkbox'  checked><label for='section-87ffeec8-f157-44e9-afb3-74ac2d8fa89c' class='xr-section-summary' >Data variables: <span>(8)</span></label><div class='xr-section-inline-details'></div><div class='xr-section-details'><ul class='xr-var-list'><li class='xr-var-item'><div class='xr-var-name'><span>temperature</span></div><div class='xr-var-dims'>(nt, nx, ny, nz)</div><div class='xr-var-dtype'>float32</div><div class='xr-var-preview xr-preview'>...</div><input id='attrs-3ad04709-0494-4c78-b7ce-9a1359e04b0f' class='xr-var-attrs-in' type='checkbox' disabled><label for='attrs-3ad04709-0494-4c78-b7ce-9a1359e04b0f' title='Show/Hide attributes'><svg class='icon xr-icon-file-text2'><use xlink:href='#icon-file-text2'></use></svg></label><input id='data-defb83f5-30dc-4ce7-a211-e979f2d5ccac' class='xr-var-data-in' type='checkbox'><label for='data-defb83f5-30dc-4ce7-a211-e979f2d5ccac' title='Show/Hide data repr'><svg class='icon xr-icon-database'><use xlink:href='#icon-database'></use></svg></label><div class='xr-var-attrs'><dl class='xr-attrs'></dl></div><div class='xr-var-data'><pre>array([[[[5.970647e+06, ..., 6.025555e+03]],\n\n        ...,\n\n        [[4.652273e+07, ..., 5.921341e+03]]]], dtype=float32)</pre></div></li><li class='xr-var-item'><div class='xr-var-name'><span>velocity_z</span></div><div class='xr-var-dims'>(nt, nx, ny, nz)</div><div class='xr-var-dtype'>float32</div><div class='xr-var-preview xr-preview'>...</div><input id='attrs-cf42463f-1e9f-4e6a-9f7d-737b09d410ce' class='xr-var-attrs-in' type='checkbox' disabled><label for='attrs-cf42463f-1e9f-4e6a-9f7d-737b09d410ce' title='Show/Hide attributes'><svg class='icon xr-icon-file-text2'><use xlink:href='#icon-file-text2'></use></svg></label><input id='data-b80d05ab-5aa3-4dc4-a3bc-5fa0c65c29bd' class='xr-var-data-in' type='checkbox'><label for='data-b80d05ab-5aa3-4dc4-a3bc-5fa0c65c29bd' title='Show/Hide data repr'><svg class='icon xr-icon-database'><use xlink:href='#icon-database'></use></svg></label><div class='xr-var-attrs'><dl class='xr-attrs'></dl></div><div class='xr-var-data'><pre>array([[[[6.233521e+00, ..., 0.000000e+00]],\n\n        ...,\n\n        [[6.237311e+04, ..., 0.000000e+00]]]], dtype=float32)</pre></div></li><li class='xr-var-item'><div class='xr-var-name'><span>electron_density</span></div><div class='xr-var-dims'>(nt, nx, ny, nz)</div><div class='xr-var-dtype'>float64</div><div class='xr-var-preview xr-preview'>...</div><input id='attrs-a0b6a22b-6678-40d5-97ba-a29223338d1e' class='xr-var-attrs-in' type='checkbox' disabled><label for='attrs-a0b6a22b-6678-40d5-97ba-a29223338d1e' title='Show/Hide attributes'><svg class='icon xr-icon-file-text2'><use xlink:href='#icon-file-text2'></use></svg></label><input id='data-3b26925f-ae7a-4431-b11a-1c7b58fd708c' class='xr-var-data-in' type='checkbox'><label for='data-3b26925f-ae7a-4431-b11a-1c7b58fd708c' title='Show/Hide data repr'><svg class='icon xr-icon-database'><use xlink:href='#icon-database'></use></svg></label><div class='xr-var-attrs'><dl class='xr-attrs'></dl></div><div class='xr-var-data'><pre>array([[[[2.607068e+16, ..., 1.753566e+20]],\n\n        ...,\n\n        [[2.788813e+16, ..., 1.541888e+20]]]])</pre></div></li><li class='xr-var-item'><div class='xr-var-name'><span>hydrogen_populations</span></div><div class='xr-var-dims'>(nt, nhydr, nx, ny, nz)</div><div class='xr-var-dtype'>float32</div><div class='xr-var-preview xr-preview'>...</div><input id='attrs-22e0ff69-538c-42be-9b55-9e5c07f01a0d' class='xr-var-attrs-in' type='checkbox' disabled><label for='attrs-22e0ff69-538c-42be-9b55-9e5c07f01a0d' title='Show/Hide attributes'><svg class='icon xr-icon-file-text2'><use xlink:href='#icon-file-text2'></use></svg></label><input id='data-e9bf096a-f9f3-47dd-a442-9244dfbb8794' class='xr-var-data-in' type='checkbox'><label for='data-e9bf096a-f9f3-47dd-a442-9244dfbb8794' title='Show/Hide data repr'><svg class='icon xr-icon-database'><use xlink:href='#icon-database'></use></svg></label><div class='xr-var-attrs'><dl class='xr-attrs'></dl></div><div class='xr-var-data'><pre>array([[[[[5.875386e+07, ..., 1.506444e+24]],\n\n         ...,\n\n         [[1.684623e+06, ..., 1.464778e+24]]],\n\n\n        ...,\n\n\n        [[[2.598975e+16, ..., 4.029184e+19]],\n\n         ...,\n\n         [[2.780160e+16, ..., 2.737055e+19]]]]], dtype=float32)</pre></div></li><li class='xr-var-item'><div class='xr-var-name'><span>snapshot_number</span></div><div class='xr-var-dims'>(nt)</div><div class='xr-var-dtype'>int32</div><div class='xr-var-preview xr-preview'>...</div><input id='attrs-5ba6674c-0327-46fd-af97-814ff91a724e' class='xr-var-attrs-in' type='checkbox' disabled><label for='attrs-5ba6674c-0327-46fd-af97-814ff91a724e' title='Show/Hide attributes'><svg class='icon xr-icon-file-text2'><use xlink:href='#icon-file-text2'></use></svg></label><input id='data-b65b2830-1de6-4b02-9c98-c1a8cb98dc9b' class='xr-var-data-in' type='checkbox'><label for='data-b65b2830-1de6-4b02-9c98-c1a8cb98dc9b' title='Show/Hide data repr'><svg class='icon xr-icon-database'><use xlink:href='#icon-database'></use></svg></label><div class='xr-var-attrs'><dl class='xr-attrs'></dl></div><div class='xr-var-data'><pre>array([0], dtype=int32)</pre></div></li><li class='xr-var-item'><div class='xr-var-name'><span>x</span></div><div class='xr-var-dims'>(nx)</div><div class='xr-var-dtype'>float32</div><div class='xr-var-preview xr-preview'>...</div><input id='attrs-d6c98d93-33f9-4ff8-bec3-9c0ad9c00785' class='xr-var-attrs-in' type='checkbox' disabled><label for='attrs-d6c98d93-33f9-4ff8-bec3-9c0ad9c00785' title='Show/Hide attributes'><svg class='icon xr-icon-file-text2'><use xlink:href='#icon-file-text2'></use></svg></label><input id='data-03233f34-c95d-4065-96ba-5421173f6bc0' class='xr-var-data-in' type='checkbox'><label for='data-03233f34-c95d-4065-96ba-5421173f6bc0' title='Show/Hide data repr'><svg class='icon xr-icon-database'><use xlink:href='#icon-database'></use></svg></label><div class='xr-var-attrs'><dl class='xr-attrs'></dl></div><div class='xr-var-data'><pre>array([10., 11., 12., 13., 14., 15., 16., 17., 18., 19., 20., 21., 22., 23.,\n       24., 25., 26., 27., 28., 29., 30., 31., 32., 33., 34., 35., 36., 37.,\n       38., 39., 40., 41., 42., 43., 44., 45., 46., 47., 48., 49., 50., 51.,\n       52., 53., 54., 55., 56., 57., 58., 59., 60., 61.], dtype=float32)</pre></div></li><li class='xr-var-item'><div class='xr-var-name'><span>y</span></div><div class='xr-var-dims'>(ny)</div><div class='xr-var-dtype'>float32</div><div class='xr-var-preview xr-preview'>...</div><input id='attrs-fbefc9e3-425c-48db-bf2b-6c54b03fab46' class='xr-var-attrs-in' type='checkbox' disabled><label for='attrs-fbefc9e3-425c-48db-bf2b-6c54b03fab46' title='Show/Hide attributes'><svg class='icon xr-icon-file-text2'><use xlink:href='#icon-file-text2'></use></svg></label><input id='data-d7003de4-2852-48bc-859e-31675feba37f' class='xr-var-data-in' type='checkbox'><label for='data-d7003de4-2852-48bc-859e-31675feba37f' title='Show/Hide data repr'><svg class='icon xr-icon-database'><use xlink:href='#icon-database'></use></svg></label><div class='xr-var-attrs'><dl class='xr-attrs'></dl></div><div class='xr-var-data'><pre>array([10.], dtype=float32)</pre></div></li><li class='xr-var-item'><div class='xr-var-name'><span>z</span></div><div class='xr-var-dims'>(nt, nx, ny, nz)</div><div class='xr-var-dtype'>float64</div><div class='xr-var-preview xr-preview'>...</div><input id='attrs-abff3c9c-32cf-46e5-894f-aafb5926dbbd' class='xr-var-attrs-in' type='checkbox' disabled><label for='attrs-abff3c9c-32cf-46e5-894f-aafb5926dbbd' title='Show/Hide attributes'><svg class='icon xr-icon-file-text2'><use xlink:href='#icon-file-text2'></use></svg></label><input id='data-5af08f45-e06f-44ed-a6b8-d11eaefcbbc2' class='xr-var-data-in' type='checkbox'><label for='data-5af08f45-e06f-44ed-a6b8-d11eaefcbbc2' title='Show/Hide data repr'><svg class='icon xr-icon-database'><use xlink:href='#icon-database'></use></svg></label><div class='xr-var-attrs'><dl class='xr-attrs'></dl></div><div class='xr-var-data'><pre>array([[[[10244341.371021, ...,  -137315.771231]],\n\n        ...,\n\n        [[10239592.10447 , ...,  -137315.771211]]]])</pre></div></li></ul></div></li><li class='xr-section-item'><input id='section-85ec1d03-fecf-4302-8abb-70bdc06d1261' class='xr-section-summary-in' type='checkbox'  checked><label for='section-85ec1d03-fecf-4302-8abb-70bdc06d1261' class='xr-section-summary' >Attributes: <span>(2)</span></label><div class='xr-section-inline-details'></div><div class='xr-section-details'><dl class='xr-attrs'><dt><span>description :</span></dt><dd>   2.5324933e-71</dd><dt><span>has_B :</span></dt><dd>0</dd></dl></div></li></ul></div></div>"
     },
     "metadata": {},
     "execution_count": 416
    }
   ],
   "source": [
    "# to read xarray.Dataset and see dimentions, coordinates, data variables and attributes \n",
    "import xarray\n",
    "atmos = xarray.open_dataset(dpath_sim+\"radyn_out.F13_dpl_GRID_pt1s.ncdf\")\n",
    "#atmos = xarray.open_dataset(dpath_sim+\"tx.m2F12-37.max2F12_Ec37_d3.ncdf\")\n",
    "#atmos = xarray.open_dataset(dpath_sim+\"tx.m5F12-37.max5F12_Ec37_d3.ncdf\")\n",
    "#atmos = xarray.open_dataset(dpath_sim+\"tx.mF13-37.maxF13_Ec37_d3_dt0.1_10s.ncdf\")\n",
    "atmos\n",
    "# out = xarray.open_dataset(\"/Users/elka127/Documents/code/rh/rh15d/run/output/output_ray.hdf5\")\n",
    "# out\n",
    "#output_indata.hdf5 file.\n",
    "\n",
    "#output_ray.hdf5 file."
   ]
  },
  {
   "source": [
    "```\n",
    "#netcdf4 to hdf5\n",
    "```"
   ],
   "cell_type": "markdown",
   "metadata": {}
  },
  {
   "cell_type": "code",
   "execution_count": null,
   "metadata": {},
   "outputs": [],
   "source": [
    "atmos.to_netcdf(\"newfile.hdf5\", format='NETCDF4')"
   ]
  },
  {
   "source": [
    "```\n",
    "# виджет хелиты все равно не работает даже с переделанным файлом из netcdf\n",
    "# строит только 1 график\n",
    "```"
   ],
   "cell_type": "markdown",
   "metadata": {}
  },
  {
   "cell_type": "code",
   "execution_count": null,
   "metadata": {},
   "outputs": [],
   "source": [
    "from helita.vis import rh15d_vis\n",
    "\n",
    "# hf = h5py.File(dpath_sim+\"radyn_out.F13_dpl_GRID_pt1s.ncdf\",\"r\")\n",
    "# H = hf['z'][0,:]\n",
    "#print(H)\n",
    "rh15d_vis.InputAtmosphere(\"/Users/elka127/Documents/uio/repository/jupyter/newfile.hdf5\")\n",
    "\n"
   ]
  },
  {
   "source": [
    "# Plotting atmospheres in nz"
   ],
   "cell_type": "markdown",
   "metadata": {}
  },
  {
   "cell_type": "code",
   "execution_count": null,
   "metadata": {},
   "outputs": [],
   "source": [
    "import h5py\n",
    "from mpl_toolkits.axes_grid1 import make_axes_locatable\n",
    "dpath_sim = \"/Users/elka127/Documents/code/rh/Atmos\""
   ]
  },
  {
   "cell_type": "code",
   "execution_count": null,
   "metadata": {},
   "outputs": [],
   "source": [
    "#hf = h5py.File(dpath_sim+\"radyn_out.F13_dpl_GRID_pt1s.ncdf\",\"r\")\n",
    "hf = h5py.File(dpath_sim+\"tx.m2F12-37.max2F12_Ec37_d3.ncdf,\"r\")\n",
    "height = hf['z'][0,:,0,:] # geometric height\n",
    "time = hf['x'][:]\n",
    "#print(height.shape())\n",
    "temp = hf['temperature']\n",
    "vlos = hf['velocity_z'] # LOS_V\n",
    "# eden = hf['electron_density']\n",
    "\n",
    "# snapshot_number = hf[\"snapshot_number\"]\n",
    "# nhydr = hf[\"nhydr\"]\n",
    "# x = hf[\"x\"]\n",
    "# z = hf[\"z\"]\n",
    "print(height)\n"
   ]
  },
  {
   "cell_type": "code",
   "execution_count": 417,
   "metadata": {},
   "outputs": [
    {
     "output_type": "display_data",
     "data": {
      "text/plain": "Canvas(toolbar=Toolbar(toolitems=[('Home', 'Reset original view', 'home', 'home'), ('Back', 'Back to previous …",
      "application/vnd.jupyter.widget-view+json": {
       "version_major": 2,
       "version_minor": 0,
       "model_id": "df6d1cbc2bfa4d4ab9ff10b465a54561"
      }
     },
     "metadata": {}
    },
    {
     "output_type": "execute_result",
     "data": {
      "text/plain": [
       "Text(0, 0.5, 'time')"
      ]
     },
     "metadata": {},
     "execution_count": 417
    }
   ],
   "source": [
    "# to plot 2-d atmospheres with height scale as index \n",
    "fig, ax = plt.subplots()\n",
    "#atmos.temperature.plot.hist()\n",
    "#atmos.temperature.plot()\n",
    "atmos.velocity_z.plot()\n",
    "#atmos.electron_density.plot()\n",
    "#im=axs[0].imshow(temp[0,:,0,:])\n",
    "\n",
    "#ax.plot(height / 1e6, time)  # height in Mm\n",
    "ax.set_xlabel('H (Mm)')\n",
    "ax.set_ylabel('time')\n",
    "#ax.set_yscale('log')\n",
    "#ax.set_xscale('log')\n",
    "\n",
    "#ax.set_xlabel('height')\n",
    "#ax.set_ylabel('time')\n"
   ]
  },
  {
   "cell_type": "code",
   "execution_count": null,
   "metadata": {},
   "outputs": [],
   "source": []
  },
  {
   "source": [
    "```\n",
    "# additional way to see variables\n",
    "```"
   ],
   "cell_type": "markdown",
   "metadata": {}
  },
  {
   "cell_type": "code",
   "execution_count": 413,
   "metadata": {},
   "outputs": [],
   "source": [
    "hf = h5py.File(dpath_sim+\"radyn_out.F13_dpl_GRID_pt1s.ncdf\",\"r\")\n",
    "#hf = h5py.File(dpath_sim+\"tx.m2F12-37.max2F12_Ec37_d3.ncdf\",\"r\")\n",
    "#hf = h5py.File(dpath_sim+\"tx.m5F12-37.max5F12_Ec37_d3.ncdf\",\"r\")\n",
    "#hf = h5py.File(dpath_sim+\"tx.mF13-37.maxF13_Ec37_d3_dt0.1_10s.ncdf\",\"r\")"
   ]
  },
  {
   "cell_type": "code",
   "execution_count": null,
   "metadata": {},
   "outputs": [],
   "source": [
    "# To see what data is in this file, we can call the keys() method on the file object.\n",
    "hf.keys() # variables in the Bifrost snapshot"
   ]
  },
  {
   "source": [
    "# Plotting atmospheres in real height"
   ],
   "cell_type": "markdown",
   "metadata": {}
  },
  {
   "cell_type": "code",
   "execution_count": null,
   "metadata": {},
   "outputs": [],
   "source": [
    "#from helita.sim import rh15d_vis\n",
    "hf = h5py.File(dpath_sim+\"radyn_out.F13_dpl_GRID_pt1s.ncdf\",\"r\")\n",
    "H = hf['z'][0,:]\n",
    "#print(H)\n",
    "rh15d_vis.InputAtmosphere2D(\"/Users/elka127/Documents/code/rh/rh15d/run/output/output_indata.hdf5\")\n",
    "#nz = H\n",
    "#atmos.temperature.plot.hist()\n",
    "#fig, ax = plt.subplots()\n",
    "#atmos.temperature.plot()\n",
    "#atmos.velocity_z.plot()\n",
    "\n",
    "# atmos.electron_density.plot()\n",
    "# ax.set_xlabel('height')\n",
    "# ax.set_ylabel('time')\n",
    "#hf = h5py.File(rhRepoPath / \"rh15d/run/output/output_indata.hdf5\",\"r\")\n",
    "#hf.keys()\n",
    "# atmos = hf['atmos']\n",
    "# height = hf['height']\n",
    "# inputfile = hf['input']\n",
    "# mpi = hf['mpi']\n",
    "\n",
    "# print(atmos)\n",
    "# print(\"///\")\n",
    "# print(height)\n",
    "# print(\"///\")\n",
    "# print(inputfile)\n",
    "# print(\"///\")\n",
    "# print(mpi)\n",
    "\n",
    "#Blos = hf['B_z'] # LOS B\n",
    "#H = hf['z'][0,:] # geometric height\n",
    "#snapshot_number = hf[\"snapshot_number\"]\n",
    "#nhydr = hf[\"nhydr\"]\n",
    "\n",
    "#import xarray\n",
    "#inputs = xarray.open_dataset(rhRepoPath / \"rh15d/run/output/output_indata.hdf5\")\n"
   ]
  },
  {
   "cell_type": "code",
   "execution_count": 414,
   "metadata": {},
   "outputs": [
    {
     "output_type": "display_data",
     "data": {
      "text/plain": "Canvas(toolbar=Toolbar(toolitems=[('Home', 'Reset original view', 'home', 'home'), ('Back', 'Back to previous …",
      "application/vnd.jupyter.widget-view+json": {
       "version_major": 2,
       "version_minor": 0,
       "model_id": "96f3307f41ca430392ed497b0476eb89"
      }
     },
     "metadata": {}
    }
   ],
   "source": [
    "%matplotlib widget\n",
    "\n",
    "\n",
    "hf=h5py.File(dpath_sim+\"radyn_out.F13_dpl_GRID_pt1s.ncdf\",\"r\")\n",
    "# hf=h5py.File(dpath_sim+\"tx.m2F12-37.max2F12_Ec37_d3.ncdf\",\"r\")\n",
    "# hf=h5py.File(dpath_sim+\"tx.m5F12-37.max2F12_Ec37_d3.ncdf\",\"r\")\n",
    "# hf=h5py.File(dpath_sim+\"tx.mF13-37.maxF13_Ec37_d3_dt0.1_10s.ncdf\",\"r\")\n",
    "\n",
    "hf.keys()\n",
    "\n",
    "tg1t=np.transpose(hf['temperature'][0,:,0,:])\n",
    "vz1t=np.transpose(hf['velocity_z'][0,:,0,:])\n",
    "ed1t=np.transpose(hf['electron_density'][0,:,0,:])\n",
    "\n",
    "z1t=np.transpose(hf['z'][0,:,0,:]/1.e6)\n",
    "\n",
    "fig, ax=plt.subplots()\n",
    "\n",
    "# ax1.plot(z1t[:,0],np.log10(tg1t[:,100]),label='10.0 sec')\n",
    "# ax1.plot(z1t[:,0],np.log10(tg1t[:,75]),label='7.5 sec')\n",
    "# ax1.plot(z1t[:,0],np.log10(tg1t[:,60]),label='6.0 sec')\n",
    "\n",
    "# ax.plot(z1t[:,0],np.log10(tg1t[:,40]),'k--', label='4.0 sec')\n",
    "# ax.plot(z1t[:,0],np.log10(tg1t[:,22]),'k-',label='2.2 sec')\n",
    "# ax.plot(z1t[:,0],np.log10(tg1t[:,12]),'r-.',label='1.2 sec')\n",
    "# ax.plot(z1t[:,0],np.log10(tg1t[:,2]),'b-',label='0.2 sec')\n",
    "# ax.plot(z1t[:,0],np.log10(tg1t[:,1]),'k-',label='0.1 sec')\n",
    "\n",
    "# ax.plot(z1t[:,0],np.log10(tg1t[:,0]),'g-',label='0 sec')\n",
    "\n",
    "# ax.plot(z1t[:,0],vz1t[:,135],label='13.5 sec')\n",
    "# ax.plot(z1t[:,0],vz1t[:,90],label='9.0 sec')\n",
    "# ax.plot(z1t[:,0],vz1t[:,60],label='6.0 sec')\n",
    "\n",
    "# ax.plot(z1t[:,0],vz1t[:,40],label='4.0 sec')\n",
    "# ax.plot(z1t[:,0],vz1t[:,22],label='2.2 sec')\n",
    "# ax.plot(z1t[:,0],vz1t[:,12],label='0.2 sec')\n",
    "ax.plot(z1t[:,0],vz1t[:,2],label='0.2 sec')\n",
    "\n",
    "ax.plot(z1t[:,0],vz1t[:,1],label='0.1 sec')\n",
    "ax.plot(z1t[:,0],vz1t[:,0],label='0 sec')\n",
    "\n",
    "# ax.plot(z1t[:,0],np.log10(ed1t[:,130]),label='13.0 sec')\n",
    "# ax.plot(z1t[:,0],np.log10(ed1t[:,100]),label='10.0 sec')\n",
    "# ax.plot(z1t[:,0],np.log10(ed1t[:,75]),label='7.5 sec')\n",
    "\n",
    "# ax.plot(z1t[:,0],np.log10(ed1t[:,40]),label='4.0 sec')\n",
    "#ax.plot(z1t[:,0],np.log10(ed1t[:,22]),label='2.2 sec')\n",
    "# ax.plot(z1t[:,0],np.log10(ed1t[:,12]),label='1.2 sec')\n",
    "# ax.plot(z1t[:,0],np.log10(ed1t[:,2]),label='0.2 sec')\n",
    "# ax.plot(z1t[:,0],np.log10(ed1t[:,0]),label='0 sec')\n",
    "\n",
    "\n",
    "\n",
    "\n",
    "plt.xlabel('Height (Mm)')\n",
    "\n",
    "# plt.ylabel('lg(Temperature (K))')\n",
    "plt.ylabel('Velocity (m/s)')\n",
    "# plt.xlim(-0.2,0.5)\n",
    "# plt.ylim(-1e5,2e5)\n",
    "#plt.ylabel('lg(Electron Density ())')\n",
    "#plt.title('m2F12-37 Atmos’)\n",
    "ax.legend()  # Add a legend.\n",
    "\n",
    "\n",
    "# plt.savefig(\"temperature_.svg\", format=\"svg\")\n",
    "plt.savefig(\"velocity_z_.svg\", format=\"svg\")\n",
    "# plt.savefig(\"electron_density_.svg\", format=\"svg\")\n"
   ]
  },
  {
   "source": [
    "# Atoms for CaII\n",
    "\n",
    "```\n",
    "# Nmetal\n",
    "   10\n",
    "\n",
    "# Metals\n",
    "#  model file              ACTIVE/PASSIVE  INITIAL_SOLUTION   population file\n",
    "\n",
    "\n",
    "# ../../Atoms/CaII.atom            PASSIVE    ZERO_RADIATION\n",
    "  ../../Atoms/H_6.atom             PASSIVE    ZERO_RADIATION\n",
    "  ../../Atoms/MgII-IRIS.atom       PASSIVE    ZERO_RADIATION\n",
    "  ../../Atoms/CaII_PRD.atom        ACTIVE     ZERO_RADIATION\n",
    "  ../../Atoms/Si.atom              PASSIVE    LTE_POPULATIONS\n",
    "  ../../Atoms/Al.atom              PASSIVE    LTE_POPULATIONS\n",
    "  ../../Atoms/Fe.atom              PASSIVE    LTE_POPULATIONS\n",
    "  ../../Atoms/He.atom              PASSIVE    LTE_POPULATIONS\n",
    "  ../../Atoms/N.atom               PASSIVE    LTE_POPULATIONS\n",
    "  ../../Atoms/Na.atom              PASSIVE    LTE_POPULATIONS\n",
    "  ../../Atoms/S.atom               PASSIVE    LTE_POPULATIONS\n",
    "```"
   ],
   "cell_type": "markdown",
   "metadata": {}
  },
  {
   "cell_type": "code",
   "execution_count": null,
   "metadata": {},
   "outputs": [],
   "source": [
    "data = rh15d.Rh15dout(rhRepoPath / \"rh15d/run/output\")\n",
    "wave = data.ray.wavelength\n",
    "indices = np.arange(len(wave))[(wave > 392.8) & (wave < 394.0)]\n",
    "\n",
    "#wave.sel(wavelength=500, method=\"nearest\")\n",
    "index500 = np.argmin(np.abs(wave.data - 500))"
   ]
  },
  {
   "source": [
    "# Create own wavetable file"
   ],
   "cell_type": "markdown",
   "metadata": {}
  },
  {
   "source": [
    "```\n",
    "# Writes RH wave file (in xdr format). All wavelengths should be in nm.\n",
    "\n",
    "# Parameters\n",
    "# ----------\n",
    "# start: number\n",
    "#     Starting wavelength.\n",
    "# end: number\n",
    "#     Ending wavelength (non-inclusive)\n",
    "# step: number\n",
    "#     Wavelength separation\n",
    "# outfile: string\n",
    "#     Name of file to write.\n",
    "# ewave: 1-D array, optional\n",
    "#    Array of existing wavelengths. Program will make discard points\n",
    "#    to make sure no step is enforced using these points too.\n",
    "# air: boolean, optional\n",
    "#     If true, will at the end convert the wavelengths into vacuum\n",
    "#     wavelengths.\n",
    "```"
   ],
   "cell_type": "markdown",
   "metadata": {}
  },
  {
   "cell_type": "code",
   "execution_count": 881,
   "metadata": {},
   "outputs": [],
   "source": [
    "def make_wave_file(my_wave, start=20, end=4860, step=4, new_wave=None,\n",
    "                   ewave=None, air=False):\n",
    "                   rh15d.make_wave_file('my_wave.wave', ewave=my_waves)"
   ]
  },
  {
   "cell_type": "code",
   "execution_count": 897,
   "metadata": {},
   "outputs": [
    {
     "output_type": "stream",
     "name": "stdout",
     "text": [
      "Wrote 1220 wavelengths to file.\n"
     ]
    }
   ],
   "source": [
    "rh15d.make_wave_file('My_wave.wave', 20, 4290, 3.5)"
   ]
  },
  {
   "cell_type": "code",
   "execution_count": 898,
   "metadata": {},
   "outputs": [],
   "source": [
    "#from helita.sim import rh15d\n",
    "#read exisitng file if needed\n",
    "MY_wave = rh15d.read_wave_file(rhRepoPath / \"Atoms/wave_files/My_wave.wave\")\n"
   ]
  },
  {
   "cell_type": "code",
   "execution_count": 899,
   "metadata": {},
   "outputs": [
    {
     "output_type": "stream",
     "name": "stdout",
     "text": [
      "[  20.00146405   23.50162183   27.0017259  ... 4280.66700414 4284.16795799\n 4287.66891184]\n"
     ]
    }
   ],
   "source": [
    "#import xarray\n",
    "#atmos = xarray.open_dataset(dpath_sim+\"radyn_out.F13_dpl_GRID_pt1s.ncdf\")\n",
    "print(MY_wave)"
   ]
  },
  {
   "cell_type": "code",
   "execution_count": 900,
   "metadata": {},
   "outputs": [
    {
     "output_type": "execute_result",
     "data": {
      "text/plain": [
       "(1220,)"
      ]
     },
     "metadata": {},
     "execution_count": 900
    }
   ],
   "source": [
    "MY_wave.shape"
   ]
  },
  {
   "cell_type": "code",
   "execution_count": null,
   "metadata": {},
   "outputs": [],
   "source": [
    "data = rh15d.Rh15dout(rhRepoPath / \"rh15d/run/output\")\n",
    "wave = data.ray.wavelength\n",
    "indices = np.arange(len(wave))[(wave > 200) & (wave < 500)]\n",
    "#If we want to see also one particular wavelength (500 in example)\n",
    "wave.sel(wavelength=500, method=\"nearest\")\n",
    "index500 = np.argmin(np.abs(wave.data - 500))\n",
    "\n",
    "with open(rhRepoPath / \"rh15d/run/ray.input\", \"w\") as f:\n",
    "    f.write(\"1.00\\n\")\n",
    "    output = str(len(indices) + 1)\n",
    "    for ind in indices:\n",
    "        output += f\" {ind}\"\n",
    "    output += f\" {index500}\\n\"\n",
    "    f.write(output)"
   ]
  },
  {
   "source": [
    "# Intencity plot for Ca II"
   ],
   "cell_type": "markdown",
   "metadata": {}
  },
  {
   "cell_type": "code",
   "execution_count": 313,
   "metadata": {},
   "outputs": [
    {
     "output_type": "stream",
     "name": "stderr",
     "text": [
      "/Users/elka127/Documents/code/helita/helita/sim/rh15d.py:40: FutureWarning: The autoclose argument is no longer used by xarray.open_dataset() and is now ignored; it will be removed in a future version of xarray. If necessary, you can control the maximum number of simultaneous open files with xarray.set_options(file_cache_maxsize=...).\n",
      "  setattr(self, g, xr.open_dataset(infile, group=g, autoclose=True))\n",
      "--- Read /Users/elka127/Documents/code/rh/rh15d/run/output/output_aux.hdf5 file.\n",
      "--- Read /Users/elka127/Documents/code/rh/rh15d/run/output/output_indata.hdf5 file.\n",
      "--- Read /Users/elka127/Documents/code/rh/rh15d/run/output/output_ray.hdf5 file.\n",
      "/Users/elka127/Documents/code/helita/helita/sim/rh15d.py:53: FutureWarning: The autoclose argument is no longer used by xarray.open_dataset() and is now ignored; it will be removed in a future version of xarray. If necessary, you can control the maximum number of simultaneous open files with xarray.set_options(file_cache_maxsize=...).\n",
      "  self.ray = xr.open_dataset(infile, autoclose=True)\n"
     ]
    }
   ],
   "source": [
    "data = rh15d.Rh15dout(rhRepoPath / \"rh15d/run/output\")"
   ]
  },
  {
   "cell_type": "code",
   "execution_count": null,
   "metadata": {},
   "outputs": [],
   "source": [
    "%matplotlib widget\n",
    "#%matplotlib inline\n",
    "data.ray.intensity.plot()\n",
    "#plt.legend(loc=\"upper left\")\n",
    "plt.xlabel(\"Wavelenght nm\")\n",
    "plt.ylabel(\"Time, s*10\")\n",
    "#plt.axis([20, 1000, 0, 62])"
   ]
  },
  {
   "source": [
    "```\n",
    "# to see what's in the output data\n",
    "```"
   ],
   "cell_type": "markdown",
   "metadata": {}
  },
  {
   "cell_type": "code",
   "execution_count": null,
   "metadata": {},
   "outputs": [],
   "source": [
    "hf=h5py.File(rhRepoPath / \"rh15d/run/output/output_ray.hdf5\",\"r\")\n",
    "\n",
    "hf.keys()\n",
    "# tau1.plot()"
   ]
  },
  {
   "source": [
    "```\n",
    "# in order for the graphs to work properly, we make indices for wavelenghts array\n",
    "```"
   ],
   "cell_type": "markdown",
   "metadata": {}
  },
  {
   "cell_type": "code",
   "execution_count": 314,
   "metadata": {},
   "outputs": [
    {
     "output_type": "stream",
     "name": "stdout",
     "text": [
      "--- Read /Users/elka127/Documents/code/rh/rh15d/run/output/output_aux.hdf5 file.\n--- Read /Users/elka127/Documents/code/rh/rh15d/run/output/output_indata.hdf5 file.\n--- Read /Users/elka127/Documents/code/rh/rh15d/run/output/output_ray.hdf5 file.\n"
     ]
    }
   ],
   "source": [
    "%matplotlib widget\n",
    "data = rh15d.Rh15dout(rhRepoPath / \"rh15d/run/output\")\n",
    "wave = data.ray.wavelength\n",
    "indices = np.arange(len(wave))[(wave > 20) & (wave < 4000)]\n",
    "#If we want to see also one particular wavelength (500 in example)\n",
    "# wave.sel(wavelength=500, method=\"nearest\")\n",
    "# index500 = np.argmin(np.abs(wave.data - 500))\n",
    "\n"
   ]
  },
  {
   "source": [
    "# Tau=1 height"
   ],
   "cell_type": "markdown",
   "metadata": {}
  },
  {
   "cell_type": "code",
   "execution_count": 464,
   "metadata": {},
   "outputs": [
    {
     "output_type": "display_data",
     "data": {
      "text/plain": "Canvas(toolbar=Toolbar(toolitems=[('Home', 'Reset original view', 'home', 'home'), ('Back', 'Back to previous …",
      "application/vnd.jupyter.widget-view+json": {
       "version_major": 2,
       "version_minor": 0,
       "model_id": "d6c05d4f1e7c4de0be23b59ef3889278"
      }
     },
     "metadata": {}
    }
   ],
   "source": [
    "%matplotlib widget\n",
    "\n",
    "fig, ax=plt.subplots()\n",
    "\n",
    "ax.plot(wave[indices],data.ray.tau_one_height[0,0,indices]/1e6, 'k--',label='0 sec')\n",
    "ax.plot(wave[indices],data.ray.tau_one_height[2,0,indices]/1e6, 'r-',label='0.2 sec')\n",
    "ax.plot(wave[indices],data.ray.tau_one_height[12,0,indices]/1e6, 'r-.',label='1.2 sec')\n",
    "ax.plot(wave[indices],data.ray.tau_one_height[22,0,indices]/1e6, 'b--',label='2.2 sec')\n",
    "ax.plot(wave[indices],data.ray.tau_one_height[40,0,indices]/1e6, 'b-.',label='4. sec')\n",
    "\n",
    "ax.legend(loc=\"upper right\") \n",
    "plt.xlabel(r'$\\lambda$ (nm)')\n",
    "plt.ylabel('Height (Mm)')\n",
    "plt.title(r'$\\tau=1$')\n",
    "plt.savefig(\"Tau_one_height_.svg\", format=\"svg\")\n"
   ]
  },
  {
   "source": [
    "```\n",
    "#To make a plot for intensity at (x, y) = (?, 0), x - time column\n",
    "```"
   ],
   "cell_type": "markdown",
   "metadata": {}
  },
  {
   "cell_type": "code",
   "execution_count": 400,
   "metadata": {},
   "outputs": [
    {
     "output_type": "display_data",
     "data": {
      "text/plain": "Canvas(toolbar=Toolbar(toolitems=[('Home', 'Reset original view', 'home', 'home'), ('Back', 'Back to previous …",
      "application/vnd.jupyter.widget-view+json": {
       "version_major": 2,
       "version_minor": 0,
       "model_id": "9b785da4877d4ada8c8ecab451c78d80"
      }
     },
     "metadata": {}
    }
   ],
   "source": [
    "%matplotlib widget\n",
    "\n",
    "fig, ax=plt.subplots()\n",
    "#plt.figure()\n",
    "# for i in range(0,2,12,22,38):\n",
    "#     plt.plot(\n",
    "#         data.ray.intensity[i, 0],\n",
    "#         label='Time %i' % (i)\n",
    "#     )\n",
    "# data.ray.intensity[100, 0].plot(label='10 sec')\n",
    "# data.ray.intensity[75, 0].plot(label='7.5 sec')\n",
    "# data.ray.intensity[60, 0].plot(label='6 sec')\n",
    "\n",
    "ax.plot(wave[indices],data.ray.intensity[0,0,indices],'k--',label='0 sec')\n",
    "ax.plot(wave[indices],data.ray.intensity[2,0,indices],'k-',label='0.2 sec')\n",
    "ax.plot(wave[indices],data.ray.intensity[12,0,indices],'r--',label='1.2 sec')\n",
    "ax.plot(wave[indices],data.ray.intensity[22,0,indices],'r-',label='2.2 sec')\n",
    "ax.plot(wave[indices],data.ray.intensity[40,0,indices],'k-.',label='4 sec')\n",
    "\n",
    "\n",
    "# data.ray.intensity[40, 0].plot(label='4 sec')\n",
    "# data.ray.intensity[22, 0].plot(label='2.2 sec')\n",
    "# data.ray.intensity[12, 0].plot(label='1.2 sec')\n",
    "# data.ray.intensity[2, 0].plot(label='0.2 sec')\n",
    "# data.ray.intensity[0, 0].plot(label='0 sec')\n",
    "\n",
    "\n",
    "ax.legend()  # Add a legend.\n",
    "\n",
    "plt.savefig(\"intensity_.svg\", format=\"svg\")\n",
    "plt.xlabel(r'$\\lambda$ (nm)')\n",
    "plt.ylabel(r'Intensity (Stokes I) ($W/(m^2*Hz*sr)$')\n",
    "#ax.set_yscale('log')\n",
    "plt.axis([20, 4000, 0, 8e-7])\n",
    "plt.savefig(\"Intencity_.svg\", format=\"svg\")\n",
    "\n"
   ]
  },
  {
   "source": [
    "```\n",
    "#Flux from Intencity\n",
    "```"
   ],
   "cell_type": "markdown",
   "metadata": {}
  },
  {
   "cell_type": "code",
   "execution_count": 209,
   "metadata": {},
   "outputs": [
    {
     "output_type": "stream",
     "name": "stdout",
     "text": [
      "c = (299792458.0, 'm s^-1', 0.0)\n"
     ]
    }
   ],
   "source": [
    "import scipy.constants\n",
    "\n",
    "print(\"c = %s\"%str(scipy.constants.physical_constants[\"speed of light in vacuum\"]))"
   ]
  },
  {
   "source": [
    "```\n",
    "# Calculating Flux from Intensity in dimensions W/m^2/Hz in 2D array, file:fluxes2d.npy\n",
    "# Calculating Surface Flux in erg/cm^2/s/å in 2D array, file:luxesSurface2d.npy\n",
    "```"
   ],
   "cell_type": "markdown",
   "metadata": {}
  },
  {
   "cell_type": "code",
   "execution_count": 402,
   "metadata": {},
   "outputs": [
    {
     "output_type": "execute_result",
     "data": {
      "text/plain": [
       "200.0146405395434"
      ]
     },
     "metadata": {},
     "execution_count": 402
    }
   ],
   "source": [
    "data.ray.intensity.wavelength[0].data*10"
   ]
  },
  {
   "cell_type": "code",
   "execution_count": 366,
   "metadata": {
    "tags": []
   },
   "outputs": [],
   "source": [
    "#import scipy.constants\n",
    "from scipy.integrate import quad, dblquad\n",
    "\n",
    "fluxes = []\n",
    "fluxesSurface = []\n",
    "# const for dimension converting\n",
    "const1 = 2.99792458e+21\n",
    "#const1 = scipy.constants.physical_constants[\"speed of light in vacuum\"]*\n",
    "# uncomment for all columns calculation - takes quite some time\n",
    "#for i in range(data.ray.intensity.x.count().data):\n",
    "for i in [0,2,12,22,40]:\n",
    "# for i in [0]:\n",
    "    for ii in range(data.ray.intensity.wavelength.count().data):\n",
    "        flx, err = quad(lambda x: np.sin(x)*np.cos(x)*data.ray.intensity[i,0,ii].data, 0, np.pi/2)\n",
    "\n",
    "# for i in range(data.ray.intensity.x.count().data):\n",
    "# for i in [0,2,12,22,40]:\n",
    "# for i in [12]:\n",
    "#     for ii in range(data.ray.intensity.wavelength.count().data):\n",
    "#         flx, err = dblquad(lambda x, y: np.sin(x)*np.cos(x)*data.ray.intensity[i,0,ii].data, 0, 2*np.pi, lambda x: 0, lambda x: np.pi/2)\n",
    "        fluxes.append(flx * 2.0 * np.pi)\n",
    "        # fluxes.append(flx)\n",
    "        fluxesSurface.append(const1 * flx /(np.power(data.ray.intensity.wavelength[ii].data * 10,2))\n"
   ]
  },
  {
   "cell_type": "code",
   "execution_count": 357,
   "metadata": {},
   "outputs": [
    {
     "output_type": "stream",
     "name": "stdout",
     "text": [
      "(5, 1220) 8.347072626190347e-15\n(5, 1220) 625.5057741554613\n"
     ]
    }
   ],
   "source": [
    "# Write fluxes from 1D to 2D arrays\n",
    "fluxesNP = np.array(fluxes)\n",
    "fluxes2d = fluxesNP.reshape(5,1220)\n",
    "print(fluxes2d.shape, fluxes2d[0,0])\n",
    "c\n",
    "\n",
    "fluxesSurfaceNP = np.array(fluxesSurface)\n",
    "fluxesSurface2d = fluxesSurfaceNP.reshape(5,1220)\n",
    "print(fluxesSurface2d.shape, fluxesSurface2d[0,0])\n",
    "np.save(\"fluxesSurface2d.npy\", fluxesSurface2d)"
   ]
  },
  {
   "cell_type": "code",
   "execution_count": 300,
   "metadata": {},
   "outputs": [
    {
     "output_type": "stream",
     "name": "stdout",
     "text": [
      "(1, 1220) 3.7124042180101342e-09\n(1, 1220) 5674067.694839142\n"
     ]
    }
   ],
   "source": [
    "print(fluxes2d.shape, fluxes2d[0,50])\n",
    "print(fluxesSurface2d.shape, fluxesSurface2d[0,50])\n"
   ]
  },
  {
   "source": [
    "```\n",
    "# Load fluxes from files\n",
    "```"
   ],
   "cell_type": "markdown",
   "metadata": {}
  },
  {
   "cell_type": "code",
   "execution_count": 358,
   "metadata": {},
   "outputs": [
    {
     "output_type": "stream",
     "name": "stdout",
     "text": [
      "(5, 1220)\n(5, 1220)\n"
     ]
    }
   ],
   "source": [
    "FluxesLoaded = np.load(\"fluxes2d.npy\")\n",
    "print(FluxesLoaded.shape)\n",
    "\n",
    "SurfaceFluxesLoaded = np.load(\"fluxesSurface2d.npy\")\n",
    "print(FluxesLoaded.shape)\n"
   ]
  },
  {
   "source": [
    "```\n",
    "# Graph for Flux in particular time columns\n",
    "```"
   ],
   "cell_type": "markdown",
   "metadata": {}
  },
  {
   "cell_type": "code",
   "execution_count": 403,
   "metadata": {},
   "outputs": [
    {
     "output_type": "display_data",
     "data": {
      "text/plain": "Canvas(toolbar=Toolbar(toolitems=[('Home', 'Reset original view', 'home', 'home'), ('Back', 'Back to previous …",
      "application/vnd.jupyter.widget-view+json": {
       "version_major": 2,
       "version_minor": 0,
       "model_id": "2faa892ac729425bbbc1351438134d27"
      }
     },
     "metadata": {}
    }
   ],
   "source": [
    "%matplotlib widget\n",
    "fig, ax=plt.subplots()\n",
    "#np.load(\"Flux.npy\")\n",
    "\n",
    "ax.plot(wave[indices],(FluxesLoaded[0,:]),'k--',label='0 sec')\n",
    "ax.plot(wave[indices],(FluxesLoaded[1,:]),'r-',label='0.2 sec')\n",
    "ax.plot(wave[indices],(FluxesLoaded[2,:]),'b-',label='1.2 sec')\n",
    "ax.plot(wave[indices],(FluxesLoaded[3,:]),'g-',label='2.2 sec')\n",
    "ax.plot(wave[indices],(FluxesLoaded[4,:]),'k-',label='4.0 sec')\n",
    "\n",
    "\n",
    "ax.legend()\n",
    "plt.xlabel(\"Wavelenght nm\")\n",
    "plt.ylabel(\"Flux, W/(m2 Hz)\")\n",
    "#plt.axis([0, 4000, 0, 1.5e-6])\n",
    "\n",
    "plt.savefig(\"flux_.svg\", format=\"svg\")\n"
   ]
  },
  {
   "cell_type": "code",
   "execution_count": 387,
   "metadata": {},
   "outputs": [
    {
     "output_type": "stream",
     "name": "stdout",
     "text": [
      "--- Read /Users/elka127/Documents/code/rh/rh15d/run/output/output_aux.hdf5 file.\n--- Read /Users/elka127/Documents/code/rh/rh15d/run/output/output_indata.hdf5 file.\n--- Read /Users/elka127/Documents/code/rh/rh15d/run/output/output_ray.hdf5 file.\n[   0    1    2 ... 1217 1218 1219]\n"
     ]
    }
   ],
   "source": [
    "# print(data.ray.intensity[0,0,0])\n",
    "# print(data.ray.intensity[0,0,1219])\n",
    "data = rh15d.Rh15dout(rhRepoPath / \"rh15d/run/output\")\n",
    "#data.ray.wavelength\n",
    "waveAngs = data.ray.wavelength*10\n",
    "#waveAngs\n",
    "indicesAngs = np.arange(len(waveAngs))[(waveAngs > 200) & (waveAngs < 40000)]\n",
    "print(indicesAngs)\n"
   ]
  },
  {
   "cell_type": "code",
   "execution_count": 412,
   "metadata": {},
   "outputs": [
    {
     "output_type": "display_data",
     "data": {
      "text/plain": "Canvas(toolbar=Toolbar(toolitems=[('Home', 'Reset original view', 'home', 'home'), ('Back', 'Back to previous …",
      "application/vnd.jupyter.widget-view+json": {
       "version_major": 2,
       "version_minor": 0,
       "model_id": "dd9ac020b7234656a783af58cbaabb85"
      }
     },
     "metadata": {}
    }
   ],
   "source": [
    "%matplotlib widget\n",
    "fig, ax=plt.subplots()\n",
    "#np.load(\"Flux.npy\")\n",
    "\n",
    "\n",
    "ax.plot(waveAngs[indicesAngs],(SurfaceFluxesLoaded[0,:]),'k--',label='0 sec')\n",
    "ax.plot(waveAngs[indicesAngs],(SurfaceFluxesLoaded[1,:]),'r-',label='0.2 sec')\n",
    "ax.plot(waveAngs[indicesAngs],(SurfaceFluxesLoaded[2,:]),'b-.',label='1.2 sec')\n",
    "ax.plot(waveAngs[indicesAngs],(SurfaceFluxesLoaded[3,:]),'g-',label='2.2 sec')\n",
    "ax.plot(waveAngs[indicesAngs],(SurfaceFluxesLoaded[4,:]),'k-',label='4.0 sec')\n",
    "\n",
    "\n",
    "ax.legend()\n",
    "plt.xlabel(\"Wavelenght, Å\")\n",
    "plt.ylabel(\"Flux, erg/cm^2/s/Å\")\n",
    "#plt.axis([2000, 10000, 0, 1e8])\n",
    "plt.axis([0, 2000, 0, 3.5e8])\n",
    "\n",
    "plt.savefig(\"flux_.svg\", format=\"svg\")\n"
   ]
  },
  {
   "cell_type": "code",
   "execution_count": 395,
   "metadata": {},
   "outputs": [
    {
     "output_type": "stream",
     "name": "stdout",
     "text": [
      "2308459887.9282146\n"
     ]
    }
   ],
   "source": [
    "import scipy.integrate as scp\n",
    "#print(data.ray.intensity.wavelength[1219].data)\n",
    "#for i in range()\n",
    "#indicesAngs = indices*10\n",
    "# wave1[angstrem] = wave[indices*10]\n",
    "#print(indices[2],indicesAngs[2])\n",
    "fluxesSum = scp.trapz(SurfaceFluxesLoaded[0,:], x=waveAngs[indicesAngs], dx=1.0, axis=-1)\n",
    "print(fluxesSum)"
   ]
  },
  {
   "cell_type": "code",
   "execution_count": 398,
   "metadata": {},
   "outputs": [
    {
     "output_type": "stream",
     "name": "stdout",
     "text": [
      "2525.073869429309\n"
     ]
    }
   ],
   "source": [
    "sigma = 5.6784e-8\n",
    "Teff = np.power(fluxesSum*1e-3/sigma, 1/4)\n",
    "print(Teff)"
   ]
  },
  {
   "source": [
    "# Writing ray.input file\n",
    "```\n",
    "# Selecting wavelengths for detailed output\n",
    "# Choosing all wavelenghts range\n",
    "# Ray input includes all indexes\n",
    "```"
   ],
   "cell_type": "markdown",
   "metadata": {}
  },
  {
   "cell_type": "code",
   "execution_count": 912,
   "metadata": {
    "tags": []
   },
   "outputs": [
    {
     "output_type": "stream",
     "name": "stdout",
     "text": [
      "--- Read /Users/elka127/Documents/code/rh/rh15d/run/output/output_aux.hdf5 file.\n--- Read /Users/elka127/Documents/code/rh/rh15d/run/output/output_indata.hdf5 file.\n--- Read /Users/elka127/Documents/code/rh/rh15d/run/output/output_ray.hdf5 file.\n"
     ]
    }
   ],
   "source": [
    "data = rh15d.Rh15dout(rhRepoPath / \"rh15d/run/output\")\n",
    "#print(data.ray.wavelength)\n",
    "indices = np.arange(len(data.ray.wavelength))\n",
    "#print(indices)\n",
    "\n",
    "f = open(rhRepoPath / \"rh15d/run/ray.input\", \"w\")  # this will overwrite any existing file!\n",
    "f.write('1.00\\n')\n",
    "output = str(len(indices) + 1)\n",
    "ololo = 0\n",
    "for ind in indices:\n",
    "    # if ololo < 5:\n",
    "    #     print(ind)\n",
    "    # ololo += 1\n",
    "    output += f\" {ind}\"\n",
    "#output += ' %i\\n' % index500 \n",
    "f.write(output)\n",
    "f.close()\n",
    "\n",
    "#wave = data.ray.wavelength\n",
    "# indicesAll = np.arange(len(data.ray.wavelength))\n",
    "# indicesInRange = indicesAll[(wave > 20.0) & (wave < 4000.0)]\n",
    "\n",
    "#indicesInRange = indicesAll[(wave > 20.0) & (wave < 4000.0)]\n",
    "\n",
    "\n",
    "# ws1 = wave.sel(wavelength=669, method=\"nearest\")\n",
    "# ws2 = wave.sel(wavelength=500, method=\"nearest\")\n",
    "# ws3 = wave.sel(wavelength=100, method=\"nearest\")\n",
    "# ws4 = wave.sel(wavelength=0, method=\"nearest\")\n",
    "#print(ws1, ws2, ws3, ws4)\n",
    "\n",
    "# for i in indices:\n",
    "#     index f\" {i}\" = += f\" {ind}\"\n",
    "#     output += f\" {index669}\\n\"\n",
    "# index669 = np.argmin(np.abs(wave.data - 669))\n",
    "# #If we want to see also one particular wavelength (500 in example)\n",
    "# index355 = np.argmin(np.abs(wave.data - 355))\n",
    "# index430 = np.argmin(np.abs(wave.data - 430))\n",
    "\n",
    "# print(data.ray.wavelength)\n",
    "# print(\"-\")\n",
    "# print(data.ray.wavelength_selected)\n",
    "# print(\n",
    "#     np.argmin(np.abs(data.ray.wavelength.data - 690))\n",
    "# )\n",
    "\n",
    "#print(\"---\")\n",
    "\n",
    "# print(\n",
    "#     np.argmin(np.abs(wave.data - 390)),\n",
    "#     np.argmin(np.abs(wave.data - 395)),\n",
    "#     np.argmin(np.abs(wave.data - 400))\n",
    "# )\n",
    "# x = wave.data - 400\n",
    "# ii = 0\n",
    "# for i in x:\n",
    "#     if i < 50:\n",
    "#         print(f\"{ii}: {np.abs(i)}\")\n",
    "#     ii += 1\n",
    "\n",
    "#indexesOfWavelengthsRange = {}\n",
    "#indexesOfWavelengthsRange = []\n",
    "# for i in range(20,4000,5):\n",
    "#     #indexesOfWavelengthsRange[i] = np.argmin(np.abs(data.ray.wavelength.data - i))\n",
    "#     indexesOfWavelengthsRange.append(\n",
    "#         np.argmin(np.abs(data.ray.wavelength.data - i))\n",
    "#     )\n",
    "# for d in indexesOfWavelengthsRange:\n",
    "#     print(f\"{d}: {indexesOfWavelengthsRange[d]}\")\n",
    "#print(len(indexesOfWavelengthsRange))\n",
    "\n",
    "# for i in range(len(data.ray.wavelength)):\n",
    "#     indexesOfWavelengthsRange.append(\n",
    "#         np.argmin(np.abs(data.ray.wavelength.data - i))\n",
    "#     )\n",
    "\n",
    "# with open(rhRepoPath / \"rh15d/run/ray.input\", \"w\") as f:\n",
    "#     f.write(\"1.00\\n\")\n",
    "#     output = str(len(indexesOfWavelengthsRange))# + 1)\n",
    "#     for i in indexesOfWavelengthsRange:\n",
    "#         output += f\" {i}\"\n",
    "#     f.write(output)\n"
   ]
  },
  {
   "source": [
    "```\n",
    "#Need to run RH15D again with a new ray.input file "
   ],
   "cell_type": "markdown",
   "metadata": {}
  },
  {
   "source": [
    "# Calculating Flux from Intensity(mu)"
   ],
   "cell_type": "markdown",
   "metadata": {}
  },
  {
   "source": [
    "```\n",
    "# reading new output\n",
    "# writing all tau (time) in one array\n",
    "```"
   ],
   "cell_type": "markdown",
   "metadata": {}
  },
  {
   "cell_type": "code",
   "execution_count": 1040,
   "metadata": {},
   "outputs": [
    {
     "output_type": "stream",
     "name": "stdout",
     "text": [
      "1644\n(52, 1, 249)\n"
     ]
    }
   ],
   "source": [
    "# data = rh15d.Rh15dout(rhRepoPath / \"rh15d/run/output\")\n",
    "\n",
    "# print(data.ray.wavelength_indices)\n",
    "# print(data.ray.source_function.shape)\n",
    "# print(data.ray.chi.shape)\n",
    "#print(data.ray.wavelength - data.ray.wavelength[0])\n",
    "# print(data.ray.wavelength[indices])\n",
    "\n",
    "indices = np.arange(len(data.ray.wavelength))\n",
    "print(len(indices))\n",
    "print(data.atmos.height_scale.shape)"
   ]
  },
  {
   "cell_type": "code",
   "execution_count": 1041,
   "metadata": {
    "tags": []
   },
   "outputs": [
    {
     "output_type": "stream",
     "name": "stderr",
     "text": [
      "/Users/elka127/Documents/code/helita/helita/sim/rh15d.py:40: FutureWarning: The autoclose argument is no longer used by xarray.open_dataset() and is now ignored; it will be removed in a future version of xarray. If necessary, you can control the maximum number of simultaneous open files with xarray.set_options(file_cache_maxsize=...).\n",
      "  setattr(self, g, xr.open_dataset(infile, group=g, autoclose=True))\n",
      "/Users/elka127/Documents/code/helita/helita/sim/rh15d.py:53: FutureWarning: The autoclose argument is no longer used by xarray.open_dataset() and is now ignored; it will be removed in a future version of xarray. If necessary, you can control the maximum number of simultaneous open files with xarray.set_options(file_cache_maxsize=...).\n",
      "  self.ray = xr.open_dataset(infile, autoclose=True)\n",
      "--- Read /Users/elka127/Documents/code/rh/rh15d/run/output/output_aux.hdf5 file.\n",
      "--- Read /Users/elka127/Documents/code/rh/rh15d/run/output/output_indata.hdf5 file.\n",
      "--- Read /Users/elka127/Documents/code/rh/rh15d/run/output/output_ray.hdf5 file.\n"
     ]
    }
   ],
   "source": [
    "data = rh15d.Rh15dout(rhRepoPath / \"rh15d/run/output\")\n",
    "indices = np.arange(len(data.ray.wavelength))\n",
    "\n",
    "\n",
    "# first column\n",
    "height = data.atmos.height_scale[2, 0].dropna('height')  \n",
    " \n",
    "index = []\n",
    "for i in indices:\n",
    "    idx = np.argmin(np.abs(data.ray.wavelength.data - data.ray.wavelength[i].data))\n",
    "    index.append(idx)\n",
    "# тут будет 796 одномерных массивов с тау\n",
    "massivTau = []\n",
    "for i in indices:\n",
    "    x = cumtrapz(data.ray.chi[2, 0, :, i].dropna('height'), x=-height)\n",
    "    x = np.concatenate([[1e-20], x])\n",
    "    massivTau.append(x)"
   ]
  },
  {
   "cell_type": "code",
   "execution_count": 1042,
   "metadata": {},
   "outputs": [
    {
     "output_type": "stream",
     "name": "stdout",
     "text": [
      "0\n1644\n---\n[1.00000000e-20 5.40741041e-07 1.08720474e-06 1.64007497e-06\n 2.19956610e-06 2.76600099e-06 3.33975004e-06 3.92122593e-06\n 4.51088363e-06 5.10922109e-06 5.71678538e-06 6.33417494e-06\n 6.96204461e-06 7.60111288e-06 8.25216830e-06 8.91607488e-06\n 9.59377212e-06 1.02862823e-05 1.09946996e-05 1.17201726e-05\n 1.24638655e-05 1.32268833e-05 1.40101620e-05 1.48142826e-05\n 1.56391779e-05 1.64836165e-05 1.73443914e-05 1.82152762e-05\n 1.90861119e-05 1.99426995e-05 2.07681314e-05 2.15453620e-05\n 2.22594881e-05 2.28980280e-05 2.34502859e-05 2.39096062e-05\n 2.42786755e-05 2.45740721e-05 2.48314445e-05 2.51028578e-05\n 2.54216047e-05 2.57717857e-05 2.61063433e-05 2.63930306e-05\n 2.66410552e-05 2.68784534e-05 2.71132012e-05 2.73335463e-05\n 2.75305047e-05 2.77034469e-05 2.78535827e-05 2.79818269e-05\n 2.80902204e-05 2.81815501e-05 2.82586570e-05 2.83243353e-05\n 2.83812460e-05 2.84318921e-05 2.84783273e-05 2.85220303e-05\n 2.85639017e-05 2.86046106e-05 2.86483901e-05 2.87333096e-05\n 2.89266900e-05 2.92758996e-05 2.98449922e-05 3.07810842e-05\n 3.23397653e-05 3.49556321e-05 3.93856280e-05 4.69743973e-05\n 6.01749016e-05 8.36119652e-05 1.26398780e-04 2.07280071e-04\n 3.65429412e-04 6.78310287e-04 1.27660844e-03 2.32650060e-03\n 3.95765947e-03 6.15482265e-03 8.71133339e-03 1.13204466e-02\n 1.37163764e-02 1.57500971e-02 1.73825473e-02 1.86456665e-02\n 1.95987877e-02 2.03079302e-02 2.08297521e-02 2.12114472e-02\n 2.14899424e-02 2.16922648e-02 2.18393225e-02 2.19454225e-02\n 2.20228881e-02 2.20779907e-02 2.21053120e-02 2.21107434e-02\n 2.21107695e-02 2.21107863e-02 2.21108012e-02 2.21108142e-02\n 2.21108273e-02 2.21108403e-02 2.21108533e-02 2.21108664e-02\n 2.21108813e-02 2.21108962e-02 2.21109129e-02 2.21109297e-02\n 2.21109483e-02 2.21109670e-02 2.21109856e-02 2.21110061e-02\n 2.21110284e-02 2.21110526e-02 2.21110769e-02 2.21111029e-02\n 2.21111309e-02 2.21111625e-02 2.21111961e-02 2.21112333e-02\n 2.21112762e-02 2.21113246e-02 2.21113805e-02 2.21114475e-02\n 2.21115276e-02 2.21116245e-02 2.21117437e-02 2.21118908e-02\n 2.21120734e-02 2.21122988e-02 2.21125763e-02 2.21129190e-02\n 2.21133437e-02 2.21138690e-02 2.21145209e-02 2.21153330e-02\n 2.21163426e-02 2.21175998e-02 2.21191477e-02 2.21209992e-02\n 2.21231282e-02 2.21254174e-02 2.21276395e-02 2.21296065e-02\n 2.21312456e-02 2.21325736e-02 2.21336391e-02 2.21344903e-02\n 2.21351720e-02 2.21357178e-02 2.21361555e-02 2.21365076e-02\n 2.21367907e-02 2.21370198e-02 2.21372042e-02 2.21373532e-02\n 2.21374743e-02 2.21375711e-02 2.21376512e-02 2.21377164e-02\n 2.21377723e-02 2.21378207e-02 2.21378636e-02 2.21379008e-02\n 2.21379362e-02 2.21379679e-02 2.21379977e-02 2.21380256e-02\n 2.21380517e-02 2.21380759e-02 2.21380983e-02 2.21381206e-02\n 2.21381411e-02 2.21381616e-02 2.21381802e-02 2.21381970e-02\n 2.21382137e-02 2.21382286e-02 2.21382435e-02 2.21382584e-02\n 2.21382715e-02 2.21382845e-02 2.21382976e-02 2.21383106e-02\n 2.21383255e-02 2.21383423e-02 2.21387632e-02 2.21435223e-02\n 2.21552569e-02 2.21719611e-02 2.21946388e-02 2.22250056e-02\n 2.22660862e-02 2.23215912e-02 2.23963708e-02 2.24975385e-02\n 2.26343460e-02 2.28193756e-02 2.30700113e-02 2.34094691e-02\n 2.38679331e-02 2.44853757e-02 2.53108684e-02 2.64022034e-02\n 2.78187227e-02 2.96086855e-02 3.17864940e-02 3.43072414e-02\n 3.70552987e-02 3.98639590e-02 4.25671935e-02 4.50533442e-02\n 4.72828001e-02 4.92746420e-02 5.10834232e-02 5.27896583e-02\n 5.45110181e-02 5.64420968e-02 5.89912646e-02 6.33345917e-02\n 7.40547776e-02 1.18102804e-01 4.49627936e-01 3.96918583e+00\n 1.72047195e+01 4.37648048e+01 8.78743286e+01 1.82528946e+02\n 3.80127869e+02 7.65550781e+02 1.53140991e+03 3.09653589e+03\n 6.47459180e+03 1.40155488e+04 2.67754492e+04 4.48299727e+04\n 7.29357422e+04 1.19215109e+05 1.95530828e+05 3.17746062e+05\n 4.83662562e+05 6.58467438e+05 8.05674000e+05 9.16503062e+05\n 9.97168438e+05]\n1644\n"
     ]
    }
   ],
   "source": [
    "print(index[0])\n",
    "print(len(index))\n",
    "print(\"---\")\n",
    "print(massivTau[0])\n",
    "print(len(massivTau))\n"
   ]
  },
  {
   "cell_type": "code",
   "execution_count": 1043,
   "metadata": {},
   "outputs": [
    {
     "output_type": "stream",
     "name": "stdout",
     "text": [
      "(52, 1, 249, 1644)\n1644\n[1.00000000e-20 5.40741041e-07 1.08720474e-06 1.64007497e-06\n 2.19956610e-06 2.76600099e-06 3.33975004e-06 3.92122593e-06\n 4.51088363e-06 5.10922109e-06 5.71678538e-06 6.33417494e-06\n 6.96204461e-06 7.60111288e-06 8.25216830e-06 8.91607488e-06\n 9.59377212e-06 1.02862823e-05 1.09946996e-05 1.17201726e-05\n 1.24638655e-05 1.32268833e-05 1.40101620e-05 1.48142826e-05\n 1.56391779e-05 1.64836165e-05 1.73443914e-05 1.82152762e-05\n 1.90861119e-05 1.99426995e-05 2.07681314e-05 2.15453620e-05\n 2.22594881e-05 2.28980280e-05 2.34502859e-05 2.39096062e-05\n 2.42786755e-05 2.45740721e-05 2.48314445e-05 2.51028578e-05\n 2.54216047e-05 2.57717857e-05 2.61063433e-05 2.63930306e-05\n 2.66410552e-05 2.68784534e-05 2.71132012e-05 2.73335463e-05\n 2.75305047e-05 2.77034469e-05 2.78535827e-05 2.79818269e-05\n 2.80902204e-05 2.81815501e-05 2.82586570e-05 2.83243353e-05\n 2.83812460e-05 2.84318921e-05 2.84783273e-05 2.85220303e-05\n 2.85639017e-05 2.86046106e-05 2.86483901e-05 2.87333096e-05\n 2.89266900e-05 2.92758996e-05 2.98449922e-05 3.07810842e-05\n 3.23397653e-05 3.49556321e-05 3.93856280e-05 4.69743973e-05\n 6.01749016e-05 8.36119652e-05 1.26398780e-04 2.07280071e-04\n 3.65429412e-04 6.78310287e-04 1.27660844e-03 2.32650060e-03\n 3.95765947e-03 6.15482265e-03 8.71133339e-03 1.13204466e-02\n 1.37163764e-02 1.57500971e-02 1.73825473e-02 1.86456665e-02\n 1.95987877e-02 2.03079302e-02 2.08297521e-02 2.12114472e-02\n 2.14899424e-02 2.16922648e-02 2.18393225e-02 2.19454225e-02\n 2.20228881e-02 2.20779907e-02 2.21053120e-02 2.21107434e-02\n 2.21107695e-02 2.21107863e-02 2.21108012e-02 2.21108142e-02\n 2.21108273e-02 2.21108403e-02 2.21108533e-02 2.21108664e-02\n 2.21108813e-02 2.21108962e-02 2.21109129e-02 2.21109297e-02\n 2.21109483e-02 2.21109670e-02 2.21109856e-02 2.21110061e-02\n 2.21110284e-02 2.21110526e-02 2.21110769e-02 2.21111029e-02\n 2.21111309e-02 2.21111625e-02 2.21111961e-02 2.21112333e-02\n 2.21112762e-02 2.21113246e-02 2.21113805e-02 2.21114475e-02\n 2.21115276e-02 2.21116245e-02 2.21117437e-02 2.21118908e-02\n 2.21120734e-02 2.21122988e-02 2.21125763e-02 2.21129190e-02\n 2.21133437e-02 2.21138690e-02 2.21145209e-02 2.21153330e-02\n 2.21163426e-02 2.21175998e-02 2.21191477e-02 2.21209992e-02\n 2.21231282e-02 2.21254174e-02 2.21276395e-02 2.21296065e-02\n 2.21312456e-02 2.21325736e-02 2.21336391e-02 2.21344903e-02\n 2.21351720e-02 2.21357178e-02 2.21361555e-02 2.21365076e-02\n 2.21367907e-02 2.21370198e-02 2.21372042e-02 2.21373532e-02\n 2.21374743e-02 2.21375711e-02 2.21376512e-02 2.21377164e-02\n 2.21377723e-02 2.21378207e-02 2.21378636e-02 2.21379008e-02\n 2.21379362e-02 2.21379679e-02 2.21379977e-02 2.21380256e-02\n 2.21380517e-02 2.21380759e-02 2.21380983e-02 2.21381206e-02\n 2.21381411e-02 2.21381616e-02 2.21381802e-02 2.21381970e-02\n 2.21382137e-02 2.21382286e-02 2.21382435e-02 2.21382584e-02\n 2.21382715e-02 2.21382845e-02 2.21382976e-02 2.21383106e-02\n 2.21383255e-02 2.21383423e-02 2.21387632e-02 2.21435223e-02\n 2.21552569e-02 2.21719611e-02 2.21946388e-02 2.22250056e-02\n 2.22660862e-02 2.23215912e-02 2.23963708e-02 2.24975385e-02\n 2.26343460e-02 2.28193756e-02 2.30700113e-02 2.34094691e-02\n 2.38679331e-02 2.44853757e-02 2.53108684e-02 2.64022034e-02\n 2.78187227e-02 2.96086855e-02 3.17864940e-02 3.43072414e-02\n 3.70552987e-02 3.98639590e-02 4.25671935e-02 4.50533442e-02\n 4.72828001e-02 4.92746420e-02 5.10834232e-02 5.27896583e-02\n 5.45110181e-02 5.64420968e-02 5.89912646e-02 6.33345917e-02\n 7.40547776e-02 1.18102804e-01 4.49627936e-01 3.96918583e+00\n 1.72047195e+01 4.37648048e+01 8.78743286e+01 1.82528946e+02\n 3.80127869e+02 7.65550781e+02 1.53140991e+03 3.09653589e+03\n 6.47459180e+03 1.40155488e+04 2.67754492e+04 4.48299727e+04\n 7.29357422e+04 1.19215109e+05 1.95530828e+05 3.17746062e+05\n 4.83662562e+05 6.58467438e+05 8.05674000e+05 9.16503062e+05\n 9.97168438e+05]\n"
     ]
    }
   ],
   "source": [
    "print(data.ray.source_function.shape)\n",
    "# print(data.ray.source_function[0,0,0,1])\n",
    "print(len(massivTau))\n",
    "# print(data.ray.source_function[0,0,0,1219])\n",
    "x = massivTau[0]\n",
    "print(x[:])\n"
   ]
  },
  {
   "source": [
    "```\n",
    "# calculating I(\\mu) for 5 \\mu\n",
    "```"
   ],
   "cell_type": "markdown",
   "metadata": {}
  },
  {
   "cell_type": "code",
   "execution_count": 1049,
   "metadata": {
    "tags": []
   },
   "outputs": [
    {
     "output_type": "stream",
     "name": "stdout",
     "text": [
      "Всего элементоу: 1644\nПерший элемент: 7.309110182909809e-09\nВторой элемент: 2.727001889495525e-11\nПоследний элемент: 3.9380823509714795e-08\n"
     ]
    }
   ],
   "source": [
    "from scipy import integrate\n",
    "\n",
    "sourceFunction = data.ray.source_function\n",
    "\n",
    "mu = [0.0469101,0.230765,0.500000,0.769235,0.953090]\n",
    "weightMu = [0.118463,0.239314,0.284444,0.239314,0.118463]\n",
    "\n",
    "intensityMu =[]\n",
    "# x =\n",
    "# y =\n",
    "\n",
    "# --- интрегал\n",
    "# 796 длин волн\n",
    "for y in indices:\n",
    "#     # 249 штук тау\n",
    "   \n",
    "    tmpMu = 0\n",
    "    #for i in range(len(massivTau[y])):\n",
    "    x = massivTau[y]\n",
    "        #xx = np.arange(len(massivTau[y]))\n",
    "        # tmpMu = integrate.simps(sourceFunction[0,0,i,y].data * np.exp(- x/mu[0]), x, even='avg')\n",
    "        #tmpMu = integrate.simps(sourceFunction[0,0,i,y].data * np.exp(- x/mu[0]), x, even='avg')\n",
    "    tmpMu = integrate.trapz(sourceFunction[2,0,:,y].data * np.exp(-x[:]/mu[1]), x)\n",
    "        # tmpMu += sourceFunction[0,0,i249,i1644].data * np.exp(-massivTau[i1644][i249]/mu[0]) * (massivTau[i1644+1]-massivTau[i1644])\n",
    "    intensityMu.append(1/mu[1] * tmpMu)\n",
    "\n",
    "\n",
    "\n",
    "print(f\"Всего элементоу: {len(intensityMu)}\")\n",
    "print(f\"Перший элемент: {intensityMu[0]}\")\n",
    "print(f\"Второй элемент: {intensityMu[1]}\")\n",
    "print(f\"Последний элемент: {intensityMu[1643]}\")\n",
    "\n",
    "# ---\n",
    "\n",
    "# fig, ax = plt.subplots()\n",
    "\n",
    "# ax.plot(data.atmos.height_scale[2,0]/1e6,sourceFunction[2,0,:,0],label='0.2 sec')\n",
    "#ax.plot(np.log10(massivTau[792]),sourceFunction[22,0,:,0],label='0.2 sec')\n"
   ]
  },
  {
   "cell_type": "code",
   "execution_count": 1050,
   "metadata": {},
   "outputs": [],
   "source": [
    "np.save(\"intensityMu-2.npy\", intensityMu)"
   ]
  },
  {
   "cell_type": "code",
   "execution_count": 1051,
   "metadata": {},
   "outputs": [
    {
     "output_type": "execute_result",
     "data": {
      "text/plain": [
       "[<matplotlib.lines.Line2D at 0x140f2de50>]"
      ]
     },
     "metadata": {},
     "execution_count": 1051
    }
   ],
   "source": [
    "%matplotlib widget\n",
    "\n",
    "wave = data.ray.wavelength\n",
    "\n",
    "ImuLoaded1 = np.load(\"IntensityMu-1.npy\")\n",
    "ImuLoaded2 = np.load(\"IntensityMu-2.npy\")\n",
    "# ImuLoaded3 = np.load(\"IntensityMu-3.npy\")\n",
    "# ImuLoaded4 = np.load(\"IntensityMu-4.npy\")\n",
    "# ImuLoaded5 = np.load(\"IntensityMu-5.npy\")\n",
    "# # print(ImuLoaded1.shape)\n",
    "# fig, ax=plt.subplots()\n",
    "# #np.load(\"Flux.npy\")\n",
    "\n",
    "\n",
    "\n",
    "\n",
    "ax.plot(wave[indices], ImuLoaded1)\n",
    "ax.plot(wave[indices], ImuLoaded2)\n",
    "# ax.plot(wave[indices], ImuLoaded3)\n",
    "# ax.plot(wave[indices], ImuLoaded4)\n",
    "# ax.plot(wave[indices], ImuLoaded5)"
   ]
  },
  {
   "cell_type": "code",
   "execution_count": 1021,
   "metadata": {
    "tags": []
   },
   "outputs": [
    {
     "output_type": "stream",
     "name": "stdout",
     "text": [
      "5\n1644\n"
     ]
    }
   ],
   "source": [
    "fluxesImu =[]\n",
    "weightMu = [0.118463,0.239314,0.284444,0.239314,0.118463]\n",
    "\n",
    "# ImuLoaded1 = np.load(\"IntensityMu-1.npy\")\n",
    "# ImuLoaded2 = np.load(\"IntensityMu-2.npy\")\n",
    "# ImuLoaded3 = np.load(\"IntensityMu-3.npy\")\n",
    "# ImuLoaded4 = np.load(\"IntensityMu-4.npy\")\n",
    "# ImuLoaded5 = np.load(\"IntensityMu-5.npy\")\n",
    "Imuloaded = []\n",
    "Imuloaded.append(ImuLoaded1)\n",
    "Imuloaded.append(ImuLoaded2)\n",
    "Imuloaded.append(ImuLoaded3)\n",
    "Imuloaded.append(ImuLoaded4)\n",
    "Imuloaded.append(ImuLoaded5)\n",
    "print(len(Imuloaded))\n",
    "for i in indices:\n",
    "    imu = 0\n",
    "    for i5 in range(len(weightMu)):\n",
    "        imu += Imuloaded[i5][i]*weightMu[i5]\n",
    "    fluxesImu.append(imu)\n",
    "print(len(fluxesImu))\n"
   ]
  },
  {
   "cell_type": "code",
   "execution_count": 1027,
   "metadata": {},
   "outputs": [],
   "source": [
    "np.save(\"fluxesImu0.npy\", fluxesImu)"
   ]
  },
  {
   "cell_type": "code",
   "execution_count": 1020,
   "metadata": {},
   "outputs": [
    {
     "output_type": "display_data",
     "data": {
      "text/plain": "Canvas(toolbar=Toolbar(toolitems=[('Home', 'Reset original view', 'home', 'home'), ('Back', 'Back to previous …",
      "application/vnd.jupyter.widget-view+json": {
       "version_major": 2,
       "version_minor": 0,
       "model_id": "fc2b29d064be41699ddfb8766ae1fb3f"
      }
     },
     "metadata": {}
    },
    {
     "output_type": "execute_result",
     "data": {
      "text/plain": [
       "Text(0, 0.5, 'Flux, W/cm^2')"
      ]
     },
     "metadata": {},
     "execution_count": 1020
    }
   ],
   "source": [
    "%matplotlib widget\n",
    "\n",
    "fluxesImu = np.load(\"IntensityMu-1.npy\")\n",
    "fig, ax=plt.subplots()\n",
    "#np.load(\"Flux.npy\")\n",
    "\n",
    "wave = data.ray.wavelength\n",
    "\n",
    "ax.plot(wave[indices], fluxesImu)\n",
    "# ax.plot(wave[indices], ImuLoaded5)\n",
    "plt.xlabel(\"Wavelenght, nm\")\n",
    "plt.ylabel(\"Flux, W/cm^2\")\n",
    "#plt.axis([2000, 10000, 0, 1e8])\n",
    "#plt.axis([200, 1000,0, 4e-5])\n"
   ]
  },
  {
   "cell_type": "code",
   "execution_count": 1022,
   "metadata": {},
   "outputs": [],
   "source": [
    "const1 = 2.99792458e+21\n",
    "\n",
    "fluxesSurfaceMu = []\n",
    "# fluxesSurfaceMu.append(const1 * fluxesImu[0] /(np.power(wave[0] * 10,2)))\n",
    "# print(fluxesSurfaceMu)\n",
    "for i in indices:\n",
    "    fluxesSurfaceMu.append(const1 * fluxesImu[i] /(np.power(wave[i] * 10,2)))\n"
   ]
  },
  {
   "cell_type": "code",
   "execution_count": 1028,
   "metadata": {},
   "outputs": [
    {
     "output_type": "stream",
     "name": "stdout",
     "text": [
      "355650643.033041\n"
     ]
    }
   ],
   "source": [
    "import scipy.integrate as scp\n",
    "#print(data.ray.intensity.wavelength[1219].data)\n",
    "#for i in range()\n",
    "#indicesAngs = indices*10\n",
    "# wave1[angstrem] = wave[indices*10]\n",
    "#print(indices[2],indicesAngs[2])\n",
    "fluxesSum = scp.trapz(fluxesSurfaceMu[:], x=wave[indices])\n",
    "print(fluxesSum)"
   ]
  },
  {
   "cell_type": "code",
   "execution_count": 1029,
   "metadata": {},
   "outputs": [
    {
     "output_type": "stream",
     "name": "stdout",
     "text": [
      "1581.9742278250149\n"
     ]
    }
   ],
   "source": [
    "sigma = 5.6784e-8\n",
    "Teff = np.power(fluxesSum*1e-3/sigma, 1/4)\n",
    "print(Teff)"
   ]
  },
  {
   "cell_type": "code",
   "execution_count": 1026,
   "metadata": {},
   "outputs": [
    {
     "output_type": "display_data",
     "data": {
      "text/plain": "Canvas(toolbar=Toolbar(toolitems=[('Home', 'Reset original view', 'home', 'home'), ('Back', 'Back to previous …",
      "application/vnd.jupyter.widget-view+json": {
       "version_major": 2,
       "version_minor": 0,
       "model_id": "1aee71d16bd047418e6f6df04b828e5e"
      }
     },
     "metadata": {}
    },
    {
     "output_type": "execute_result",
     "data": {
      "text/plain": [
       "(0.0, 10000000.0)"
      ]
     },
     "metadata": {},
     "execution_count": 1026
    }
   ],
   "source": [
    "fig, ax=plt.subplots()\n",
    "\n",
    "ax.plot(wave[indices], fluxesSurfaceMu)\n",
    "plt.xlabel(\"Wavelenght (nm)\")\n",
    "plt.ylabel(\"Flux\")\n",
    "plt.xlim(200,1000)\n",
    "plt.ylim(0,1e7)\n"
   ]
  },
  {
   "source": [
    "```\n",
    "#To make a plot for intensity at a fixed wavelength\n",
    "```"
   ],
   "cell_type": "markdown",
   "metadata": {}
  },
  {
   "cell_type": "code",
   "execution_count": null,
   "metadata": {},
   "outputs": [],
   "source": [
    "%matplotlib widget\n",
    "data.ray.intensity.sel(wavelength=500, method='nearest').plot()"
   ]
  },
  {
   "source": [
    "# Tau=1 for wavelenght"
   ],
   "cell_type": "markdown",
   "metadata": {}
  },
  {
   "cell_type": "code",
   "execution_count": 547,
   "metadata": {},
   "outputs": [
    {
     "output_type": "display_data",
     "data": {
      "text/plain": "Canvas(toolbar=Toolbar(toolitems=[('Home', 'Reset original view', 'home', 'home'), ('Back', 'Back to previous …",
      "application/vnd.jupyter.widget-view+json": {
       "version_major": 2,
       "version_minor": 0,
       "model_id": "921440a98bcf4f0e9cc532d587283da8"
      }
     },
     "metadata": {}
    }
   ],
   "source": [
    "%matplotlib widget\n",
    "\n",
    "#data = rh15d.Rh15dout(rhRepoPath / \"rh15d/run/output\")\n",
    "\n",
    "\n",
    "fig, ax = plt.subplots()\n",
    "ax.plot(height / 1e6, massivTau[20])  # height in Mm\n",
    "\n",
    "plt.ylabel(r'$\\tau$$_{20}$')\n",
    "plt.xlabel('H (Mm)')\n",
    "\n",
    "ax.set_yscale('log')\n",
    "ax.axhline(y=1,linestyle='dashed',color='black')\n",
    "#ax.axvline(x=0.5,linestyle='dashed',color='black')\n",
    "plt.savefig(\"tau360_.svg\", format=\"svg\")\n"
   ]
  },
  {
   "source": [
    "# Plot the departure coefficients for the levels of Ca II\n",
    "\n"
   ],
   "cell_type": "markdown",
   "metadata": {}
  },
  {
   "cell_type": "code",
   "execution_count": 475,
   "metadata": {},
   "outputs": [
    {
     "output_type": "stream",
     "name": "stdout",
     "text": [
      "--- Read /Users/elka127/Documents/code/rh/rh15d/run/output/output_aux.hdf5 file.\n",
      "--- Read /Users/elka127/Documents/code/rh/rh15d/run/output/output_indata.hdf5 file.\n",
      "--- Read /Users/elka127/Documents/code/rh/rh15d/run/output/output_ray.hdf5 file.\n",
      "/Users/elka127/Documents/code/helita/helita/sim/rh15d.py:40: FutureWarning: The autoclose argument is no longer used by xarray.open_dataset() and is now ignored; it will be removed in a future version of xarray. If necessary, you can control the maximum number of simultaneous open files with xarray.set_options(file_cache_maxsize=...).\n",
      "  setattr(self, g, xr.open_dataset(infile, group=g, autoclose=True))\n",
      "/Users/elka127/Documents/code/helita/helita/sim/rh15d.py:53: FutureWarning: The autoclose argument is no longer used by xarray.open_dataset() and is now ignored; it will be removed in a future version of xarray. If necessary, you can control the maximum number of simultaneous open files with xarray.set_options(file_cache_maxsize=...).\n",
      "  self.ray = xr.open_dataset(infile, autoclose=True)\n"
     ]
    },
    {
     "output_type": "display_data",
     "data": {
      "text/plain": "Canvas(toolbar=Toolbar(toolitems=[('Home', 'Reset original view', 'home', 'home'), ('Back', 'Back to previous …",
      "application/vnd.jupyter.widget-view+json": {
       "version_major": 2,
       "version_minor": 0,
       "model_id": "f5eabd72c3e54d899426c8260a38132e"
      }
     },
     "metadata": {}
    },
    {
     "output_type": "execute_result",
     "data": {
      "text/plain": [
       "(0.0, 0.5, 0.0, 100000.0)"
      ]
     },
     "metadata": {},
     "execution_count": 475
    }
   ],
   "source": [
    "%matplotlib widget\n",
    "data = rh15d.Rh15dout(rhRepoPath / \"rh15d/run/output\")\n",
    "\n",
    "plt.figure()\n",
    "for i in range(5):\n",
    "    plt.plot(data.atmos.height_scale[22,0]/1e6, \n",
    "             data.atom_CA.populations[i, 22, 0]/data.atom_CA.populations_LTE[i, 22, 0],\n",
    "             label='Level %i' % (i + 1))\n",
    "plt.legend(loc=\"upper left\")\n",
    "plt.ylabel(\"Departure coefficients at 0 sec\")\n",
    "plt.xlabel(\"H (Mm)\")\n",
    "#plt.axis([0, 0.4])\n",
    "\n",
    "# plt.figure()\n",
    "# for i in range(5):\n",
    "#     plt.plot(data.atmos.height_scale[0,0]/1e6, \n",
    "#              data.atom_CA.populations[i, 0, 0]/data.atom_CA.populations_LTE[i, 0, 0],\n",
    "#              label='Level %i' % (i + 1))\n",
    "# fig, ax = plt.subplots()\n",
    "# ax.plot(tau500,data.atom_CA.populations[1, 0, 0, 0]/data.atom_CA.populations_LTE[1, 0, 0, 0], label='Level %1' % (1)) \n",
    "# plt.legend(loc=\"upper left\")\n",
    "# plt.xlabel(\"tau500\")\n",
    "# plt.ylim(0.05, 2)\n",
    "# plt.ylabel(\"Departure coefficients\")\n",
    "# plt.ylim(0.05, 2)\n",
    "plt.axis([0, 0.5, 0, 1e5])\n"
   ]
  },
  {
   "cell_type": "code",
   "execution_count": 446,
   "metadata": {},
   "outputs": [
    {
     "output_type": "display_data",
     "data": {
      "text/plain": "Canvas(toolbar=Toolbar(toolitems=[('Home', 'Reset original view', 'home', 'home'), ('Back', 'Back to previous …",
      "application/vnd.jupyter.widget-view+json": {
       "version_major": 2,
       "version_minor": 0,
       "model_id": "db84fae35b73432d99b74d2e8d5c7d1f"
      }
     },
     "metadata": {}
    },
    {
     "output_type": "execute_result",
     "data": {
      "text/plain": [
       "Text(0, 0.5, 'Log (b$_{i}$)')"
      ]
     },
     "metadata": {},
     "execution_count": 446
    }
   ],
   "source": [
    "%matplotlib widget\n",
    "\n",
    "fig, ax = plt.subplots()\n",
    "ax.plot(data.atmos.height_scale[0, 0].dropna('height')/1e6, data.atom_CA.populations[0,0,0,:].dropna('height')/data.atom_CA.populations_LTE[0,0,0,:].dropna('height'),'r--',label=r'b$_{l}$')\n",
    "ax.plot(data.atmos.height_scale[0, 0].dropna('height')/1e6, np.log10(data.atom_CA.populations[0,3,0,:].dropna('height')/data.atom_CA.populations_LTE[0,3,0,:].dropna('height')),'k-',label=r'b$_{u}$')\n",
    "plt.legend(loc='best')\n",
    "plt.xlabel('H (Mm)')\n",
    "plt.ylabel(r'Log (b$_{i}$)')\n",
    "#plt.xlim([0,2])"
   ]
  },
  {
   "source": [
    "# tau=1"
   ],
   "cell_type": "markdown",
   "metadata": {}
  },
  {
   "cell_type": "code",
   "execution_count": 477,
   "metadata": {},
   "outputs": [
    {
     "output_type": "display_data",
     "data": {
      "text/plain": "Canvas(toolbar=Toolbar(toolitems=[('Home', 'Reset original view', 'home', 'home'), ('Back', 'Back to previous …",
      "application/vnd.jupyter.widget-view+json": {
       "version_major": 2,
       "version_minor": 0,
       "model_id": "b93d3459fcb64094ab673a123ce7e6ca"
      }
     },
     "metadata": {}
    },
    {
     "output_type": "execute_result",
     "data": {
      "text/plain": [
       "Text(0, 0.5, 'Height (Mm)')"
      ]
     },
     "metadata": {},
     "execution_count": 477
    }
   ],
   "source": [
    "%matplotlib widget\n",
    "\n",
    "#data = rh15d.Rh15dout(rhRepoPath / \"rh15d/run/output\")\n",
    "\n",
    "\n",
    "fig, ax = plt.subplots()\n",
    "\n",
    "ax.plot(wave[indices],data.ray.tau_one_height[0,0,indices]/1e6,'k--',label='0 sec')\n",
    "ax.plot(wave[indices],data.ray.tau_one_height[2,0,indices]/1e6,'k-',label='0.2 sec')\n",
    "#ax.plot(wave[indices],data.ray.tau_one_height[12,0,indices]/1e6,'r-',label='1.2 sec')\n",
    "ax.plot(wave[indices],data.ray.tau_one_height[22,0,indices]/1e6,'b-',label='2.2 sec')\n",
    "#ax.plot(wave[indices],data.ray.tau_one_height[40,0,indices]/1e6,'g-',label='4 sec')\n",
    "\n",
    "plt.legend(loc='best')\n",
    "\n",
    "plt.xlabel(r'$\\lambda$ (nm)')\n",
    "plt.ylabel('Height (Mm)')\n"
   ]
  },
  {
   "cell_type": "code",
   "execution_count": null,
   "metadata": {},
   "outputs": [],
   "source": [
    "height = data.ray.height\n",
    "fig, ax = plt.subplots()\n",
    "ax.plot(height/)\n"
   ]
  },
  {
   "source": [
    "# от тау 500"
   ],
   "cell_type": "markdown",
   "metadata": {}
  },
  {
   "cell_type": "code",
   "execution_count": null,
   "metadata": {
    "tags": []
   },
   "outputs": [],
   "source": [
    "# xVals = data.atmos.height_scale[0,0]/1e6\n",
    "# with open(\"/tmp/x.txt\", \"w\") as f:\n",
    "#     for x in xVals.data:\n",
    "#         f.write(f\"{x}\\n\")\n",
    "\n",
    "print(data.atom_CA.populations[0,22,0])\n",
    "# yVals = data.atom_CA.populations[0,0,0]\n",
    "# with open(\"/tmp/y.txt\", \"w\") as f:\n",
    "#     for y in yVals.data:\n",
    "#         f.write(f\"{y}\\n\")\n",
    "\n",
    "\n",
    "#print(data.atom_CA.populations[0,0,0][247])\n",
    "# print(\"- - - - -\")\n",
    "# print(data.atom_CA.populations[1,0,0])\n",
    "# print(\"- - - - -\")\n",
    "# print(data.atom_CA.populations[2,0,0])"
   ]
  },
  {
   "cell_type": "code",
   "execution_count": null,
   "metadata": {},
   "outputs": [],
   "source": [
    "import matplotlib.animation as animation\n",
    "\n",
    "fig, ax = plt.subplots()\n",
    "\n",
    "line, = ax.plot(\n",
    "    data.atmos.height_scale[0,0]/1e6,\n",
    "    data.atom_CA.populations[0,0,0]\n",
    ")\n",
    "\n",
    "def animate(i):\n",
    "    #line.set_xdata(x)\n",
    "    line.set_ydata(data.atom_CA.populations[0, i, 0][0])\n",
    "    return line,\n",
    "\n",
    "ani = animation.FuncAnimation(\n",
    "    fig,\n",
    "    animate,\n",
    "    np.arange(52),\n",
    "    #blit=True,\n",
    "    repeat=False\n",
    ")\n",
    "plt.show()"
   ]
  },
  {
   "cell_type": "code",
   "execution_count": null,
   "metadata": {},
   "outputs": [],
   "source": [
    "%matplotlib widget\n",
    "\n",
    "plt.figure()\n",
    "for i in range(5):\n",
    "    plt.plot(\n",
    "        data.atmos.height_scale[22,0]/1e6, \n",
    "        data.atom_CA.populations[i, 22, 0]/data.atom_CA.populations_LTE[i, 22, 0],\n",
    "        label='Level %i' % (i + 1)\n",
    "    )\n",
    "plt.legend(loc=\"upper left\")\n",
    "plt.xlabel(\"Height (Mm)\")\n",
    "plt.ylabel(\"Departure coefficients\")\n",
    "plt.xlim(0,4)\n",
    "plt.ylim(-20,1e6)\n",
    "#/data.atom_CA.populations_LTE[i, 100, 0]"
   ]
  },
  {
   "source": [
    "# Departure coefficient vs optical depth"
   ],
   "cell_type": "markdown",
   "metadata": {}
  },
  {
   "cell_type": "code",
   "execution_count": 462,
   "metadata": {},
   "outputs": [
    {
     "output_type": "display_data",
     "data": {
      "text/plain": "Canvas(toolbar=Toolbar(toolitems=[('Home', 'Reset original view', 'home', 'home'), ('Back', 'Back to previous …",
      "application/vnd.jupyter.widget-view+json": {
       "version_major": 2,
       "version_minor": 0,
       "model_id": "d36d99e4ce1d4a47ba5e883803ac30d8"
      }
     },
     "metadata": {}
    }
   ],
   "source": [
    "%matplotlib widget\n",
    "\n",
    "for i in range(6):\n",
    "    plt.plot(np.log10(tau669), np.log10(data.atom_CA.populations[i,22,0,:].dropna('height')/data.atom_CA.populations_LTE[i,22,0,:].dropna('height')),label=r'b'+r'$_{'+str(i)+'}$')\n",
    "    plt.legend(loc='best')\n",
    "    plt.xlabel(r'Log ($\\tau$$_{669}$)')\n",
    "    plt.ylabel(r'Log (b$_{i}$)')\n",
    "    plt.xlim([-12,2])"
   ]
  },
  {
   "source": [
    "# Source function"
   ],
   "cell_type": "markdown",
   "metadata": {}
  },
  {
   "cell_type": "code",
   "execution_count": 478,
   "metadata": {},
   "outputs": [
    {
     "output_type": "stream",
     "name": "stdout",
     "text": [
      "--- Read /Users/elka127/Documents/code/rh/rh15d/run/output/output_aux.hdf5 file.\n",
      "--- Read /Users/elka127/Documents/code/rh/rh15d/run/output/output_indata.hdf5 file.\n",
      "--- Read /Users/elka127/Documents/code/rh/rh15d/run/output/output_ray.hdf5 file.\n",
      "/Users/elka127/Documents/code/helita/helita/sim/rh15d.py:40: FutureWarning: The autoclose argument is no longer used by xarray.open_dataset() and is now ignored; it will be removed in a future version of xarray. If necessary, you can control the maximum number of simultaneous open files with xarray.set_options(file_cache_maxsize=...).\n",
      "  setattr(self, g, xr.open_dataset(infile, group=g, autoclose=True))\n",
      "/Users/elka127/Documents/code/helita/helita/sim/rh15d.py:53: FutureWarning: The autoclose argument is no longer used by xarray.open_dataset() and is now ignored; it will be removed in a future version of xarray. If necessary, you can control the maximum number of simultaneous open files with xarray.set_options(file_cache_maxsize=...).\n",
      "  self.ray = xr.open_dataset(infile, autoclose=True)\n"
     ]
    },
    {
     "output_type": "display_data",
     "data": {
      "text/plain": "Canvas(toolbar=Toolbar(toolitems=[('Home', 'Reset original view', 'home', 'home'), ('Back', 'Back to previous …",
      "application/vnd.jupyter.widget-view+json": {
       "version_major": 2,
       "version_minor": 0,
       "model_id": "e9d63c876a604c12971a1cb44b5cbf03"
      }
     },
     "metadata": {}
    },
    {
     "output_type": "display_data",
     "data": {
      "text/plain": "interactive(children=(IntSlider(value=0, description='wavelength', max=208), Checkbox(value=True, description=…",
      "application/vnd.jupyter.widget-view+json": {
       "version_major": 2,
       "version_minor": 0,
       "model_id": "baaf72beef4a4a7496c48af8514f8f15"
      }
     },
     "metadata": {}
    },
    {
     "output_type": "stream",
     "name": "stderr",
     "text": [
      "<ipython-input-478-3c9488ae68f8>:5: UserWarning: Attempted to set non-positive bottom ylim on a log-scaled axis.\nInvalid limit will be ignored.\n  plt.ylim(0,1e6)\n"
     ]
    },
    {
     "output_type": "execute_result",
     "data": {
      "text/plain": [
       "(4.689338612325786e-16, 1000000.0)"
      ]
     },
     "metadata": {},
     "execution_count": 478
    }
   ],
   "source": [
    "data = rh15d.Rh15dout(rhRepoPath / \"rh15d/run/output\")\n",
    "\n",
    "rh15d_vis.SourceFunction(data);\n",
    "plt.xlim(-0.2,0.4)\n",
    "plt.ylim(0,1e6)"
   ]
  },
  {
   "cell_type": "code",
   "execution_count": 509,
   "metadata": {},
   "outputs": [
    {
     "output_type": "stream",
     "name": "stderr",
     "text": [
      "/Users/elka127/Documents/code/helita/helita/sim/rh15d.py:40: FutureWarning: The autoclose argument is no longer used by xarray.open_dataset() and is now ignored; it will be removed in a future version of xarray. If necessary, you can control the maximum number of simultaneous open files with xarray.set_options(file_cache_maxsize=...).\n",
      "  setattr(self, g, xr.open_dataset(infile, group=g, autoclose=True))\n",
      "/Users/elka127/Documents/code/helita/helita/sim/rh15d.py:53: FutureWarning: The autoclose argument is no longer used by xarray.open_dataset() and is now ignored; it will be removed in a future version of xarray. If necessary, you can control the maximum number of simultaneous open files with xarray.set_options(file_cache_maxsize=...).\n",
      "  self.ray = xr.open_dataset(infile, autoclose=True)\n",
      "--- Read /Users/elka127/Documents/code/rh/rh15d/run/output/output_aux.hdf5 file.\n",
      "--- Read /Users/elka127/Documents/code/rh/rh15d/run/output/output_indata.hdf5 file.\n",
      "--- Read /Users/elka127/Documents/code/rh/rh15d/run/output/output_ray.hdf5 file.\n"
     ]
    },
    {
     "output_type": "display_data",
     "data": {
      "text/plain": "Canvas(toolbar=Toolbar(toolitems=[('Home', 'Reset original view', 'home', 'home'), ('Back', 'Back to previous …",
      "application/vnd.jupyter.widget-view+json": {
       "version_major": 2,
       "version_minor": 0,
       "model_id": "0c6caaff6487487580f0175073a017c9"
      }
     },
     "metadata": {}
    },
    {
     "output_type": "execute_result",
     "data": {
      "text/plain": [
       "[<matplotlib.lines.Line2D at 0x13869bbe0>]"
      ]
     },
     "metadata": {},
     "execution_count": 509
    }
   ],
   "source": [
    "%matplotlib widget\n",
    "\n",
    "data = rh15d.Rh15dout(rhRepoPath / \"rh15d/run/output\")\n",
    "hf=h5py.File(rhRepoPath / \"rh15d/run/output/output_ray.hdf5\",\"r\")\n",
    "\n",
    "hf.keys()\n",
    "\n",
    "sourceFunction = hf['source_function']\n",
    "\n",
    "fig, ax = plt.subplots()\n",
    "\n",
    "# ax.plot(data.atmos.height_scale[2,0]/1e6,sourceFunction[2,0,:,0],label='0.2 sec')\n",
    "ax.plot(np.log10(tau669),sourceFunction[2,0,:,0],label='0.2 sec')\n",
    "\n",
    "#data.source_function.data"
   ]
  },
  {
   "source": [
    "# Различные блоки, которые не пригодились или не работают"
   ],
   "cell_type": "markdown",
   "metadata": {}
  },
  {
   "cell_type": "code",
   "execution_count": null,
   "metadata": {
    "tags": []
   },
   "outputs": [],
   "source": [
    "# from scipy import integrate\n",
    "# from integrate import quad, dblquad\n",
    "from scipy.integrate import quad, dblquad\n",
    "fluxes = []\n",
    "\n",
    "# def u(x):\n",
    "#     #print(i, ii)\n",
    "#     return np.cos(x)*data.ray.intensity[i,0,ii].data\n",
    "#print(u(0))\n",
    "#x = np.cos(y)\n",
    "#print(data.ray.intensity)\n",
    "#print(data.ray.intensity.shape, data.ray.intensity.count().data)\n",
    "for i in range(data.ray.intensity.x.count().data):\n",
    "    for ii in range(data.ray.intensity.wavelength.count().data):\n",
    "        #print(data.ray.intensity[i,0,ii].data)\n",
    "        flx, err = dblquad(lambda x, y: np.sin(x)*np.cos(x)*data.ray.intensity[i,0,ii].data, 0, np.pi, lambda x: 0, lambda x: np.pi/2)\n",
    "        #integrate.quad(lambda x: x*data.ray.intensity[i,0,ii].data, -1, 1) #weight=\"cos\", wvar=1)\n",
    "        #fluxes.append(round(flx,5))\n",
    "        #print(flx)\n",
    "        fluxes.append(flx)\n",
    "#print(fluxes)\n",
    "np.save(\"Flux.npy\",fluxes)"
   ]
  },
  {
   "cell_type": "code",
   "execution_count": null,
   "metadata": {},
   "outputs": [],
   "source": [
    "%matplotlib widget\n",
    "import numpy as np\n",
    "import matplotlib.pyplot as plt\n",
    "from helita.sim import rh15d\n",
    "import h5py\n",
    "\n",
    "hf=h5py.File(dpath_sim+\"radyn_out.F13_dpl_GRID_pt1s.ncdf\",\"r\")\n",
    "\n",
    "hf.keys()\n",
    "\n",
    "tg1t=np.transpose(hf['temperature'][0,:,0,:])\n",
    "vz1t=np.transpose(hf['velocity_z'][0,:,0,:])\n",
    "z1t=np.transpose(hf['z'][0,:,0,:]/1.e6)\n",
    "\n",
    "fig1, ax1=plt.subplots()\n",
    "#ax1.plot(vz1t[:,22],np.log10(tg1t[:,22]))\n",
    "ax1.plot(vz1t[:,0],(tg1t[:,0]))\n",
    "\n",
    "plt.xlabel('Height (Mm)')\n",
    "plt.ylabel('(Velocity (m/s))')\n",
    "\n",
    "#plt.ylabel('lg(Temperature (K))')\n",
    "#plt.title('Figure 1’)"
   ]
  },
  {
   "source": [
    "# further nonsence with atmo\n"
   ],
   "cell_type": "markdown",
   "metadata": {}
  },
  {
   "cell_type": "code",
   "execution_count": null,
   "metadata": {},
   "outputs": [],
   "source": [
    "rh15d_vis.InputAtmosphere(\"/Users/elka127/Documents/uio/ast5210/docs/untitled folder/rh_ast5210/Atmos/bifrost_cb24bih_s385_cut.hdf5\");\n",
    "#rh15d_vis.InputAtmosphere(\"/Users/elka127/Documents/uio/ast5210/docs/untitled folder/rh_ast5210/Atmos/bifrost_cb24bih_s385_cut.hdf5\");\n",
    "# import h5py\n",
    "#   data = h5py.File(rhRepoPath / \"rh15d/run/output/output_indata.hdf5\",\"r\")\n",
    "#   for group in data.keys():\n",
    "#        print(group)"
   ]
  },
  {
   "cell_type": "code",
   "execution_count": null,
   "metadata": {},
   "outputs": [],
   "source": [
    "atmosTemp = atmos.temperature \n",
    "#atmostemp\n",
    "\n",
    "# print(atmosTemp[0,:,:,248])\n",
    "# print()\n",
    "# print(atmosTemp[0,:,:,247])\n",
    "\n",
    "# 1 - nt(1) - ?\n",
    "# 2 - nx(52) - время\n",
    "# 3 - ny(1) - ?\n",
    "# 4 - nz(249) - высота\n",
    "\n",
    "# sm1 = atmosTemp[0,0,0,248]\n",
    "# print(sm1)\n",
    "# sm2 = atmosTemp[0,0,0]\n",
    "# print(sm2)\n",
    "\n",
    "#print(atmosTemp[0,:,:,:])\n",
    "\n",
    "# ---\n",
    "\n",
    "atmosHeight = atmos.z\n",
    "atmosHeight"
   ]
  },
  {
   "cell_type": "code",
   "execution_count": null,
   "metadata": {},
   "outputs": [],
   "source": [
    "fig, axs = plt.subplots(1,3,figsize=(15,5),facecolor='w', edgecolor='k')\n",
    "#fig.subplots_adjust(hspace = 0.1,wspace=0.25,left=0.05,right=0.95,top=0.93,bottom=0.07)\n",
    "#axs.ravel()\n",
    "\n",
    "# im=axs[0].imshow(atmosTemp[0,:,:,248],cmap='plasma')\n",
    "# im=axs[1].imshow(atmosTemp[0,:,:,247],cmap='plasma')\n",
    "# im=axs[2].imshow(atmosTemp[0,:,:,246],cmap='plasma')\n",
    "\n",
    "im=axs[0].plot(atmosTemp[0,:,:,247])\n",
    "im=axs[1].plot(atmosHeight[0,:,:,247])\n",
    "#im=axs[2].plot(atmosTemp[0,:,:,246])\n",
    "\n",
    "# divider0 = make_axes_locatable(axs[0])\n",
    "# cax0 = divider0.append_axes(\"right\", size=\"5%\", pad=0.05)\n",
    "# cbar0=plt.colorbar(im,cax=cax0)\n",
    "# cbar0.set_label('T (K)')\n",
    "\n",
    "# divider1 = make_axes_locatable(axs[1])\n",
    "# cax1 = divider1.append_axes(\"right\", size=\"5%\", pad=0.05)\n",
    "# cbar1=plt.colorbar(im,cax=cax1)\n",
    "# cbar1.set_label('T (K)')\n",
    "\n",
    "#axs[0].set_xlabel('pixels')\n",
    "axs[0].set_ylabel('pixels')"
   ]
  },
  {
   "cell_type": "code",
   "execution_count": null,
   "metadata": {},
   "outputs": [],
   "source": [
    "import h5py\n",
    "data = h5py.File(rhRepoPath / \"rh15d/run/output/output_indata.hdf5\",\"r\")\n",
    "for group in data.keys():\n",
    "    print(group)"
   ]
  },
  {
   "cell_type": "code",
   "execution_count": null,
   "metadata": {},
   "outputs": [],
   "source": [
    "import xarray\n",
    "atmos = xarray.open_dataset(\"/Users/elka127/Documents/uio/ast5210/docs/untitled folder/rh_ast5210/Atmos/bifrost_cb24bih_s385_cut.hdf5\")\n",
    "atmos"
   ]
  },
  {
   "cell_type": "code",
   "execution_count": null,
   "metadata": {},
   "outputs": [],
   "source": [
    "atmos.temperature.plot()"
   ]
  },
  {
   "cell_type": "code",
   "execution_count": null,
   "metadata": {},
   "outputs": [],
   "source": [
    "import h5py\n",
    "from mpl_toolkits.axes_grid1 import make_axes_locatable\n",
    "dpath_sim = \"/Users/elka127/Documents/uio/project-Mflare/mflares/\"\n",
    "\n",
    "from helita.sim import bifrost\n",
    "data = bifrost.BifrostData(\"radyn_out.F13_dpl_GRID_pt1s\", snap=300, fdir=dpath_sim+\"radyn_out.F13_dpl_GRID_pt1s.ncdf\")"
   ]
  },
  {
   "cell_type": "code",
   "execution_count": null,
   "metadata": {},
   "outputs": [],
   "source": []
  },
  {
   "cell_type": "code",
   "execution_count": null,
   "metadata": {},
   "outputs": [],
   "source": [
    "#H = hf['z'][0,:] \n",
    "# geometric height\n",
    "plt.figure()\n",
    "plt.plot(\n",
    "        atmos.height_scale[0,0]/1e6, \n",
    "        atmos.electron_density[0, 0, 0]\n",
    ")\n",
    "print(atmos.height_scale[0,0]/1e6)\n"
   ]
  },
  {
   "cell_type": "code",
   "execution_count": null,
   "metadata": {},
   "outputs": [],
   "source": [
    "import matplotlib.pyplot as plt\n",
    "import numpy as np\n",
    "\n",
    "# hf = h5py.File(dpath_sim+\"radyn_out.F13_dpl_GRID_pt1s.ncdf\",\"r\")\n",
    "# height = hf['z'][0,:,0,:] # geometric height\n",
    "# time = hf['x'][:]\n",
    "# temp = hf['temperature']\n",
    "# vlos = hf['velocity_z'] # LOS_V\n",
    "# eden = hf['electron_density']\n",
    "\n",
    "hf=h5py.File(dpath_sim+\"radyn_out.F13_dpl_GRID_pt1s.ncdf\",\"r\")\n",
    "\n",
    "hf.keys()\n",
    "\n",
    "tg1t=np.transpose(hf['temperature'][0,:,0,:])\n",
    "vz1t=np.transpose(hf['velocity_z'][0,:,0,:])\n",
    "ed1t=np.transpose(hf['electron_density'][0,:,0,:])\n",
    "\n",
    "z1t=np.transpose(hf['z'][0,:,0,:]/1.e6)\n",
    "\n",
    "fig, axs =plt.subplots(1,3,figsize=(15,5),facecolor='w', edgecolor='k')\n",
    "fig.subplots_adjust(hspace = 0.25,wspace=0.25,left=0.05,right=0.95,top=0.93,bottom=0.07)\n",
    "axs.ravel()\n",
    "im=axs[0].matshow(tg1t)\n",
    "divider1 = make_axes_locatable(axs[0])\n",
    "cax0 = divider1.append_axes(\"right\", size=\"5%\", pad=0.05)\n",
    "cbar=plt.colorbar(im,cax=cax0)\n",
    "cbar.set_label('T (K)')\n",
    "axs[0].set_xlabel('time')\n",
    "axs[0].set_ylabel('height')\n",
    "\n",
    "# im=axs[1].matshow(vlos[0,:,0,:]/1e3,cmap='bwr',vmax=1.5,vmin=-1.5)\n",
    "# divider1 = make_axes_locatable(axs[1])\n",
    "# cax0 = divider1.append_axes(\"right\", size=\"5%\", pad=0.05)\n",
    "# cbar=plt.colorbar(im,cax=cax0)\n",
    "# cbar.set_label('V (km/s)')\n",
    "# axs[1].set_xlabel('height')\n",
    "# axs[1].set_ylabel('time')\n",
    "\n",
    "# im=axs[2].matshow(eden[0,:,0,:]*1e4,cmap='BrBG',vmax=20,vmin=-100)\n",
    "# divider1 = make_axes_locatable(axs[2])\n",
    "# cax0 = divider1.append_axes(\"right\", size=\"5%\", pad=0.05)\n",
    "# cbar=plt.colorbar(im,cax=cax0)\n",
    "# cbar.set_label('electron density (G)')\n",
    "# axs[2].set_xlabel('height')\n",
    "# axs[2].set_ylabel('time')"
   ]
  }
 ]
}