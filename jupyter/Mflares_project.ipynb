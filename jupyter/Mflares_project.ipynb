{
 "metadata": {
  "language_info": {
   "codemirror_mode": {
    "name": "ipython",
    "version": 3
   },
   "file_extension": ".py",
   "mimetype": "text/x-python",
   "name": "python",
   "nbconvert_exporter": "python",
   "pygments_lexer": "ipython3",
   "version": "3.8.7"
  },
  "orig_nbformat": 2,
  "kernelspec": {
   "name": "python3",
   "display_name": "Python 3",
   "language": "python"
  }
 },
 "nbformat": 4,
 "nbformat_minor": 2,
 "cells": [
  {
   "cell_type": "code",
   "execution_count": null,
   "metadata": {},
   "outputs": [],
   "source": [
    "%matplotlib widget\n",
    "#%matplotlib inline\n",
    "\n",
    "import numpy as np\n",
    "import matplotlib.pyplot as plt\n",
    "from helita.sim import rh15d \n",
    "from helita.vis import rh15d_vis\n",
    "\n",
    "from scipy.integrate import quadrature\n",
    "from scipy.integrate import cumtrapz\n",
    "\n",
    "from pathlib import Path\n",
    "\n",
    "rhRepoPath = Path(\"/path/to/rh\")\n"
   ]
  },
  {
   "source": [
    "# Working with existing atmosperes' models\n",
    "\n",
    "```\n",
    "# There are four 1D models of flares on M-dwarfs:\n",
    "\n",
    "# radyn_out.F13_dpl_GRID_pt1s.ncdf\n",
    "# tx.m2F12-37.max2F12_Ec37_d3.ncdf\n",
    "# tx.m5F12-37.max5F12_Ec37_d3.ncdf\n",
    "# tx.mF13-37.maxF13_Ec37_d3_dt0.1_10s.ncdf\n",
    "\n",
    "# the three \"tx\" models all have a low cut-off energy of 37 keV and a power index of 3 \n",
    "# but vary in maximum beam energy: 2e12, 5e12 and 1e13 erg/cm^2/s. \n",
    "\n",
    "#The model from Kowalski et al. 2015 is radyn_out.F13_dpl_GRID_pt1s.ncdf.\n",
    "```\n",
    "\n"
   ],
   "cell_type": "markdown",
   "metadata": {}
  },
  {
   "cell_type": "code",
   "execution_count": null,
   "metadata": {},
   "outputs": [],
   "source": [
    "# for reading the atmospheres files\n",
    "import h5py\n",
    "from mpl_toolkits.axes_grid1 import make_axes_locatable\n",
    "dpath_sim = rhRepoPath / \"Atmos/\"\n"
   ]
  },
  {
   "cell_type": "code",
   "execution_count": null,
   "metadata": {},
   "outputs": [],
   "source": [
    "# to read xarray.Dataset and see dimentions, coordinates, data variables and attributes \n",
    "import xarray\n",
    "atmos = xarray.open_dataset(dpath_sim+\"radyn_out.F13_dpl_GRID_pt1s.ncdf\")\n",
    "#atmos = xarray.open_dataset(dpath_sim+\"tx.m2F12-37.max2F12_Ec37_d3.ncdf\")\n",
    "#atmos = xarray.open_dataset(dpath_sim+\"tx.m5F12-37.max5F12_Ec37_d3.ncdf\")\n",
    "# atmos = xarray.open_dataset(dpath_sim+\"tx.mF13-37.maxF13_Ec37_d3_dt0.1_10s.ncdf\")\n",
    "atmos\n"
   ]
  },
  {
   "cell_type": "code",
   "execution_count": null,
   "metadata": {},
   "outputs": [],
   "source": [
    "%matplotlib widget\n",
    "import matplotlib.pyplot as plt\n",
    "\n",
    "hf=h5py.File(dpath_sim+\"radyn_out.F13_dpl_GRID_pt1s.ncdf\",\"r\")\n",
    "# hf=h5py.File(dpath_sim+\"tx.m2F12-37.max2F12_Ec37_d3.ncdf\",\"r\")\n",
    "# hf=h5py.File(dpath_sim+\"tx.m5F12-37.max5F12_Ec37_d3.ncdf\",\"r\")\n",
    "# hf=h5py.File(dpath_sim+\"tx.mF13-37.maxF13_Ec37_d3_dt0.1_10s.ncdf\",\"r\")\n",
    "\n",
    "hf.keys()\n",
    "\n",
    "tg1t=np.transpose(hf['temperature'][0,:,0,:])\n",
    "z1t=np.transpose(hf['z'][0,:,0,:]/1.e6)\n",
    "\n",
    "vz1t=np.transpose(hf['velocity_z'][0,:,0,:])\n",
    "ed1t=np.transpose(hf['electron_density'][0,:,0,:])\n",
    "\n",
    "# graphs for temperature, velocity_z and electron density for all time columns\n",
    "\n",
    "fig, ax=plt.subplots()\n",
    "\n",
    "n = 50\n",
    "# n = 52\n",
    "# n = 189\n",
    "colors = plt.cm.jet(np.linspace(0,1,n))\n",
    "for i in range(n):\n",
    "    # ax.plot(z1t[:,i],np.log10(tg1t[:,i]), color=colors[i])\n",
    "    # ax.plot(z1t[:,i],(vz1t[:,i]), color=colors[i])\n",
    "    ax.plot(z1t[:,i],(np.log10(ed1t[:,i])), color=colors[i])\n",
    "\n",
    "\n",
    "    line = ax.lines[i]\n",
    "\n",
    "plt.xlabel('Height (Mm)')\n",
    "\n",
    "# plt.xlim(-0.2,0.5)\n",
    "# plt.ylim(-1e5,2e5)\n",
    "\n",
    "\n",
    "# plt.ylabel('lg(Temperature (K))')\n",
    "# plt.ylabel('Velocity (m/s)')\n",
    "plt.ylabel('lg(Electron Density (m-3))')\n",
    "# plt.savefig('temperature')\n",
    "# plt.savefig('velocity')\n",
    "plt.savefig('eldensity')\n",
    "\n"
   ]
  },
  {
   "source": [
    "```\n",
    "# Plotting atmospheres in real height for specific time column\n",
    "```"
   ],
   "cell_type": "markdown",
   "metadata": {}
  },
  {
   "cell_type": "code",
   "execution_count": null,
   "metadata": {},
   "outputs": [],
   "source": [
    "%matplotlib widget\n",
    "\n",
    "\n",
    "# hf=h5py.File(dpath_sim+\"radyn_out.F13_dpl_GRID_pt1s.ncdf\",\"r\")\n",
    "# hf=h5py.File(dpath_sim+\"tx.m2F12-37.max2F12_Ec37_d3.ncdf\",\"r\")\n",
    "# hf=h5py.File(dpath_sim+\"tx.m5F12-37.max2F12_Ec37_d3.ncdf\",\"r\")\n",
    "hf=h5py.File(dpath_sim+\"tx.mF13-37.maxF13_Ec37_d3_dt0.1_10s.ncdf\",\"r\")\n",
    "\n",
    "hf.keys()\n",
    "\n",
    "tg1t=np.transpose(hf['temperature'][0,:,0,:])\n",
    "vz1t=np.transpose(hf['velocity_z'][0,:,0,:])\n",
    "ed1t=np.transpose(hf['electron_density'][0,:,0,:])\n",
    "\n",
    "z1t=np.transpose(hf['z'][0,:,0,:]/1.e6)\n",
    "\n",
    "fig, axs=plt.subplots()\n",
    "\n",
    "axs.plot(z1t[:,0],np.log10(tg1t[:,120]),label='12.0 sec')\n",
    "axs.plot(z1t[:,0],np.log10(tg1t[:,75]),label='7.5 sec')\n",
    "axs.plot(z1t[:,0],np.log10(tg1t[:,60]),label='6.0 sec')\n",
    "\n",
    "axs.plot(z1t[:,0],np.log10(tg1t[:,40]),label='4.0 sec')\n",
    "axs.plot(z1t[:,0],np.log10(tg1t[:,22]),label='2.2 sec')\n",
    "axs.plot(z1t[:,0],np.log10(tg1t[:,12]),label='1.2 sec')\n",
    "axs.plot(z1t[:,0],np.log10(tg1t[:,2]),label='0.2 sec')\n",
    "axs.plot(z1t[:,0],np.log10(tg1t[:,1]),label='0.1 sec')\n",
    "\n",
    "\n",
    "# ax.plot(z1t[:,0],np.log10(tg1t[:,0]),'g-',label='0 sec')\n",
    "\n",
    "# ax.plot(z1t[:,0],vz1t[:,135],label='13.5 sec')\n",
    "# ax.plot(z1t[:,0],vz1t[:,90],label='9.0 sec')\n",
    "# ax.plot(z1t[:,0],vz1t[:,60],label='6.0 sec')\n",
    "\n",
    "# ax.plot(z1t[:,0],vz1t[:,40],label='4.0 sec')\n",
    "# ax.plot(z1t[:,0],vz1t[:,22],label='2.2 sec')\n",
    "# ax.plot(z1t[:,0],vz1t[:,12],label='0.2 sec')\n",
    "# ax.plot(z1t[:,0],vz1t[:,2],label='0.2 sec')\n",
    "\n",
    "# ax.plot(z1t[:,0],vz1t[:,1],label='0.1 sec')\n",
    "# ax.plot(z1t[:,0],vz1t[:,0],label='0 sec')\n",
    "\n",
    "# ax.plot(z1t[:,0],np.log10(ed1t[:,130]),label='13.0 sec')\n",
    "# ax.plot(z1t[:,0],np.log10(ed1t[:,100]),label='10.0 sec')\n",
    "# ax.plot(z1t[:,0],np.log10(ed1t[:,75]),label='7.5 sec')\n",
    "\n",
    "# ax.plot(z1t[:,0],np.log10(ed1t[:,40]),label='4.0 sec')\n",
    "#ax.plot(z1t[:,0],np.log10(ed1t[:,22]),label='2.2 sec')\n",
    "# ax.plot(z1t[:,0],np.log10(ed1t[:,12]),label='1.2 sec')\n",
    "# ax.plot(z1t[:,0],np.log10(ed1t[:,2]),label='0.2 sec')\n",
    "# ax.plot(z1t[:,0],np.log10(ed1t[:,0]),label='0 sec')\n",
    "\n",
    "\n",
    "\n",
    "\n",
    "plt.xlabel('Height (Mm)')\n",
    "\n",
    "plt.ylabel('lg(Temperature (K))')\n",
    "# plt.ylabel('Velocity (m/s)')\n",
    "# plt.xlim(-0.2,0.5)\n",
    "# plt.ylim(-1e5,2e5)\n",
    "#plt.ylabel('lg(Electron Density ())')\n",
    "#plt.title('m2F12-37 Atmos’)\n",
    "# plt.title('txmF13-37 Atmos’)\n",
    "\n",
    "axs.legend()  # Add a legend.\n",
    "\n",
    "\n",
    "plt.savefig(\"temperature_.svg\", format=\"svg\")\n",
    "# plt.savefig(\"velocity_z_.svg\", format=\"svg\")\n",
    "# plt.savefig(\"electron_density_.svg\", format=\"svg\")\n"
   ]
  },
  {
   "source": [
    "# Create own wavetable file"
   ],
   "cell_type": "markdown",
   "metadata": {}
  },
  {
   "source": [
    "```\n",
    "# Writes RH wave file (in xdr format). All wavelengths should be in nm.\n",
    "\n",
    "# Parameters\n",
    "# ----------\n",
    "# start: number\n",
    "#     Starting wavelength.\n",
    "# end: number\n",
    "#     Ending wavelength (non-inclusive)\n",
    "# step: number\n",
    "#     Wavelength separation\n",
    "# outfile: string\n",
    "#     Name of file to write.\n",
    "# ewave: 1-D array, optional\n",
    "#    Array of existing wavelengths. Program will make discard points\n",
    "#    to make sure no step is enforced using these points too.\n",
    "# air: boolean, optional\n",
    "#     If true, will at the end convert the wavelengths into vacuum\n",
    "#     wavelengths.\n",
    "```"
   ],
   "cell_type": "markdown",
   "metadata": {}
  },
  {
   "cell_type": "code",
   "execution_count": null,
   "metadata": {},
   "outputs": [],
   "source": [
    "def make_wave_file(my_wave, start=20, end=4000, step=5, new_wave=None,\n",
    "                   ewave=None, air=False):\n",
    "                   rh15d.make_wave_file('my_wave.wave', ewave=my_waves)"
   ]
  },
  {
   "cell_type": "code",
   "execution_count": null,
   "metadata": {},
   "outputs": [],
   "source": [
    "rh15d.make_wave_file('My_wave.wave', 20, 4000, 5)"
   ]
  },
  {
   "cell_type": "code",
   "execution_count": null,
   "metadata": {},
   "outputs": [],
   "source": [
    "\n",
    "#read exisitng file if needed\n",
    "MY_wave = rh15d.read_wave_file(rhRepoPath / \"Atoms/wave_files/My_wave.wave\")\n"
   ]
  },
  {
   "source": [
    "# Tau=1 height"
   ],
   "cell_type": "markdown",
   "metadata": {}
  },
  {
   "cell_type": "code",
   "execution_count": null,
   "metadata": {},
   "outputs": [],
   "source": [
    "hf=h5py.File(rhRepoPath / \"rh15d/run/output/output_ray.hdf5\",\"r\")\n",
    "\n",
    "hf.keys()\n",
    "data = rh15d.Rh15dout(rhRepoPath / \"rh15d/run/output\")\n",
    "\n"
   ]
  },
  {
   "cell_type": "code",
   "execution_count": null,
   "metadata": {},
   "outputs": [],
   "source": [
    "%matplotlib widget\n",
    "# plotting tau=1 heights for specific time columns\n",
    "fig, ax=plt.subplots()\n",
    "\n",
    "ax.plot(wave[indices],data.ray.tau_one_height[0,0,indices]/1e6, 'k--',label='0 sec')\n",
    "ax.plot(wave[indices],data.ray.tau_one_height[2,0,indices]/1e6, 'r-',label='0.2 sec')\n",
    "ax.plot(wave[indices],data.ray.tau_one_height[12,0,indices]/1e6, 'r-.',label='1.2 sec')\n",
    "ax.plot(wave[indices],data.ray.tau_one_height[22,0,indices]/1e6, 'b--',label='2.2 sec')\n",
    "ax.plot(wave[indices],data.ray.tau_one_height[40,0,indices]/1e6, 'b-.',label='4. sec')\n",
    "\n",
    "ax.legend(loc=\"upper right\") \n",
    "plt.xlabel(r'$\\lambda$ (nm)')\n",
    "plt.ylabel('Height (Mm)')\n",
    "plt.title(r'$\\tau=1$')\n",
    "plt.savefig(\"Tau_one_height_.svg\", format=\"svg\")\n"
   ]
  },
  {
   "source": [
    "# Writing ray.input file\n",
    "```\n",
    "# Selecting wavelengths for detailed output\n",
    "# Choosing all wavelenghts range\n",
    "# Ray input includes all indises\n",
    "```"
   ],
   "cell_type": "markdown",
   "metadata": {}
  },
  {
   "cell_type": "code",
   "execution_count": null,
   "metadata": {},
   "outputs": [],
   "source": [
    "data = rh15d.Rh15dout(rhRepoPath / \"rh15d/run/output\")\n",
    "indices = np.arange(len(data.ray.wavelength))\n",
    "with open(rhRepoPath / \"rh15d/run/ray.input\", \"w\") as f:\n",
    "\n",
    "    f.write('1.00\\n')\n",
    "    output = str(len(indices))\n",
    "    for ind in indices:\n",
    "    \n",
    "        output += f\" {ind}\"\n",
    "    f.write(output)\n",
    "f.close()"
   ]
  },
  {
   "source": [
    "```\n",
    "#Need to run RH15D again with a new ray.input file "
   ],
   "cell_type": "markdown",
   "metadata": {}
  },
  {
   "source": [
    "# Calculating Flux from Intensity(mu)"
   ],
   "cell_type": "markdown",
   "metadata": {}
  },
  {
   "source": [
    "```\n",
    "# reading new output\n",
    "# writing all tau (time-dependant) in one array\n",
    "```"
   ],
   "cell_type": "markdown",
   "metadata": {}
  },
  {
   "cell_type": "code",
   "execution_count": null,
   "metadata": {
    "tags": []
   },
   "outputs": [],
   "source": [
    "data = rh15d.Rh15dout(rhRepoPath / \"rh15d/run/output\")\n",
    "indices = np.arange(len(data.ray.wavelength))\n",
    "aar = [0,2,12,22,40,60,120] # write down all time columns needed\n",
    "for a in aar:\n",
    "    height = data.atmos.height_scale[a, 0].dropna('height')  \n",
    "    \n",
    "    index = []\n",
    "    for i in indices:\n",
    "        idx = np.argmin(np.abs(data.ray.wavelength.data - data.ray.wavelength[i].data))\n",
    "        index.append(idx)\n",
    "    massivTau = []\n",
    "    for i in indices:\n",
    "        x = cumtrapz(data.ray.chi[a, 0, :, i].dropna('height'), x=-height)\n",
    "        x = np.concatenate([[1e-20], x])\n",
    "        massivTau.append(x)\n",
    "    np.save(f\"massivTau-{a}\", massivTau) \n"
   ]
  },
  {
   "source": [
    "```\n",
    "# calculating I(mu) for 5 mu\n",
    "```"
   ],
   "cell_type": "markdown",
   "metadata": {}
  },
  {
   "cell_type": "code",
   "execution_count": null,
   "metadata": {
    "tags": []
   },
   "outputs": [],
   "source": [
    "from scipy import integrate\n",
    "from scipy.interpolate import InterpolatedUnivariateSpline\n",
    "\n",
    "\n",
    "sourceFunction = data.ray.source_function\n",
    "\n",
    "mu = [0.0469101,0.230765,0.500000,0.769235,0.953090]\n",
    "weightMu = [0.118463,0.239314,0.284444,0.239314,0.118463]\n",
    "massivTau = np.load(\"massivTau-2.npy\") #change every time for new massivTau-?.npy\n",
    "\n",
    "for m in range(5):\n",
    "    intensityMu = []\n",
    "\n",
    "    for y in indices:\n",
    "    \n",
    "        tmpMu = 0\n",
    "               \n",
    "        x = massivTau[y]\n",
    "        \n",
    "        tmpMu = integrate.trapz(sourceFunction[2,0,:,y].data * np.exp(-x[:]/mu[m]), x)  #change every time for new sourceFunction[?,0,:,y].data\n",
    "\n",
    "        intensityMu.append(1/mu[m] * tmpMu)\n",
    "    np.save(f\"intensityMu-{m+1}.npy\", intensityMu)\n",
    "\n",
    "    print(f\"Number of elements: {len(intensityMu)}\")\n",
    "    print(f\"First element: {intensityMu[0]}\")\n",
    "    print(f\"Second element: {intensityMu[1]}\")\n",
    "    print(f\"Last element: {intensityMu[1643]}\")\n",
    "\n",
    "\n"
   ]
  },
  {
   "cell_type": "code",
   "execution_count": null,
   "metadata": {},
   "outputs": [],
   "source": [
    "%matplotlib widget\n",
    "\n",
    "wave = data.ray.wavelength\n",
    "# graph for all intensities(mu)\n",
    "ImuLoaded1 = np.load(\"IntensityMu-1.npy\")\n",
    "ImuLoaded2 = np.load(\"IntensityMu-2.npy\")\n",
    "ImuLoaded3 = np.load(\"IntensityMu-3.npy\")\n",
    "ImuLoaded4 = np.load(\"IntensityMu-4.npy\")\n",
    "ImuLoaded5 = np.load(\"IntensityMu-5.npy\")\n",
    "fig, ax=plt.subplots()\n",
    "\n",
    "\n",
    "\n",
    "ax.plot(wave[indices], ImuLoaded1,'k--',label=r'$\\mu$1')\n",
    "ax.plot(wave[indices], ImuLoaded2,'k-',label=r'$\\mu$2')\n",
    "ax.plot(wave[indices], ImuLoaded3,'g-',label=r'$\\mu$3')\n",
    "ax.plot(wave[indices], ImuLoaded4,'r-',label=r'$\\mu$4')\n",
    "ax.plot(wave[indices], ImuLoaded5,'y--',label=r'$\\mu$5')\n",
    "\n",
    "ax.legend()\n",
    "plt.xlabel(r'$\\lambda$ (nm)')\n",
    "plt.ylabel(r'Intensity (Stokes I) ($W/(m^2*Hz*sr)$')\n",
    "#ax.set_yscale('log')\n",
    "#plt.axis([20, 4000, 0, 8e-8])\n",
    "plt.savefig(\"Intencity_.svg\", format=\"svg\")"
   ]
  },
  {
   "cell_type": "code",
   "execution_count": null,
   "metadata": {
    "tags": []
   },
   "outputs": [],
   "source": [
    "from scipy import integrate\n",
    "# calaulating I(mu=1)  \n",
    "sourceFunction = data.ray.source_function\n",
    "massivTau = np.load(\"massivTau-2.npy\") #change every time for new massivTau-?.npy\n",
    "\n",
    "intensityMu =[]\n",
    "\n",
    "for y in indices: \n",
    "    tmpMu = 0\n",
    "    \n",
    "    x = massivTau[y]\n",
    "    \n",
    "    tmpMu = integrate.trapz(np.log(sourceFunction[2,0,:,y].data * np.exp(-(x[:]))),np.log(x)) #change every time for new sourceFunction[?,0,:,y].data\n",
    "    \n",
    "    intensityMu.append(tmpMu)\n",
    "    \n",
    "\n",
    "np.save(f\"Intensity1Mu0.npy\", intensityMu)\n"
   ]
  },
  {
   "cell_type": "code",
   "execution_count": null,
   "metadata": {},
   "outputs": [],
   "source": [
    "%matplotlib widget\n",
    "#graphs for I(mu=1) and syntetic disk-centre I, calculated from RH\n",
    "data = rh15d.Rh15dout(rhRepoPath / \"rh15d/run/output\")\n",
    "\n",
    "wave = data.ray.wavelength\n",
    "ImuLoaded = np.load(\"Intensity1Mu0.npy\")\n",
    "\n",
    "fig, ax=plt.subplots()\n",
    "\n",
    "ax.plot(wave[indices],ImuLoaded,'k--',label=r'$\\mu$1')\n",
    "\n",
    "# ax.plot(wave[indices], ImuLoaded5,'r-',label=r'$\\mu$0.95') ## for mu=0.95\n",
    "ax.plot(wave[indices],data.ray.intensity[0,0,indices],'g-.',label='12 sec') #change every time for new data.ray.intensity[?,0,indices]\n",
    "\n",
    "\n",
    "ax.legend()\n",
    "plt.xlabel(r'$\\lambda$ (nm)')\n",
    "plt.ylabel(r'Intensity (Stokes I) ($W/(m^2*Hz*sr)$')\n",
    "#ax.set_yscale('log')\n",
    "# plt.axis([20, 4000, 0, 6e-8])\n",
    "plt.savefig(\"Intencity_.svg\", format=\"svg\")"
   ]
  },
  {
   "cell_type": "code",
   "execution_count": null,
   "metadata": {
    "tags": []
   },
   "outputs": [],
   "source": [
    "# Calculating Flux from I(mu)\n",
    "\n",
    "fluxesImu =[]\n",
    "weightMu = [0.118463,0.239314,0.284444,0.239314,0.118463]\n",
    "mu = [0.0469101,0.230765,0.500000,0.769235,0.953090]\n",
    "ImuLoaded1 = np.load(\"IntensityMu-1.npy\")\n",
    "ImuLoaded2 = np.load(\"IntensityMu-2.npy\")\n",
    "ImuLoaded3 = np.load(\"IntensityMu-3.npy\")\n",
    "ImuLoaded4 = np.load(\"IntensityMu-4.npy\")\n",
    "ImuLoaded5 = np.load(\"IntensityMu-5.npy\")\n",
    "Imuloaded = []\n",
    "Imuloaded.append(ImuLoaded1)\n",
    "Imuloaded.append(ImuLoaded2)\n",
    "Imuloaded.append(ImuLoaded3)\n",
    "Imuloaded.append(ImuLoaded4)\n",
    "Imuloaded.append(ImuLoaded5)\n",
    "\n",
    "for i in indices:\n",
    "    imu = 0\n",
    "    for i5 in range(len(weightMu)):\n",
    "        imu += Imuloaded[i5][i]*weightMu[i5]*mu[i5]\n",
    "    fluxesImu.append(2*np.pi*imu)\n",
    "print(len(fluxesImu))\n"
   ]
  },
  {
   "cell_type": "code",
   "execution_count": null,
   "metadata": {},
   "outputs": [],
   "source": [
    "np.save(\"fluxesImu12.npy\", fluxesImu) #change every time for new fluxesImu?.npy\n"
   ]
  },
  {
   "cell_type": "code",
   "execution_count": null,
   "metadata": {},
   "outputs": [],
   "source": [
    "%matplotlib widget\n",
    "# after saving all F, plot them in one graph\n",
    "\n",
    "fluxesImu1 = np.load(\"fluxesImu0.npy\")\n",
    "# fluxesImu2 = np.load(\"fluxesImu1.npy\")\n",
    "fluxesImu2 = np.load(\"fluxesImu2.npy\")\n",
    "# fluxesImu3 = np.load(\"fluxesImu6.npy\")\n",
    "# fluxesImu4 = np.load(\"fluxesImu11.npy\")\n",
    "fluxesImu3 = np.load(\"fluxesImu12.npy\")\n",
    "fluxesImu4 = np.load(\"fluxesImu22.npy\")\n",
    "fluxesImu4 = np.load(\"fluxesImu40.npy\")\n",
    "fluxesImu6 = np.load(\"fluxesImu60.npy\")\n",
    "fluxesImu7 = np.load(\"fluxesImu120.npy\")\n",
    "\n",
    "\n",
    "\n",
    "fig, ax=plt.subplots()\n",
    "\n",
    "\n",
    "wave = data.ray.wavelength\n",
    "rows = ('0 sec','0.2 sec','1.2 sec','2.2 sec','4 sec','6 sec','12 sec')\n",
    "\n",
    "colors = plt.cm.tab10(np.linspace(0.3, 1, len(rows)))\n",
    "\n",
    "ax.plot(wave[indices], fluxesImu1,label='0 sec',color=colors[0],linewidth=0.8)\n",
    "ax.plot(wave[indices], fluxesImu2,label='0.2 sec',color=colors[1],linewidth=0.8)\n",
    "ax.plot(wave[indices], fluxesImu3,label='1.2 sec',color=colors[2],linewidth=0.8)\n",
    "ax.plot(wave[indices], fluxesImu4,label='2.2 sec',color=colors[3],linewidth=0.8)\n",
    "ax.plot(wave[indices], fluxesImu5,label='4.0 sec',color=colors[4],linewidth=0.8)\n",
    "ax.plot(wave[indices], fluxesImu6,label='6.0 sec',color=colors[5],linewidth=0.8)\n",
    "ax.plot(wave[indices], fluxesImu7,label='12.0 sec',color=colors[6],linewidth=0.8)\n",
    "\n",
    "\n",
    "ax.legend()\n",
    "plt.xlabel(r'$\\lambda$ (nm)')\n",
    "plt.ylabel(r'Flux ($W/(m^2*Hz)$')\n",
    "plt.subplots_adjust(left=0.2, bottom=0.1)\n",
    "# ax.set_yscale('log')\n",
    "# plt.axis([20, 4000, 0, 8e-8])\n",
    "plt.savefig(\"FluxperHz_.svg\", format=\"svg\")\n",
    "plt.savefig(\"FluxperHz_\")\n",
    "\n",
    "\n",
    "# plt.xlim(0,2000)\n",
    "# plt.axis([0, 2000, 0, 1.3e5])\n",
    "# plt.axis([200, 1000,0, 1e-7])\n"
   ]
  },
  {
   "source": [
    "```\n",
    "# calculating flux in erg cm-2 s-1 Å-1\n",
    "```"
   ],
   "cell_type": "markdown",
   "metadata": {}
  },
  {
   "cell_type": "code",
   "execution_count": null,
   "metadata": {},
   "outputs": [],
   "source": [
    "const1 = 2.99792458e+21\n",
    "fluxesImu = np.load(\"fluxesImu120.npy\") #change every time for new fluxesImu?.npy\n",
    "fluxesSurfaceMu = []\n",
    "\n",
    "for i in indices:\n",
    "    fluxesSurfaceMu.append(const1 * fluxesImu[i] /(np.power(wave[i] * 10,2)))\n",
    "\n",
    "np.save(\"fluxesSurfaceMu120.npy\", fluxesSurfaceMu) #change every time for new fluxesSurfaceMu?.npy"
   ]
  },
  {
   "cell_type": "code",
   "execution_count": null,
   "metadata": {},
   "outputs": [],
   "source": [
    "fluxesSurfaceMu1 = np.load(\"fluxesSurfaceMu0.npy\")\n",
    "fluxesSurfaceMu2 = np.load(\"fluxesSurfaceMu2.npy\")\n",
    "fluxesSurfaceMu3 = np.load(\"fluxesSurfaceMu12.npy\")\n",
    "fluxesSurfaceMu4 = np.load(\"fluxesSurfaceMu22.npy\")\n",
    "fluxesSurfaceMu5 = np.load(\"fluxesSurfaceMu40.npy\")\n",
    "fluxesSurfaceMu6 = np.load(\"fluxesSurfaceMu60.npy\")\n",
    "fluxesSurfaceMu7 = np.load(\"fluxesSurfaceMu120.npy\")\n",
    "\n",
    "rows = ('0 sec','0.2 sec','1.2 sec','2.2 sec','4 sec','6 sec','12 sec')\n",
    "wave = data.ray.wavelength\n",
    "\n",
    "\n",
    "fig, ax=plt.subplots()\n",
    "colors = plt.cm.Dark2(np.linspace(0, 1, len(rows)))\n",
    "\n",
    "ax.plot(wave[indices]*10, fluxesSurfaceMu1,label='0 sec',color=colors[0],linewidth=0.8)\n",
    "ax.plot(wave[indices]*10, fluxesSurfaceMu2,label='0.2 sec',color=colors[1],linewidth=0.8)\n",
    "ax.plot(wave[indices]*10, fluxesSurfaceMu3,label='1.2 sec',color=colors[2],linewidth=0.8)\n",
    "ax.plot(wave[indices]*10, fluxesSurfaceMu4,label='2.2 sec',color=colors[3],linewidth=0.8)\n",
    "ax.plot(wave[indices]*10, fluxesSurfaceMu5,label='4.0 sec',color=colors[4],linewidth=0.8)\n",
    "ax.plot(wave[indices]*10, fluxesSurfaceMu6,label='6.0 sec',color=colors[5],linewidth=0.8)\n",
    "ax.plot(wave[indices]*10, fluxesSurfaceMu7,label='12.0 sec',color=colors[6],linewidth=0.8)\n",
    "\n",
    "\n",
    "ax.legend()\n",
    "plt.xlabel(\"Wavelenght, Å\")\n",
    "plt.ylabel(\"Flux, erg/cm^2/s/Å\")\n",
    "plt.axis([2000, 9000, -1e7, 7e8])\n",
    "# plt.axis([0, 10000, 0, 4.55e9])\n",
    "\n",
    "plt.savefig(\"flux_comparison.svg\", format=\"svg\")\n",
    "plt.savefig(\"flux_comparison\")\n",
    "\n"
   ]
  },
  {
   "source": [
    "```\n",
    "# calculating total flux and effective temperature\n",
    "```"
   ],
   "cell_type": "markdown",
   "metadata": {}
  },
  {
   "cell_type": "code",
   "execution_count": null,
   "metadata": {},
   "outputs": [],
   "source": [
    "from scipy import integrate\n",
    "fluxesSurfaceMu = np.load(\"fluxesSurfaceMu0.npy\") # for F in time= 0 sec\n",
    "\n",
    "x = wave[indices]\n",
    "fluxesSum = integrate.trapz(fluxesSurfaceMu[:], x * 10)\n",
    "print(\"{:5e}\".format(fluxesSum))"
   ]
  },
  {
   "cell_type": "code",
   "execution_count": null,
   "metadata": {},
   "outputs": [],
   "source": [
    "# calculating T_eff\n",
    "sigma = 5.6784e-8\n",
    "Teff = np.power(fluxesSum*1e-3/sigma, 1/4)\n",
    "print('{:5e}'.format(Teff))"
   ]
  },
  {
   "source": [
    "```\n",
    "# flux F(Hz) normilized by continuum\n",
    "# The continuum-normalised spectrum is derived by dividing the computed flux \n",
    "# by the computed continuum flux in every spectral bin. \n",
    "```"
   ],
   "cell_type": "markdown",
   "metadata": {}
  },
  {
   "cell_type": "code",
   "execution_count": null,
   "metadata": {},
   "outputs": [],
   "source": [
    "fluxesSur1 = np.load(\"fluxesImu0.npy\")\n",
    "fluxesSur2 = np.load(\"fluxesImu2.npy\")\n",
    "fluxesSur3 = np.load(\"fluxesImu12.npy\")\n",
    "fluxesSur4 = np.load(\"fluxesImu22.npy\")\n",
    "fluxesSur5 = np.load(\"fluxesImu40.npy\")\n",
    "fluxesSur6 = np.load(\"fluxesImu60.npy\")\n",
    "# fluxesSur7 = np.load(\"fluxesImu120.npy\")\n",
    "\n",
    "FluxHloaded = []\n",
    "FluxHloaded.append(fluxesSur1)\n",
    "FluxHloaded.append(fluxesSur2)\n",
    "FluxHloaded.append(fluxesSur3)\n",
    "FluxHloaded.append(fluxesSur4)\n",
    "FluxHloaded.append(fluxesSur5)\n",
    "FluxHloaded.append(fluxesSur6)\n",
    "# FluxHloaded.append(fluxesSur7)\n",
    "\n",
    "for i in range(1,6):\n",
    "    normFlux = FluxHloaded[i]/FluxHloaded[0]\n",
    "    \n",
    "    np.save(f\"normFluxSurCon{i+1}.npy\", normFlux)"
   ]
  },
  {
   "cell_type": "code",
   "execution_count": null,
   "metadata": {},
   "outputs": [],
   "source": [
    "# Normalized Intensity Graphs\n",
    "\n",
    "normFluxCon2 = np.load(\"normFluxSurCon2.npy\")\n",
    "normFluxCon12 = np.load(\"normFluxSurCon3.npy\")\n",
    "normFluxCon22 = np.load(\"normFluxSurCon4.npy\")\n",
    "normFluxCon44 = np.load(\"normFluxSurCon5.npy\")\n",
    "normFluxCon80 = np.load(\"normFluxSurCon6.npy\")\n",
    "# normFluxCon120 = np.load(\"normFluxSurCon7.npy\")\n",
    "\n",
    "fig, ax=plt.subplots()\n",
    "\n",
    "wave = data.ray.wavelength\n",
    "rows = ('0.2 sec','1.2 sec','2.2 sec','4 sec','6 sec','12 sec')\n",
    "colors = plt.cm.tab10(np.linspace(0.5, 1, len(rows)))\n",
    "\n",
    "# ax.ticklabel_format(useMathText=True)\n",
    "\n",
    "ax.plot(wave[indices], normFluxCon2,label='0.2 sec',color=colors[0],linewidth=0.8)\n",
    "ax.plot(wave[indices], normFluxCon12,label='1.2 sec',color=colors[1],linewidth=0.8)\n",
    "ax.plot(wave[indices], normFluxCon22,label='2.2 sec',color=colors[2],linewidth=0.8)\n",
    "ax.plot(wave[indices], normFluxCon44,label='4.4 sec',color=colors[3],linewidth=0.8)\n",
    "ax.plot(wave[indices], normFluxCon80,label='8.0 sec',color=colors[4],linewidth=0.8)\n",
    "# ax.plot(wave[indices], normFluxCon120,label='12.0 sec',color=colors[5],linewidth=0.8)\n",
    "\n",
    "plt.subplots_adjust(left=0.2, bottom=0.1)\n",
    "ax.legend()\n",
    "plt.xlabel(r'$\\lambda$ (nm)')\n",
    "plt.ylabel(r'Normalized Flux')\n",
    "# plt.yticks(values, [\"{:.1e}\".format(val) for val in values])\n",
    "# #ax.set_yscale('log')\n",
    "plt.axis([0, 450, -10000, 2e5])\n",
    "plt.subplots_adjust(left=0.2, bottom=0.1)\n",
    "\n",
    "plt.savefig(\"FluxnormSur_.svg\", format=\"svg\")\n",
    "plt.savefig(\"Fluxnorm_\")"
   ]
  },
  {
   "source": [
    "# Calculating Normalized Intesity"
   ],
   "cell_type": "markdown",
   "metadata": {}
  },
  {
   "cell_type": "code",
   "execution_count": null,
   "metadata": {},
   "outputs": [],
   "source": [
    "data = rh15d.Rh15dout(rhRepoPath / \"rh15d/run/output\")\n",
    "hf=h5py.File(rhRepoPath / \"rh15d/run/output/output_ray.hdf5\",\"r\")\n",
    "\n",
    "hf.keys()\n",
    "\n",
    "wave = data.ray.wavelength\n",
    "\n",
    "print(data.ray.intensity.shape)\n"
   ]
  },
  {
   "cell_type": "code",
   "execution_count": null,
   "metadata": {},
   "outputs": [],
   "source": [
    "%matplotlib widget\n",
    "# Syntetic Disk-centre Intensity RH Graphs\n",
    "Intencity1 = data.ray.intensity[0,0,:]\n",
    "Intencity2 = data.ray.intensity[2,0,:]\n",
    "Intencity3 = data.ray.intensity[12,0,:]\n",
    "Intencity4 = data.ray.intensity[22,0,:]\n",
    "Intencity5 = data.ray.intensity[40,0,:]\n",
    "# Intencity6 = data.ray.intensity[40,0,:]\n",
    "# Intencity7 = data.ray.intensity[120,0,:]\n",
    "\n",
    "fig, ax = plt.subplots()\n",
    "ax.plot(wave[indices],Intencity1,label='0 sec')\n",
    "ax.plot(wave[indices],Intencity2,label='0.2 sec')\n",
    "ax.plot(wave[indices],Intencity3,label='1.2 sec')\n",
    "ax.plot(wave[indices],Intencity4,label='2.2 sec')\n",
    "ax.plot(wave[indices],Intencity5,label='4.0 sec')\n",
    "# ax.plot(wave[indices],Intencity6,label='8 sec')\n",
    "# ax.plot(wave[indices],Intencity7,label='12 sec')\n",
    "\n",
    "# ax.plot(wave[indices], ImuLoaded5,'b-',label=r'$\\mu$5')\n",
    "\n",
    "plt.legend(loc='best')\n",
    "plt.xlabel(r'$\\lambda$ (nm)')\n",
    "plt.ylabel(r'Intensity (Stokes I) ($W/(m^2*Hz*sr)$')\n",
    "# plt.axis([0, 450, -10000, 6e5])\n",
    "\n",
    "plt.savefig(\"Intensitym1_.svg\", format=\"svg\")\n"
   ]
  },
  {
   "cell_type": "code",
   "execution_count": null,
   "metadata": {},
   "outputs": [],
   "source": [
    "# Normalized Intensity Graphs\n",
    "\n",
    "Intencityloaded = []\n",
    "Intencityloaded.append(Intencity1)\n",
    "Intencityloaded.append(Intencity2)\n",
    "Intencityloaded.append(Intencity3)\n",
    "Intencityloaded.append(Intencity4)\n",
    "Intencityloaded.append(Intencity5)\n",
    "Intencityloaded.append(Intencity6)\n",
    "# Intencityloaded.append(Intencity7)\n",
    "\n",
    "for i in range(1,6):\n",
    "    normIntencity = Intencityloaded[i]/Intencityloaded[0]\n",
    "    \n",
    "    np.save(f\"normIntencityCon{i+1}.npy\", normIntencity)"
   ]
  },
  {
   "cell_type": "code",
   "execution_count": null,
   "metadata": {},
   "outputs": [],
   "source": [
    "%matplotlib widget\n",
    "# normIntencityCon1 = np.load(\"normIntencityCon0.npy\")\n",
    "normIntencityCon2 = np.load(\"normIntencityCon2.npy\")\n",
    "normIntencityCon3 = np.load(\"normIntencityCon3.npy\")\n",
    "normIntencityCon4 = np.load(\"normIntencityCon4.npy\")\n",
    "normIntencityCon5 = np.load(\"normIntencityCon5.npy\")\n",
    "# normIntencityCon6 = np.load(\"normIntencityCon6.npy\")\n",
    "# normIntencityCon7 = np.load(\"normIntencityCon7.npy\")\n",
    "\n",
    "fig, ax = plt.subplots()\n",
    "\n",
    "wave = data.ray.wavelength\n",
    "rows = ('0.2 sec','1.2 sec','2.2 sec','4 sec','6 sec','12 sec')\n",
    "colors = plt.cm.tab10(np.linspace(0.3, 0.8, len(rows)))\n",
    "\n",
    "# ax.ticklabel_format(useMathText=True)\n",
    "\n",
    "# ax.plot(wave[indices], normFluxCon2,label='0.2 sec',color=colors[0],linewidth=0.8)\n",
    "# ax.plot(indices,normIntencityCon1,label='0 sec')\n",
    "ax.plot(wave[indices],normIntencityCon2,label='0.2 sec',color=colors[0],linewidth=0.8)\n",
    "ax.plot(wave[indices],normIntencityCon3,label='1.2 sec',color=colors[1],linewidth=0.8)\n",
    "ax.plot(wave[indices],normIntencityCon4,label='2.2 sec',color=colors[2],linewidth=0.8)\n",
    "ax.plot(wave[indices],normIntencityCon5,label='4.0 sec',color=colors[3],linewidth=0.8)\n",
    "# ax.plot(wave[indices],normIntencityCon6,label='8 sec',color=colors[4],linewidth=0.8)\n",
    "\n",
    "# ax.plot(wave[indices],normIntencityCon7,label='12 sec')\n",
    "\n",
    "\n",
    "plt.legend(loc='best')\n",
    "plt.xlabel(r'$\\lambda$ (nm)')\n",
    "plt.ylabel(r'Normalized Intensity (Stokes I)')\n",
    "# plt.yticks(values, [\"{:.1e}\".format(val) for val in values])\n",
    "\n",
    "plt.axis([0, 450, -10000, 6e5])\n",
    "plt.subplots_adjust(left=0.2, bottom=0.1)\n",
    "\n",
    "plt.savefig(\"IntensityRH_.svg\", format=\"svg\")\n",
    "plt.savefig(\"IntensityRH\")\n"
   ]
  },
  {
   "source": [
    "# Total Flux in UV bands"
   ],
   "cell_type": "markdown",
   "metadata": {}
  },
  {
   "cell_type": "code",
   "execution_count": null,
   "metadata": {
    "tags": []
   },
   "outputs": [],
   "source": [
    "# calculating total flux and effective temperature\n",
    "# first calculate Flux (lambda), then integrate for choosen wavelengt bands\n",
    "from scipy import integrate\n",
    "wave = data.ray.wavelength\n",
    "\n",
    "const1 = 2.99792458e+21\n",
    "fluxesSurfaceMu = []\n",
    "# fluxesImu = np.load(\"fluxesImu0.npy\")\n",
    "# fluxesImu  = np.load(\"fluxesImu1.npy\")\n",
    "# fluxesImu  = np.load(\"fluxesImu6.npy\")\n",
    "# fluxesImu  = np.load(\"fluxesImu11.npy\")\n",
    "# fluxesImu  = np.load(\"fluxesImu2.npy\")\n",
    "# fluxesImu  = np.load(\"fluxesImu12.npy\")\n",
    "# fluxesImu  = np.load(\"fluxesImu22.npy\")\n",
    "fluxesImu  = np.load(\"fluxesImu40.npy\")\n",
    "# fluxesImu  = np.load(\"fluxesImu60.npy\")\n",
    "\n",
    "selectedWave = []\n",
    "# fluxesSurfaceMu.append(const1 * fluxesImu[0] /(np.power(wave[0] * 10,2)))\n",
    "# print(fluxesSurfaceMu)\n",
    "for i in indices:\n",
    "    v = wave[i].data\n",
    "    if v > 100 and v < 280:\n",
    "    # if v > 280 and v < 315:\n",
    "    # if v > 315 and v < 400:\n",
    "        fluxesSurfaceMu.append(const1 * fluxesImu[i] /(np.power(wave[i].data * 10,2)))\n",
    "        selectedWave.append(wave[i])\n",
    "        print(v)    \n",
    "fluxesSurfaceMuNP = np.array(fluxesSurfaceMu)\n",
    "selectedWaveNP = np.array(selectedWave)\n",
    "print(fluxesSurfaceMuNP.shape, selectedWaveNP.shape)"
   ]
  },
  {
   "cell_type": "code",
   "execution_count": null,
   "metadata": {},
   "outputs": [],
   "source": [
    "fluxesSum = integrate.trapz(fluxesSurfaceMuNP[:], selectedWaveNP*10)\n",
    "print(\"{:e}\".format(fluxesSum))"
   ]
  }
 ]
}