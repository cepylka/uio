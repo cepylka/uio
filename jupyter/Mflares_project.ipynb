{
 "metadata": {
  "language_info": {
   "codemirror_mode": {
    "name": "ipython",
    "version": 3
   },
   "file_extension": ".py",
   "mimetype": "text/x-python",
   "name": "python",
   "nbconvert_exporter": "python",
   "pygments_lexer": "ipython3",
   "version": "3.8.7"
  },
  "orig_nbformat": 2,
  "kernelspec": {
   "name": "python3",
   "display_name": "Python 3",
   "language": "python"
  }
 },
 "nbformat": 4,
 "nbformat_minor": 2,
 "cells": [
  {
   "cell_type": "code",
   "execution_count": 1,
   "metadata": {},
   "outputs": [],
   "source": [
    "%matplotlib widget\n",
    "#%matplotlib inline\n",
    "\n",
    "\n",
    "import numpy as np\n",
    "import matplotlib.pyplot as plt\n",
    "from helita.sim import rh15d \n",
    "from helita.vis import rh15d_vis\n",
    "\n",
    "from scipy.integrate import quadrature\n",
    "from scipy.integrate import cumtrapz\n",
    "\n",
    "from pathlib import Path\n",
    "\n",
    "rhRepoPath = Path(\"/Users/elka127/Documents/code/rh\")\n",
    "#set_matplotlib_formats('svg')\n",
    "# plt.rc('legend', frameon=False)\n",
    "# plt.rc('figure', figsize=(7, 7 / 1.75)) # Larger figure sizes\n",
    "# plt.rc('font', size=12)"
   ]
  },
  {
   "source": [
    "# With the Bifrost Snapshot or with existing atmosperes' models\n",
    "\n",
    "```\n",
    "# There are four 1D models of flares on M-dwarfs (/mn/stornext/u3/matsc/rh/Atmos/mflares/). \n",
    "# These are:\n",
    "\n",
    "# radyn_out.F13_dpl_GRID_pt1s.ncdf\n",
    "# tx.m2F12-37.max2F12_Ec37_d3.ncdf\n",
    "# tx.m5F12-37.max5F12_Ec37_d3.ncdf\n",
    "# tx.mF13-37.maxF13_Ec37_d3_dt0.1_10s.ncdf\n",
    "\n",
    "# the three \"tx\" models all have a low cut-off energy of 37 keV and a power index of 3 \n",
    "# (see Allred et al. 2015) \n",
    "# but vary in maximum beam energy: 2e12, 5e12 and 1e13 erg/cm^2/s. \n",
    "\n",
    "#The model from Kowalski et al. 2015 is radyn_out.F13_dpl_GRID_pt1s.ncdf.\n",
    "```\n",
    "\n"
   ],
   "cell_type": "markdown",
   "metadata": {}
  },
  {
   "cell_type": "code",
   "execution_count": null,
   "metadata": {},
   "outputs": [],
   "source": [
    "import h5py\n",
    "from mpl_toolkits.axes_grid1 import make_axes_locatable\n",
    "dpath_sim = \"/Users/elka127/Documents/code/rh/Atmos/\"\n"
   ]
  },
  {
   "cell_type": "code",
   "execution_count": null,
   "metadata": {},
   "outputs": [],
   "source": [
    "# to read xarray.Dataset and see dimentions, coordinates, data variables and attributes \n",
    "import xarray\n",
    "# atmos = xarray.open_dataset(dpath_sim+\"radyn_out.F13_dpl_GRID_pt1s.ncdf\")\n",
    "#atmos = xarray.open_dataset(dpath_sim+\"tx.m2F12-37.max2F12_Ec37_d3.ncdf\")\n",
    "#atmos = xarray.open_dataset(dpath_sim+\"tx.m5F12-37.max5F12_Ec37_d3.ncdf\")\n",
    "atmos = xarray.open_dataset(dpath_sim+\"tx.mF13-37.maxF13_Ec37_d3_dt0.1_10s.ncdf\")\n",
    "atmos\n",
    "# out = xarray.open_dataset(\"/Users/elka127/Documents/code/rh/rh15d/run/output/output_ray.hdf5\")\n",
    "# out\n",
    "#output_indata.hdf5 file.\n",
    "\n",
    "#output_ray.hdf5 file."
   ]
  },
  {
   "cell_type": "code",
   "execution_count": null,
   "metadata": {},
   "outputs": [],
   "source": [
    "hf=h5py.File(dpath_sim+\"tx.mF13-37.maxF13_Ec37_d3_dt0.1_10s.ncdf\")\n",
    "tg1t=np.transpose(hf['temperature'][0,:,0,:])\n",
    "\n",
    "z1t=np.transpose(hf['z'][0,:,0,:]/1.e6)\n",
    "print(z1t.shape, tg1t.shape)"
   ]
  },
  {
   "cell_type": "code",
   "execution_count": null,
   "metadata": {},
   "outputs": [],
   "source": [
    "%matplotlib widget\n",
    "\n",
    "\n",
    "fig, axs=plt.subplots()\n",
    "im=axs.matshow(z1t, aspect='auto', origin='lower',extent=[0,10,0,18.9])\n",
    "cbar=plt.colorbar(im)\n",
    "axs.set_aspect('equal')\n",
    "# plt.axes().set_aspect('equal')\n",
    "# plt.show(im)\n",
    "axs.set_xlabel('time')\n",
    "axs.set_ylabel('real height')\n"
   ]
  },
  {
   "source": [
    "```\n",
    "#netcdf4 to hdf5\n",
    "```"
   ],
   "cell_type": "markdown",
   "metadata": {}
  },
  {
   "cell_type": "code",
   "execution_count": null,
   "metadata": {},
   "outputs": [],
   "source": [
    "%matplotlib widget\n",
    "import matplotlib.pyplot as plt\n",
    "\n",
    "hf=h5py.File(dpath_sim+\"radyn_out.F13_dpl_GRID_pt1s.ncdf\",\"r\")\n",
    "# hf=h5py.File(dpath_sim+\"tx.m2F12-37.max2F12_Ec37_d3.ncdf\",\"r\")\n",
    "# hf=h5py.File(dpath_sim+\"tx.m5F12-37.max5F12_Ec37_d3.ncdf\",\"r\")\n",
    "# hf=h5py.File(dpath_sim+\"tx.mF13-37.maxF13_Ec37_d3_dt0.1_10s.ncdf\",\"r\")\n",
    "\n",
    "hf.keys()\n",
    "\n",
    "tg1t=np.transpose(hf['temperature'][0,:,0,:])\n",
    "z1t=np.transpose(hf['z'][0,:,0,:]/1.e6)\n",
    "\n",
    "vz1t=np.transpose(hf['velocity_z'][0,:,0,:])\n",
    "ed1t=np.transpose(hf['electron_density'][0,:,0,:])\n",
    "\n",
    "\n",
    "\n",
    "fig, ax=plt.subplots()\n",
    "# cbar=plt.colorbar()\n",
    "# ax.plot(z1t[:,:],np.log10(tg1t[:,:]))\n",
    "# temperature189 = []\n",
    "# height189 = []\n",
    "# n = 50\n",
    "n = 52\n",
    "# n = 189\n",
    "colors = plt.cm.jet(np.linspace(0,1,n))\n",
    "for i in range(n):\n",
    "# for i in [10,11,12,13]:\n",
    "\n",
    "    ax.plot(z1t[:,i],np.log10(tg1t[:,i]), color=colors[i])\n",
    "    # ax.plot(z1t[:,i],(vz1t[:,i]), color=colors[i])\n",
    "    # ax.plot(z1t[:,i],(np.log10(ed1t[:,i])), color=colors[i])\n",
    "\n",
    "\n",
    "    line = ax.lines[i]\n",
    "    #temperature189tmp = line.get_ydata()\n",
    "    # temperature189.append(line.get_ydata())\n",
    "    # height189.append(line.get_xdata())\n",
    "\n",
    "# # fig.canvas.draw()\n",
    "# cbar=plt.colorbar(ax)\n",
    "plt.xlabel('Height (Mm)')\n",
    "\n",
    "\n",
    "\n",
    "# plt.ylabel('Velocity (m/s)')\n",
    "plt.xlim(-0.2,0.5)\n",
    "# plt.ylim(-1e5,2e5)\n",
    "# plt.ylabel('lg(Electron Density ())')\n",
    "#plt.title('m2F12-37 Atmos’)\n",
    "# plt.title('txmF13-37 Atmos’)\n",
    "plt.ylabel('lg(Temperature (K))')\n",
    "plt.savefig('temperature')\n",
    "# plt.savefig('velocity')\n",
    "# plt.savefig('eldensity')\n",
    "# data_0 = np.frombuffer(fig.canvas.tostring_rgb(), dtype=np.uint8)\n",
    "print(tg1t.shape)\n"
   ]
  },
  {
   "cell_type": "code",
   "execution_count": null,
   "metadata": {},
   "outputs": [],
   "source": [
    "def findNearestValue(array, value):\n",
    "    array = np.asarray(array)\n",
    "    idx = (np.abs(array - value)).argmin()\n",
    "    return array[idx]\n",
    "\n",
    "def findNearestIndex(array, value):\n",
    "    array = np.asarray(array)\n",
    "    idx = (np.abs(array - value)).argmin()\n",
    "    return idx\n",
    "\n",
    "# print(z1t.min(), z1t.max())\n",
    "lineyka = np.linspace(z1t.min(), z1t.max(), 249)\n",
    "# print(lineyka)\n",
    "\n",
    "vseStro4ki = []\n",
    "vsegoVremen = z1t.shape[1]\n",
    "for i in range(vsegoVremen):\n",
    "    tmp = []   \n",
    "    for ii in lineyka:\n",
    "        nindex = findNearestIndex(z1t[i,:], ii)\n",
    "\n",
    "        #print(tg1t[i,nindex])\n",
    "        # tmp.append(tg1t[i,nindex])\n",
    "        # tmp.append(vz1t[i,nindex])\n",
    "        tmp.append(ed1t[i,nindex])\n",
    "\n",
    "    vseStro4ki.append(tmp)\n",
    "\n",
    "# temperatureF13 = np.array(vseStro4ki)\n",
    "# velocityzF13 = np.array(vseStro4ki)\n",
    "electrondF13 = np.array(vseStro4ki)\n",
    "\n",
    "# print(velocityzF13.shape)"
   ]
  },
  {
   "cell_type": "code",
   "execution_count": null,
   "metadata": {},
   "outputs": [],
   "source": [
    "%matplotlib widget\n",
    "\n",
    "fig, axs = plt.subplots()\n",
    "\n",
    "\n",
    "# im=axs.matshow(temperatureF13,aspect='auto', origin='lower',extent=[0,10,0,5],cmap='plasma')\n",
    "# im=axs.matshow(velocityzF13,aspect='auto', origin='lower',extent=[0,10,0,5],cmap='inferno')\n",
    "im=axs.matshow(np.log10(electrondF13),aspect='auto', origin='lower',extent=[0,10,0,5],cmap='magma')\n",
    "\n",
    "cbar=plt.colorbar(im)\n",
    "# cbar.set_label('Temperature, log10, K')\n",
    "# cbar.set_label('Velocity Z, m$s^{-1}$')\n",
    "\n",
    "cbar.set_label(f'Electron Density, log10, m$^{-3}$')\n",
    "\n",
    "# ax.set_xlim(10)\n",
    "# ax.set_ylim(18.9)\n",
    "axs.set_xlabel('Height (Mm)')\n",
    "axs.set_ylabel('Time, s')"
   ]
  },
  {
   "cell_type": "code",
   "execution_count": null,
   "metadata": {},
   "outputs": [],
   "source": [
    "%matplotlib widget\n",
    "\n",
    "fig, axs = plt.subplots()\n",
    "\n",
    "\n",
    "im=axs.matshow(hgt, aspect='auto', origin='lower',extent=[0,10,0,18.9])\n",
    "cbar=plt.colorbar(im)\n",
    "cbar.set_label('Temperature, log10, K')\n",
    "# ax.set_xlim(10)\n",
    "# ax.set_ylim(18.9)\n",
    "axs.set_xlabel('Height (Mm)')\n",
    "axs.set_ylabel('Time, s')"
   ]
  },
  {
   "cell_type": "code",
   "execution_count": null,
   "metadata": {},
   "outputs": [],
   "source": [
    "%matplotlib widget\n",
    "\n",
    "fig, axs = plt.subplots()\n",
    "\n",
    "z = temperature\n",
    "nx, ny = (249, 189)\n",
    "x = np.linspace(0, 10, nx)\n",
    "y = np.linspace(0, 189, ny)\n",
    "xv, yv = np.meshgrid(x, y)\n",
    "\n",
    "# xi = np.linspace(1,6,1)\n",
    "# yi = np.linspace(2,16,2)\n",
    "plt.contourf(xv,yv,z)"
   ]
  },
  {
   "cell_type": "code",
   "execution_count": null,
   "metadata": {},
   "outputs": [],
   "source": [
    "atmos.to_netcdf(\"newfile.hdf5\", format='NETCDF4')"
   ]
  },
  {
   "source": [
    "```\n",
    "# виджет хелиты все равно не работает даже с переделанным файлом из netcdf\n",
    "# строит только 1 график\n",
    "```"
   ],
   "cell_type": "markdown",
   "metadata": {}
  },
  {
   "source": [
    "# Plotting atmospheres in real height"
   ],
   "cell_type": "markdown",
   "metadata": {}
  },
  {
   "cell_type": "code",
   "execution_count": null,
   "metadata": {},
   "outputs": [],
   "source": [
    "%matplotlib widget\n",
    "\n",
    "\n",
    "# hf=h5py.File(dpath_sim+\"radyn_out.F13_dpl_GRID_pt1s.ncdf\",\"r\")\n",
    "# hf=h5py.File(dpath_sim+\"tx.m2F12-37.max2F12_Ec37_d3.ncdf\",\"r\")\n",
    "# hf=h5py.File(dpath_sim+\"tx.m5F12-37.max2F12_Ec37_d3.ncdf\",\"r\")\n",
    "hf=h5py.File(dpath_sim+\"tx.mF13-37.maxF13_Ec37_d3_dt0.1_10s.ncdf\",\"r\")\n",
    "\n",
    "hf.keys()\n",
    "\n",
    "tg1t=np.transpose(hf['temperature'][0,:,0,:])\n",
    "vz1t=np.transpose(hf['velocity_z'][0,:,0,:])\n",
    "ed1t=np.transpose(hf['electron_density'][0,:,0,:])\n",
    "\n",
    "z1t=np.transpose(hf['z'][0,:,0,:]/1.e6)\n",
    "\n",
    "fig, axs=plt.subplots()\n",
    "\n",
    "axs.plot(z1t[:,0],np.log10(tg1t[:,120]),label='12.0 sec')\n",
    "axs.plot(z1t[:,0],np.log10(tg1t[:,75]),label='7.5 sec')\n",
    "axs.plot(z1t[:,0],np.log10(tg1t[:,60]),label='6.0 sec')\n",
    "\n",
    "axs.plot(z1t[:,0],np.log10(tg1t[:,40]),label='4.0 sec')\n",
    "axs.plot(z1t[:,0],np.log10(tg1t[:,22]),label='2.2 sec')\n",
    "axs.plot(z1t[:,0],np.log10(tg1t[:,12]),label='1.2 sec')\n",
    "axs.plot(z1t[:,0],np.log10(tg1t[:,2]),label='0.2 sec')\n",
    "axs.plot(z1t[:,0],np.log10(tg1t[:,1]),label='0.1 sec')\n",
    "\n",
    "\n",
    "# ax.plot(z1t[:,0],np.log10(tg1t[:,0]),'g-',label='0 sec')\n",
    "\n",
    "# ax.plot(z1t[:,0],vz1t[:,135],label='13.5 sec')\n",
    "# ax.plot(z1t[:,0],vz1t[:,90],label='9.0 sec')\n",
    "# ax.plot(z1t[:,0],vz1t[:,60],label='6.0 sec')\n",
    "\n",
    "# ax.plot(z1t[:,0],vz1t[:,40],label='4.0 sec')\n",
    "# ax.plot(z1t[:,0],vz1t[:,22],label='2.2 sec')\n",
    "# ax.plot(z1t[:,0],vz1t[:,12],label='0.2 sec')\n",
    "# ax.plot(z1t[:,0],vz1t[:,2],label='0.2 sec')\n",
    "\n",
    "# ax.plot(z1t[:,0],vz1t[:,1],label='0.1 sec')\n",
    "# ax.plot(z1t[:,0],vz1t[:,0],label='0 sec')\n",
    "\n",
    "# ax.plot(z1t[:,0],np.log10(ed1t[:,130]),label='13.0 sec')\n",
    "# ax.plot(z1t[:,0],np.log10(ed1t[:,100]),label='10.0 sec')\n",
    "# ax.plot(z1t[:,0],np.log10(ed1t[:,75]),label='7.5 sec')\n",
    "\n",
    "# ax.plot(z1t[:,0],np.log10(ed1t[:,40]),label='4.0 sec')\n",
    "#ax.plot(z1t[:,0],np.log10(ed1t[:,22]),label='2.2 sec')\n",
    "# ax.plot(z1t[:,0],np.log10(ed1t[:,12]),label='1.2 sec')\n",
    "# ax.plot(z1t[:,0],np.log10(ed1t[:,2]),label='0.2 sec')\n",
    "# ax.plot(z1t[:,0],np.log10(ed1t[:,0]),label='0 sec')\n",
    "\n",
    "\n",
    "\n",
    "\n",
    "plt.xlabel('Height (Mm)')\n",
    "\n",
    "plt.ylabel('lg(Temperature (K))')\n",
    "# plt.ylabel('Velocity (m/s)')\n",
    "# plt.xlim(-0.2,0.5)\n",
    "# plt.ylim(-1e5,2e5)\n",
    "#plt.ylabel('lg(Electron Density ())')\n",
    "#plt.title('m2F12-37 Atmos’)\n",
    "# plt.title('txmF13-37 Atmos’)\n",
    "\n",
    "axs.legend()  # Add a legend.\n",
    "\n",
    "\n",
    "plt.savefig(\"temperature_.svg\", format=\"svg\")\n",
    "# plt.savefig(\"velocity_z_.svg\", format=\"svg\")\n",
    "# plt.savefig(\"electron_density_.svg\", format=\"svg\")\n"
   ]
  },
  {
   "source": [
    "# Create own wavetable file"
   ],
   "cell_type": "markdown",
   "metadata": {}
  },
  {
   "source": [
    "```\n",
    "# Writes RH wave file (in xdr format). All wavelengths should be in nm.\n",
    "\n",
    "# Parameters\n",
    "# ----------\n",
    "# start: number\n",
    "#     Starting wavelength.\n",
    "# end: number\n",
    "#     Ending wavelength (non-inclusive)\n",
    "# step: number\n",
    "#     Wavelength separation\n",
    "# outfile: string\n",
    "#     Name of file to write.\n",
    "# ewave: 1-D array, optional\n",
    "#    Array of existing wavelengths. Program will make discard points\n",
    "#    to make sure no step is enforced using these points too.\n",
    "# air: boolean, optional\n",
    "#     If true, will at the end convert the wavelengths into vacuum\n",
    "#     wavelengths.\n",
    "```"
   ],
   "cell_type": "markdown",
   "metadata": {}
  },
  {
   "cell_type": "code",
   "execution_count": null,
   "metadata": {},
   "outputs": [],
   "source": [
    "def make_wave_file(my_wave, start=20, end=4020, step=1.5, new_wave=None,\n",
    "                   ewave=None, air=False):\n",
    "                   rh15d.make_wave_file('my_wave.wave', ewave=my_waves)"
   ]
  },
  {
   "cell_type": "code",
   "execution_count": null,
   "metadata": {},
   "outputs": [],
   "source": [
    "rh15d.make_wave_file('My_wave.wave', 20, 4020, 1.5)"
   ]
  },
  {
   "cell_type": "code",
   "execution_count": null,
   "metadata": {},
   "outputs": [],
   "source": [
    "#from helita.sim import rh15d\n",
    "#read exisitng file if needed\n",
    "MY_wave = rh15d.read_wave_file(rhRepoPath / \"Atoms/wave_files/My_wave.wave\")\n"
   ]
  },
  {
   "source": [
    "# Intencity plot for Ca II"
   ],
   "cell_type": "markdown",
   "metadata": {}
  },
  {
   "cell_type": "code",
   "execution_count": null,
   "metadata": {},
   "outputs": [],
   "source": [
    "data = rh15d.Rh15dout(rhRepoPath / \"rh15d/run/output\")"
   ]
  },
  {
   "cell_type": "code",
   "execution_count": null,
   "metadata": {},
   "outputs": [],
   "source": [
    "%matplotlib widget\n",
    "#%matplotlib inline\n",
    "data.ray.intensity.plot()\n",
    "#plt.legend(loc=\"upper left\")\n",
    "plt.xlabel(\"Wavelenght nm\")\n",
    "plt.ylabel(\"Time, s*10\")\n",
    "#plt.axis([20, 1000, 0, 62])"
   ]
  },
  {
   "source": [
    "```\n",
    "# to see what's in the output data\n",
    "```"
   ],
   "cell_type": "markdown",
   "metadata": {}
  },
  {
   "cell_type": "code",
   "execution_count": null,
   "metadata": {},
   "outputs": [],
   "source": [
    "hf=h5py.File(rhRepoPath / \"rh15d/run/output/output_ray.hdf5\",\"r\")\n",
    "\n",
    "hf.keys()\n",
    "data = rh15d.Rh15dout(rhRepoPath / \"rh15d/run/output\")\n",
    "# x = data.ray.x\n",
    "# # tau1.plot()\n",
    "print(data.ray.x.shape)"
   ]
  },
  {
   "source": [
    "# Tau=1 height"
   ],
   "cell_type": "markdown",
   "metadata": {}
  },
  {
   "cell_type": "code",
   "execution_count": null,
   "metadata": {},
   "outputs": [],
   "source": [
    "%matplotlib widget\n",
    "\n",
    "fig, ax=plt.subplots()\n",
    "\n",
    "ax.plot(wave[indices],data.ray.tau_one_height[0,0,indices]/1e6, 'k--',label='0 sec')\n",
    "ax.plot(wave[indices],data.ray.tau_one_height[2,0,indices]/1e6, 'r-',label='0.2 sec')\n",
    "ax.plot(wave[indices],data.ray.tau_one_height[12,0,indices]/1e6, 'r-.',label='1.2 sec')\n",
    "ax.plot(wave[indices],data.ray.tau_one_height[22,0,indices]/1e6, 'b--',label='2.2 sec')\n",
    "ax.plot(wave[indices],data.ray.tau_one_height[40,0,indices]/1e6, 'b-.',label='4. sec')\n",
    "\n",
    "ax.legend(loc=\"upper right\") \n",
    "plt.xlabel(r'$\\lambda$ (nm)')\n",
    "plt.ylabel('Height (Mm)')\n",
    "plt.title(r'$\\tau=1$')\n",
    "plt.savefig(\"Tau_one_height_.svg\", format=\"svg\")\n"
   ]
  },
  {
   "cell_type": "code",
   "execution_count": null,
   "metadata": {
    "tags": []
   },
   "outputs": [],
   "source": [
    "data = rh15d.Rh15dout(rhRepoPath / \"rh15d/run/output\")\n",
    "\n",
    "\n",
    "indices = np.arange(len(data.ray.wavelength))\n",
    "#print(indices)\n",
    "wave.sel(wavelength=91, method=\"nearest\")\n",
    "index91 = np.argmin(np.abs(wave.data - 91))\n",
    "\n",
    "wave.sel(wavelength=123, method=\"nearest\")\n",
    "index123 = np.argmin(np.abs(wave.data - 123))\n",
    "\n",
    "wave.sel(wavelength=393, method=\"nearest\")\n",
    "index393 = np.argmin(np.abs(wave.data - 393))\n",
    "\n",
    "wave.sel(wavelength=854, method=\"nearest\")\n",
    "index854 = np.argmin(np.abs(wave.data - 854))\n",
    "\n",
    "# index500 = np.argmin(np.abs(wave.data - 500))\n",
    "f = open(rhRepoPath / \"rh15d/run/ray.input\", \"w\")  # this will overwrite any existing file!\n",
    "f.write('1.00\\n')\n",
    "output = str(len(indices) + 4)\n",
    "# ololo = 0\n",
    "for ind in indices:\n",
    "    \n",
    "    output += f\" {ind}\"\n",
    "output += f\" {index91}\\n\"\n",
    "output += f\" {index123}\\n\"\n",
    "output += f\" {index393}\\n\"\n",
    "output += f\" {index854}\\n\"\n",
    "\n",
    "\n",
    "f.write(output)\n",
    "f.close()\n",
    "\n",
    "\n"
   ]
  },
  {
   "cell_type": "code",
   "execution_count": null,
   "metadata": {},
   "outputs": [],
   "source": [
    "data = rh15d.Rh15dout(rhRepoPath / \"rh15d/run/output\")\n",
    "wave = data.ray.wavelength\n",
    "indices = np.arange(len(wave))[(wave > 200) & (wave < 500)]\n",
    "#If we want to see also one particular wavelength (500 in example)\n",
    "wave.sel(wavelength=500, method=\"nearest\")\n",
    "index500 = np.argmin(np.abs(wave.data - 500))\n",
    "\n",
    "with open(rhRepoPath / \"rh15d/run/ray.input\", \"w\") as f:\n",
    "    f.write(\"1.00\\n\")\n",
    "    output = str(len(indices) + 1)\n",
    "    for ind in indices:\n",
    "        output += f\" {ind}\"\n",
    "    output += f\" {index500}\\n\"\n",
    "    f.write(output)"
   ]
  },
  {
   "source": [
    "# Writing ray.input file\n",
    "```\n",
    "# Selecting wavelengths for detailed output\n",
    "# Choosing all wavelenghts range\n",
    "# Ray input includes all indexes\n",
    "```"
   ],
   "cell_type": "markdown",
   "metadata": {}
  },
  {
   "cell_type": "code",
   "execution_count": null,
   "metadata": {},
   "outputs": [],
   "source": [
    "data = rh15d.Rh15dout(rhRepoPath / \"rh15d/run/output\")\n",
    "indices = np.arange(len(data.ray.wavelength))\n",
    "with open(rhRepoPath / \"rh15d/run/ray.input\", \"w\") as f:\n",
    "\n",
    "    f.write('1.00\\n')\n",
    "    output = str(len(indices)+1)\n",
    "    for ind in indices:\n",
    "    \n",
    "        output += f\" {ind}\"\n",
    "    f.write(output)\n",
    "f.close()"
   ]
  },
  {
   "source": [
    "```\n",
    "#Need to run RH15D again with a new ray.input file "
   ],
   "cell_type": "markdown",
   "metadata": {}
  },
  {
   "source": [
    "# Calculating Flux from Intensity(mu)"
   ],
   "cell_type": "markdown",
   "metadata": {}
  },
  {
   "source": [
    "```\n",
    "# reading new output\n",
    "# writing all tau (time) in one array\n",
    "```"
   ],
   "cell_type": "markdown",
   "metadata": {}
  },
  {
   "cell_type": "code",
   "execution_count": 2,
   "metadata": {},
   "outputs": [
    {
     "output_type": "stream",
     "name": "stderr",
     "text": [
      "/Users/elka127/Documents/code/helita/helita/sim/rh15d.py:40: FutureWarning: The autoclose argument is no longer used by xarray.open_dataset() and is now ignored; it will be removed in a future version of xarray. If necessary, you can control the maximum number of simultaneous open files with xarray.set_options(file_cache_maxsize=...).\n",
      "  setattr(self, g, xr.open_dataset(infile, group=g, autoclose=True))\n",
      "--- Read /Users/elka127/Documents/code/rh/rh15d/run/output/output_aux.hdf5 file.\n",
      "--- Read /Users/elka127/Documents/code/rh/rh15d/run/output/output_indata.hdf5 file.\n",
      "--- Read /Users/elka127/Documents/code/rh/rh15d/run/output/output_ray.hdf5 file.\n",
      "1644\n",
      "(50, 1, 249)\n",
      "/Users/elka127/Documents/code/helita/helita/sim/rh15d.py:53: FutureWarning: The autoclose argument is no longer used by xarray.open_dataset() and is now ignored; it will be removed in a future version of xarray. If necessary, you can control the maximum number of simultaneous open files with xarray.set_options(file_cache_maxsize=...).\n",
      "  self.ray = xr.open_dataset(infile, autoclose=True)\n"
     ]
    }
   ],
   "source": [
    "data = rh15d.Rh15dout(rhRepoPath / \"rh15d/run/output\")\n",
    "\n",
    "indices = np.arange(len(data.ray.wavelength))\n",
    "print(len(indices))\n",
    "print(data.atmos.height_scale.shape)"
   ]
  },
  {
   "cell_type": "code",
   "execution_count": 3,
   "metadata": {
    "tags": []
   },
   "outputs": [
    {
     "output_type": "stream",
     "name": "stdout",
     "text": [
      "--- Read /Users/elka127/Documents/code/rh/rh15d/run/output/output_aux.hdf5 file.\n--- Read /Users/elka127/Documents/code/rh/rh15d/run/output/output_indata.hdf5 file.\n--- Read /Users/elka127/Documents/code/rh/rh15d/run/output/output_ray.hdf5 file.\n"
     ]
    }
   ],
   "source": [
    "data = rh15d.Rh15dout(rhRepoPath / \"rh15d/run/output\")\n",
    "indices = np.arange(len(data.ray.wavelength))\n",
    "aar = [0]\n",
    "for a in aar:\n",
    "    height = data.atmos.height_scale[a, 0].dropna('height')  \n",
    "    \n",
    "    index = []\n",
    "    for i in indices:\n",
    "        idx = np.argmin(np.abs(data.ray.wavelength.data - data.ray.wavelength[i].data))\n",
    "        index.append(idx)\n",
    "    massivTau = []\n",
    "    for i in indices:\n",
    "        x = cumtrapz(data.ray.chi[a, 0, :, i].dropna('height'), x=-height)\n",
    "        x = np.concatenate([[1e-20], x])\n",
    "        massivTau.append(x)\n",
    "    np.save(f\"massivTau-{a}\", massivTau)\n"
   ]
  },
  {
   "source": [
    "```\n",
    "# calculating I(\\mu) for 5 \\mu\n",
    "```"
   ],
   "cell_type": "markdown",
   "metadata": {}
  },
  {
   "cell_type": "code",
   "execution_count": 4,
   "metadata": {
    "tags": []
   },
   "outputs": [
    {
     "output_type": "stream",
     "name": "stdout",
     "text": [
      "Всего элементоу: 1644\n",
      "Перший элемент: 3.0706765680621064e-13\n",
      "Второй элемент: 1.8578876156939276e-13\n",
      "Последний элемент: 2.973766312875469e-09\n",
      "Всего элементоу: 1644\n",
      "Перший элемент: 6.24445080599253e-14\n",
      "Второй элемент: 3.7779003104276987e-14\n",
      "Последний элемент: 3.4467433846712463e-09\n",
      "Всего элементоу: 1644\n",
      "Перший элемент: 2.882151149182473e-14\n",
      "Второй элемент: 1.743688815887308e-14\n",
      "Последний элемент: 3.768387692309922e-09\n",
      "Всего элементоу: 1644\n",
      "Перший элемент: 1.8734172246229362e-14\n",
      "Второй элемент: 1.1334060576543527e-14\n",
      "Последний элемент: 3.968976889675725e-09\n",
      "Всего элементоу: 1644\n",
      "Перший элемент: 1.5120357786827066e-14\n",
      "Второй элемент: 9.147715612153682e-15\n",
      "Последний элемент: 4.073953663338796e-09\n"
     ]
    }
   ],
   "source": [
    "from scipy import integrate\n",
    "\n",
    "sourceFunction = data.ray.source_function\n",
    "\n",
    "mu = [0.0469101,0.230765,0.500000,0.769235,0.953090]\n",
    "weightMu = [0.118463,0.239314,0.284444,0.239314,0.118463]\n",
    "massivTau = np.load(\"massivTau-0.npy\")\n",
    "# intensityMu =[]\n",
    "for m in range(5):\n",
    "    intensityMu = []\n",
    "\n",
    "    for y in indices:\n",
    "    \n",
    "        tmpMu = 0\n",
    "        # for i in range(len(massivTau[y])):\n",
    "        # x = np.log(massivTau[y])\n",
    "        \n",
    "        x = massivTau[y]\n",
    "        # x1 = np.log10(massivTau[y])\n",
    "        # x = np.log(x)\n",
    "        # tmpMu = integrate.trapz(sourceFunction[0,0,:,y].data * np.exp(-x[:]/mu), x)\n",
    "        tmpMu = integrate.trapz(sourceFunction[0,0,:,y].data * np.exp(-x[:]/mu[m]), x) \n",
    "        # tmpMu = integrate.simps(sourceFunction[1,0,:,y].data * np.exp(-x[:]/mu[m]), x)\n",
    "        # tmpMu = np.power(tmpMu, 10)\n",
    "        \n",
    "        intensityMu.append(1/mu[m] * tmpMu)\n",
    "        # intensityMu.append(tmpMu)\n",
    "    np.save(f\"intensityMu-{m+1}.npy\", intensityMu)\n",
    "\n",
    "    print(f\"Всего элементоу: {len(intensityMu)}\")\n",
    "    print(f\"Перший элемент: {intensityMu[0]}\")\n",
    "    print(f\"Второй элемент: {intensityMu[1]}\")\n",
    "    print(f\"Последний элемент: {intensityMu[1643]}\")\n",
    "\n",
    "# ---\n",
    "\n",
    "# fig, ax = plt.subplots()\n",
    "\n",
    "# ax.plot(data.atmos.height_scale[2,0]/1e6,sourceFunction[2,0,:,0],label='0.2 sec')\n",
    "#ax.plot(np.log10(massivTau[792]),sourceFunction[22,0,:,0],label='0.2 sec')\n"
   ]
  },
  {
   "cell_type": "code",
   "execution_count": 5,
   "metadata": {},
   "outputs": [
    {
     "output_type": "display_data",
     "data": {
      "text/plain": "Canvas(toolbar=Toolbar(toolitems=[('Home', 'Reset original view', 'home', 'home'), ('Back', 'Back to previous …",
      "application/vnd.jupyter.widget-view+json": {
       "version_major": 2,
       "version_minor": 0,
       "model_id": "c869438796164cf588f636aea409faa6"
      }
     },
     "metadata": {}
    }
   ],
   "source": [
    "%matplotlib widget\n",
    "\n",
    "wave = data.ray.wavelength\n",
    "# ImuLoaded = np.load(\"IntensityMu12.npy\")\n",
    "\n",
    "ImuLoaded1 = np.load(\"IntensityMu-1.npy\")\n",
    "ImuLoaded2 = np.load(\"IntensityMu-2.npy\")\n",
    "ImuLoaded3 = np.load(\"IntensityMu-3.npy\")\n",
    "ImuLoaded4 = np.load(\"IntensityMu-4.npy\")\n",
    "ImuLoaded5 = np.load(\"IntensityMu-5.npy\")\n",
    "# # print(ImuLoaded1.shape)\n",
    "fig, ax=plt.subplots()\n",
    "# #np.load(\"Flux.npy\")\n",
    "\n",
    "\n",
    "\n",
    "# ax.plot(wave[indices], ImuLoaded,'k--',label=r'$\\mu$1')\n",
    "\n",
    "# ax.plot(wave[indices], ImuLoaded5,'r-',label=r'$\\mu$0.95')\n",
    "# ax.plot(wave[indices],data.ray.intensity[12,0,indices],'g-.',label='1.2 sec')\n",
    "\n",
    "ax.plot(wave[indices], ImuLoaded1,'k--',label=r'$\\mu$1')\n",
    "ax.plot(wave[indices], ImuLoaded2,'k-',label=r'$\\mu$2')\n",
    "ax.plot(wave[indices], ImuLoaded3,'g-',label=r'$\\mu$3')\n",
    "ax.plot(wave[indices], ImuLoaded4,'r-',label=r'$\\mu$4')\n",
    "ax.plot(wave[indices], ImuLoaded5,'b-',label=r'$\\mu$5')\n",
    "\n",
    "ax.legend()\n",
    "plt.xlabel(r'$\\lambda$ (nm)')\n",
    "plt.ylabel(r'Intensity (Stokes I) ($W/(m^2*Hz*sr)$')\n",
    "#ax.set_yscale('log')\n",
    "#plt.axis([20, 4000, 0, 8e-8])\n",
    "plt.savefig(\"Intencity_.svg\", format=\"svg\")"
   ]
  },
  {
   "cell_type": "code",
   "execution_count": null,
   "metadata": {
    "tags": []
   },
   "outputs": [],
   "source": [
    "from scipy import integrate\n",
    "\n",
    "\n",
    "   \n",
    "sourceFunction = data.ray.source_function\n",
    "massivTau = np.load(\"massivTau-0.npy\")\n",
    "\n",
    "# a = 0.4342944819 #(log_10(e))\n",
    "# mu = [0.0469101,0.230765,0.500000,0.769235,0.953090]\n",
    "# weightMu = [0.118463,0.239314,0.284444,0.239314,0.118463]\n",
    "# mu = 1.0\n",
    "intensityMu =[]\n",
    "\n",
    "for y in indices: \n",
    "    tmpMu = 0\n",
    "    # x = np.log10(massivTau[y])\n",
    "    # print(x)\n",
    "    x = massivTau[y]\n",
    "    # tmpMu = integrate.simps(sourceFunction[0,0,:,y].data * np.exp(-x[:]), np.log10(x))\n",
    "        # tmpMu = np.power(tmpMu, 10)\n",
    "    \n",
    "    tmpMu = integrate.trapz(np.log(sourceFunction[0,0,:,y].data * np.exp(-(x[:]))),np.log(x))\n",
    "    # tmpMu = integrate.trapz(sourceFunction[120,0,:,y].data * np.exp(-(x[:])),np.log10(x))\n",
    "    # print(tmpMu)\n",
    "    # intensityMu.append(tmpMu*(np.power(10,np.log10(tmpMu))))\n",
    "    # print(10**tmpMu,\"\\n\",tmpMu)\n",
    "    # intensityMu.append(tmpMu)\n",
    "    # print(tmpMu)\n",
    "    # print('---')\n",
    "    # print(-np.log10(tmpMu))\n",
    "    intensityMu.append(tmpMu)\n",
    "    # intensityMu.append(tmpMu)\n",
    "    #2.71828182846e+9\n",
    "print(intensityMu[0],\"\\n\",intensityMu[1],\"\\n\",intensityMu[93],\"\\n\", intensityMu[387],\"\\n\"   )\n",
    "np.save(f\"Intensity1Mu0.npy\", intensityMu)\n"
   ]
  },
  {
   "cell_type": "code",
   "execution_count": null,
   "metadata": {},
   "outputs": [],
   "source": [
    "%matplotlib widget\n",
    "data = rh15d.Rh15dout(rhRepoPath / \"rh15d/run/output\")\n",
    "\n",
    "wave = data.ray.wavelength\n",
    "ImuLoaded = np.load(\"Intensity1Mu0.npy\")\n",
    "\n",
    "# ImuLoaded1 = np.load(\"IntensityMu-1.npy\")\n",
    "# ImuLoaded2 = np.load(\"IntensityMu-2.npy\")\n",
    "# ImuLoaded3 = np.load(\"IntensityMu-3.npy\")\n",
    "# ImuLoaded4 = np.load(\"IntensityMu-4.npy\")\n",
    "# ImuLoaded5 = np.load(\"IntensityMu-5.npy\")\n",
    "# # print(ImuLoaded1.shape)\n",
    "fig, ax=plt.subplots()\n",
    "# #np.load(\"Flux.npy\")\n",
    "\n",
    "\n",
    "\n",
    "ax.plot(wave[indices],ImuLoaded,'k--',label=r'$\\mu$1')\n",
    "\n",
    "# ax.plot(wave[indices], ImuLoaded5,'r-',label=r'$\\mu$0.95')\n",
    "ax.plot(wave[indices],data.ray.intensity[0,0,indices],'g-.',label='12 sec')\n",
    "\n",
    "# ax.plot(wave[indices], ImuLoaded1,'k--',label=r'$\\mu$1')\n",
    "# ax.plot(wave[indices], ImuLoaded2,'k-',label=r'$\\mu$2')\n",
    "# ax.plot(wave[indices], ImuLoaded3,'g-',label=r'$\\mu$3')\n",
    "# ax.plot(wave[indices], ImuLoaded4,'r-',label=r'$\\mu$4')\n",
    "# ax.plot(wave[indices], ImuLoaded5,'b-',label=r'$\\mu$5')\n",
    "\n",
    "ax.legend()\n",
    "plt.xlabel(r'$\\lambda$ (nm)')\n",
    "plt.ylabel(r'Intensity (Stokes I) ($W/(m^2*Hz*sr)$')\n",
    "#ax.set_yscale('log')\n",
    "# plt.axis([20, 4000, 0, 6e-8])\n",
    "plt.savefig(\"Intencity_.svg\", format=\"svg\")"
   ]
  },
  {
   "cell_type": "code",
   "execution_count": 14,
   "metadata": {
    "tags": []
   },
   "outputs": [
    {
     "output_type": "stream",
     "name": "stdout",
     "text": [
      "1644\n"
     ]
    }
   ],
   "source": [
    "fluxesImu =[]\n",
    "weightMu = [0.118463,0.239314,0.284444,0.239314,0.118463]\n",
    "mu = [0.0469101,0.230765,0.500000,0.769235,0.953090]\n",
    "ImuLoaded1 = np.load(\"IntensityMu-1.npy\")\n",
    "ImuLoaded2 = np.load(\"IntensityMu-2.npy\")\n",
    "ImuLoaded3 = np.load(\"IntensityMu-3.npy\")\n",
    "ImuLoaded4 = np.load(\"IntensityMu-4.npy\")\n",
    "ImuLoaded5 = np.load(\"IntensityMu-5.npy\")\n",
    "Imuloaded = []\n",
    "Imuloaded.append(ImuLoaded1)\n",
    "Imuloaded.append(ImuLoaded2)\n",
    "Imuloaded.append(ImuLoaded3)\n",
    "Imuloaded.append(ImuLoaded4)\n",
    "Imuloaded.append(ImuLoaded5)\n",
    "#print(len(Imuloaded))\n",
    "for i in indices:\n",
    "    imu = 0\n",
    "    for i5 in range(len(weightMu)):\n",
    "        imu += Imuloaded[i5][i]*weightMu[i5]*mu[i5]\n",
    "    fluxesImu.append(2*np.pi*imu)\n",
    "print(len(fluxesImu))\n"
   ]
  },
  {
   "cell_type": "code",
   "execution_count": 15,
   "metadata": {},
   "outputs": [],
   "source": [
    "np.save(\"fluxesImu0.npy\", fluxesImu)"
   ]
  },
  {
   "cell_type": "code",
   "execution_count": 71,
   "metadata": {},
   "outputs": [
    {
     "output_type": "display_data",
     "data": {
      "text/plain": "Canvas(toolbar=Toolbar(toolitems=[('Home', 'Reset original view', 'home', 'home'), ('Back', 'Back to previous …",
      "application/vnd.jupyter.widget-view+json": {
       "version_major": 2,
       "version_minor": 0,
       "model_id": "948fc36099194e288b581977f36524bf"
      }
     },
     "metadata": {}
    }
   ],
   "source": [
    "%matplotlib widget\n",
    "\n",
    "fluxesImu1 = np.load(\"fluxesImu0.npy\")\n",
    "fluxesImu2 = np.load(\"fluxesImu1.npy\")\n",
    "# fluxesImu2 = np.load(\"fluxesImu2.npy\")\n",
    "fluxesImu3 = np.load(\"fluxesImu6.npy\")\n",
    "fluxesImu4 = np.load(\"fluxesImu11.npy\")\n",
    "# fluxesImu3 = np.load(\"fluxesImu12.npy\")\n",
    "fluxesImu5 = np.load(\"fluxesImu22.npy\")\n",
    "fluxesImu6 = np.load(\"fluxesImu40.npy\")\n",
    "# fluxesImu6 = np.load(\"fluxesImu60.npy\")\n",
    "# fluxesImu7 = np.load(\"fluxesImu120.npy\")\n",
    "\n",
    "\n",
    "\n",
    "fig, ax=plt.subplots()\n",
    "#np.load(\"Flux.npy\")\n",
    "\n",
    "wave = data.ray.wavelength\n",
    "\n",
    "ax.plot(wave[indices], fluxesImu1,'k--',label='0 sec')\n",
    "ax.plot(wave[indices], fluxesImu2,'k-',label='0.2 sec')\n",
    "ax.plot(wave[indices], fluxesImu3,'r-',label='1.2 sec')\n",
    "ax.plot(wave[indices], fluxesImu4,'b--',label='2.2 sec')\n",
    "ax.plot(wave[indices], fluxesImu5,'g-',label='4.4 sec')\n",
    "ax.plot(wave[indices], fluxesImu6,'y--',label='8.0 sec')\n",
    "# ax.plot(wave[indices], fluxesImu7,'c-',label='12.0 sec')\n",
    "\n",
    "\n",
    "ax.legend()\n",
    "plt.xlabel(r'$\\lambda$ (nm)')\n",
    "plt.ylabel(r'Flux ($W/(m^2*Hz)$')\n",
    "#ax.set_yscale('log')\n",
    "#plt.axis([20, 4000, 0, 8e-8])\n",
    "plt.savefig(\"FluxperHz_.svg\", format=\"svg\")\n",
    "# ax.plot(wave[indices], ImuLoaded5)\n",
    "# plt.xlabel(\"Wavelenght, nm\")\n",
    "# plt.ylabel(\"Flux, W/cm^2\")\n",
    "# plt.xlim(100,280)\n",
    "# plt.axis([2000, 10000, 0, 1e8])\n",
    "#plt.axis([200, 1000,0, 1e-7])\n"
   ]
  },
  {
   "cell_type": "code",
   "execution_count": 16,
   "metadata": {},
   "outputs": [],
   "source": [
    "const1 = 2.99792458e+21\n",
    "fluxesImu = np.load(\"fluxesImu0.npy\")\n",
    "fluxesSurfaceMu = []\n",
    "# fluxesSurfaceMu.append(const1 * fluxesImu[0] /(np.power(wave[0] * 10,2)))\n",
    "# print(fluxesSurfaceMu)\n",
    "for i in indices:\n",
    "    fluxesSurfaceMu.append(const1 * fluxesImu[i] /(np.power(wave[i] * 10,2)))\n",
    "\n",
    "np.save(\"fluxesSurfaceMu0.npy\", fluxesSurfaceMu)"
   ]
  },
  {
   "source": [
    "```\n",
    "# calculating total flux and effective temperature\n",
    "```"
   ],
   "cell_type": "markdown",
   "metadata": {}
  },
  {
   "cell_type": "code",
   "execution_count": 17,
   "metadata": {},
   "outputs": [
    {
     "output_type": "stream",
     "name": "stdout",
     "text": [
      "12428578712.245531\n"
     ]
    }
   ],
   "source": [
    "from scipy import integrate\n",
    "fluxesSurfaceMu = np.load(\"fluxesSurfaceMu0.npy\")\n",
    "\n",
    "x = wave[indices]\n",
    "fluxesSum = integrate.trapz(fluxesSurfaceMu[:], x * 10)\n",
    "print(fluxesSum)"
   ]
  },
  {
   "cell_type": "code",
   "execution_count": 18,
   "metadata": {},
   "outputs": [
    {
     "output_type": "stream",
     "name": "stdout",
     "text": [
      "3846.350627008205\n"
     ]
    }
   ],
   "source": [
    "sigma = 5.6784e-8\n",
    "Teff = np.power(fluxesSum*1e-3/sigma, 1/4)\n",
    "print(Teff)"
   ]
  },
  {
   "cell_type": "code",
   "execution_count": null,
   "metadata": {},
   "outputs": [],
   "source": [
    "fig, ax=plt.subplots()\n",
    "\n",
    "ax.plot(wave[indices], fluxesSurfaceMu)\n",
    "plt.xlabel(\"Wavelenght (nm)\")\n",
    "plt.ylabel(\"Flux\")\n",
    "# plt.xlim(200,1000)\n",
    "# plt.ylim(0,8e8)\n"
   ]
  },
  {
   "cell_type": "code",
   "execution_count": null,
   "metadata": {},
   "outputs": [],
   "source": [
    "fluxesSurfaceMu1 = np.load(\"fluxesSurfaceMu0.npy\")\n",
    "fluxesSurfaceMu2 = np.load(\"fluxesSurfaceMu2.npy\")\n",
    "fluxesSurfaceMu3 = np.load(\"fluxesSurfaceMu12.npy\")\n",
    "fluxesSurfaceMu4 = np.load(\"fluxesSurfaceMu22.npy\")\n",
    "fluxesSurfaceMu5 = np.load(\"fluxesSurfaceMu40.npy\")\n",
    "# fluxesSurfaceMu6 = np.load(\"fluxesSurfaceMu60.npy\")\n",
    "# fluxesSurfaceMu7 = np.load(\"fluxesSurfaceMu120.npy\")\n",
    "\n",
    "\n",
    "\n",
    "fig, ax=plt.subplots()\n",
    "\n",
    "ax.plot(wave[indices]*10, fluxesSurfaceMu1,'k--',label='0 sec')\n",
    "ax.plot(wave[indices]*10, fluxesSurfaceMu2,'k-',label='0.2 sec')\n",
    "ax.plot(wave[indices]*10, fluxesSurfaceMu3,'g--',label='1.2 sec')\n",
    "ax.plot(wave[indices]*10, fluxesSurfaceMu4,'g-',label='2.2 sec')\n",
    "ax.plot(wave[indices]*10, fluxesSurfaceMu5,'r--',label='4.0 sec')\n",
    "# ax.plot(wave[indices]*10, fluxesSurfaceMu6,'b--',label='6.0 sec')\n",
    "# ax.plot(wave[indices]*10, fluxesSurfaceMu7,'b-',label='12.0 sec')\n",
    "\n",
    "\n",
    "ax.legend()\n",
    "plt.xlabel(\"Wavelenght, Å\")\n",
    "plt.ylabel(\"Flux, erg/cm^2/s/Å\")\n",
    "# plt.axis([2000, 9000, 0, 7e8])\n",
    "plt.axis([0, 10000, 0, 4.55e9])\n",
    "\n",
    "plt.savefig(\"flux_.svg\", format=\"svg\")"
   ]
  },
  {
   "source": [
    "```\n",
    "# flux (lambda) normilized by continuum\n",
    "# The continuum-normalised spectrum is derived by dividing the computed flux \n",
    "# spectrum by the computed continuum flux in every spectral bin. \n",
    "```"
   ],
   "cell_type": "markdown",
   "metadata": {}
  },
  {
   "cell_type": "code",
   "execution_count": null,
   "metadata": {},
   "outputs": [],
   "source": [
    "fluxesSur1 = np.load(\"fluxesImu0.npy\")\n",
    "fluxesSur2 = np.load(\"fluxesImu1.npy\")\n",
    "fluxesSur3 = np.load(\"fluxesImu6.npy\")\n",
    "fluxesSur4 = np.load(\"fluxesImu11.npy\")\n",
    "fluxesSur5 = np.load(\"fluxesImu22.npy\")\n",
    "fluxesSur6 = np.load(\"fluxesImu40.npy\")\n",
    "# fluxesSur7 = np.load(\"fluxesImu120.npy\")\n",
    "\n",
    "FluxHloaded = []\n",
    "FluxHloaded.append(fluxesSur1)\n",
    "FluxHloaded.append(fluxesSur2)\n",
    "FluxHloaded.append(fluxesSur3)\n",
    "FluxHloaded.append(fluxesSur4)\n",
    "FluxHloaded.append(fluxesSur5)\n",
    "FluxHloaded.append(fluxesSur6)\n",
    "# FluxHloaded.append(fluxesSur7)\n",
    "\n",
    "for i in range(1,6):\n",
    "    normFlux = FluxHloaded[i]/FluxHloaded[0]\n",
    "    # normFluxTocontinuum = (normFlux - normFlux[np.argmin(normFlux)])/(normFlux[np.argmax(normFlux)] - normFlux[np.argmin(normFlux)])\n",
    "    np.save(f\"normFluxSurCon{i+1}.npy\", normFlux)"
   ]
  },
  {
   "cell_type": "code",
   "execution_count": 58,
   "metadata": {},
   "outputs": [
    {
     "output_type": "display_data",
     "data": {
      "text/plain": "Canvas(toolbar=Toolbar(toolitems=[('Home', 'Reset original view', 'home', 'home'), ('Back', 'Back to previous …",
      "application/vnd.jupyter.widget-view+json": {
       "version_major": 2,
       "version_minor": 0,
       "model_id": "52073db81f7645659469a32c7826b419"
      }
     },
     "metadata": {}
    }
   ],
   "source": [
    "normFluxCon2 = np.load(\"normFluxSurCon2.npy\")\n",
    "normFluxCon12 = np.load(\"normFluxSurCon3.npy\")\n",
    "normFluxCon22 = np.load(\"normFluxSurCon4.npy\")\n",
    "normFluxCon44 = np.load(\"normFluxSurCon5.npy\")\n",
    "normFluxCon80 = np.load(\"normFluxSurCon6.npy\")\n",
    "# normFluxCon120 = np.load(\"normFluxSurCon7.npy\")\n",
    "\n",
    "fig, ax=plt.subplots()\n",
    "\n",
    "wave = data.ray.wavelength\n",
    "\n",
    "\n",
    "ax.plot(wave[indices], normFluxCon2,label='0.2 sec')\n",
    "ax.plot(wave[indices], normFluxCon12,label='1.2 sec')\n",
    "ax.plot(wave[indices], normFluxCon22,label='2.2 sec')\n",
    "ax.plot(wave[indices], normFluxCon44,label='4.4 sec')\n",
    "ax.plot(wave[indices], normFluxCon80,label='8.0 sec')\n",
    "# ax.plot(wave[indices], normFluxCon120,label='12.0 sec')\n",
    "\n",
    "\n",
    "ax.legend()\n",
    "plt.xlabel(r'$\\lambda$ (nm)')\n",
    "plt.ylabel(r'Normalized Flux')\n",
    "# #ax.set_yscale('log')\n",
    "plt.axis([0, 800, -10000, 3.5e5])\n",
    "plt.savefig(\"FluxnormSur_.svg\", format=\"svg\")"
   ]
  },
  {
   "source": [
    "```\n",
    "#To make a plot for intensity at a fixed wavelength\n",
    "```"
   ],
   "cell_type": "markdown",
   "metadata": {}
  },
  {
   "cell_type": "code",
   "execution_count": null,
   "metadata": {},
   "outputs": [],
   "source": [
    "%matplotlib widget\n",
    "data.ray.intensity.sel(wavelength=500, method='nearest').plot()"
   ]
  },
  {
   "source": [
    "# Tau=1 for wavelenght"
   ],
   "cell_type": "markdown",
   "metadata": {}
  },
  {
   "cell_type": "code",
   "execution_count": null,
   "metadata": {},
   "outputs": [],
   "source": [
    "%matplotlib widget\n",
    "\n",
    "#data = rh15d.Rh15dout(rhRepoPath / \"rh15d/run/output\")\n",
    "\n",
    "\n",
    "fig, ax = plt.subplots()\n",
    "ax.plot(height / 1e6, massivTau[20])  # height in Mm\n",
    "\n",
    "plt.ylabel(r'$\\tau$$_{20}$')\n",
    "plt.xlabel('H (Mm)')\n",
    "\n",
    "ax.set_yscale('log')\n",
    "ax.axhline(y=1,linestyle='dashed',color='black')\n",
    "#ax.axvline(x=0.5,linestyle='dashed',color='black')\n",
    "plt.savefig(\"tau360_.svg\", format=\"svg\")\n"
   ]
  },
  {
   "source": [
    "# Plot the departure coefficients for the levels of Ca II\n",
    "\n"
   ],
   "cell_type": "markdown",
   "metadata": {}
  },
  {
   "cell_type": "code",
   "execution_count": null,
   "metadata": {},
   "outputs": [],
   "source": [
    "%matplotlib widget\n",
    "data = rh15d.Rh15dout(rhRepoPath / \"rh15d/run/output\")\n",
    "\n",
    "plt.figure()\n",
    "for i in range(5):\n",
    "    plt.plot(data.atmos.height_scale[22,0]/1e6, \n",
    "             data.atom_CA.populations[i, 22, 0]/data.atom_CA.populations_LTE[i, 22, 0],\n",
    "             label='Level %i' % (i + 1))\n",
    "plt.legend(loc=\"upper left\")\n",
    "plt.ylabel(\"Departure coefficients at 0 sec\")\n",
    "plt.xlabel(\"H (Mm)\")\n",
    "#plt.axis([0, 0.4])\n",
    "\n",
    "# plt.figure()\n",
    "# for i in range(5):\n",
    "#     plt.plot(data.atmos.height_scale[0,0]/1e6, \n",
    "#              data.atom_CA.populations[i, 0, 0]/data.atom_CA.populations_LTE[i, 0, 0],\n",
    "#              label='Level %i' % (i + 1))\n",
    "# fig, ax = plt.subplots()\n",
    "# ax.plot(tau500,data.atom_CA.populations[1, 0, 0, 0]/data.atom_CA.populations_LTE[1, 0, 0, 0], label='Level %1' % (1)) \n",
    "# plt.legend(loc=\"upper left\")\n",
    "# plt.xlabel(\"tau500\")\n",
    "# plt.ylim(0.05, 2)\n",
    "# plt.ylabel(\"Departure coefficients\")\n",
    "# plt.ylim(0.05, 2)\n",
    "plt.axis([0, 0.5, 0, 1e5])\n"
   ]
  },
  {
   "cell_type": "code",
   "execution_count": null,
   "metadata": {},
   "outputs": [],
   "source": [
    "%matplotlib widget\n",
    "\n",
    "fig, ax = plt.subplots()\n",
    "ax.plot(data.atmos.height_scale[0, 0].dropna('height')/1e6, data.atom_CA.populations[0,0,0,:].dropna('height')/data.atom_CA.populations_LTE[0,0,0,:].dropna('height'),'r--',label=r'b$_{l}$')\n",
    "ax.plot(data.atmos.height_scale[0, 0].dropna('height')/1e6, np.log10(data.atom_CA.populations[0,3,0,:].dropna('height')/data.atom_CA.populations_LTE[0,3,0,:].dropna('height')),'k-',label=r'b$_{u}$')\n",
    "plt.legend(loc='best')\n",
    "plt.xlabel('H (Mm)')\n",
    "plt.ylabel(r'Log (b$_{i}$)')\n",
    "#plt.xlim([0,2])"
   ]
  },
  {
   "source": [
    "# tau=1"
   ],
   "cell_type": "markdown",
   "metadata": {}
  },
  {
   "cell_type": "code",
   "execution_count": null,
   "metadata": {},
   "outputs": [],
   "source": [
    "%matplotlib widget\n",
    "\n",
    "data = rh15d.Rh15dout(rhRepoPath / \"rh15d/run/output\")\n",
    "wave = data.ray.wavelength\n",
    "indices = np.arange(len(data.ray.wavelength))\n",
    "print(data.ray.tau_one_height.shape)\n",
    "fig, ax = plt.subplots()\n",
    "\n",
    "ax.plot(wave[indices],data.ray.tau_one_height[0,0,indices]/1e6,'k--',label='0 sec')\n",
    "ax.plot(wave[indices],data.ray.tau_one_height[1,0,indices]/1e6,'r-',label='0.2 sec')\n",
    "#ax.plot(wave[indices],data.ray.tau_one_height[12,0,indices]/1e6,'r-',label='1.2 sec')\n",
    "ax.plot(wave[indices],data.ray.tau_one_height[11,0,indices]/1e6,'b-',label='2.2 sec')\n",
    "#ax.plot(wave[indices],data.ray.tau_one_height[40,0,indices]/1e6,'g-',label='4 sec')\n",
    "\n",
    "plt.legend(loc='best')\n",
    "\n",
    "plt.xlabel(r'$\\lambda$ (nm)')\n",
    "plt.ylabel('Height (Mm)')\n"
   ]
  },
  {
   "cell_type": "code",
   "execution_count": null,
   "metadata": {},
   "outputs": [],
   "source": [
    "height = data.ray.height\n",
    "fig, ax = plt.subplots()\n",
    "ax.plot(height/)\n"
   ]
  },
  {
   "source": [
    "# от тау 500"
   ],
   "cell_type": "markdown",
   "metadata": {}
  },
  {
   "cell_type": "code",
   "execution_count": null,
   "metadata": {
    "tags": []
   },
   "outputs": [],
   "source": [
    "# xVals = data.atmos.height_scale[0,0]/1e6\n",
    "# with open(\"/tmp/x.txt\", \"w\") as f:\n",
    "#     for x in xVals.data:\n",
    "#         f.write(f\"{x}\\n\")\n",
    "\n",
    "print(data.atom_CA.populations[0,22,0])\n",
    "# yVals = data.atom_CA.populations[0,0,0]\n",
    "# with open(\"/tmp/y.txt\", \"w\") as f:\n",
    "#     for y in yVals.data:\n",
    "#         f.write(f\"{y}\\n\")\n",
    "\n",
    "\n",
    "#print(data.atom_CA.populations[0,0,0][247])\n",
    "# print(\"- - - - -\")\n",
    "# print(data.atom_CA.populations[1,0,0])\n",
    "# print(\"- - - - -\")\n",
    "# print(data.atom_CA.populations[2,0,0])"
   ]
  },
  {
   "cell_type": "code",
   "execution_count": null,
   "metadata": {},
   "outputs": [],
   "source": [
    "import matplotlib.animation as animation\n",
    "\n",
    "fig, ax = plt.subplots()\n",
    "\n",
    "line, = ax.plot(\n",
    "    data.atmos.height_scale[0,0]/1e6,\n",
    "    data.atom_CA.populations[0,0,0]\n",
    ")\n",
    "\n",
    "def animate(i):\n",
    "    #line.set_xdata(x)\n",
    "    line.set_ydata(data.atom_CA.populations[0, i, 0][0])\n",
    "    return line,\n",
    "\n",
    "ani = animation.FuncAnimation(\n",
    "    fig,\n",
    "    animate,\n",
    "    np.arange(52),\n",
    "    #blit=True,\n",
    "    repeat=False\n",
    ")\n",
    "plt.show()"
   ]
  },
  {
   "cell_type": "code",
   "execution_count": null,
   "metadata": {},
   "outputs": [],
   "source": [
    "%matplotlib widget\n",
    "\n",
    "plt.figure()\n",
    "for i in range(5):\n",
    "    plt.plot(\n",
    "        data.atmos.height_scale[22,0]/1e6, \n",
    "        data.atom_CA.populations[i, 22, 0]/data.atom_CA.populations_LTE[i, 22, 0],\n",
    "        label='Level %i' % (i + 1)\n",
    "    )\n",
    "plt.legend(loc=\"upper left\")\n",
    "plt.xlabel(\"Height (Mm)\")\n",
    "plt.ylabel(\"Departure coefficients\")\n",
    "plt.xlim(0,4)\n",
    "plt.ylim(-20,1e6)\n",
    "#/data.atom_CA.populations_LTE[i, 100, 0]"
   ]
  },
  {
   "source": [
    "# Departure coefficient vs optical depth"
   ],
   "cell_type": "markdown",
   "metadata": {}
  },
  {
   "cell_type": "code",
   "execution_count": null,
   "metadata": {},
   "outputs": [],
   "source": [
    "%matplotlib widget\n",
    "\n",
    "for i in range(6):\n",
    "    plt.plot(np.log10(tau669), np.log10(data.atom_CA.populations[i,22,0,:].dropna('height')/data.atom_CA.populations_LTE[i,22,0,:].dropna('height')),label=r'b'+r'$_{'+str(i)+'}$')\n",
    "    plt.legend(loc='best')\n",
    "    plt.xlabel(r'Log ($\\tau$$_{669}$)')\n",
    "    plt.ylabel(r'Log (b$_{i}$)')\n",
    "    plt.xlim([-12,2])"
   ]
  },
  {
   "source": [
    "# Source function"
   ],
   "cell_type": "markdown",
   "metadata": {}
  },
  {
   "cell_type": "code",
   "execution_count": null,
   "metadata": {},
   "outputs": [],
   "source": [
    "data = rh15d.Rh15dout(rhRepoPath / \"rh15d/run/output\")\n",
    "\n",
    "rh15d_vis.SourceFunction(data);\n",
    "plt.xlim(-0.2,0.4)\n",
    "plt.ylim(0,1e6)"
   ]
  },
  {
   "cell_type": "code",
   "execution_count": null,
   "metadata": {},
   "outputs": [],
   "source": [
    "%matplotlib widget\n",
    "\n",
    "data = rh15d.Rh15dout(rhRepoPath / \"rh15d/run/output\")\n",
    "hf=h5py.File(rhRepoPath / \"rh15d/run/output/output_ray.hdf5\",\"r\")\n",
    "\n",
    "hf.keys()\n",
    "\n",
    "sourceFunction = hf['source_function']\n",
    "\n",
    "fig, ax = plt.subplots()\n",
    "\n",
    "# ax.plot(data.atmos.height_scale[2,0]/1e6,sourceFunction[2,0,:,0],label='0.2 sec')\n",
    "ax.plot(np.log10(tau669),sourceFunction[2,0,:,0],label='0.2 sec')\n",
    "\n",
    "#data.source_function.data"
   ]
  },
  {
   "source": [
    "# Calculating Normalized Intesity"
   ],
   "cell_type": "markdown",
   "metadata": {}
  },
  {
   "cell_type": "code",
   "execution_count": null,
   "metadata": {},
   "outputs": [],
   "source": [
    "data = rh15d.Rh15dout(rhRepoPath / \"rh15d/run/output\")\n",
    "# /Users/elka127/Documents/code/rh/rh15d/run/output/output_aux.hdf5\n",
    "hf=h5py.File(rhRepoPath / \"rh15d/run/output/output_ray.hdf5\",\"r\")\n",
    "\n",
    "hf.keys()\n",
    "\n",
    "wave = data.ray.wavelength\n",
    "\n",
    "print(data.ray.intensity.shape)\n"
   ]
  },
  {
   "cell_type": "code",
   "execution_count": null,
   "metadata": {},
   "outputs": [],
   "source": [
    "%matplotlib widget\n",
    "Intencity1 = data.ray.intensity[0,0,:]\n",
    "Intencity2 = data.ray.intensity[1,0,:]\n",
    "Intencity3 = data.ray.intensity[6,0,:]\n",
    "Intencity4 = data.ray.intensity[11,0,:]\n",
    "Intencity5 = data.ray.intensity[22,0,:]\n",
    "Intencity6 = data.ray.intensity[40,0,:]\n",
    "# Intencity7 = data.ray.intensity[120,0,:]\n",
    "\n",
    "fig, ax = plt.subplots()\n",
    "ax.plot(wave[indices],Intencity1,label='0 sec')\n",
    "ax.plot(wave[indices],Intencity2,label='0.2 sec')\n",
    "ax.plot(wave[indices],Intencity3,label='1.2 sec')\n",
    "ax.plot(wave[indices],Intencity4,label='2.2 sec')\n",
    "ax.plot(wave[indices],Intencity5,label='4.4 sec')\n",
    "ax.plot(wave[indices],Intencity6,label='8 sec')\n",
    "# ax.plot(wave[indices],Intencity7,label='12 sec')\n",
    "\n",
    "\n",
    "plt.legend(loc='best')\n",
    "plt.xlabel(r'$\\lambda$ (nm)')\n",
    "plt.ylabel(r'Intensity (Stokes I) ($W/(m^2*Hz*sr)$')\n",
    "\n",
    "plt.savefig(\"Intensitym1_.svg\", format=\"svg\")\n"
   ]
  },
  {
   "cell_type": "code",
   "execution_count": null,
   "metadata": {},
   "outputs": [],
   "source": [
    "\n",
    "\n",
    "Intencityloaded = []\n",
    "Intencityloaded.append(Intencity1)\n",
    "Intencityloaded.append(Intencity2)\n",
    "Intencityloaded.append(Intencity3)\n",
    "Intencityloaded.append(Intencity4)\n",
    "Intencityloaded.append(Intencity5)\n",
    "Intencityloaded.append(Intencity6)\n",
    "# Intencityloaded.append(Intencity7)\n",
    "\n",
    "for i in range(1,6):\n",
    "    normIntencity = Intencityloaded[i]/Intencityloaded[0]\n",
    "    # normFluxTocontinuum = (normFlux - normFlux[np.argmin(normFlux)])/(normFlux[np.argmax(normFlux)] - normFlux[np.argmin(normFlux)])\n",
    "    np.save(f\"normIntencityCon{i+1}.npy\", normIntencity)"
   ]
  },
  {
   "cell_type": "code",
   "execution_count": null,
   "metadata": {},
   "outputs": [],
   "source": [
    "%matplotlib widget\n",
    "# normIntencityCon1 = np.load(\"normIntencityCon0.npy\")\n",
    "normIntencityCon2 = np.load(\"normIntencityCon2.npy\")\n",
    "normIntencityCon3 = np.load(\"normIntencityCon3.npy\")\n",
    "normIntencityCon4 = np.load(\"normIntencityCon4.npy\")\n",
    "normIntencityCon5 = np.load(\"normIntencityCon5.npy\")\n",
    "normIntencityCon6 = np.load(\"normIntencityCon6.npy\")\n",
    "# normIntencityCon7 = np.load(\"normIntencityCon7.npy\")\n",
    "\n",
    "fig, ax = plt.subplots()\n",
    "# ax.plot(indices,normIntencityCon1,label='0 sec')\n",
    "ax.plot(wave[indices],normIntencityCon2,label='0.2 sec')\n",
    "ax.plot(wave[indices],normIntencityCon3,label='1.2 sec')\n",
    "ax.plot(wave[indices],normIntencityCon4,label='2.2 sec')\n",
    "ax.plot(wave[indices],normIntencityCon5,label='4.4 sec')\n",
    "ax.plot(wave[indices],normIntencityCon6,label='8 sec')\n",
    "\n",
    "# ax.plot(wave[indices],normIntencityCon7,label='12 sec')\n",
    "\n",
    "\n",
    "plt.legend(loc='best')\n",
    "plt.xlabel(r'$\\lambda$ (nm)')\n",
    "plt.ylabel(r'Normalized Intensity (Stokes I)')\n",
    "plt.axis([0, 800, -10000, 2e5])\n",
    "\n",
    "plt.savefig(\"IntensityRH_.svg\", format=\"svg\")"
   ]
  },
  {
   "source": [
    "# Total Flux in UV bands"
   ],
   "cell_type": "markdown",
   "metadata": {}
  },
  {
   "cell_type": "code",
   "execution_count": 146,
   "metadata": {
    "tags": []
   },
   "outputs": [
    {
     "output_type": "stream",
     "name": "stdout",
     "text": [
      "317.5918526248952\n",
      "321.0927371783904\n",
      "324.5936236831107\n",
      "328.09451205287695\n",
      "331.59540220677104\n",
      "335.09629406872324\n",
      "338.59718756713954\n",
      "342.09808263456375\n",
      "345.5989792073708\n",
      "349.0998772254883\n",
      "352.6007766321421\n",
      "356.1016773736252\n",
      "359.60257939908547\n",
      "363.1034826603317\n",
      "366.60438711165557\n",
      "370.1052927096688\n",
      "373.60619941315224\n",
      "377.10710718291796\n",
      "380.6080159816811\n",
      "384.1089257739427\n",
      "387.60983652587987\n",
      "391.1107482052459\n",
      "392.0011505009052\n",
      "392.4155874279107\n",
      "392.7130628463857\n",
      "392.92662577881777\n",
      "393.0799868089113\n",
      "393.19015678108144\n",
      "393.2693399004765\n",
      "393.3262919125297\n",
      "393.36729451089985\n",
      "393.39685441355\n",
      "393.4182049056259\n",
      "393.4336656647556\n",
      "393.4449009129471\n",
      "393.4531046242503\n",
      "393.45913339954217\n",
      "393.463601795783\n",
      "393.4669507187289\n",
      "393.46949649037805\n",
      "393.47146605176096\n",
      "393.4730222187157\n",
      "393.47428180131027\n",
      "393.47532860338157\n",
      "393.47622274888306\n",
      "393.47700737294934\n",
      "393.4777134223117\n",
      "393.47841947167404\n",
      "393.47920409574033\n",
      "393.4800982412418\n",
      "393.4811450433131\n",
      "393.4824046259077\n",
      "393.48396079286243\n",
      "393.48593035424534\n",
      "393.48847612589446\n",
      "393.4918250488404\n",
      "393.4962934450812\n",
      "393.5023222203731\n",
      "393.5105259316763\n",
      "393.5217611798678\n",
      "393.5372219389975\n",
      "393.5585724310734\n",
      "393.58813233372354\n",
      "393.6291349320937\n",
      "393.6860869441469\n",
      "393.76527006354195\n",
      "393.8754400357121\n",
      "394.0288010658056\n",
      "394.2423639982377\n",
      "394.5398394167127\n",
      "394.61166078127576\n",
      "394.95427634371816\n",
      "395.4695069604882\n",
      "395.64604595148677\n",
      "395.80073235412414\n",
      "395.936301938179\n",
      "396.0551479768729\n",
      "396.1593641247073\n",
      "396.250781927338\n",
      "396.33100363551205\n",
      "396.4014309109616\n",
      "396.4632899385489\n",
      "396.5176533945707\n",
      "396.5654596648065\n",
      "396.6075296566203\n",
      "396.64458150632106\n",
      "396.6772434452796\n",
      "396.70606505530924\n",
      "396.7315271149636\n",
      "396.75405021315584\n",
      "396.7740022844214\n",
      "396.7917052008264\n",
      "396.8074405386215\n",
      "396.8214546229563\n",
      "396.83396294103625\n",
      "396.84515400278735\n",
      "396.8551927181962\n",
      "396.8642233518344\n",
      "396.8723721074998\n",
      "396.8797493892812\n",
      "396.886451779556\n",
      "396.8925637693583\n",
      "396.8981592721185\n",
      "396.90330294789516\n",
      "396.908051361823\n",
      "396.91245399753313\n",
      "396.91655414370075\n",
      "396.920389669604\n",
      "396.92399370358953\n",
      "396.9273952265992\n",
      "396.9306195913921\n",
      "396.933688976764\n",
      "396.93662278490245\n",
      "396.93943798899573\n",
      "396.9421494373244\n",
      "396.9447701192827\n",
      "396.9473113980963\n",
      "396.9497832144056\n",
      "396.95219426436216\n",
      "396.95455215542876\n",
      "396.9568635426744\n",
      "396.9591342480066\n",
      "396.9614049533388\n",
      "396.9637163405844\n",
      "396.966074231651\n",
      "396.96848528160757\n",
      "396.9709570979169\n",
      "396.9734983767305\n",
      "396.97611905868877\n",
      "396.97883050701745\n",
      "396.98164571111073\n",
      "396.98457951924917\n",
      "396.9876489046211\n",
      "396.990873269414\n",
      "396.99427479242365\n",
      "396.9978788264092\n",
      "397.00171435231243\n",
      "397.00581449848005\n",
      "397.01021713419016\n",
      "397.014965548118\n",
      "397.0201092238947\n",
      "397.0257047266549\n",
      "397.0318167164572\n",
      "397.038519106732\n",
      "397.04589638851337\n",
      "397.05404514417876\n",
      "397.063075777817\n",
      "397.07311449322583\n",
      "397.08430555497694\n",
      "397.0968138730569\n",
      "397.1108279573917\n",
      "397.12656329518677\n",
      "397.1442662115918\n",
      "397.16421828285735\n",
      "397.18674138104956\n",
      "397.21220344070395\n",
      "397.2410250507336\n",
      "397.2736869896921\n",
      "397.3107388393929\n",
      "397.3528088312067\n",
      "397.4006151014425\n",
      "397.4549785574643\n",
      "397.5168375850516\n",
      "397.58726486050114\n",
      "397.6674865686752\n",
      "397.7589043713059\n",
      "397.8631205191403\n",
      "397.9819665578342\n",
      "398.11257422460005\n",
      "398.11753614188905\n",
      "398.2722225445264\n",
      "398.44876153552497\n",
      "(172,) (172,)\n"
     ]
    }
   ],
   "source": [
    "# calculating total flux and effective temperature\n",
    "# first calculate Flux (lambda), then integrate for choosen wavelengt bands\n",
    "from scipy import integrate\n",
    "# wave = data.ray.wavelength\n",
    "\n",
    "const1 = 2.99792458e+21\n",
    "fluxesSurfaceMu = []\n",
    "# fluxesImu = np.load(\"fluxesImu0.npy\")\n",
    "# fluxesImu  = np.load(\"fluxesImu1.npy\")\n",
    "# fluxesImu  = np.load(\"fluxesImu6.npy\")\n",
    "fluxesImu  = np.load(\"fluxesImu11.npy\")\n",
    "# fluxesImu  = np.load(\"fluxesImu40.npy\")\n",
    "\n",
    "selectedWave = []\n",
    "# fluxesSurfaceMu.append(const1 * fluxesImu[0] /(np.power(wave[0] * 10,2)))\n",
    "# print(fluxesSurfaceMu)\n",
    "for i in indices:\n",
    "    v = wave[i].data\n",
    "    # if v > 100 and v < 280:\n",
    "    # if v > 280 and v < 315:\n",
    "    if v > 315 and v < 400:\n",
    "        fluxesSurfaceMu.append(const1 * fluxesImu[i] /(np.power(wave[i].data * 10,2)))\n",
    "        selectedWave.append(wave[i])\n",
    "        print(v)    \n",
    "fluxesSurfaceMuNP = np.array(fluxesSurfaceMu)\n",
    "selectedWaveNP = np.array(selectedWave)\n",
    "print(fluxesSurfaceMuNP.shape, selectedWaveNP.shape)"
   ]
  },
  {
   "cell_type": "code",
   "execution_count": null,
   "metadata": {},
   "outputs": [],
   "source": []
  },
  {
   "cell_type": "code",
   "execution_count": 147,
   "metadata": {},
   "outputs": [
    {
     "output_type": "stream",
     "name": "stdout",
     "text": [
      "55748425121.6469\n"
     ]
    }
   ],
   "source": [
    "fluxesSum = integrate.trapz(fluxesSurfaceMuNP[:], selectedWaveNP*10)\n",
    "print(fluxesSum)"
   ]
  },
  {
   "cell_type": "code",
   "execution_count": null,
   "metadata": {},
   "outputs": [],
   "source": [
    "sigma = 5.6784e-8\n",
    "Teff = np.power(fluxesSum*1e-3/sigma, 1/4)\n",
    "print(Teff)"
   ]
  },
  {
   "source": [
    "# Calculating Flux changing in time for selected wavelenghts"
   ],
   "cell_type": "markdown",
   "metadata": {}
  },
  {
   "cell_type": "code",
   "execution_count": 60,
   "metadata": {},
   "outputs": [
    {
     "output_type": "stream",
     "name": "stdout",
     "text": [
      "--- Read /Users/elka127/Documents/code/rh/rh15d/run/output/output_aux.hdf5 file.\n--- Read /Users/elka127/Documents/code/rh/rh15d/run/output/output_indata.hdf5 file.\n--- Read /Users/elka127/Documents/code/rh/rh15d/run/output/output_ray.hdf5 file.\n38 100.58571400595407\n39 104.07477782055284\n40 104.4\n41 105.0\n42 107.56796152994863\n43 110.0\n44 111.0634201351668\n45 114.5602631889103\n46 115.0\n47 118.05800745920783\n48 120.0\n49 121.55636675709401\n50 121.7\n51 121.8\n52 125.0\n53 125.05515901490186\n54 128.55426038679278\n55 130.0\n56 132.05358004260253\n57 135.0\n58 135.55304419972023\n59 139.0525830698127\n60 140.0\n61 141.7\n62 142.1\n63 142.55211477737984\n64 146.05151460147977\n65 149.5505315540772\n66 153.04847167982516\n67 156.54214596739445\n68 159.9266499362701\n69 163.57325524241662\n70 167.0652963367933\n71 170.56314875433986\n72 174.06239998333962\n73 177.56221393431755\n74 181.0623168396037\n75 184.56259170790491\n76 188.062979629218\n77 191.56344738059263\n78 195.06397458888904\n79 198.56454792597324\n80 202.065158211887\n81 205.56579885349856\n82 209.06646494901963\n83 212.56715274733602\n84 216.0678593071091\n85 219.5685822737064\n86 223.06931972845996\n87 226.570070083888\n88 230.07083200902838\n89 233.57160437504015\n90 237.0723862147787\n91 240.5731766922177\n92 244.07397507894538\n93 247.5747807358352\n94 251.0755930985632\n95 254.57641166602713\n96 258.0772359909847\n97 261.5780656724103\n98 265.078900349197\n99 268.5797396949255\n100 272.0805834134829\n101 275.5814312353702\n102 279.0822829145674\n"
     ]
    }
   ],
   "source": [
    "data = rh15d.Rh15dout(rhRepoPath / \"rh15d/run/output\")\n",
    "wave = data.ray.wavelength\n",
    "\n",
    "indices = np.arange(len(data.ray.wavelength))\n",
    "\n",
    "aar = []\n",
    "for j in indices:\n",
    "    vT = wave[j].data\n",
    "    if vT > 100 and vT < 280:\n",
    "        aar.append(j)\n",
    "        print(j,vT)\n",
    "\n",
    "for i in aar:\n",
    "        \n",
    "    massivTauTime = []\n",
    "    for a in range(len(data.ray.x)):\n",
    "        \n",
    "        height = data.atmos.height_scale[a, 0].dropna('height')  \n",
    "    \n",
    "    # index = []\n",
    "    # for i in indices:\n",
    "    #     idx = np.argmin(np.abs(data.ray.wavelength.data - data.ray.wavelength[i].data))\n",
    "    #     index.append(idx)\n",
    "   \n",
    "        x = cumtrapz(data.ray.chi[a, 0, :, i].dropna('height'), x=-height)\n",
    "        x = np.concatenate([[1e-20], x])\n",
    "        massivTauTime.append(x)\n",
    "    np.save(f\"massivTauTime-{i}\", massivTauTime)\n",
    "    # np.save(f\"massivTauTime-{np.round(wave[i].data)}\", massivTauTime)"
   ]
  },
  {
   "cell_type": "code",
   "execution_count": 120,
   "metadata": {},
   "outputs": [
    {
     "output_type": "stream",
     "name": "stdout",
     "text": [
      "279.0\n",
      "Всего элементоу: 50\n",
      "Перший элемент: 6.096692398555698e-06\n",
      "Второй элемент: 6.192700711633642e-06\n",
      "Всего элементоу: 50\n",
      "Перший элемент: 1.240300668782147e-06\n",
      "Второй элемент: 1.2598324640853288e-06\n",
      "Всего элементоу: 50\n",
      "Перший элемент: 5.724968400088008e-07\n",
      "Второй элемент: 5.815122929498028e-07\n",
      "Всего элементоу: 50\n",
      "Перший элемент: 3.721328008857135e-07\n",
      "Второй элемент: 3.779930005835651e-07\n",
      "Всего элементоу: 50\n",
      "Перший элемент: 3.0035028123578324e-07\n",
      "Второй элемент: 3.0508008192920526e-07\n"
     ]
    }
   ],
   "source": [
    "from scipy import integrate\n",
    "\n",
    "sourceFunction = data.ray.source_function\n",
    "\n",
    "mu = [0.0469101,0.230765,0.500000,0.769235,0.953090]\n",
    "weightMu = [0.118463,0.239314,0.284444,0.239314,0.118463]\n",
    "massivTauTime = np.load(\"massivTauTime-102.npy\")\n",
    "print(np.round(wave[102].data))\n",
    "\n",
    "# len(data.ray.x)\n",
    "# intensityMu =[]\n",
    "for m in range(5):\n",
    "    intensityMu = []\n",
    "\n",
    "    for x1 in range(50):\n",
    "        \n",
    "        tmpMu = 0\n",
    "        # for i in range(len(massivTau[y])):\n",
    "        # x = np.log(massivTau[y])\n",
    "        xx = massivTauTime[x1]\n",
    "       \n",
    "        # x1 = np.log10(massivTau[y])\n",
    "        # x = np.log(x)\n",
    "        # tmpMu = integrate.trapz(sourceFunction[0,0,:,y].data * np.exp(-x[:]/mu), x)\n",
    "        # tmpMu = integrate.trapz(sourceFunction[120,0,:,y].data * np.exp(-x[:]/mu[m]), x)     \n",
    "        ee = np.exp(-x[102]/mu[m])\n",
    "        tmpMu = integrate.trapz(sourceFunction[x1,0,:,102].data * ee, xx)\n",
    "        # tmpMu = np.power(tmpMu, 10)\n",
    "        \n",
    "        intensityMu.append(1/mu[m] * tmpMu)\n",
    "        # intensityMu.append(tmpMu)\n",
    "    np.save(f\"intensityMu-{m+1}.npy\", intensityMu)\n",
    "\n",
    "    print(f\"Всего элементоу: {len(intensityMu)}\")\n",
    "    print(f\"Перший элемент: {intensityMu[0]}\")\n",
    "    print(f\"Второй элемент: {intensityMu[1]}\")\n",
    "    # print(f\"Последний элемент: {intensityMu[1643]}\")\n",
    "\n",
    "# ---\n",
    "\n",
    "# fig, ax = plt.subplots()\n",
    "\n",
    "# ax.plot(data.atmos.height_scale[2,0]/1e6,sourceFunction[2,0,:,0],label='0.2 sec')\n",
    "#ax.plot(np.log10(massivTau[792]),sourceFunction[22,0,:,0],label='0.2 sec')\n"
   ]
  },
  {
   "cell_type": "code",
   "execution_count": 121,
   "metadata": {},
   "outputs": [
    {
     "output_type": "display_data",
     "data": {
      "text/plain": "Canvas(toolbar=Toolbar(toolitems=[('Home', 'Reset original view', 'home', 'home'), ('Back', 'Back to previous …",
      "application/vnd.jupyter.widget-view+json": {
       "version_major": 2,
       "version_minor": 0,
       "model_id": "d130d70423e340f08ff23c0b521df574"
      }
     },
     "metadata": {}
    }
   ],
   "source": [
    "%matplotlib widget\n",
    "\n",
    "wave = data.ray.wavelength\n",
    "# ImuLoaded = np.load(\"IntensityMu12.npy\")\n",
    "\n",
    "ImuLoadedT1 = np.load(\"IntensityMu-1.npy\")\n",
    "ImuLoadedT2 = np.load(\"IntensityMu-2.npy\")\n",
    "ImuLoadedT3 = np.load(\"IntensityMu-3.npy\")\n",
    "ImuLoadedT4 = np.load(\"IntensityMu-4.npy\")\n",
    "ImuLoadedT5 = np.load(\"IntensityMu-5.npy\")\n",
    "# # print(ImuLoaded1.shape)\n",
    "fig, ax=plt.subplots()\n",
    "# #np.load(\"Flux.npy\")\n",
    "\n",
    "\n",
    "\n",
    "# ax.plot(wave[indices], ImuLoaded,'k--',label=r'$\\mu$1')\n",
    "\n",
    "# ax.plot(wave[indices], ImuLoaded5,'r-',label=r'$\\mu$0.95')\n",
    "# ax.plot(wave[indices],data.ray.intensity[12,0,indices],'g-.',label='1.2 sec')\n",
    "\n",
    "ax.plot((data.ray.x-10)/10, ImuLoadedT1,'k--',label=r'$\\mu$1')\n",
    "ax.plot((data.ray.x-10)/10, ImuLoadedT2,'k-',label=r'$\\mu$2')\n",
    "ax.plot((data.ray.x-10)/10, ImuLoadedT3,'g-',label=r'$\\mu$3')\n",
    "ax.plot((data.ray.x-10)/10, ImuLoadedT4,'r-',label=r'$\\mu$4')\n",
    "ax.plot((data.ray.x-10)/10, ImuLoadedT5,'b-',label=r'$\\mu$5')\n",
    "\n",
    "ax.legend()\n",
    "plt.xlabel(r'Time, s')\n",
    "plt.ylabel(r'Intensity:($W/(m^2*Hz*sr)$')\n",
    "#ax.set_yscale('log')\n",
    "#plt.axis([20, 4000, 0, 8e-8])\n",
    "plt.savefig(\"Intencity_.svg\", format=\"svg\")"
   ]
  },
  {
   "cell_type": "code",
   "execution_count": 122,
   "metadata": {},
   "outputs": [
    {
     "output_type": "stream",
     "name": "stdout",
     "text": [
      "50\n"
     ]
    }
   ],
   "source": [
    "fluxesImuT =[]\n",
    "weightMu = [0.118463,0.239314,0.284444,0.239314,0.118463]\n",
    "mu = [0.0469101,0.230765,0.500000,0.769235,0.953090]\n",
    "ImuLoadedT1 = np.load(\"IntensityMu-1.npy\")\n",
    "ImuLoadedT2 = np.load(\"IntensityMu-2.npy\")\n",
    "ImuLoadedT3 = np.load(\"IntensityMu-3.npy\")\n",
    "ImuLoadedT4 = np.load(\"IntensityMu-4.npy\")\n",
    "ImuLoadedT5 = np.load(\"IntensityMu-5.npy\")\n",
    "ImuloadedT = []\n",
    "ImuloadedT.append(ImuLoadedT1)\n",
    "ImuloadedT.append(ImuLoadedT2)\n",
    "ImuloadedT.append(ImuLoadedT3)\n",
    "ImuloadedT.append(ImuLoadedT4)\n",
    "ImuloadedT.append(ImuLoadedT5)\n",
    "#print(len(Imuloaded))\n",
    "for i in range(len(data.ray.x)):\n",
    "    imu = 0\n",
    "    for i5 in range(len(weightMu)):\n",
    "        imu += ImuloadedT[i5][i]*weightMu[i5]*mu[i5]\n",
    "    fluxesImuT.append(2*np.pi*imu)\n",
    "print(len(fluxesImuT))"
   ]
  },
  {
   "cell_type": "code",
   "execution_count": 119,
   "metadata": {},
   "outputs": [],
   "source": [
    "np.save(\"fluxesImuT102.npy\", fluxesImuT)"
   ]
  },
  {
   "cell_type": "code",
   "execution_count": 123,
   "metadata": {},
   "outputs": [
    {
     "output_type": "display_data",
     "data": {
      "text/plain": "Canvas(toolbar=Toolbar(toolitems=[('Home', 'Reset original view', 'home', 'home'), ('Back', 'Back to previous …",
      "application/vnd.jupyter.widget-view+json": {
       "version_major": 2,
       "version_minor": 0,
       "model_id": "66d425448de34f57b4bd46b0ab71be64"
      }
     },
     "metadata": {}
    }
   ],
   "source": [
    "%matplotlib widget\n",
    "\n",
    "fluxesImuT1 = np.load(\"fluxesImuT66.npy\")\n",
    "fluxesImuT2 = np.load(\"fluxesImuT70.npy\")\n",
    "fluxesImuT3 = np.load(\"fluxesImuT78.npy\")\n",
    "fluxesImuT4 = np.load(\"fluxesImuT86.npy\")\n",
    "fluxesImuT5 = np.load(\"fluxesImuT97.npy\")\n",
    "fluxesImuT6 = np.load(\"fluxesImuT102.npy\")\n",
    "# fluxesImuT5 = np.load(\"fluxesImuT102.npy\")\n",
    "\n",
    "\n",
    "\n",
    "\n",
    "fig, ax=plt.subplots()\n",
    "#np.load(\"Flux.npy\")\n",
    "\n",
    "wave = data.ray.wavelength\n",
    "\n",
    "ax.plot((data.ray.x-10)*2/10, fluxesImuT1,'k--',label='$\\lambda$=153 nm')\n",
    "ax.plot((data.ray.x-10)*2/10, fluxesImuT2,'r--',label='$\\lambda$=167 nm')\n",
    "ax.plot((data.ray.x-10)*2/10, fluxesImuT3,'b-',label='$\\lambda$=195 nm')\n",
    "ax.plot((data.ray.x-10)*2/10, fluxesImuT4,'g-',label='$\\lambda$=223 nm')\n",
    "ax.plot((data.ray.x-10)*2/10, fluxesImuT5,'c--',label='$\\lambda$=195 nm')\n",
    "ax.plot((data.ray.x-10)*2/10, fluxesImuT6,'y--',label='$\\lambda$=223 nm')\n",
    "# ax.plot((data.ray.x-10)*2/10, fluxesImuT5,'g--',label='$\\lambda$=279 nm')\n",
    "\n",
    "\n",
    "ax.legend()\n",
    "plt.xlabel(r'Time, s')\n",
    "plt.ylabel(r'Flux ($W/(m^2*Hz)$')\n",
    "#ax.set_yscale('log')\n",
    "#plt.axis([20, 4000, 0, 8e-8])\n",
    "plt.savefig(\"FluxperTime_.svg\", format=\"svg\")\n",
    "# ax.plot(wave[indices], ImuLoaded5)\n",
    "# plt.xlabel(\"Wavelenght, nm\")\n",
    "# plt.ylabel(\"Flux, W/cm^2\")\n",
    "#plt.xlim(200,1000)\n",
    "# plt.axis([2000, 10000, 0, 1e8])\n",
    "#plt.axis([200, 1000,0, 1e-7])\n"
   ]
  },
  {
   "cell_type": "code",
   "execution_count": 168,
   "metadata": {},
   "outputs": [
    {
     "output_type": "display_data",
     "data": {
      "text/plain": "Canvas(toolbar=Toolbar(toolitems=[('Home', 'Reset original view', 'home', 'home'), ('Back', 'Back to previous …",
      "application/vnd.jupyter.widget-view+json": {
       "version_major": 2,
       "version_minor": 0,
       "model_id": "a875ba373989402b982459f7714b03ac"
      }
     },
     "metadata": {}
    }
   ],
   "source": [
    "%matplotlib widget\n",
    "\n",
    "\n",
    "# x = np.arange(3)\n",
    "# fig, ax=plt.subplots()\n",
    "\n",
    "# ax.bar(x, height=[262560232.80405146,55402284.38289806,149780689.80728346])\n",
    "# ax.bar(x, height=[7853917191.846131,3512128359.596298,12687480875.463161])\n",
    "\n",
    "# plt.xticks(x, ['a','b','c'])\n",
    "data = [[55748425121.6469,28325404361.494724,89770609268.46051],\n",
    "        [64520669894.89934,33721459599.81161,100828886944.4177],\n",
    "        [7853917191.846131,3512128359.596298,12687480875.463161],\n",
    "        [262560232.80405146,55402284.38289806,149780689.80728346]]\n",
    "\n",
    "# \"{:.2e}\".format()\n",
    "rows = ('2.2 sec','1.2 sec','0.2 sec','0 sec' )\n",
    "columns = ['UV-A', 'UV-B', 'UV-C']\n",
    "\n",
    "values =np.arange(0, 1000, 100)\n",
    "value_increment = 1000\n",
    "\n",
    "# Get some pastel shades for the colors\n",
    "colors = plt.cm.BuPu(np.linspace(0, 0.5, len(rows)))\n",
    "n_rows = len(data)\n",
    "\n",
    "index = np.arange(len(columns)) + 0.3\n",
    "bar_width = 0.5\n",
    "\n",
    "# Initialize the vertical-offset for the stacked bar chart.\n",
    "y_offset = np.zeros(len(columns))\n",
    "# str.format(\n",
    "# Plot bars and create text labels for the table\n",
    "cell_text = []\n",
    "for row in range(n_rows):\n",
    "    plt.bar(index, data[row], bar_width, bottom=y_offset, color=colors[row])\n",
    "    y_offset = y_offset + data[row]\n",
    "    cell_text.append([x for x in y_offset])\n",
    "# Reverse colors and text labels to display the last value at the top.\n",
    "colors = colors[::-1]\n",
    "cell_text.reverse()\n",
    "\n",
    "# Add a table at the bottom of the axes\n",
    "the_table = plt.table(cellText=cell_text,\n",
    "                      rowLabels=rows,\n",
    "                      rowColours=colors,\n",
    "                      colLabels=columns,\n",
    "                      loc='bottom')\n",
    "\n",
    "# Adjust layout to make room for the table:\n",
    "plt.subplots_adjust(left=0.2, bottom=0.2)\n",
    "\n",
    "plt.ylabel(\"Flux $mW/m^2$\".format(value_increment))\n",
    "plt.yticks(values, [val for val in values])\n",
    "plt.xticks([])\n",
    "plt.title('Total Flux in UV-bands')\n",
    "\n",
    "plt.show()"
   ]
  },
  {
   "cell_type": "code",
   "execution_count": null,
   "metadata": {},
   "outputs": [],
   "source": []
  }
 ]
}