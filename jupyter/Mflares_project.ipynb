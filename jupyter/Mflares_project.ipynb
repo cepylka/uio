{
 "metadata": {
  "language_info": {
   "codemirror_mode": {
    "name": "ipython",
    "version": 3
   },
   "file_extension": ".py",
   "mimetype": "text/x-python",
   "name": "python",
   "nbconvert_exporter": "python",
   "pygments_lexer": "ipython3",
   "version": "3.8.7-final"
  },
  "orig_nbformat": 2,
  "kernelspec": {
   "name": "python3",
   "display_name": "Python 3",
   "language": "python"
  }
 },
 "nbformat": 4,
 "nbformat_minor": 2,
 "cells": [
  {
   "cell_type": "code",
   "execution_count": null,
   "metadata": {},
   "outputs": [],
   "source": [
    "%matplotlib widget\n",
    "#%matplotlib inline\n",
    "\n",
    "\n",
    "import numpy as np\n",
    "import matplotlib.pyplot as plt\n",
    "from helita.sim import rh15d \n",
    "from helita.vis import rh15d_vis\n",
    "\n",
    "from scipy.integrate import quadrature\n",
    "from scipy.integrate import cumtrapz\n",
    "\n",
    "from pathlib import Path\n",
    "\n",
    "rhRepoPath = Path(\"/Users/elka127/Documents/code/rh\")\n",
    "#set_matplotlib_formats('svg')\n",
    "# plt.rc('legend', frameon=False)\n",
    "# plt.rc('figure', figsize=(7, 7 / 1.75)) # Larger figure sizes\n",
    "# plt.rc('font', size=12)"
   ]
  },
  {
   "source": [
    "# With the Bifrost Snapshot or with existing atmosperes' models\n",
    "\n",
    "```\n",
    "# There are four 1D models of flares on M-dwarfs (/mn/stornext/u3/matsc/rh/Atmos/mflares/). \n",
    "# These are:\n",
    "\n",
    "# radyn_out.F13_dpl_GRID_pt1s.ncdf\n",
    "# tx.m2F12-37.max2F12_Ec37_d3.ncdf\n",
    "# tx.m5F12-37.max5F12_Ec37_d3.ncdf\n",
    "# tx.mF13-37.maxF13_Ec37_d3_dt0.1_10s.ncdf\n",
    "\n",
    "# the three \"tx\" models all have a low cut-off energy of 37 keV and a power index of 3 \n",
    "# (see Allred et al. 2015) \n",
    "# but vary in maximum beam energy: 2e12, 5e12 and 1e13 erg/cm^2/s. \n",
    "\n",
    "#The model from Kowalski et al. 2015 is radyn_out.F13_dpl_GRID_pt1s.ncdf.\n",
    "```\n",
    "\n"
   ],
   "cell_type": "markdown",
   "metadata": {}
  },
  {
   "cell_type": "code",
   "execution_count": null,
   "metadata": {},
   "outputs": [],
   "source": [
    "import h5py\n",
    "from mpl_toolkits.axes_grid1 import make_axes_locatable\n",
    "dpath_sim = \"/Users/elka127/Documents/code/rh/Atmos/\""
   ]
  },
  {
   "cell_type": "code",
   "execution_count": null,
   "metadata": {},
   "outputs": [],
   "source": [
    "# to read xarray.Dataset and see dimentions, coordinates, data variables and attributes \n",
    "import xarray\n",
    "atmos = xarray.open_dataset(dpath_sim+\"radyn_out.F13_dpl_GRID_pt1s.ncdf\")\n",
    "#atmos = xarray.open_dataset(dpath_sim+\"tx.m2F12-37.max2F12_Ec37_d3.ncdf\")\n",
    "#atmos = xarray.open_dataset(dpath_sim+\"tx.m5F12-37.max5F12_Ec37_d3.ncdf\")\n",
    "#atmos = xarray.open_dataset(dpath_sim+\"tx.mF13-37.maxF13_Ec37_d3_dt0.1_10s.ncdf\")\n",
    "atmos\n",
    "# out = xarray.open_dataset(\"/Users/elka127/Documents/code/rh/rh15d/run/output/output_ray.hdf5\")\n",
    "# out\n",
    "#output_indata.hdf5 file.\n",
    "\n",
    "#output_ray.hdf5 file."
   ]
  },
  {
   "source": [
    "```\n",
    "#netcdf4 to hdf5\n",
    "```"
   ],
   "cell_type": "markdown",
   "metadata": {}
  },
  {
   "cell_type": "code",
   "execution_count": null,
   "metadata": {},
   "outputs": [],
   "source": [
    "atmos.to_netcdf(\"newfile.hdf5\", format='NETCDF4')"
   ]
  },
  {
   "source": [
    "```\n",
    "# виджет хелиты все равно не работает даже с переделанным файлом из netcdf\n",
    "# строит только 1 график\n",
    "```"
   ],
   "cell_type": "markdown",
   "metadata": {}
  },
  {
   "cell_type": "code",
   "execution_count": null,
   "metadata": {},
   "outputs": [],
   "source": [
    "from helita.vis import rh15d_vis\n",
    "\n",
    "# hf = h5py.File(dpath_sim+\"radyn_out.F13_dpl_GRID_pt1s.ncdf\",\"r\")\n",
    "# H = hf['z'][0,:]\n",
    "#print(H)\n",
    "rh15d_vis.InputAtmosphere(\"/Users/elka127/Documents/uio/repository/jupyter/newfile.hdf5\")\n",
    "\n"
   ]
  },
  {
   "source": [
    "# Plotting atmospheres in nz"
   ],
   "cell_type": "markdown",
   "metadata": {}
  },
  {
   "cell_type": "code",
   "execution_count": null,
   "metadata": {},
   "outputs": [],
   "source": [
    "import h5py\n",
    "from mpl_toolkits.axes_grid1 import make_axes_locatable\n",
    "dpath_sim = \"/Users/elka127/Documents/code/rh/Atmos\""
   ]
  },
  {
   "cell_type": "code",
   "execution_count": null,
   "metadata": {},
   "outputs": [],
   "source": [
    "#hf = h5py.File(dpath_sim+\"radyn_out.F13_dpl_GRID_pt1s.ncdf\",\"r\")\n",
    "hf = h5py.File(dpath_sim+\"tx.m2F12-37.max2F12_Ec37_d3.ncdf,\"r\")\n",
    "height = hf['z'][0,:,0,:] # geometric height\n",
    "time = hf['x'][:]\n",
    "#print(height.shape())\n",
    "temp = hf['temperature']\n",
    "vlos = hf['velocity_z'] # LOS_V\n",
    "# eden = hf['electron_density']\n",
    "\n",
    "# snapshot_number = hf[\"snapshot_number\"]\n",
    "# nhydr = hf[\"nhydr\"]\n",
    "# x = hf[\"x\"]\n",
    "# z = hf[\"z\"]\n",
    "print(height)\n"
   ]
  },
  {
   "cell_type": "code",
   "execution_count": null,
   "metadata": {},
   "outputs": [],
   "source": [
    "# to plot 2-d atmospheres with height scale as index \n",
    "fig, ax = plt.subplots()\n",
    "#atmos.temperature.plot.hist()\n",
    "#atmos.temperature.plot()\n",
    "atmos.velocity_z.plot()\n",
    "#atmos.electron_density.plot()\n",
    "#im=axs[0].imshow(temp[0,:,0,:])\n",
    "\n",
    "#ax.plot(height / 1e6, time)  # height in Mm\n",
    "ax.set_xlabel('H (Mm)')\n",
    "ax.set_ylabel('time')\n",
    "#ax.set_yscale('log')\n",
    "#ax.set_xscale('log')\n",
    "\n",
    "#ax.set_xlabel('height')\n",
    "#ax.set_ylabel('time')\n"
   ]
  },
  {
   "cell_type": "code",
   "execution_count": null,
   "metadata": {},
   "outputs": [],
   "source": []
  },
  {
   "source": [
    "```\n",
    "# additional way to see variables\n",
    "```"
   ],
   "cell_type": "markdown",
   "metadata": {}
  },
  {
   "cell_type": "code",
   "execution_count": null,
   "metadata": {},
   "outputs": [],
   "source": [
    "hf = h5py.File(dpath_sim+\"radyn_out.F13_dpl_GRID_pt1s.ncdf\",\"r\")\n",
    "#hf = h5py.File(dpath_sim+\"tx.m2F12-37.max2F12_Ec37_d3.ncdf\",\"r\")\n",
    "#hf = h5py.File(dpath_sim+\"tx.m5F12-37.max5F12_Ec37_d3.ncdf\",\"r\")\n",
    "#hf = h5py.File(dpath_sim+\"tx.mF13-37.maxF13_Ec37_d3_dt0.1_10s.ncdf\",\"r\")"
   ]
  },
  {
   "cell_type": "code",
   "execution_count": null,
   "metadata": {},
   "outputs": [],
   "source": [
    "# To see what data is in this file, we can call the keys() method on the file object.\n",
    "hf.keys() # variables in the Bifrost snapshot"
   ]
  },
  {
   "source": [
    "# Plotting atmospheres in real height"
   ],
   "cell_type": "markdown",
   "metadata": {}
  },
  {
   "cell_type": "code",
   "execution_count": null,
   "metadata": {},
   "outputs": [],
   "source": [
    "#from helita.sim import rh15d_vis\n",
    "hf = h5py.File(dpath_sim+\"radyn_out.F13_dpl_GRID_pt1s.ncdf\",\"r\")\n",
    "H = hf['z'][0,:]\n",
    "#print(H)\n",
    "rh15d_vis.InputAtmosphere2D(\"/Users/elka127/Documents/code/rh/rh15d/run/output/output_indata.hdf5\")\n",
    "#nz = H\n",
    "#atmos.temperature.plot.hist()\n",
    "#fig, ax = plt.subplots()\n",
    "#atmos.temperature.plot()\n",
    "#atmos.velocity_z.plot()\n",
    "\n",
    "# atmos.electron_density.plot()\n",
    "# ax.set_xlabel('height')\n",
    "# ax.set_ylabel('time')\n",
    "#hf = h5py.File(rhRepoPath / \"rh15d/run/output/output_indata.hdf5\",\"r\")\n",
    "#hf.keys()\n",
    "# atmos = hf['atmos']\n",
    "# height = hf['height']\n",
    "# inputfile = hf['input']\n",
    "# mpi = hf['mpi']\n",
    "\n",
    "# print(atmos)\n",
    "# print(\"///\")\n",
    "# print(height)\n",
    "# print(\"///\")\n",
    "# print(inputfile)\n",
    "# print(\"///\")\n",
    "# print(mpi)\n",
    "\n",
    "#Blos = hf['B_z'] # LOS B\n",
    "#H = hf['z'][0,:] # geometric height\n",
    "#snapshot_number = hf[\"snapshot_number\"]\n",
    "#nhydr = hf[\"nhydr\"]\n",
    "\n",
    "#import xarray\n",
    "#inputs = xarray.open_dataset(rhRepoPath / \"rh15d/run/output/output_indata.hdf5\")\n"
   ]
  },
  {
   "cell_type": "code",
   "execution_count": null,
   "metadata": {},
   "outputs": [],
   "source": [
    "%matplotlib widget\n",
    "\n",
    "\n",
    "hf=h5py.File(dpath_sim+\"radyn_out.F13_dpl_GRID_pt1s.ncdf\",\"r\")\n",
    "# hf=h5py.File(dpath_sim+\"tx.m2F12-37.max2F12_Ec37_d3.ncdf\",\"r\")\n",
    "# hf=h5py.File(dpath_sim+\"tx.m5F12-37.max2F12_Ec37_d3.ncdf\",\"r\")\n",
    "# hf=h5py.File(dpath_sim+\"tx.mF13-37.maxF13_Ec37_d3_dt0.1_10s.ncdf\",\"r\")\n",
    "\n",
    "hf.keys()\n",
    "\n",
    "tg1t=np.transpose(hf['temperature'][0,:,0,:])\n",
    "vz1t=np.transpose(hf['velocity_z'][0,:,0,:])\n",
    "ed1t=np.transpose(hf['electron_density'][0,:,0,:])\n",
    "\n",
    "z1t=np.transpose(hf['z'][0,:,0,:]/1.e6)\n",
    "\n",
    "fig, ax=plt.subplots()\n",
    "\n",
    "# ax1.plot(z1t[:,0],np.log10(tg1t[:,100]),label='10.0 sec')\n",
    "# ax1.plot(z1t[:,0],np.log10(tg1t[:,75]),label='7.5 sec')\n",
    "# ax1.plot(z1t[:,0],np.log10(tg1t[:,60]),label='6.0 sec')\n",
    "\n",
    "# ax.plot(z1t[:,0],np.log10(tg1t[:,40]),'k--', label='4.0 sec')\n",
    "# ax.plot(z1t[:,0],np.log10(tg1t[:,22]),'k-',label='2.2 sec')\n",
    "# ax.plot(z1t[:,0],np.log10(tg1t[:,12]),'r-.',label='1.2 sec')\n",
    "# ax.plot(z1t[:,0],np.log10(tg1t[:,2]),'b-',label='0.2 sec')\n",
    "# ax.plot(z1t[:,0],np.log10(tg1t[:,1]),'k-',label='0.1 sec')\n",
    "\n",
    "# ax.plot(z1t[:,0],np.log10(tg1t[:,0]),'g-',label='0 sec')\n",
    "\n",
    "# ax.plot(z1t[:,0],vz1t[:,135],label='13.5 sec')\n",
    "# ax.plot(z1t[:,0],vz1t[:,90],label='9.0 sec')\n",
    "# ax.plot(z1t[:,0],vz1t[:,60],label='6.0 sec')\n",
    "\n",
    "# ax.plot(z1t[:,0],vz1t[:,40],label='4.0 sec')\n",
    "# ax.plot(z1t[:,0],vz1t[:,22],label='2.2 sec')\n",
    "# ax.plot(z1t[:,0],vz1t[:,12],label='0.2 sec')\n",
    "ax.plot(z1t[:,0],vz1t[:,2],label='0.2 sec')\n",
    "\n",
    "ax.plot(z1t[:,0],vz1t[:,1],label='0.1 sec')\n",
    "ax.plot(z1t[:,0],vz1t[:,0],label='0 sec')\n",
    "\n",
    "# ax.plot(z1t[:,0],np.log10(ed1t[:,130]),label='13.0 sec')\n",
    "# ax.plot(z1t[:,0],np.log10(ed1t[:,100]),label='10.0 sec')\n",
    "# ax.plot(z1t[:,0],np.log10(ed1t[:,75]),label='7.5 sec')\n",
    "\n",
    "# ax.plot(z1t[:,0],np.log10(ed1t[:,40]),label='4.0 sec')\n",
    "#ax.plot(z1t[:,0],np.log10(ed1t[:,22]),label='2.2 sec')\n",
    "# ax.plot(z1t[:,0],np.log10(ed1t[:,12]),label='1.2 sec')\n",
    "# ax.plot(z1t[:,0],np.log10(ed1t[:,2]),label='0.2 sec')\n",
    "# ax.plot(z1t[:,0],np.log10(ed1t[:,0]),label='0 sec')\n",
    "\n",
    "\n",
    "\n",
    "\n",
    "plt.xlabel('Height (Mm)')\n",
    "\n",
    "# plt.ylabel('lg(Temperature (K))')\n",
    "plt.ylabel('Velocity (m/s)')\n",
    "# plt.xlim(-0.2,0.5)\n",
    "# plt.ylim(-1e5,2e5)\n",
    "#plt.ylabel('lg(Electron Density ())')\n",
    "#plt.title('m2F12-37 Atmos’)\n",
    "ax.legend()  # Add a legend.\n",
    "\n",
    "\n",
    "# plt.savefig(\"temperature_.svg\", format=\"svg\")\n",
    "plt.savefig(\"velocity_z_.svg\", format=\"svg\")\n",
    "# plt.savefig(\"electron_density_.svg\", format=\"svg\")\n"
   ]
  },
  {
   "source": [
    "# Atoms for CaII\n",
    "\n",
    "```\n",
    "# Nmetal\n",
    "   10\n",
    "\n",
    "# Metals\n",
    "#  model file              ACTIVE/PASSIVE  INITIAL_SOLUTION   population file\n",
    "\n",
    "\n",
    "# ../../Atoms/CaII.atom            PASSIVE    ZERO_RADIATION\n",
    "  ../../Atoms/H_6.atom             PASSIVE    ZERO_RADIATION\n",
    "  ../../Atoms/MgII-IRIS.atom       PASSIVE    ZERO_RADIATION\n",
    "  ../../Atoms/CaII_PRD.atom        ACTIVE     ZERO_RADIATION\n",
    "  ../../Atoms/Si.atom              PASSIVE    LTE_POPULATIONS\n",
    "  ../../Atoms/Al.atom              PASSIVE    LTE_POPULATIONS\n",
    "  ../../Atoms/Fe.atom              PASSIVE    LTE_POPULATIONS\n",
    "  ../../Atoms/He.atom              PASSIVE    LTE_POPULATIONS\n",
    "  ../../Atoms/N.atom               PASSIVE    LTE_POPULATIONS\n",
    "  ../../Atoms/Na.atom              PASSIVE    LTE_POPULATIONS\n",
    "  ../../Atoms/S.atom               PASSIVE    LTE_POPULATIONS\n",
    "```"
   ],
   "cell_type": "markdown",
   "metadata": {}
  },
  {
   "cell_type": "code",
   "execution_count": null,
   "metadata": {},
   "outputs": [],
   "source": [
    "data = rh15d.Rh15dout(rhRepoPath / \"rh15d/run/output\")\n",
    "wave = data.ray.wavelength\n",
    "indices = np.arange(len(wave))[(wave > 392.8) & (wave < 394.0)]\n",
    "\n",
    "#wave.sel(wavelength=500, method=\"nearest\")\n",
    "index500 = np.argmin(np.abs(wave.data - 500))"
   ]
  },
  {
   "source": [
    "# Create own wavetable file"
   ],
   "cell_type": "markdown",
   "metadata": {}
  },
  {
   "source": [
    "```\n",
    "# Writes RH wave file (in xdr format). All wavelengths should be in nm.\n",
    "\n",
    "# Parameters\n",
    "# ----------\n",
    "# start: number\n",
    "#     Starting wavelength.\n",
    "# end: number\n",
    "#     Ending wavelength (non-inclusive)\n",
    "# step: number\n",
    "#     Wavelength separation\n",
    "# outfile: string\n",
    "#     Name of file to write.\n",
    "# ewave: 1-D array, optional\n",
    "#    Array of existing wavelengths. Program will make discard points\n",
    "#    to make sure no step is enforced using these points too.\n",
    "# air: boolean, optional\n",
    "#     If true, will at the end convert the wavelengths into vacuum\n",
    "#     wavelengths.\n",
    "```"
   ],
   "cell_type": "markdown",
   "metadata": {}
  },
  {
   "cell_type": "code",
   "execution_count": null,
   "metadata": {},
   "outputs": [],
   "source": [
    "def make_wave_file(my_wave, start=20, end=4860, step=4, new_wave=None,\n",
    "                   ewave=None, air=False):\n",
    "                   rh15d.make_wave_file('my_wave.wave', ewave=my_waves)"
   ]
  },
  {
   "cell_type": "code",
   "execution_count": null,
   "metadata": {},
   "outputs": [],
   "source": [
    "rh15d.make_wave_file('My_wave.wave', 20, 4290, 3.5)"
   ]
  },
  {
   "cell_type": "code",
   "execution_count": null,
   "metadata": {},
   "outputs": [],
   "source": [
    "#from helita.sim import rh15d\n",
    "#read exisitng file if needed\n",
    "MY_wave = rh15d.read_wave_file(rhRepoPath / \"Atoms/wave_files/My_wave.wave\")\n"
   ]
  },
  {
   "cell_type": "code",
   "execution_count": null,
   "metadata": {},
   "outputs": [],
   "source": [
    "#import xarray\n",
    "#atmos = xarray.open_dataset(dpath_sim+\"radyn_out.F13_dpl_GRID_pt1s.ncdf\")\n",
    "print(MY_wave)"
   ]
  },
  {
   "cell_type": "code",
   "execution_count": null,
   "metadata": {},
   "outputs": [],
   "source": [
    "MY_wave.shape"
   ]
  },
  {
   "cell_type": "code",
   "execution_count": null,
   "metadata": {},
   "outputs": [],
   "source": [
    "data = rh15d.Rh15dout(rhRepoPath / \"rh15d/run/output\")\n",
    "wave = data.ray.wavelength\n",
    "indices = np.arange(len(wave))[(wave > 200) & (wave < 500)]\n",
    "#If we want to see also one particular wavelength (500 in example)\n",
    "wave.sel(wavelength=500, method=\"nearest\")\n",
    "index500 = np.argmin(np.abs(wave.data - 500))\n",
    "\n",
    "with open(rhRepoPath / \"rh15d/run/ray.input\", \"w\") as f:\n",
    "    f.write(\"1.00\\n\")\n",
    "    output = str(len(indices) + 1)\n",
    "    for ind in indices:\n",
    "        output += f\" {ind}\"\n",
    "    output += f\" {index500}\\n\"\n",
    "    f.write(output)"
   ]
  },
  {
   "source": [
    "# Intencity plot for Ca II"
   ],
   "cell_type": "markdown",
   "metadata": {}
  },
  {
   "cell_type": "code",
   "execution_count": null,
   "metadata": {},
   "outputs": [],
   "source": [
    "data = rh15d.Rh15dout(rhRepoPath / \"rh15d/run/output\")"
   ]
  },
  {
   "cell_type": "code",
   "execution_count": null,
   "metadata": {},
   "outputs": [],
   "source": [
    "%matplotlib widget\n",
    "#%matplotlib inline\n",
    "data.ray.intensity.plot()\n",
    "#plt.legend(loc=\"upper left\")\n",
    "plt.xlabel(\"Wavelenght nm\")\n",
    "plt.ylabel(\"Time, s*10\")\n",
    "#plt.axis([20, 1000, 0, 62])"
   ]
  },
  {
   "source": [
    "```\n",
    "# to see what's in the output data\n",
    "```"
   ],
   "cell_type": "markdown",
   "metadata": {}
  },
  {
   "cell_type": "code",
   "execution_count": null,
   "metadata": {},
   "outputs": [],
   "source": [
    "hf=h5py.File(rhRepoPath / \"rh15d/run/output/output_ray.hdf5\",\"r\")\n",
    "\n",
    "hf.keys()\n",
    "# tau1.plot()"
   ]
  },
  {
   "source": [
    "```\n",
    "# in order for the graphs to work properly, we make indices for wavelenghts array\n",
    "```"
   ],
   "cell_type": "markdown",
   "metadata": {}
  },
  {
   "cell_type": "code",
   "execution_count": null,
   "metadata": {},
   "outputs": [],
   "source": [
    "%matplotlib widget\n",
    "data = rh15d.Rh15dout(rhRepoPath / \"rh15d/run/output\")\n",
    "wave = data.ray.wavelength\n",
    "indices = np.arange(len(wave))[(wave > 20) & (wave < 4000)]\n",
    "#If we want to see also one particular wavelength (500 in example)\n",
    "# wave.sel(wavelength=500, method=\"nearest\")\n",
    "# index500 = np.argmin(np.abs(wave.data - 500))\n",
    "\n"
   ]
  },
  {
   "source": [
    "# Tau=1 height"
   ],
   "cell_type": "markdown",
   "metadata": {}
  },
  {
   "cell_type": "code",
   "execution_count": null,
   "metadata": {},
   "outputs": [],
   "source": [
    "%matplotlib widget\n",
    "\n",
    "fig, ax=plt.subplots()\n",
    "\n",
    "ax.plot(wave[indices],data.ray.tau_one_height[0,0,indices]/1e6, 'k--',label='0 sec')\n",
    "ax.plot(wave[indices],data.ray.tau_one_height[2,0,indices]/1e6, 'r-',label='0.2 sec')\n",
    "ax.plot(wave[indices],data.ray.tau_one_height[12,0,indices]/1e6, 'r-.',label='1.2 sec')\n",
    "ax.plot(wave[indices],data.ray.tau_one_height[22,0,indices]/1e6, 'b--',label='2.2 sec')\n",
    "ax.plot(wave[indices],data.ray.tau_one_height[40,0,indices]/1e6, 'b-.',label='4. sec')\n",
    "\n",
    "ax.legend(loc=\"upper right\") \n",
    "plt.xlabel(r'$\\lambda$ (nm)')\n",
    "plt.ylabel('Height (Mm)')\n",
    "plt.title(r'$\\tau=1$')\n",
    "plt.savefig(\"Tau_one_height_.svg\", format=\"svg\")\n"
   ]
  },
  {
   "source": [
    "```\n",
    "#To make a plot for intensity at (x, y) = (?, 0), x - time column\n",
    "```"
   ],
   "cell_type": "markdown",
   "metadata": {}
  },
  {
   "cell_type": "code",
   "execution_count": null,
   "metadata": {},
   "outputs": [],
   "source": [
    "%matplotlib widget\n",
    "\n",
    "fig, ax=plt.subplots()\n",
    "#plt.figure()\n",
    "# for i in range(0,2,12,22,38):\n",
    "#     plt.plot(\n",
    "#         data.ray.intensity[i, 0],\n",
    "#         label='Time %i' % (i)\n",
    "#     )\n",
    "# data.ray.intensity[100, 0].plot(label='10 sec')\n",
    "# data.ray.intensity[75, 0].plot(label='7.5 sec')\n",
    "# data.ray.intensity[60, 0].plot(label='6 sec')\n",
    "\n",
    "ax.plot(wave[indices],data.ray.intensity[0,0,indices],'k--',label='0 sec')\n",
    "ax.plot(wave[indices],data.ray.intensity[2,0,indices],'k-',label='0.2 sec')\n",
    "ax.plot(wave[indices],data.ray.intensity[12,0,indices],'r--',label='1.2 sec')\n",
    "ax.plot(wave[indices],data.ray.intensity[22,0,indices],'r-',label='2.2 sec')\n",
    "ax.plot(wave[indices],data.ray.intensity[40,0,indices],'k-.',label='4 sec')\n",
    "\n",
    "\n",
    "# data.ray.intensity[40, 0].plot(label='4 sec')\n",
    "# data.ray.intensity[22, 0].plot(label='2.2 sec')\n",
    "# data.ray.intensity[12, 0].plot(label='1.2 sec')\n",
    "# data.ray.intensity[2, 0].plot(label='0.2 sec')\n",
    "# data.ray.intensity[0, 0].plot(label='0 sec')\n",
    "\n",
    "\n",
    "ax.legend()  # Add a legend.\n",
    "\n",
    "plt.savefig(\"intensity_.svg\", format=\"svg\")\n",
    "plt.xlabel(r'$\\lambda$ (nm)')\n",
    "plt.ylabel(r'Intensity (Stokes I) ($W/(m^2*Hz*sr)$')\n",
    "#ax.set_yscale('log')\n",
    "plt.axis([20, 4000, 0, 8e-7])\n",
    "plt.savefig(\"Intencity_.svg\", format=\"svg\")\n",
    "\n"
   ]
  },
  {
   "source": [
    "```\n",
    "#Flux from Intencity\n",
    "```"
   ],
   "cell_type": "markdown",
   "metadata": {}
  },
  {
   "cell_type": "code",
   "execution_count": null,
   "metadata": {},
   "outputs": [],
   "source": [
    "import scipy.constants\n",
    "\n",
    "print(\"c = %s\"%str(scipy.constants.physical_constants[\"speed of light in vacuum\"]))"
   ]
  },
  {
   "source": [
    "```\n",
    "# Calculating Flux from Intensity in dimensions W/m^2/Hz in 2D array, file:fluxes2d.npy\n",
    "# Calculating Surface Flux in erg/cm^2/s/å in 2D array, file:luxesSurface2d.npy\n",
    "```"
   ],
   "cell_type": "markdown",
   "metadata": {}
  },
  {
   "cell_type": "code",
   "execution_count": null,
   "metadata": {},
   "outputs": [],
   "source": [
    "data.ray.intensity.wavelength[0].data*10"
   ]
  },
  {
   "cell_type": "code",
   "execution_count": null,
   "metadata": {
    "tags": []
   },
   "outputs": [],
   "source": [
    "#import scipy.constants\n",
    "from scipy.integrate import quad, dblquad\n",
    "\n",
    "fluxes = []\n",
    "fluxesSurface = []\n",
    "# const for dimension converting\n",
    "const1 = 2.99792458e+21\n",
    "#const1 = scipy.constants.physical_constants[\"speed of light in vacuum\"]*\n",
    "# uncomment for all columns calculation - takes quite some time\n",
    "#for i in range(data.ray.intensity.x.count().data):\n",
    "for i in [0,2,12,22,40]:\n",
    "# for i in [0]:\n",
    "    for ii in range(data.ray.intensity.wavelength.count().data):\n",
    "        flx, err = quad(lambda x: np.sin(x)*np.cos(x)*data.ray.intensity[i,0,ii].data, 0, np.pi/2)\n",
    "\n",
    "# for i in range(data.ray.intensity.x.count().data):\n",
    "# for i in [0,2,12,22,40]:\n",
    "# for i in [12]:\n",
    "#     for ii in range(data.ray.intensity.wavelength.count().data):\n",
    "#         flx, err = dblquad(lambda x, y: np.sin(x)*np.cos(x)*data.ray.intensity[i,0,ii].data, 0, 2*np.pi, lambda x: 0, lambda x: np.pi/2)\n",
    "        fluxes.append(flx * 2.0 * np.pi)\n",
    "        # fluxes.append(flx)\n",
    "        fluxesSurface.append(const1 * flx /(np.power(data.ray.intensity.wavelength[ii].data * 10,2))\n"
   ]
  },
  {
   "cell_type": "code",
   "execution_count": null,
   "metadata": {},
   "outputs": [],
   "source": [
    "# Write fluxes from 1D to 2D arrays\n",
    "fluxesNP = np.array(fluxes)\n",
    "fluxes2d = fluxesNP.reshape(5,1220)\n",
    "print(fluxes2d.shape, fluxes2d[0,0])\n",
    "c\n",
    "\n",
    "fluxesSurfaceNP = np.array(fluxesSurface)\n",
    "fluxesSurface2d = fluxesSurfaceNP.reshape(5,1220)\n",
    "print(fluxesSurface2d.shape, fluxesSurface2d[0,0])\n",
    "np.save(\"fluxesSurface2d.npy\", fluxesSurface2d)"
   ]
  },
  {
   "cell_type": "code",
   "execution_count": null,
   "metadata": {},
   "outputs": [],
   "source": [
    "print(fluxes2d.shape, fluxes2d[0,50])\n",
    "print(fluxesSurface2d.shape, fluxesSurface2d[0,50])\n"
   ]
  },
  {
   "source": [
    "```\n",
    "# Load fluxes from files\n",
    "```"
   ],
   "cell_type": "markdown",
   "metadata": {}
  },
  {
   "cell_type": "code",
   "execution_count": null,
   "metadata": {},
   "outputs": [],
   "source": [
    "FluxesLoaded = np.load(\"fluxes2d.npy\")\n",
    "print(FluxesLoaded.shape)\n",
    "\n",
    "SurfaceFluxesLoaded = np.load(\"fluxesSurface2d.npy\")\n",
    "print(FluxesLoaded.shape)\n"
   ]
  },
  {
   "source": [
    "```\n",
    "# Graph for Flux in particular time columns\n",
    "```"
   ],
   "cell_type": "markdown",
   "metadata": {}
  },
  {
   "cell_type": "code",
   "execution_count": null,
   "metadata": {},
   "outputs": [],
   "source": [
    "%matplotlib widget\n",
    "fig, ax=plt.subplots()\n",
    "#np.load(\"Flux.npy\")\n",
    "\n",
    "ax.plot(wave[indices],(FluxesLoaded[0,:]),'k--',label='0 sec')\n",
    "ax.plot(wave[indices],(FluxesLoaded[1,:]),'r-',label='0.2 sec')\n",
    "ax.plot(wave[indices],(FluxesLoaded[2,:]),'b-',label='1.2 sec')\n",
    "ax.plot(wave[indices],(FluxesLoaded[3,:]),'g-',label='2.2 sec')\n",
    "ax.plot(wave[indices],(FluxesLoaded[4,:]),'k-',label='4.0 sec')\n",
    "\n",
    "\n",
    "ax.legend()\n",
    "plt.xlabel(\"Wavelenght nm\")\n",
    "plt.ylabel(\"Flux, W/(m2 Hz)\")\n",
    "#plt.axis([0, 4000, 0, 1.5e-6])\n",
    "\n",
    "plt.savefig(\"flux_.svg\", format=\"svg\")\n"
   ]
  },
  {
   "cell_type": "code",
   "execution_count": null,
   "metadata": {},
   "outputs": [],
   "source": [
    "# print(data.ray.intensity[0,0,0])\n",
    "# print(data.ray.intensity[0,0,1219])\n",
    "data = rh15d.Rh15dout(rhRepoPath / \"rh15d/run/output\")\n",
    "#data.ray.wavelength\n",
    "waveAngs = data.ray.wavelength*10\n",
    "#waveAngs\n",
    "indicesAngs = np.arange(len(waveAngs))[(waveAngs > 200) & (waveAngs < 40000)]\n",
    "print(indicesAngs)\n"
   ]
  },
  {
   "cell_type": "code",
   "execution_count": null,
   "metadata": {},
   "outputs": [],
   "source": [
    "%matplotlib widget\n",
    "fig, ax=plt.subplots()\n",
    "#np.load(\"Flux.npy\")\n",
    "\n",
    "\n",
    "ax.plot(waveAngs[indicesAngs],(SurfaceFluxesLoaded[0,:]),'k--',label='0 sec')\n",
    "ax.plot(waveAngs[indicesAngs],(SurfaceFluxesLoaded[1,:]),'r-',label='0.2 sec')\n",
    "ax.plot(waveAngs[indicesAngs],(SurfaceFluxesLoaded[2,:]),'b-.',label='1.2 sec')\n",
    "ax.plot(waveAngs[indicesAngs],(SurfaceFluxesLoaded[3,:]),'g-',label='2.2 sec')\n",
    "ax.plot(waveAngs[indicesAngs],(SurfaceFluxesLoaded[4,:]),'k-',label='4.0 sec')\n",
    "\n",
    "\n",
    "ax.legend()\n",
    "plt.xlabel(\"Wavelenght, Å\")\n",
    "plt.ylabel(\"Flux, erg/cm^2/s/Å\")\n",
    "#plt.axis([2000, 10000, 0, 1e8])\n",
    "plt.axis([0, 2000, 0, 3.5e8])\n",
    "\n",
    "plt.savefig(\"flux_.svg\", format=\"svg\")\n"
   ]
  },
  {
   "cell_type": "code",
   "execution_count": null,
   "metadata": {},
   "outputs": [],
   "source": [
    "import scipy.integrate as scp\n",
    "#print(data.ray.intensity.wavelength[1219].data)\n",
    "#for i in range()\n",
    "#indicesAngs = indices*10\n",
    "# wave1[angstrem] = wave[indices*10]\n",
    "#print(indices[2],indicesAngs[2])\n",
    "fluxesSum = scp.trapz(SurfaceFluxesLoaded[0,:], x=waveAngs[indicesAngs], dx=1.0, axis=-1)\n",
    "print(fluxesSum)"
   ]
  },
  {
   "cell_type": "code",
   "execution_count": null,
   "metadata": {},
   "outputs": [],
   "source": [
    "sigma = 5.6784e-8\n",
    "Teff = np.power(fluxesSum*1e-3/sigma, 1/4)\n",
    "print(Teff)"
   ]
  },
  {
   "source": [
    "# Writing ray.input file\n",
    "```\n",
    "# Selecting wavelengths for detailed output\n",
    "# Choosing all wavelenghts range\n",
    "# Ray input includes all indexes\n",
    "```"
   ],
   "cell_type": "markdown",
   "metadata": {}
  },
  {
   "cell_type": "code",
   "execution_count": null,
   "metadata": {
    "tags": []
   },
   "outputs": [],
   "source": [
    "data = rh15d.Rh15dout(rhRepoPath / \"rh15d/run/output\")\n",
    "#print(data.ray.wavelength)\n",
    "indices = np.arange(len(data.ray.wavelength))\n",
    "#print(indices)\n",
    "\n",
    "f = open(rhRepoPath / \"rh15d/run/ray.input\", \"w\")  # this will overwrite any existing file!\n",
    "f.write('1.00\\n')\n",
    "output = str(len(indices) + 1)\n",
    "ololo = 0\n",
    "for ind in indices:\n",
    "    # if ololo < 5:\n",
    "    #     print(ind)\n",
    "    # ololo += 1\n",
    "    output += f\" {ind}\"\n",
    "#output += ' %i\\n' % index500 \n",
    "f.write(output)\n",
    "f.close()\n",
    "\n",
    "#wave = data.ray.wavelength\n",
    "# indicesAll = np.arange(len(data.ray.wavelength))\n",
    "# indicesInRange = indicesAll[(wave > 20.0) & (wave < 4000.0)]\n",
    "\n",
    "#indicesInRange = indicesAll[(wave > 20.0) & (wave < 4000.0)]\n",
    "\n",
    "\n",
    "# ws1 = wave.sel(wavelength=669, method=\"nearest\")\n",
    "# ws2 = wave.sel(wavelength=500, method=\"nearest\")\n",
    "# ws3 = wave.sel(wavelength=100, method=\"nearest\")\n",
    "# ws4 = wave.sel(wavelength=0, method=\"nearest\")\n",
    "#print(ws1, ws2, ws3, ws4)\n",
    "\n",
    "# for i in indices:\n",
    "#     index f\" {i}\" = += f\" {ind}\"\n",
    "#     output += f\" {index669}\\n\"\n",
    "# index669 = np.argmin(np.abs(wave.data - 669))\n",
    "# #If we want to see also one particular wavelength (500 in example)\n",
    "# index355 = np.argmin(np.abs(wave.data - 355))\n",
    "# index430 = np.argmin(np.abs(wave.data - 430))\n",
    "\n",
    "# print(data.ray.wavelength)\n",
    "# print(\"-\")\n",
    "# print(data.ray.wavelength_selected)\n",
    "# print(\n",
    "#     np.argmin(np.abs(data.ray.wavelength.data - 690))\n",
    "# )\n",
    "\n",
    "#print(\"---\")\n",
    "\n",
    "# print(\n",
    "#     np.argmin(np.abs(wave.data - 390)),\n",
    "#     np.argmin(np.abs(wave.data - 395)),\n",
    "#     np.argmin(np.abs(wave.data - 400))\n",
    "# )\n",
    "# x = wave.data - 400\n",
    "# ii = 0\n",
    "# for i in x:\n",
    "#     if i < 50:\n",
    "#         print(f\"{ii}: {np.abs(i)}\")\n",
    "#     ii += 1\n",
    "\n",
    "#indexesOfWavelengthsRange = {}\n",
    "#indexesOfWavelengthsRange = []\n",
    "# for i in range(20,4000,5):\n",
    "#     #indexesOfWavelengthsRange[i] = np.argmin(np.abs(data.ray.wavelength.data - i))\n",
    "#     indexesOfWavelengthsRange.append(\n",
    "#         np.argmin(np.abs(data.ray.wavelength.data - i))\n",
    "#     )\n",
    "# for d in indexesOfWavelengthsRange:\n",
    "#     print(f\"{d}: {indexesOfWavelengthsRange[d]}\")\n",
    "#print(len(indexesOfWavelengthsRange))\n",
    "\n",
    "# for i in range(len(data.ray.wavelength)):\n",
    "#     indexesOfWavelengthsRange.append(\n",
    "#         np.argmin(np.abs(data.ray.wavelength.data - i))\n",
    "#     )\n",
    "\n",
    "# with open(rhRepoPath / \"rh15d/run/ray.input\", \"w\") as f:\n",
    "#     f.write(\"1.00\\n\")\n",
    "#     output = str(len(indexesOfWavelengthsRange))# + 1)\n",
    "#     for i in indexesOfWavelengthsRange:\n",
    "#         output += f\" {i}\"\n",
    "#     f.write(output)\n"
   ]
  },
  {
   "source": [
    "```\n",
    "#Need to run RH15D again with a new ray.input file "
   ],
   "cell_type": "markdown",
   "metadata": {}
  },
  {
   "source": [
    "# Calculating Flux from Intensity(mu)"
   ],
   "cell_type": "markdown",
   "metadata": {}
  },
  {
   "source": [
    "```\n",
    "# reading new output\n",
    "# writing all tau (time) in one array\n",
    "```"
   ],
   "cell_type": "markdown",
   "metadata": {}
  },
  {
   "cell_type": "code",
   "execution_count": null,
   "metadata": {},
   "outputs": [],
   "source": [
    "data = rh15d.Rh15dout(rhRepoPath / \"rh15d/run/output\")\n",
    "\n",
    "# print(data.ray.wavelength_indices)\n",
    "# print(data.ray.source_function.shape)\n",
    "# print(data.ray.chi.shape)\n",
    "#print(data.ray.wavelength - data.ray.wavelength[0])\n",
    "# print(data.ray.wavelength[indices])\n",
    "\n",
    "indices = np.arange(len(data.ray.wavelength))\n",
    "print(len(indices))\n",
    "print(data.atmos.height_scale.shape)"
   ]
  },
  {
   "cell_type": "code",
   "execution_count": null,
   "metadata": {
    "tags": []
   },
   "outputs": [],
   "source": [
    "data = rh15d.Rh15dout(rhRepoPath / \"rh15d/run/output\")\n",
    "indices = np.arange(len(data.ray.wavelength))\n",
    "\n",
    "\n",
    "# first column\n",
    "height = data.atmos.height_scale[12, 0].dropna('height')  \n",
    " \n",
    "index = []\n",
    "for i in indices:\n",
    "    idx = np.argmin(np.abs(data.ray.wavelength.data - data.ray.wavelength[i].data))\n",
    "    index.append(idx)\n",
    "# тут будет 796 одномерных массивов с тау\n",
    "massivTau = []\n",
    "for i in indices:\n",
    "    x = cumtrapz(data.ray.chi[12, 0, :, i].dropna('height'), x=-height)\n",
    "    x = np.concatenate([[1e-20], x])\n",
    "    massivTau.append(x)"
   ]
  },
  {
   "cell_type": "code",
   "execution_count": null,
   "metadata": {},
   "outputs": [],
   "source": [
    "print(index[0])\n",
    "print(len(index))\n",
    "print(\"---\")\n",
    "print(massivTau[0])\n",
    "print(len(massivTau))\n"
   ]
  },
  {
   "cell_type": "code",
   "execution_count": null,
   "metadata": {},
   "outputs": [],
   "source": [
    "print(data.ray.source_function.shape)\n",
    "# print(data.ray.source_function[0,0,0,1])\n",
    "print(len(massivTau))\n",
    "# print(data.ray.source_function[0,0,0,1219])\n",
    "x = massivTau[0]\n",
    "print(x[:])\n"
   ]
  },
  {
   "source": [
    "```\n",
    "# calculating I(\\mu) for 5 \\mu\n",
    "```"
   ],
   "cell_type": "markdown",
   "metadata": {}
  },
  {
   "cell_type": "code",
   "execution_count": null,
   "metadata": {
    "tags": []
   },
   "outputs": [],
   "source": [
    "from scipy import integrate\n",
    "\n",
    "sourceFunction = data.ray.source_function\n",
    "\n",
    "# mu = [0.0469101,0.230765,0.500000,0.769235,0.953090]\n",
    "# weightMu = [0.118463,0.239314,0.284444,0.239314,0.118463]\n",
    "mu = 1.0\n",
    "intensityMu =[]\n",
    "# x =\n",
    "# y =\n",
    "\n",
    "# --- интрегал\n",
    "# 796 длин волн\n",
    "for y in indices:\n",
    "#     # 249 штук тау\n",
    "   \n",
    "    tmpMu = 0\n",
    "    #for i in range(len(massivTau[y])):\n",
    "    x = massivTau[y]\n",
    "    tmpMu = integrate.trapz(sourceFunction[12,0,:,y].data * np.exp(-x[:]/mu), x)\n",
    "\n",
    "    # tmpMu = integrate.trapz(sourceFunction[40,0,:,y].data * np.exp(-x[:]/mu[1]), x)\n",
    "        # tmpMu += sourceFunction[0,0,i249,i1644].data * np.exp(-massivTau[i1644][i249]/mu[0]) * (massivTau[i1644+1]-massivTau[i1644])\n",
    "    # intensityMu.append(1/mu[1] * tmpMu)\n",
    "    intensityMu.append(1/mu * tmpMu)\n",
    "\n",
    "\n",
    "\n",
    "print(f\"Всего элементоу: {len(intensityMu)}\")\n",
    "print(f\"Перший элемент: {intensityMu[0]}\")\n",
    "print(f\"Второй элемент: {intensityMu[1]}\")\n",
    "print(f\"Последний элемент: {intensityMu[1643]}\")\n",
    "\n",
    "# ---\n",
    "\n",
    "# fig, ax = plt.subplots()\n",
    "\n",
    "# ax.plot(data.atmos.height_scale[2,0]/1e6,sourceFunction[2,0,:,0],label='0.2 sec')\n",
    "#ax.plot(np.log10(massivTau[792]),sourceFunction[22,0,:,0],label='0.2 sec')\n"
   ]
  },
  {
   "cell_type": "code",
   "execution_count": null,
   "metadata": {},
   "outputs": [],
   "source": [
    "np.save(\"intensityMu12.npy\", intensityMu)"
   ]
  },
  {
   "cell_type": "code",
   "execution_count": null,
   "metadata": {},
   "outputs": [],
   "source": [
    "%matplotlib widget\n",
    "\n",
    "wave = data.ray.wavelength\n",
    "ImuLoaded = np.load(\"IntensityMu12.npy\")\n",
    "\n",
    "# ImuLoaded1 = np.load(\"IntensityMu-1.npy\")\n",
    "# ImuLoaded2 = np.load(\"IntensityMu-2.npy\")\n",
    "# ImuLoaded3 = np.load(\"IntensityMu-3.npy\")\n",
    "# ImuLoaded4 = np.load(\"IntensityMu-4.npy\")\n",
    "ImuLoaded5 = np.load(\"IntensityMu-5.npy\")\n",
    "# # print(ImuLoaded1.shape)\n",
    "fig, ax=plt.subplots()\n",
    "# #np.load(\"Flux.npy\")\n",
    "\n",
    "\n",
    "\n",
    "ax.plot(wave[indices], ImuLoaded,'k--',label=r'$\\mu$1')\n",
    "\n",
    "ax.plot(wave[indices], ImuLoaded5,'r-',label=r'$\\mu$0.95')\n",
    "ax.plot(wave[indices],data.ray.intensity[2,0,indices],'g-.',label='12 sec')\n",
    "\n",
    "# ax.plot(wave[indices], ImuLoaded1,'k--',label=r'$\\mu$1')\n",
    "# ax.plot(wave[indices], ImuLoaded2,'k-',label=r'$\\mu$2')\n",
    "# ax.plot(wave[indices], ImuLoaded3,'g-',label=r'$\\mu$3')\n",
    "# ax.plot(wave[indices], ImuLoaded4,'r-',label=r'$\\mu$4')\n",
    "# ax.plot(wave[indices], ImuLoaded5,'b-',label=r'$\\mu$5')\n",
    "\n",
    "ax.legend()\n",
    "plt.xlabel(r'$\\lambda$ (nm)')\n",
    "plt.ylabel(r'Intensity (Stokes I) ($W/(m^2*Hz*sr)$')\n",
    "#ax.set_yscale('log')\n",
    "#plt.axis([20, 4000, 0, 8e-8])\n",
    "plt.savefig(\"Intencity_.svg\", format=\"svg\")"
   ]
  },
  {
   "cell_type": "code",
   "execution_count": null,
   "metadata": {
    "tags": []
   },
   "outputs": [],
   "source": [
    "fluxesImu =[]\n",
    "weightMu = [0.118463,0.239314,0.284444,0.239314,0.118463]\n",
    "\n",
    "ImuLoaded1 = np.load(\"IntensityMu-1.npy\")\n",
    "ImuLoaded2 = np.load(\"IntensityMu-2.npy\")\n",
    "ImuLoaded3 = np.load(\"IntensityMu-3.npy\")\n",
    "ImuLoaded4 = np.load(\"IntensityMu-4.npy\")\n",
    "ImuLoaded5 = np.load(\"IntensityMu-5.npy\")\n",
    "Imuloaded = []\n",
    "Imuloaded.append(ImuLoaded1)\n",
    "Imuloaded.append(ImuLoaded2)\n",
    "Imuloaded.append(ImuLoaded3)\n",
    "Imuloaded.append(ImuLoaded4)\n",
    "Imuloaded.append(ImuLoaded5)\n",
    "#print(len(Imuloaded))\n",
    "for i in indices:\n",
    "    imu = 0\n",
    "    for i5 in range(len(weightMu)):\n",
    "        imu += Imuloaded[i5][i]*weightMu[i5]\n",
    "    fluxesImu.append(imu)\n",
    "print(len(fluxesImu))\n"
   ]
  },
  {
   "cell_type": "code",
   "execution_count": null,
   "metadata": {},
   "outputs": [],
   "source": [
    "np.save(\"fluxesImu40.npy\", fluxesImu)"
   ]
  },
  {
   "cell_type": "code",
   "execution_count": null,
   "metadata": {},
   "outputs": [],
   "source": [
    "%matplotlib widget\n",
    "\n",
    "fluxesImu1 = np.load(\"fluxesImu0.npy\")\n",
    "fluxesImu2 = np.load(\"fluxesImu2.npy\")\n",
    "fluxesImu3 = np.load(\"fluxesImu12.npy\")\n",
    "fluxesImu4 = np.load(\"fluxesImu22.npy\")\n",
    "fluxesImu5 = np.load(\"fluxesImu40.npy\")\n",
    "\n",
    "\n",
    "\n",
    "fig, ax=plt.subplots()\n",
    "#np.load(\"Flux.npy\")\n",
    "\n",
    "wave = data.ray.wavelength\n",
    "\n",
    "ax.plot(wave[indices], fluxesImu1,'k--',label='0 sec')\n",
    "ax.plot(wave[indices], fluxesImu2,'k-',label='0.2 sec')\n",
    "ax.plot(wave[indices], fluxesImu3,'r-',label='1.2 sec')\n",
    "ax.plot(wave[indices], fluxesImu4,'b-',label='2.2 sec')\n",
    "ax.plot(wave[indices], fluxesImu5,'g-',label='4.0 sec')\n",
    "\n",
    "\n",
    "ax.legend()\n",
    "plt.xlabel(r'$\\lambda$ (nm)')\n",
    "plt.ylabel(r'Flux ($W/(m^2*Hz)$')\n",
    "#ax.set_yscale('log')\n",
    "#plt.axis([20, 4000, 0, 8e-8])\n",
    "plt.savefig(\"FluxperHz_.svg\", format=\"svg\")\n",
    "# ax.plot(wave[indices], ImuLoaded5)\n",
    "# plt.xlabel(\"Wavelenght, nm\")\n",
    "# plt.ylabel(\"Flux, W/cm^2\")\n",
    "#plt.xlim(200,1000)\n",
    "# plt.axis([2000, 10000, 0, 1e8])\n",
    "#plt.axis([200, 1000,0, 1e-7])\n"
   ]
  },
  {
   "cell_type": "code",
   "execution_count": null,
   "metadata": {},
   "outputs": [],
   "source": [
    "const1 = 2.99792458e+21\n",
    "fluxesImu = np.load(\"fluxesImu40.npy\")\n",
    "fluxesSurfaceMu = []\n",
    "# fluxesSurfaceMu.append(const1 * fluxesImu[0] /(np.power(wave[0] * 10,2)))\n",
    "# print(fluxesSurfaceMu)\n",
    "for i in indices:\n",
    "    fluxesSurfaceMu.append(const1 * fluxesImu[i] /(np.power(wave[i] * 10,2)))\n",
    "\n",
    "np.save(\"fluxesSurfaceMu40.npy\", fluxesSurfaceMu)"
   ]
  },
  {
   "cell_type": "code",
   "execution_count": null,
   "metadata": {},
   "outputs": [],
   "source": [
    "from scipy import integrate\n",
    "fluxesSurfaceMu = np.load(\"fluxesSurfaceMu0.npy\")\n",
    "\n",
    "#print(data.ray.intensity.wavelength[1219].data)\n",
    "#for i in range()\n",
    "# indicesAngs = indices*10\n",
    "# wave1[angstrem] = wave[indices*10]\n",
    "#print(indices[2],indicesAngs[2])\n",
    "x = wave[indices]\n",
    "fluxesSum = integrate.trapz(fluxesSurfaceMu[:], x * 10)\n",
    "print(fluxesSum)"
   ]
  },
  {
   "cell_type": "code",
   "execution_count": null,
   "metadata": {},
   "outputs": [],
   "source": [
    "sigma = 5.6784e-8\n",
    "Teff = np.power(fluxesSum*1e-3/sigma, 1/4)\n",
    "print(Teff)"
   ]
  },
  {
   "cell_type": "code",
   "execution_count": null,
   "metadata": {},
   "outputs": [],
   "source": [
    "fig, ax=plt.subplots()\n",
    "\n",
    "ax.plot(wave[indices], fluxesSurfaceMu)\n",
    "plt.xlabel(\"Wavelenght (nm)\")\n",
    "plt.ylabel(\"Flux\")\n",
    "plt.xlim(200,1000)\n",
    "plt.ylim(0,8e8)\n"
   ]
  },
  {
   "cell_type": "code",
   "execution_count": null,
   "metadata": {},
   "outputs": [],
   "source": [
    "fluxesSurfaceMu1 = np.load(\"fluxesSurfaceMu0.npy\")\n",
    "fluxesSurfaceMu2 = np.load(\"fluxesSurfaceMu2.npy\")\n",
    "fluxesSurfaceMu3 = np.load(\"fluxesSurfaceMu12.npy\")\n",
    "fluxesSurfaceMu4 = np.load(\"fluxesSurfaceMu22.npy\")\n",
    "fluxesSurfaceMu5 = np.load(\"fluxesSurfaceMu40.npy\")\n",
    "\n",
    "\n",
    "\n",
    "fig, ax=plt.subplots()\n",
    "\n",
    "ax.plot(wave[indices]*10, fluxesSurfaceMu1,'k--',label='0 sec')\n",
    "ax.plot(wave[indices]*10, fluxesSurfaceMu2,'k-',label='0.2 sec')\n",
    "ax.plot(wave[indices]*10, fluxesSurfaceMu3,'r--',label='1.2 sec')\n",
    "ax.plot(wave[indices]*10, fluxesSurfaceMu4,'b--',label='2.2 sec')\n",
    "ax.plot(wave[indices]*10, fluxesSurfaceMu5,'g--',label='4.0 sec')\n",
    "\n",
    "ax.legend()\n",
    "plt.xlabel(\"Wavelenght, Å\")\n",
    "plt.ylabel(\"Flux, erg/cm^2/s/Å\")\n",
    "#plt.axis([2000, 9000, 0, 6.5e8])\n",
    "#plt.axis([0, 2000, 0, 1e7])\n",
    "\n",
    "plt.savefig(\"flux_.svg\", format=\"svg\")"
   ]
  },
  {
   "source": [
    "```\n",
    "#To make a plot for intensity at a fixed wavelength\n",
    "```"
   ],
   "cell_type": "markdown",
   "metadata": {}
  },
  {
   "cell_type": "code",
   "execution_count": null,
   "metadata": {},
   "outputs": [],
   "source": [
    "%matplotlib widget\n",
    "data.ray.intensity.sel(wavelength=500, method='nearest').plot()"
   ]
  },
  {
   "source": [
    "# Tau=1 for wavelenght"
   ],
   "cell_type": "markdown",
   "metadata": {}
  },
  {
   "cell_type": "code",
   "execution_count": null,
   "metadata": {},
   "outputs": [],
   "source": [
    "%matplotlib widget\n",
    "\n",
    "#data = rh15d.Rh15dout(rhRepoPath / \"rh15d/run/output\")\n",
    "\n",
    "\n",
    "fig, ax = plt.subplots()\n",
    "ax.plot(height / 1e6, massivTau[20])  # height in Mm\n",
    "\n",
    "plt.ylabel(r'$\\tau$$_{20}$')\n",
    "plt.xlabel('H (Mm)')\n",
    "\n",
    "ax.set_yscale('log')\n",
    "ax.axhline(y=1,linestyle='dashed',color='black')\n",
    "#ax.axvline(x=0.5,linestyle='dashed',color='black')\n",
    "plt.savefig(\"tau360_.svg\", format=\"svg\")\n"
   ]
  },
  {
   "source": [
    "# Plot the departure coefficients for the levels of Ca II\n",
    "\n"
   ],
   "cell_type": "markdown",
   "metadata": {}
  },
  {
   "cell_type": "code",
   "execution_count": null,
   "metadata": {},
   "outputs": [],
   "source": [
    "%matplotlib widget\n",
    "data = rh15d.Rh15dout(rhRepoPath / \"rh15d/run/output\")\n",
    "\n",
    "plt.figure()\n",
    "for i in range(5):\n",
    "    plt.plot(data.atmos.height_scale[22,0]/1e6, \n",
    "             data.atom_CA.populations[i, 22, 0]/data.atom_CA.populations_LTE[i, 22, 0],\n",
    "             label='Level %i' % (i + 1))\n",
    "plt.legend(loc=\"upper left\")\n",
    "plt.ylabel(\"Departure coefficients at 0 sec\")\n",
    "plt.xlabel(\"H (Mm)\")\n",
    "#plt.axis([0, 0.4])\n",
    "\n",
    "# plt.figure()\n",
    "# for i in range(5):\n",
    "#     plt.plot(data.atmos.height_scale[0,0]/1e6, \n",
    "#              data.atom_CA.populations[i, 0, 0]/data.atom_CA.populations_LTE[i, 0, 0],\n",
    "#              label='Level %i' % (i + 1))\n",
    "# fig, ax = plt.subplots()\n",
    "# ax.plot(tau500,data.atom_CA.populations[1, 0, 0, 0]/data.atom_CA.populations_LTE[1, 0, 0, 0], label='Level %1' % (1)) \n",
    "# plt.legend(loc=\"upper left\")\n",
    "# plt.xlabel(\"tau500\")\n",
    "# plt.ylim(0.05, 2)\n",
    "# plt.ylabel(\"Departure coefficients\")\n",
    "# plt.ylim(0.05, 2)\n",
    "plt.axis([0, 0.5, 0, 1e5])\n"
   ]
  },
  {
   "cell_type": "code",
   "execution_count": null,
   "metadata": {},
   "outputs": [],
   "source": [
    "%matplotlib widget\n",
    "\n",
    "fig, ax = plt.subplots()\n",
    "ax.plot(data.atmos.height_scale[0, 0].dropna('height')/1e6, data.atom_CA.populations[0,0,0,:].dropna('height')/data.atom_CA.populations_LTE[0,0,0,:].dropna('height'),'r--',label=r'b$_{l}$')\n",
    "ax.plot(data.atmos.height_scale[0, 0].dropna('height')/1e6, np.log10(data.atom_CA.populations[0,3,0,:].dropna('height')/data.atom_CA.populations_LTE[0,3,0,:].dropna('height')),'k-',label=r'b$_{u}$')\n",
    "plt.legend(loc='best')\n",
    "plt.xlabel('H (Mm)')\n",
    "plt.ylabel(r'Log (b$_{i}$)')\n",
    "#plt.xlim([0,2])"
   ]
  },
  {
   "source": [
    "# tau=1"
   ],
   "cell_type": "markdown",
   "metadata": {}
  },
  {
   "cell_type": "code",
   "execution_count": null,
   "metadata": {},
   "outputs": [],
   "source": [
    "%matplotlib widget\n",
    "\n",
    "#data = rh15d.Rh15dout(rhRepoPath / \"rh15d/run/output\")\n",
    "\n",
    "\n",
    "fig, ax = plt.subplots()\n",
    "\n",
    "ax.plot(wave[indices],data.ray.tau_one_height[0,0,indices]/1e6,'k--',label='0 sec')\n",
    "ax.plot(wave[indices],data.ray.tau_one_height[2,0,indices]/1e6,'k-',label='0.2 sec')\n",
    "#ax.plot(wave[indices],data.ray.tau_one_height[12,0,indices]/1e6,'r-',label='1.2 sec')\n",
    "ax.plot(wave[indices],data.ray.tau_one_height[22,0,indices]/1e6,'b-',label='2.2 sec')\n",
    "#ax.plot(wave[indices],data.ray.tau_one_height[40,0,indices]/1e6,'g-',label='4 sec')\n",
    "\n",
    "plt.legend(loc='best')\n",
    "\n",
    "plt.xlabel(r'$\\lambda$ (nm)')\n",
    "plt.ylabel('Height (Mm)')\n"
   ]
  },
  {
   "cell_type": "code",
   "execution_count": null,
   "metadata": {},
   "outputs": [],
   "source": [
    "height = data.ray.height\n",
    "fig, ax = plt.subplots()\n",
    "ax.plot(height/)\n"
   ]
  },
  {
   "source": [
    "# от тау 500"
   ],
   "cell_type": "markdown",
   "metadata": {}
  },
  {
   "cell_type": "code",
   "execution_count": null,
   "metadata": {
    "tags": []
   },
   "outputs": [],
   "source": [
    "# xVals = data.atmos.height_scale[0,0]/1e6\n",
    "# with open(\"/tmp/x.txt\", \"w\") as f:\n",
    "#     for x in xVals.data:\n",
    "#         f.write(f\"{x}\\n\")\n",
    "\n",
    "print(data.atom_CA.populations[0,22,0])\n",
    "# yVals = data.atom_CA.populations[0,0,0]\n",
    "# with open(\"/tmp/y.txt\", \"w\") as f:\n",
    "#     for y in yVals.data:\n",
    "#         f.write(f\"{y}\\n\")\n",
    "\n",
    "\n",
    "#print(data.atom_CA.populations[0,0,0][247])\n",
    "# print(\"- - - - -\")\n",
    "# print(data.atom_CA.populations[1,0,0])\n",
    "# print(\"- - - - -\")\n",
    "# print(data.atom_CA.populations[2,0,0])"
   ]
  },
  {
   "cell_type": "code",
   "execution_count": null,
   "metadata": {},
   "outputs": [],
   "source": [
    "import matplotlib.animation as animation\n",
    "\n",
    "fig, ax = plt.subplots()\n",
    "\n",
    "line, = ax.plot(\n",
    "    data.atmos.height_scale[0,0]/1e6,\n",
    "    data.atom_CA.populations[0,0,0]\n",
    ")\n",
    "\n",
    "def animate(i):\n",
    "    #line.set_xdata(x)\n",
    "    line.set_ydata(data.atom_CA.populations[0, i, 0][0])\n",
    "    return line,\n",
    "\n",
    "ani = animation.FuncAnimation(\n",
    "    fig,\n",
    "    animate,\n",
    "    np.arange(52),\n",
    "    #blit=True,\n",
    "    repeat=False\n",
    ")\n",
    "plt.show()"
   ]
  },
  {
   "cell_type": "code",
   "execution_count": null,
   "metadata": {},
   "outputs": [],
   "source": [
    "%matplotlib widget\n",
    "\n",
    "plt.figure()\n",
    "for i in range(5):\n",
    "    plt.plot(\n",
    "        data.atmos.height_scale[22,0]/1e6, \n",
    "        data.atom_CA.populations[i, 22, 0]/data.atom_CA.populations_LTE[i, 22, 0],\n",
    "        label='Level %i' % (i + 1)\n",
    "    )\n",
    "plt.legend(loc=\"upper left\")\n",
    "plt.xlabel(\"Height (Mm)\")\n",
    "plt.ylabel(\"Departure coefficients\")\n",
    "plt.xlim(0,4)\n",
    "plt.ylim(-20,1e6)\n",
    "#/data.atom_CA.populations_LTE[i, 100, 0]"
   ]
  },
  {
   "source": [
    "# Departure coefficient vs optical depth"
   ],
   "cell_type": "markdown",
   "metadata": {}
  },
  {
   "cell_type": "code",
   "execution_count": null,
   "metadata": {},
   "outputs": [],
   "source": [
    "%matplotlib widget\n",
    "\n",
    "for i in range(6):\n",
    "    plt.plot(np.log10(tau669), np.log10(data.atom_CA.populations[i,22,0,:].dropna('height')/data.atom_CA.populations_LTE[i,22,0,:].dropna('height')),label=r'b'+r'$_{'+str(i)+'}$')\n",
    "    plt.legend(loc='best')\n",
    "    plt.xlabel(r'Log ($\\tau$$_{669}$)')\n",
    "    plt.ylabel(r'Log (b$_{i}$)')\n",
    "    plt.xlim([-12,2])"
   ]
  },
  {
   "source": [
    "# Source function"
   ],
   "cell_type": "markdown",
   "metadata": {}
  },
  {
   "cell_type": "code",
   "execution_count": null,
   "metadata": {},
   "outputs": [],
   "source": [
    "data = rh15d.Rh15dout(rhRepoPath / \"rh15d/run/output\")\n",
    "\n",
    "rh15d_vis.SourceFunction(data);\n",
    "plt.xlim(-0.2,0.4)\n",
    "plt.ylim(0,1e6)"
   ]
  },
  {
   "cell_type": "code",
   "execution_count": null,
   "metadata": {},
   "outputs": [],
   "source": [
    "%matplotlib widget\n",
    "\n",
    "data = rh15d.Rh15dout(rhRepoPath / \"rh15d/run/output\")\n",
    "hf=h5py.File(rhRepoPath / \"rh15d/run/output/output_ray.hdf5\",\"r\")\n",
    "\n",
    "hf.keys()\n",
    "\n",
    "sourceFunction = hf['source_function']\n",
    "\n",
    "fig, ax = plt.subplots()\n",
    "\n",
    "# ax.plot(data.atmos.height_scale[2,0]/1e6,sourceFunction[2,0,:,0],label='0.2 sec')\n",
    "ax.plot(np.log10(tau669),sourceFunction[2,0,:,0],label='0.2 sec')\n",
    "\n",
    "#data.source_function.data"
   ]
  },
  {
   "source": [
    "# Различные блоки, которые не пригодились или не работают"
   ],
   "cell_type": "markdown",
   "metadata": {}
  },
  {
   "cell_type": "code",
   "execution_count": null,
   "metadata": {
    "tags": []
   },
   "outputs": [],
   "source": [
    "# from scipy import integrate\n",
    "# from integrate import quad, dblquad\n",
    "from scipy.integrate import quad, dblquad\n",
    "fluxes = []\n",
    "\n",
    "# def u(x):\n",
    "#     #print(i, ii)\n",
    "#     return np.cos(x)*data.ray.intensity[i,0,ii].data\n",
    "#print(u(0))\n",
    "#x = np.cos(y)\n",
    "#print(data.ray.intensity)\n",
    "#print(data.ray.intensity.shape, data.ray.intensity.count().data)\n",
    "for i in range(data.ray.intensity.x.count().data):\n",
    "    for ii in range(data.ray.intensity.wavelength.count().data):\n",
    "        #print(data.ray.intensity[i,0,ii].data)\n",
    "        flx, err = dblquad(lambda x, y: np.sin(x)*np.cos(x)*data.ray.intensity[i,0,ii].data, 0, np.pi, lambda x: 0, lambda x: np.pi/2)\n",
    "        #integrate.quad(lambda x: x*data.ray.intensity[i,0,ii].data, -1, 1) #weight=\"cos\", wvar=1)\n",
    "        #fluxes.append(round(flx,5))\n",
    "        #print(flx)\n",
    "        fluxes.append(flx)\n",
    "#print(fluxes)\n",
    "np.save(\"Flux.npy\",fluxes)"
   ]
  },
  {
   "cell_type": "code",
   "execution_count": null,
   "metadata": {},
   "outputs": [],
   "source": [
    "%matplotlib widget\n",
    "import numpy as np\n",
    "import matplotlib.pyplot as plt\n",
    "from helita.sim import rh15d\n",
    "import h5py\n",
    "\n",
    "hf=h5py.File(dpath_sim+\"radyn_out.F13_dpl_GRID_pt1s.ncdf\",\"r\")\n",
    "\n",
    "hf.keys()\n",
    "\n",
    "tg1t=np.transpose(hf['temperature'][0,:,0,:])\n",
    "vz1t=np.transpose(hf['velocity_z'][0,:,0,:])\n",
    "z1t=np.transpose(hf['z'][0,:,0,:]/1.e6)\n",
    "\n",
    "fig1, ax1=plt.subplots()\n",
    "#ax1.plot(vz1t[:,22],np.log10(tg1t[:,22]))\n",
    "ax1.plot(vz1t[:,0],(tg1t[:,0]))\n",
    "\n",
    "plt.xlabel('Height (Mm)')\n",
    "plt.ylabel('(Velocity (m/s))')\n",
    "\n",
    "#plt.ylabel('lg(Temperature (K))')\n",
    "#plt.title('Figure 1’)"
   ]
  },
  {
   "source": [
    "# further nonsence with atmo\n"
   ],
   "cell_type": "markdown",
   "metadata": {}
  },
  {
   "cell_type": "code",
   "execution_count": null,
   "metadata": {},
   "outputs": [],
   "source": [
    "rh15d_vis.InputAtmosphere(\"/Users/elka127/Documents/uio/ast5210/docs/untitled folder/rh_ast5210/Atmos/bifrost_cb24bih_s385_cut.hdf5\");\n",
    "#rh15d_vis.InputAtmosphere(\"/Users/elka127/Documents/uio/ast5210/docs/untitled folder/rh_ast5210/Atmos/bifrost_cb24bih_s385_cut.hdf5\");\n",
    "# import h5py\n",
    "#   data = h5py.File(rhRepoPath / \"rh15d/run/output/output_indata.hdf5\",\"r\")\n",
    "#   for group in data.keys():\n",
    "#        print(group)"
   ]
  },
  {
   "cell_type": "code",
   "execution_count": null,
   "metadata": {},
   "outputs": [],
   "source": [
    "atmosTemp = atmos.temperature \n",
    "#atmostemp\n",
    "\n",
    "# print(atmosTemp[0,:,:,248])\n",
    "# print()\n",
    "# print(atmosTemp[0,:,:,247])\n",
    "\n",
    "# 1 - nt(1) - ?\n",
    "# 2 - nx(52) - время\n",
    "# 3 - ny(1) - ?\n",
    "# 4 - nz(249) - высота\n",
    "\n",
    "# sm1 = atmosTemp[0,0,0,248]\n",
    "# print(sm1)\n",
    "# sm2 = atmosTemp[0,0,0]\n",
    "# print(sm2)\n",
    "\n",
    "#print(atmosTemp[0,:,:,:])\n",
    "\n",
    "# ---\n",
    "\n",
    "atmosHeight = atmos.z\n",
    "atmosHeight"
   ]
  },
  {
   "cell_type": "code",
   "execution_count": null,
   "metadata": {},
   "outputs": [],
   "source": [
    "fig, axs = plt.subplots(1,3,figsize=(15,5),facecolor='w', edgecolor='k')\n",
    "#fig.subplots_adjust(hspace = 0.1,wspace=0.25,left=0.05,right=0.95,top=0.93,bottom=0.07)\n",
    "#axs.ravel()\n",
    "\n",
    "# im=axs[0].imshow(atmosTemp[0,:,:,248],cmap='plasma')\n",
    "# im=axs[1].imshow(atmosTemp[0,:,:,247],cmap='plasma')\n",
    "# im=axs[2].imshow(atmosTemp[0,:,:,246],cmap='plasma')\n",
    "\n",
    "im=axs[0].plot(atmosTemp[0,:,:,247])\n",
    "im=axs[1].plot(atmosHeight[0,:,:,247])\n",
    "#im=axs[2].plot(atmosTemp[0,:,:,246])\n",
    "\n",
    "# divider0 = make_axes_locatable(axs[0])\n",
    "# cax0 = divider0.append_axes(\"right\", size=\"5%\", pad=0.05)\n",
    "# cbar0=plt.colorbar(im,cax=cax0)\n",
    "# cbar0.set_label('T (K)')\n",
    "\n",
    "# divider1 = make_axes_locatable(axs[1])\n",
    "# cax1 = divider1.append_axes(\"right\", size=\"5%\", pad=0.05)\n",
    "# cbar1=plt.colorbar(im,cax=cax1)\n",
    "# cbar1.set_label('T (K)')\n",
    "\n",
    "#axs[0].set_xlabel('pixels')\n",
    "axs[0].set_ylabel('pixels')"
   ]
  },
  {
   "cell_type": "code",
   "execution_count": null,
   "metadata": {},
   "outputs": [],
   "source": [
    "import h5py\n",
    "data = h5py.File(rhRepoPath / \"rh15d/run/output/output_indata.hdf5\",\"r\")\n",
    "for group in data.keys():\n",
    "    print(group)"
   ]
  },
  {
   "cell_type": "code",
   "execution_count": null,
   "metadata": {},
   "outputs": [],
   "source": [
    "import xarray\n",
    "atmos = xarray.open_dataset(\"/Users/elka127/Documents/uio/ast5210/docs/untitled folder/rh_ast5210/Atmos/bifrost_cb24bih_s385_cut.hdf5\")\n",
    "atmos"
   ]
  },
  {
   "cell_type": "code",
   "execution_count": null,
   "metadata": {},
   "outputs": [],
   "source": [
    "atmos.temperature.plot()"
   ]
  },
  {
   "cell_type": "code",
   "execution_count": null,
   "metadata": {},
   "outputs": [],
   "source": [
    "import h5py\n",
    "from mpl_toolkits.axes_grid1 import make_axes_locatable\n",
    "dpath_sim = \"/Users/elka127/Documents/uio/project-Mflare/mflares/\"\n",
    "\n",
    "from helita.sim import bifrost\n",
    "data = bifrost.BifrostData(\"radyn_out.F13_dpl_GRID_pt1s\", snap=300, fdir=dpath_sim+\"radyn_out.F13_dpl_GRID_pt1s.ncdf\")"
   ]
  },
  {
   "cell_type": "code",
   "execution_count": null,
   "metadata": {},
   "outputs": [],
   "source": []
  },
  {
   "cell_type": "code",
   "execution_count": null,
   "metadata": {},
   "outputs": [],
   "source": [
    "#H = hf['z'][0,:] \n",
    "# geometric height\n",
    "plt.figure()\n",
    "plt.plot(\n",
    "        atmos.height_scale[0,0]/1e6, \n",
    "        atmos.electron_density[0, 0, 0]\n",
    ")\n",
    "print(atmos.height_scale[0,0]/1e6)\n"
   ]
  },
  {
   "cell_type": "code",
   "execution_count": null,
   "metadata": {},
   "outputs": [],
   "source": [
    "import matplotlib.pyplot as plt\n",
    "import numpy as np\n",
    "\n",
    "# hf = h5py.File(dpath_sim+\"radyn_out.F13_dpl_GRID_pt1s.ncdf\",\"r\")\n",
    "# height = hf['z'][0,:,0,:] # geometric height\n",
    "# time = hf['x'][:]\n",
    "# temp = hf['temperature']\n",
    "# vlos = hf['velocity_z'] # LOS_V\n",
    "# eden = hf['electron_density']\n",
    "\n",
    "hf=h5py.File(dpath_sim+\"radyn_out.F13_dpl_GRID_pt1s.ncdf\",\"r\")\n",
    "\n",
    "hf.keys()\n",
    "\n",
    "tg1t=np.transpose(hf['temperature'][0,:,0,:])\n",
    "vz1t=np.transpose(hf['velocity_z'][0,:,0,:])\n",
    "ed1t=np.transpose(hf['electron_density'][0,:,0,:])\n",
    "\n",
    "z1t=np.transpose(hf['z'][0,:,0,:]/1.e6)\n",
    "\n",
    "fig, axs =plt.subplots(1,3,figsize=(15,5),facecolor='w', edgecolor='k')\n",
    "fig.subplots_adjust(hspace = 0.25,wspace=0.25,left=0.05,right=0.95,top=0.93,bottom=0.07)\n",
    "axs.ravel()\n",
    "im=axs[0].matshow(tg1t)\n",
    "divider1 = make_axes_locatable(axs[0])\n",
    "cax0 = divider1.append_axes(\"right\", size=\"5%\", pad=0.05)\n",
    "cbar=plt.colorbar(im,cax=cax0)\n",
    "cbar.set_label('T (K)')\n",
    "axs[0].set_xlabel('time')\n",
    "axs[0].set_ylabel('height')\n",
    "\n",
    "# im=axs[1].matshow(vlos[0,:,0,:]/1e3,cmap='bwr',vmax=1.5,vmin=-1.5)\n",
    "# divider1 = make_axes_locatable(axs[1])\n",
    "# cax0 = divider1.append_axes(\"right\", size=\"5%\", pad=0.05)\n",
    "# cbar=plt.colorbar(im,cax=cax0)\n",
    "# cbar.set_label('V (km/s)')\n",
    "# axs[1].set_xlabel('height')\n",
    "# axs[1].set_ylabel('time')\n",
    "\n",
    "# im=axs[2].matshow(eden[0,:,0,:]*1e4,cmap='BrBG',vmax=20,vmin=-100)\n",
    "# divider1 = make_axes_locatable(axs[2])\n",
    "# cax0 = divider1.append_axes(\"right\", size=\"5%\", pad=0.05)\n",
    "# cbar=plt.colorbar(im,cax=cax0)\n",
    "# cbar.set_label('electron density (G)')\n",
    "# axs[2].set_xlabel('height')\n",
    "# axs[2].set_ylabel('time')"
   ]
  }
 ]
}