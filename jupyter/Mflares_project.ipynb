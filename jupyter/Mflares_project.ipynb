{
 "metadata": {
  "language_info": {
   "codemirror_mode": {
    "name": "ipython",
    "version": 3
   },
   "file_extension": ".py",
   "mimetype": "text/x-python",
   "name": "python",
   "nbconvert_exporter": "python",
   "pygments_lexer": "ipython3",
   "version": "3.8.7"
  },
  "orig_nbformat": 2,
  "kernelspec": {
   "name": "python3",
   "display_name": "Python 3",
   "language": "python"
  }
 },
 "nbformat": 4,
 "nbformat_minor": 2,
 "cells": [
  {
   "cell_type": "code",
   "execution_count": null,
   "metadata": {},
   "outputs": [],
   "source": [
    "%matplotlib widget\n",
    "#%matplotlib inline\n",
    "\n",
    "\n",
    "import numpy as np\n",
    "import matplotlib.pyplot as plt\n",
    "from helita.sim import rh15d \n",
    "from helita.vis import rh15d_vis\n",
    "\n",
    "from scipy.integrate import quadrature\n",
    "from scipy.integrate import cumtrapz\n",
    "\n",
    "from pathlib import Path\n",
    "\n",
    "rhRepoPath = Path(\"/Users/elka127/Documents/code/rh\")\n",
    "#set_matplotlib_formats('svg')\n",
    "# plt.rc('legend', frameon=False)\n",
    "# plt.rc('figure', figsize=(7, 7 / 1.75)) # Larger figure sizes\n",
    "# plt.rc('font', size=12)"
   ]
  },
  {
   "source": [
    "# With the Bifrost Snapshot or with existing atmosperes' models\n",
    "\n",
    "```\n",
    "# There are four 1D models of flares on M-dwarfs (/mn/stornext/u3/matsc/rh/Atmos/mflares/). \n",
    "# These are:\n",
    "\n",
    "# radyn_out.F13_dpl_GRID_pt1s.ncdf\n",
    "# tx.m2F12-37.max2F12_Ec37_d3.ncdf\n",
    "# tx.m5F12-37.max5F12_Ec37_d3.ncdf\n",
    "# tx.mF13-37.maxF13_Ec37_d3_dt0.1_10s.ncdf\n",
    "\n",
    "# the three \"tx\" models all have a low cut-off energy of 37 keV and a power index of 3 \n",
    "# (see Allred et al. 2015) \n",
    "# but vary in maximum beam energy: 2e12, 5e12 and 1e13 erg/cm^2/s. \n",
    "\n",
    "#The model from Kowalski et al. 2015 is radyn_out.F13_dpl_GRID_pt1s.ncdf.\n",
    "```\n",
    "\n"
   ],
   "cell_type": "markdown",
   "metadata": {}
  },
  {
   "cell_type": "code",
   "execution_count": null,
   "metadata": {},
   "outputs": [],
   "source": [
    "import h5py\n",
    "from mpl_toolkits.axes_grid1 import make_axes_locatable\n",
    "dpath_sim = \"/Users/elka127/Documents/code/rh/Atmos/\""
   ]
  },
  {
   "cell_type": "code",
   "execution_count": null,
   "metadata": {},
   "outputs": [],
   "source": [
    "# to read xarray.Dataset and see dimentions, coordinates, data variables and attributes \n",
    "import xarray\n",
    "# atmos = xarray.open_dataset(dpath_sim+\"radyn_out.F13_dpl_GRID_pt1s.ncdf\")\n",
    "#atmos = xarray.open_dataset(dpath_sim+\"tx.m2F12-37.max2F12_Ec37_d3.ncdf\")\n",
    "#atmos = xarray.open_dataset(dpath_sim+\"tx.m5F12-37.max5F12_Ec37_d3.ncdf\")\n",
    "atmos = xarray.open_dataset(dpath_sim+\"tx.mF13-37.maxF13_Ec37_d3_dt0.1_10s.ncdf\")\n",
    "atmos\n",
    "# out = xarray.open_dataset(\"/Users/elka127/Documents/code/rh/rh15d/run/output/output_ray.hdf5\")\n",
    "# out\n",
    "#output_indata.hdf5 file.\n",
    "\n",
    "#output_ray.hdf5 file."
   ]
  },
  {
   "cell_type": "code",
   "execution_count": 766,
   "metadata": {},
   "outputs": [
    {
     "output_type": "stream",
     "name": "stdout",
     "text": [
      "(249, 189) (249, 189)\n"
     ]
    }
   ],
   "source": [
    "hf=h5py.File(dpath_sim+\"tx.mF13-37.maxF13_Ec37_d3_dt0.1_10s.ncdf\")\n",
    "tg1t=np.transpose(hf['temperature'][0,:,0,:])\n",
    "\n",
    "z1t=np.transpose(hf['z'][0,:,0,:]/1.e6)\n",
    "print(z1t.shape, tg1t.shape)"
   ]
  },
  {
   "cell_type": "code",
   "execution_count": null,
   "metadata": {},
   "outputs": [],
   "source": [
    "%matplotlib widget\n",
    "\n",
    "\n",
    "fig, axs=plt.subplots()\n",
    "im=axs.matshow(z1t)\n",
    "cbar=plt.colorbar(im)\n",
    "axs.set_aspect('equal')\n",
    "# plt.axes().set_aspect('equal')\n",
    "# plt.show(im)\n",
    "axs.set_xlabel('time')\n",
    "axs.set_ylabel('real height')\n"
   ]
  },
  {
   "source": [
    "```\n",
    "#netcdf4 to hdf5\n",
    "```"
   ],
   "cell_type": "markdown",
   "metadata": {}
  },
  {
   "cell_type": "code",
   "execution_count": 772,
   "metadata": {},
   "outputs": [
    {
     "output_type": "display_data",
     "data": {
      "text/plain": "Canvas(toolbar=Toolbar(toolitems=[('Home', 'Reset original view', 'home', 'home'), ('Back', 'Back to previous …",
      "application/vnd.jupyter.widget-view+json": {
       "version_major": 2,
       "version_minor": 0,
       "model_id": "f424604104d6499d98a70b4e8269ca2a"
      }
     },
     "metadata": {}
    }
   ],
   "source": [
    "%matplotlib widget\n",
    "import matplotlib.pyplot as plt\n",
    "\n",
    "# hf=h5py.File(dpath_sim+\"radyn_out.F13_dpl_GRID_pt1s.ncdf\",\"r\")\n",
    "# hf=h5py.File(dpath_sim+\"tx.m2F12-37.max2F12_Ec37_d3.ncdf\",\"r\")\n",
    "# hf=h5py.File(dpath_sim+\"tx.m5F12-37.max2F12_Ec37_d3.ncdf\",\"r\")\n",
    "hf=h5py.File(dpath_sim+\"tx.mF13-37.maxF13_Ec37_d3_dt0.1_10s.ncdf\",\"r\")\n",
    "\n",
    "hf.keys()\n",
    "\n",
    "tg1t=np.transpose(hf['temperature'][0,:,0,:])\n",
    "z1t=np.transpose(hf['z'][0,:,0,:]/1.e6)\n",
    "\n",
    "# vz1t=np.transpose(hf['velocity_z'][0,:,0,:])\n",
    "# ed1t=np.transpose(hf['electron_density'][0,:,0,:])\n",
    "\n",
    "\n",
    "\n",
    "fig, ax=plt.subplots()\n",
    "# cbar=plt.colorbar()\n",
    "# ax.plot(z1t[:,:],np.log10(tg1t[:,:]))\n",
    "n = 189\n",
    "colors = plt.cm.jet(np.linspace(0,1,n))\n",
    "for i in range(n):\n",
    "    ax.plot(z1t[:,i],np.log10(tg1t[:,i]), color=colors[i])\n",
    "# # fig.canvas.draw()\n",
    "# cbar=plt.colorbar(ax)\n",
    "\n",
    "# data_0 = np.frombuffer(fig.canvas.tostring_rgb(), dtype=np.uint8)\n",
    "# print(data_0)"
   ]
  },
  {
   "cell_type": "code",
   "execution_count": null,
   "metadata": {},
   "outputs": [],
   "source": [
    "atmo = []\n",
    "for i in range(52)\n",
    "    tmpatmo = 0\n",
    "    for ii in range(249)\n",
    "        tmpatmo = tg1t[i,ii]\n",
    "        atmo.append(tmpatmo)"
   ]
  },
  {
   "cell_type": "code",
   "execution_count": null,
   "metadata": {},
   "outputs": [],
   "source": [
    "atmos.to_netcdf(\"newfile.hdf5\", format='NETCDF4')"
   ]
  },
  {
   "source": [
    "```\n",
    "# виджет хелиты все равно не работает даже с переделанным файлом из netcdf\n",
    "# строит только 1 график\n",
    "```"
   ],
   "cell_type": "markdown",
   "metadata": {}
  },
  {
   "source": [
    "# Plotting atmospheres in real height"
   ],
   "cell_type": "markdown",
   "metadata": {}
  },
  {
   "cell_type": "code",
   "execution_count": 775,
   "metadata": {},
   "outputs": [
    {
     "output_type": "display_data",
     "data": {
      "text/plain": "Canvas(toolbar=Toolbar(toolitems=[('Home', 'Reset original view', 'home', 'home'), ('Back', 'Back to previous …",
      "application/vnd.jupyter.widget-view+json": {
       "version_major": 2,
       "version_minor": 0,
       "model_id": "15dd17b2903f4cda8c068e0f033d518c"
      }
     },
     "metadata": {}
    }
   ],
   "source": [
    "%matplotlib widget\n",
    "\n",
    "\n",
    "# hf=h5py.File(dpath_sim+\"radyn_out.F13_dpl_GRID_pt1s.ncdf\",\"r\")\n",
    "# hf=h5py.File(dpath_sim+\"tx.m2F12-37.max2F12_Ec37_d3.ncdf\",\"r\")\n",
    "# hf=h5py.File(dpath_sim+\"tx.m5F12-37.max2F12_Ec37_d3.ncdf\",\"r\")\n",
    "hf=h5py.File(dpath_sim+\"tx.mF13-37.maxF13_Ec37_d3_dt0.1_10s.ncdf\",\"r\")\n",
    "\n",
    "hf.keys()\n",
    "\n",
    "tg1t=np.transpose(hf['temperature'][0,:,0,:])\n",
    "vz1t=np.transpose(hf['velocity_z'][0,:,0,:])\n",
    "ed1t=np.transpose(hf['electron_density'][0,:,0,:])\n",
    "\n",
    "z1t=np.transpose(hf['z'][0,:,0,:]/1.e6)\n",
    "\n",
    "fig, axs=plt.subplots()\n",
    "\n",
    "axs.plot(z1t[:,0],np.log10(tg1t[:,120]),label='12.0 sec')\n",
    "axs.plot(z1t[:,0],np.log10(tg1t[:,75]),label='7.5 sec')\n",
    "axs.plot(z1t[:,0],np.log10(tg1t[:,60]),label='6.0 sec')\n",
    "\n",
    "axs.plot(z1t[:,0],np.log10(tg1t[:,40]),label='4.0 sec')\n",
    "axs.plot(z1t[:,0],np.log10(tg1t[:,22]),label='2.2 sec')\n",
    "axs.plot(z1t[:,0],np.log10(tg1t[:,12]),label='1.2 sec')\n",
    "axs.plot(z1t[:,0],np.log10(tg1t[:,2]),label='0.2 sec')\n",
    "axs.plot(z1t[:,0],np.log10(tg1t[:,1]),label='0.1 sec')\n",
    "\n",
    "\n",
    "# ax.plot(z1t[:,0],np.log10(tg1t[:,0]),'g-',label='0 sec')\n",
    "\n",
    "# ax.plot(z1t[:,0],vz1t[:,135],label='13.5 sec')\n",
    "# ax.plot(z1t[:,0],vz1t[:,90],label='9.0 sec')\n",
    "# ax.plot(z1t[:,0],vz1t[:,60],label='6.0 sec')\n",
    "\n",
    "# ax.plot(z1t[:,0],vz1t[:,40],label='4.0 sec')\n",
    "# ax.plot(z1t[:,0],vz1t[:,22],label='2.2 sec')\n",
    "# ax.plot(z1t[:,0],vz1t[:,12],label='0.2 sec')\n",
    "# ax.plot(z1t[:,0],vz1t[:,2],label='0.2 sec')\n",
    "\n",
    "# ax.plot(z1t[:,0],vz1t[:,1],label='0.1 sec')\n",
    "# ax.plot(z1t[:,0],vz1t[:,0],label='0 sec')\n",
    "\n",
    "# ax.plot(z1t[:,0],np.log10(ed1t[:,130]),label='13.0 sec')\n",
    "# ax.plot(z1t[:,0],np.log10(ed1t[:,100]),label='10.0 sec')\n",
    "# ax.plot(z1t[:,0],np.log10(ed1t[:,75]),label='7.5 sec')\n",
    "\n",
    "# ax.plot(z1t[:,0],np.log10(ed1t[:,40]),label='4.0 sec')\n",
    "#ax.plot(z1t[:,0],np.log10(ed1t[:,22]),label='2.2 sec')\n",
    "# ax.plot(z1t[:,0],np.log10(ed1t[:,12]),label='1.2 sec')\n",
    "# ax.plot(z1t[:,0],np.log10(ed1t[:,2]),label='0.2 sec')\n",
    "# ax.plot(z1t[:,0],np.log10(ed1t[:,0]),label='0 sec')\n",
    "\n",
    "\n",
    "\n",
    "\n",
    "plt.xlabel('Height (Mm)')\n",
    "\n",
    "plt.ylabel('lg(Temperature (K))')\n",
    "# plt.ylabel('Velocity (m/s)')\n",
    "# plt.xlim(-0.2,0.5)\n",
    "# plt.ylim(-1e5,2e5)\n",
    "#plt.ylabel('lg(Electron Density ())')\n",
    "#plt.title('m2F12-37 Atmos’)\n",
    "# plt.title('txmF13-37 Atmos’)\n",
    "\n",
    "axs.legend()  # Add a legend.\n",
    "\n",
    "\n",
    "plt.savefig(\"temperature_.svg\", format=\"svg\")\n",
    "# plt.savefig(\"velocity_z_.svg\", format=\"svg\")\n",
    "# plt.savefig(\"electron_density_.svg\", format=\"svg\")\n"
   ]
  },
  {
   "source": [
    "# Create own wavetable file"
   ],
   "cell_type": "markdown",
   "metadata": {}
  },
  {
   "source": [
    "```\n",
    "# Writes RH wave file (in xdr format). All wavelengths should be in nm.\n",
    "\n",
    "# Parameters\n",
    "# ----------\n",
    "# start: number\n",
    "#     Starting wavelength.\n",
    "# end: number\n",
    "#     Ending wavelength (non-inclusive)\n",
    "# step: number\n",
    "#     Wavelength separation\n",
    "# outfile: string\n",
    "#     Name of file to write.\n",
    "# ewave: 1-D array, optional\n",
    "#    Array of existing wavelengths. Program will make discard points\n",
    "#    to make sure no step is enforced using these points too.\n",
    "# air: boolean, optional\n",
    "#     If true, will at the end convert the wavelengths into vacuum\n",
    "#     wavelengths.\n",
    "```"
   ],
   "cell_type": "markdown",
   "metadata": {}
  },
  {
   "cell_type": "code",
   "execution_count": null,
   "metadata": {},
   "outputs": [],
   "source": [
    "def make_wave_file(my_wave, start=20, end=4020, step=1.5, new_wave=None,\n",
    "                   ewave=None, air=False):\n",
    "                   rh15d.make_wave_file('my_wave.wave', ewave=my_waves)"
   ]
  },
  {
   "cell_type": "code",
   "execution_count": null,
   "metadata": {},
   "outputs": [],
   "source": [
    "rh15d.make_wave_file('My_wave.wave', 20, 4020, 1.5)"
   ]
  },
  {
   "cell_type": "code",
   "execution_count": null,
   "metadata": {},
   "outputs": [],
   "source": [
    "#from helita.sim import rh15d\n",
    "#read exisitng file if needed\n",
    "MY_wave = rh15d.read_wave_file(rhRepoPath / \"Atoms/wave_files/My_wave.wave\")\n"
   ]
  },
  {
   "source": [
    "# Intencity plot for Ca II"
   ],
   "cell_type": "markdown",
   "metadata": {}
  },
  {
   "cell_type": "code",
   "execution_count": null,
   "metadata": {},
   "outputs": [],
   "source": [
    "data = rh15d.Rh15dout(rhRepoPath / \"rh15d/run/output\")"
   ]
  },
  {
   "cell_type": "code",
   "execution_count": null,
   "metadata": {},
   "outputs": [],
   "source": [
    "%matplotlib widget\n",
    "#%matplotlib inline\n",
    "data.ray.intensity.plot()\n",
    "#plt.legend(loc=\"upper left\")\n",
    "plt.xlabel(\"Wavelenght nm\")\n",
    "plt.ylabel(\"Time, s*10\")\n",
    "#plt.axis([20, 1000, 0, 62])"
   ]
  },
  {
   "source": [
    "```\n",
    "# to see what's in the output data\n",
    "```"
   ],
   "cell_type": "markdown",
   "metadata": {}
  },
  {
   "cell_type": "code",
   "execution_count": null,
   "metadata": {},
   "outputs": [],
   "source": [
    "hf=h5py.File(rhRepoPath / \"rh15d/run/output/output_ray.hdf5\",\"r\")\n",
    "\n",
    "hf.keys()\n",
    "# tau1.plot()"
   ]
  },
  {
   "source": [
    "# Tau=1 height"
   ],
   "cell_type": "markdown",
   "metadata": {}
  },
  {
   "cell_type": "code",
   "execution_count": null,
   "metadata": {},
   "outputs": [],
   "source": [
    "%matplotlib widget\n",
    "\n",
    "fig, ax=plt.subplots()\n",
    "\n",
    "ax.plot(wave[indices],data.ray.tau_one_height[0,0,indices]/1e6, 'k--',label='0 sec')\n",
    "ax.plot(wave[indices],data.ray.tau_one_height[2,0,indices]/1e6, 'r-',label='0.2 sec')\n",
    "ax.plot(wave[indices],data.ray.tau_one_height[12,0,indices]/1e6, 'r-.',label='1.2 sec')\n",
    "ax.plot(wave[indices],data.ray.tau_one_height[22,0,indices]/1e6, 'b--',label='2.2 sec')\n",
    "ax.plot(wave[indices],data.ray.tau_one_height[40,0,indices]/1e6, 'b-.',label='4. sec')\n",
    "\n",
    "ax.legend(loc=\"upper right\") \n",
    "plt.xlabel(r'$\\lambda$ (nm)')\n",
    "plt.ylabel('Height (Mm)')\n",
    "plt.title(r'$\\tau=1$')\n",
    "plt.savefig(\"Tau_one_height_.svg\", format=\"svg\")\n"
   ]
  },
  {
   "cell_type": "code",
   "execution_count": null,
   "metadata": {
    "tags": []
   },
   "outputs": [],
   "source": [
    "data = rh15d.Rh15dout(rhRepoPath / \"rh15d/run/output\")\n",
    "\n",
    "\n",
    "indices = np.arange(len(data.ray.wavelength))\n",
    "#print(indices)\n",
    "wave.sel(wavelength=91, method=\"nearest\")\n",
    "index91 = np.argmin(np.abs(wave.data - 91))\n",
    "\n",
    "wave.sel(wavelength=123, method=\"nearest\")\n",
    "index123 = np.argmin(np.abs(wave.data - 123))\n",
    "\n",
    "wave.sel(wavelength=393, method=\"nearest\")\n",
    "index393 = np.argmin(np.abs(wave.data - 393))\n",
    "\n",
    "wave.sel(wavelength=854, method=\"nearest\")\n",
    "index854 = np.argmin(np.abs(wave.data - 854))\n",
    "\n",
    "# index500 = np.argmin(np.abs(wave.data - 500))\n",
    "f = open(rhRepoPath / \"rh15d/run/ray.input\", \"w\")  # this will overwrite any existing file!\n",
    "f.write('1.00\\n')\n",
    "output = str(len(indices) + 4)\n",
    "# ololo = 0\n",
    "for ind in indices:\n",
    "    \n",
    "    output += f\" {ind}\"\n",
    "output += f\" {index91}\\n\"\n",
    "output += f\" {index123}\\n\"\n",
    "output += f\" {index393}\\n\"\n",
    "output += f\" {index854}\\n\"\n",
    "\n",
    "\n",
    "f.write(output)\n",
    "f.close()\n",
    "\n",
    "\n"
   ]
  },
  {
   "cell_type": "code",
   "execution_count": null,
   "metadata": {},
   "outputs": [],
   "source": [
    "data = rh15d.Rh15dout(rhRepoPath / \"rh15d/run/output\")\n",
    "wave = data.ray.wavelength\n",
    "indices = np.arange(len(wave))[(wave > 200) & (wave < 500)]\n",
    "#If we want to see also one particular wavelength (500 in example)\n",
    "wave.sel(wavelength=500, method=\"nearest\")\n",
    "index500 = np.argmin(np.abs(wave.data - 500))\n",
    "\n",
    "with open(rhRepoPath / \"rh15d/run/ray.input\", \"w\") as f:\n",
    "    f.write(\"1.00\\n\")\n",
    "    output = str(len(indices) + 1)\n",
    "    for ind in indices:\n",
    "        output += f\" {ind}\"\n",
    "    output += f\" {index500}\\n\"\n",
    "    f.write(output)"
   ]
  },
  {
   "source": [
    "# Writing ray.input file\n",
    "```\n",
    "# Selecting wavelengths for detailed output\n",
    "# Choosing all wavelenghts range\n",
    "# Ray input includes all indexes\n",
    "```"
   ],
   "cell_type": "markdown",
   "metadata": {}
  },
  {
   "cell_type": "code",
   "execution_count": null,
   "metadata": {},
   "outputs": [],
   "source": [
    "data = rh15d.Rh15dout(rhRepoPath / \"rh15d/run/output\")\n",
    "indices = np.arange(len(data.ray.wavelength))\n",
    "with open(rhRepoPath / \"rh15d/run/ray.input\", \"w\") as f:\n",
    "\n",
    "    f.write('1.00\\n')\n",
    "    output = str(len(indices)+1)\n",
    "    for ind in indices:\n",
    "    \n",
    "        output += f\" {ind}\"\n",
    "    f.write(output)\n",
    "f.close()"
   ]
  },
  {
   "source": [
    "```\n",
    "#Need to run RH15D again with a new ray.input file "
   ],
   "cell_type": "markdown",
   "metadata": {}
  },
  {
   "source": [
    "# Calculating Flux from Intensity(mu)"
   ],
   "cell_type": "markdown",
   "metadata": {}
  },
  {
   "source": [
    "```\n",
    "# reading new output\n",
    "# writing all tau (time) in one array\n",
    "```"
   ],
   "cell_type": "markdown",
   "metadata": {}
  },
  {
   "cell_type": "code",
   "execution_count": 674,
   "metadata": {},
   "outputs": [
    {
     "output_type": "stream",
     "name": "stdout",
     "text": [
      "--- Read /Users/elka127/Documents/code/rh/rh15d/run/output/output_aux.hdf5 file.\n--- Read /Users/elka127/Documents/code/rh/rh15d/run/output/output_indata.hdf5 file.\n--- Read /Users/elka127/Documents/code/rh/rh15d/run/output/output_ray.hdf5 file.\n1644\n(189, 1, 249)\n"
     ]
    }
   ],
   "source": [
    "data = rh15d.Rh15dout(rhRepoPath / \"rh15d/run/output\")\n",
    "\n",
    "indices = np.arange(len(data.ray.wavelength))\n",
    "print(len(indices))\n",
    "print(data.atmos.height_scale.shape)"
   ]
  },
  {
   "cell_type": "code",
   "execution_count": 678,
   "metadata": {
    "tags": []
   },
   "outputs": [
    {
     "output_type": "stream",
     "name": "stderr",
     "text": [
      "/Users/elka127/Documents/code/helita/helita/sim/rh15d.py:40: FutureWarning: The autoclose argument is no longer used by xarray.open_dataset() and is now ignored; it will be removed in a future version of xarray. If necessary, you can control the maximum number of simultaneous open files with xarray.set_options(file_cache_maxsize=...).\n",
      "  setattr(self, g, xr.open_dataset(infile, group=g, autoclose=True))\n",
      "/Users/elka127/Documents/code/helita/helita/sim/rh15d.py:53: FutureWarning: The autoclose argument is no longer used by xarray.open_dataset() and is now ignored; it will be removed in a future version of xarray. If necessary, you can control the maximum number of simultaneous open files with xarray.set_options(file_cache_maxsize=...).\n",
      "  self.ray = xr.open_dataset(infile, autoclose=True)\n",
      "--- Read /Users/elka127/Documents/code/rh/rh15d/run/output/output_aux.hdf5 file.\n",
      "--- Read /Users/elka127/Documents/code/rh/rh15d/run/output/output_indata.hdf5 file.\n",
      "--- Read /Users/elka127/Documents/code/rh/rh15d/run/output/output_ray.hdf5 file.\n"
     ]
    }
   ],
   "source": [
    "data = rh15d.Rh15dout(rhRepoPath / \"rh15d/run/output\")\n",
    "indices = np.arange(len(data.ray.wavelength))\n",
    "aar = [0,2,12,22,40]\n",
    "for a in aar:\n",
    "    height = data.atmos.height_scale[a, 0].dropna('height')  \n",
    "    \n",
    "    index = []\n",
    "    for i in indices:\n",
    "        idx = np.argmin(np.abs(data.ray.wavelength.data - data.ray.wavelength[i].data))\n",
    "        index.append(idx)\n",
    "    massivTau = []\n",
    "    for i in indices:\n",
    "        x = cumtrapz(data.ray.chi[a, 0, :, i].dropna('height'), x=-height)\n",
    "        x = np.concatenate([[1e-20], x])\n",
    "        massivTau.append(x)\n",
    "    np.save(f\"massivTau-{a}\", massivTau)\n"
   ]
  },
  {
   "source": [
    "```\n",
    "# calculating I(\\mu) for 5 \\mu\n",
    "```"
   ],
   "cell_type": "markdown",
   "metadata": {}
  },
  {
   "cell_type": "code",
   "execution_count": 787,
   "metadata": {
    "tags": []
   },
   "outputs": [
    {
     "output_type": "stream",
     "name": "stdout",
     "text": [
      "Всего элементоу: 1644\n",
      "Перший элемент: 1.1311869629730699e-10\n",
      "Второй элемент: 3.0124380397908736e-11\n",
      "Последний элемент: 1.508754520094675e-08\n",
      "Всего элементоу: 1644\n",
      "Перший элемент: 2.3094115047058772e-11\n",
      "Второй элемент: 6.147801960920183e-12\n",
      "Последний элемент: 8.079915899998175e-09\n",
      "Всего элементоу: 1644\n",
      "Перший элемент: 1.0664939132530328e-11\n",
      "Второй элемент: 2.8389271000568717e-12\n",
      "Последний элемент: 6.066136911050106e-09\n",
      "Всего элементоу: 1644\n",
      "Перший элемент: 6.933404216352983e-12\n",
      "Второй элемент: 1.845591457291801e-12\n",
      "Последний элемент: 5.446949332108575e-09\n",
      "Всего элементоу: 1644\n",
      "Перший элемент: 5.59627822899688e-12\n",
      "Второй элемент: 1.4896557224530765e-12\n",
      "Последний элемент: 5.24534191860052e-09\n"
     ]
    }
   ],
   "source": [
    "from scipy import integrate\n",
    "\n",
    "sourceFunction = data.ray.source_function\n",
    "\n",
    "mu = [0.0469101,0.230765,0.500000,0.769235,0.953090]\n",
    "weightMu = [0.118463,0.239314,0.284444,0.239314,0.118463]\n",
    "massivTau = np.load(\"massivTau-120.npy\")\n",
    "# intensityMu =[]\n",
    "for m in range(5):\n",
    "    intensityMu = []\n",
    "\n",
    "    for y in indices:\n",
    "    \n",
    "        tmpMu = 0\n",
    "        # for i in range(len(massivTau[y])):\n",
    "        # x = np.log(massivTau[y])\n",
    "        \n",
    "        x = massivTau[y]\n",
    "        # x1 = np.log10(massivTau[y])\n",
    "        # x = np.log(x)\n",
    "        # tmpMu = integrate.trapz(sourceFunction[0,0,:,y].data * np.exp(-x[:]/mu), x)\n",
    "        tmpMu = integrate.trapz(sourceFunction[120,0,:,y].data * np.exp(-x[:]/mu[m]), x) \n",
    "        # tmpMu = integrate.trapz(sourceFunction[2,0,:,y].data * np.exp(-np.power(x[:],10)/mu[m]), x)\n",
    "        # tmpMu = np.power(tmpMu, 10)\n",
    "        \n",
    "        intensityMu.append(1/mu[m] * tmpMu)\n",
    "        # intensityMu.append(tmpMu)\n",
    "    np.save(f\"intensityMu-{m+1}.npy\", intensityMu)\n",
    "\n",
    "    print(f\"Всего элементоу: {len(intensityMu)}\")\n",
    "    print(f\"Перший элемент: {intensityMu[0]}\")\n",
    "    print(f\"Второй элемент: {intensityMu[1]}\")\n",
    "    print(f\"Последний элемент: {intensityMu[1643]}\")\n",
    "\n",
    "# ---\n",
    "\n",
    "# fig, ax = plt.subplots()\n",
    "\n",
    "# ax.plot(data.atmos.height_scale[2,0]/1e6,sourceFunction[2,0,:,0],label='0.2 sec')\n",
    "#ax.plot(np.log10(massivTau[792]),sourceFunction[22,0,:,0],label='0.2 sec')\n"
   ]
  },
  {
   "cell_type": "code",
   "execution_count": 788,
   "metadata": {},
   "outputs": [
    {
     "output_type": "display_data",
     "data": {
      "text/plain": "Canvas(toolbar=Toolbar(toolitems=[('Home', 'Reset original view', 'home', 'home'), ('Back', 'Back to previous …",
      "application/vnd.jupyter.widget-view+json": {
       "version_major": 2,
       "version_minor": 0,
       "model_id": "ed613320809b40229d151fc858a9b97b"
      }
     },
     "metadata": {}
    }
   ],
   "source": [
    "%matplotlib widget\n",
    "\n",
    "wave = data.ray.wavelength\n",
    "# ImuLoaded = np.load(\"IntensityMu12.npy\")\n",
    "\n",
    "ImuLoaded1 = np.load(\"IntensityMu-1.npy\")\n",
    "ImuLoaded2 = np.load(\"IntensityMu-2.npy\")\n",
    "ImuLoaded3 = np.load(\"IntensityMu-3.npy\")\n",
    "ImuLoaded4 = np.load(\"IntensityMu-4.npy\")\n",
    "ImuLoaded5 = np.load(\"IntensityMu-5.npy\")\n",
    "# # print(ImuLoaded1.shape)\n",
    "fig, ax=plt.subplots()\n",
    "# #np.load(\"Flux.npy\")\n",
    "\n",
    "\n",
    "\n",
    "# ax.plot(wave[indices], ImuLoaded,'k--',label=r'$\\mu$1')\n",
    "\n",
    "# ax.plot(wave[indices], ImuLoaded5,'r-',label=r'$\\mu$0.95')\n",
    "# ax.plot(wave[indices],data.ray.intensity[12,0,indices],'g-.',label='1.2 sec')\n",
    "\n",
    "ax.plot(wave[indices], ImuLoaded1,'k--',label=r'$\\mu$1')\n",
    "ax.plot(wave[indices], ImuLoaded2,'k-',label=r'$\\mu$2')\n",
    "ax.plot(wave[indices], ImuLoaded3,'g-',label=r'$\\mu$3')\n",
    "ax.plot(wave[indices], ImuLoaded4,'r-',label=r'$\\mu$4')\n",
    "ax.plot(wave[indices], ImuLoaded5,'b-',label=r'$\\mu$5')\n",
    "\n",
    "ax.legend()\n",
    "plt.xlabel(r'$\\lambda$ (nm)')\n",
    "plt.ylabel(r'Intensity (Stokes I) ($W/(m^2*Hz*sr)$')\n",
    "#ax.set_yscale('log')\n",
    "#plt.axis([20, 4000, 0, 8e-8])\n",
    "plt.savefig(\"Intencity_.svg\", format=\"svg\")"
   ]
  },
  {
   "cell_type": "code",
   "execution_count": null,
   "metadata": {},
   "outputs": [],
   "source": [
    "x = massivTau[1]\n",
    "\n",
    "print(x[0],x[248])"
   ]
  },
  {
   "cell_type": "code",
   "execution_count": 789,
   "metadata": {
    "tags": []
   },
   "outputs": [
    {
     "output_type": "stream",
     "name": "stdout",
     "text": [
      "5.333823485530185e-12 \n 1.4197921529892041e-12 \n 9.794774243278575e-10 \n 9.735821549307063e-09 \n\n"
     ]
    }
   ],
   "source": [
    "from scipy import integrate\n",
    "   \n",
    "sourceFunction = data.ray.source_function\n",
    "massivTau = np.load(\"massivTau-120.npy\")\n",
    "\n",
    "# a = 0.4342944819 #(log_10(e))\n",
    "# mu = [0.0469101,0.230765,0.500000,0.769235,0.953090]\n",
    "# weightMu = [0.118463,0.239314,0.284444,0.239314,0.118463]\n",
    "# mu = 1.0\n",
    "intensityMu =[]\n",
    "\n",
    "for y in indices: \n",
    "    tmpMu = 0\n",
    "    # x = np.log10(massivTau[y])\n",
    "    # print(x)\n",
    "    x = massivTau[y]\n",
    "    \n",
    "    tmpMu = integrate.trapz(sourceFunction[120,0,:,y].data * np.exp(-(x[:])),x)\n",
    "    # tmpMu = integrate.trapz(sourceFunction[0,0,:,y].data * np.exp(-(x[:])),np.log10(x))\n",
    "    # print(tmpMu)\n",
    "    # intensityMu.append(tmpMu*(np.power(10,np.log10(tmpMu))))\n",
    "    # print(10**tmpMu,\"\\n\",tmpMu)\n",
    "    intensityMu.append(tmpMu)\n",
    "\n",
    "    # intensityMu.append(tmpMu*1e-9/(1.678*np.power(tmpMu, 1/10)))\n",
    "    # intensityMu.append(tmpMu)\n",
    "    #2.71828182846e+9\n",
    "print(intensityMu[0],\"\\n\",intensityMu[1],\"\\n\",intensityMu[93],\"\\n\", intensityMu[387],\"\\n\"   )\n",
    "np.save(f\"Intensity1Mu120.npy\", intensityMu)\n"
   ]
  },
  {
   "cell_type": "code",
   "execution_count": 790,
   "metadata": {},
   "outputs": [
    {
     "output_type": "stream",
     "name": "stdout",
     "text": [
      "--- Read /Users/elka127/Documents/code/rh/rh15d/run/output/output_aux.hdf5 file.\n",
      "--- Read /Users/elka127/Documents/code/rh/rh15d/run/output/output_indata.hdf5 file.\n",
      "--- Read /Users/elka127/Documents/code/rh/rh15d/run/output/output_ray.hdf5 file.\n",
      "/Users/elka127/Documents/code/helita/helita/sim/rh15d.py:40: FutureWarning: The autoclose argument is no longer used by xarray.open_dataset() and is now ignored; it will be removed in a future version of xarray. If necessary, you can control the maximum number of simultaneous open files with xarray.set_options(file_cache_maxsize=...).\n",
      "  setattr(self, g, xr.open_dataset(infile, group=g, autoclose=True))\n",
      "/Users/elka127/Documents/code/helita/helita/sim/rh15d.py:53: FutureWarning: The autoclose argument is no longer used by xarray.open_dataset() and is now ignored; it will be removed in a future version of xarray. If necessary, you can control the maximum number of simultaneous open files with xarray.set_options(file_cache_maxsize=...).\n",
      "  self.ray = xr.open_dataset(infile, autoclose=True)\n"
     ]
    },
    {
     "output_type": "display_data",
     "data": {
      "text/plain": "Canvas(toolbar=Toolbar(toolitems=[('Home', 'Reset original view', 'home', 'home'), ('Back', 'Back to previous …",
      "application/vnd.jupyter.widget-view+json": {
       "version_major": 2,
       "version_minor": 0,
       "model_id": "be8fd541968b4e1283ec3e2919ab2f56"
      }
     },
     "metadata": {}
    }
   ],
   "source": [
    "%matplotlib widget\n",
    "data = rh15d.Rh15dout(rhRepoPath / \"rh15d/run/output\")\n",
    "\n",
    "wave = data.ray.wavelength\n",
    "ImuLoaded = np.load(\"Intensity1Mu120.npy\")\n",
    "\n",
    "# ImuLoaded1 = np.load(\"IntensityMu-1.npy\")\n",
    "# ImuLoaded2 = np.load(\"IntensityMu-2.npy\")\n",
    "# ImuLoaded3 = np.load(\"IntensityMu-3.npy\")\n",
    "# ImuLoaded4 = np.load(\"IntensityMu-4.npy\")\n",
    "# ImuLoaded5 = np.load(\"IntensityMu-5.npy\")\n",
    "# # print(ImuLoaded1.shape)\n",
    "fig, ax=plt.subplots()\n",
    "# #np.load(\"Flux.npy\")\n",
    "\n",
    "\n",
    "\n",
    "ax.plot(wave[indices],ImuLoaded,'k--',label=r'$\\mu$1')\n",
    "\n",
    "# ax.plot(wave[indices], ImuLoaded5,'r-',label=r'$\\mu$0.95')\n",
    "ax.plot(wave[indices],data.ray.intensity[120,0,indices],'g-.',label='12 sec')\n",
    "\n",
    "# ax.plot(wave[indices], ImuLoaded1,'k--',label=r'$\\mu$1')\n",
    "# ax.plot(wave[indices], ImuLoaded2,'k-',label=r'$\\mu$2')\n",
    "# ax.plot(wave[indices], ImuLoaded3,'g-',label=r'$\\mu$3')\n",
    "# ax.plot(wave[indices], ImuLoaded4,'r-',label=r'$\\mu$4')\n",
    "# ax.plot(wave[indices], ImuLoaded5,'b-',label=r'$\\mu$5')\n",
    "\n",
    "ax.legend()\n",
    "plt.xlabel(r'$\\lambda$ (nm)')\n",
    "plt.ylabel(r'Intensity (Stokes I) ($W/(m^2*Hz*sr)$')\n",
    "#ax.set_yscale('log')\n",
    "#plt.axis([20, 4000, 0, 8e-8])\n",
    "plt.savefig(\"Intencity_.svg\", format=\"svg\")"
   ]
  },
  {
   "cell_type": "code",
   "execution_count": 791,
   "metadata": {
    "tags": []
   },
   "outputs": [
    {
     "output_type": "stream",
     "name": "stdout",
     "text": [
      "1644\n"
     ]
    }
   ],
   "source": [
    "fluxesImu =[]\n",
    "weightMu = [0.118463,0.239314,0.284444,0.239314,0.118463]\n",
    "mu = [0.0469101,0.230765,0.500000,0.769235,0.953090]\n",
    "ImuLoaded1 = np.load(\"IntensityMu-1.npy\")\n",
    "ImuLoaded2 = np.load(\"IntensityMu-2.npy\")\n",
    "ImuLoaded3 = np.load(\"IntensityMu-3.npy\")\n",
    "ImuLoaded4 = np.load(\"IntensityMu-4.npy\")\n",
    "ImuLoaded5 = np.load(\"IntensityMu-5.npy\")\n",
    "Imuloaded = []\n",
    "Imuloaded.append(ImuLoaded1)\n",
    "Imuloaded.append(ImuLoaded2)\n",
    "Imuloaded.append(ImuLoaded3)\n",
    "Imuloaded.append(ImuLoaded4)\n",
    "Imuloaded.append(ImuLoaded5)\n",
    "#print(len(Imuloaded))\n",
    "for i in indices:\n",
    "    imu = 0\n",
    "    for i5 in range(len(weightMu)):\n",
    "        imu += Imuloaded[i5][i]*weightMu[i5]*mu[i5]\n",
    "    fluxesImu.append(2*np.pi*imu)\n",
    "print(len(fluxesImu))\n"
   ]
  },
  {
   "cell_type": "code",
   "execution_count": 792,
   "metadata": {},
   "outputs": [],
   "source": [
    "np.save(\"fluxesImu120.npy\", fluxesImu)"
   ]
  },
  {
   "cell_type": "code",
   "execution_count": 793,
   "metadata": {},
   "outputs": [
    {
     "output_type": "display_data",
     "data": {
      "text/plain": "Canvas(toolbar=Toolbar(toolitems=[('Home', 'Reset original view', 'home', 'home'), ('Back', 'Back to previous …",
      "application/vnd.jupyter.widget-view+json": {
       "version_major": 2,
       "version_minor": 0,
       "model_id": "01bd1baab6044c8d82b260c94e84edcb"
      }
     },
     "metadata": {}
    }
   ],
   "source": [
    "%matplotlib widget\n",
    "\n",
    "# fluxesImu1 = np.load(\"fluxesImu0.npy\")\n",
    "# fluxesImu2 = np.load(\"fluxesImu2.npy\")\n",
    "# fluxesImu3 = np.load(\"fluxesImu12.npy\")\n",
    "# fluxesImu4 = np.load(\"fluxesImu22.npy\")\n",
    "# fluxesImu5 = np.load(\"fluxesImu40.npy\")\n",
    "# fluxesImu6 = np.load(\"fluxesImu60.npy\")\n",
    "fluxesImu7 = np.load(\"fluxesImu120.npy\")\n",
    "\n",
    "\n",
    "\n",
    "fig, ax=plt.subplots()\n",
    "#np.load(\"Flux.npy\")\n",
    "\n",
    "wave = data.ray.wavelength\n",
    "\n",
    "# ax.plot(wave[indices], fluxesImu1,'k--',label='0 sec')\n",
    "# ax.plot(wave[indices], fluxesImu2,'k-',label='0.2 sec')\n",
    "# ax.plot(wave[indices], fluxesImu3,'r-',label='1.2 sec')\n",
    "# ax.plot(wave[indices], fluxesImu4,'b-',label='2.2 sec')\n",
    "# ax.plot(wave[indices], fluxesImu5,'g-',label='4.0 sec')\n",
    "# ax.plot(wave[indices], fluxesImu6,'g-',label='6.0 sec')\n",
    "ax.plot(wave[indices], fluxesImu7,'g-',label='12.0 sec')\n",
    "\n",
    "\n",
    "ax.legend()\n",
    "plt.xlabel(r'$\\lambda$ (nm)')\n",
    "plt.ylabel(r'Flux ($W/(m^2*Hz)$')\n",
    "#ax.set_yscale('log')\n",
    "#plt.axis([20, 4000, 0, 8e-8])\n",
    "plt.savefig(\"FluxperHz_.svg\", format=\"svg\")\n",
    "# ax.plot(wave[indices], ImuLoaded5)\n",
    "# plt.xlabel(\"Wavelenght, nm\")\n",
    "# plt.ylabel(\"Flux, W/cm^2\")\n",
    "#plt.xlim(200,1000)\n",
    "# plt.axis([2000, 10000, 0, 1e8])\n",
    "#plt.axis([200, 1000,0, 1e-7])\n"
   ]
  },
  {
   "cell_type": "code",
   "execution_count": 794,
   "metadata": {},
   "outputs": [],
   "source": [
    "const1 = 2.99792458e+21\n",
    "fluxesImu = np.load(\"fluxesImu120.npy\")\n",
    "fluxesSurfaceMu = []\n",
    "# fluxesSurfaceMu.append(const1 * fluxesImu[0] /(np.power(wave[0] * 10,2)))\n",
    "# print(fluxesSurfaceMu)\n",
    "for i in indices:\n",
    "    fluxesSurfaceMu.append(const1 * fluxesImu[i] /(np.power(wave[i] * 10,2)))\n",
    "\n",
    "np.save(\"fluxesSurfaceMu120.npy\", fluxesSurfaceMu)"
   ]
  },
  {
   "source": [
    "```\n",
    "# calculating total flux anf effective temperature\n",
    "```"
   ],
   "cell_type": "markdown",
   "metadata": {}
  },
  {
   "cell_type": "code",
   "execution_count": 731,
   "metadata": {},
   "outputs": [
    {
     "output_type": "stream",
     "name": "stdout",
     "text": [
      "12428578712.245531\n"
     ]
    }
   ],
   "source": [
    "from scipy import integrate\n",
    "fluxesSurfaceMu = np.load(\"fluxesSurfaceMu0.npy\")\n",
    "\n",
    "x = wave[indices]\n",
    "fluxesSum = integrate.trapz(fluxesSurfaceMu[:], x * 10)\n",
    "print(fluxesSum)"
   ]
  },
  {
   "cell_type": "code",
   "execution_count": 732,
   "metadata": {},
   "outputs": [
    {
     "output_type": "stream",
     "name": "stdout",
     "text": [
      "3846.350627008205\n"
     ]
    }
   ],
   "source": [
    "sigma = 5.6784e-8\n",
    "Teff = np.power(fluxesSum*1e-3/sigma, 1/4)\n",
    "print(Teff)"
   ]
  },
  {
   "cell_type": "code",
   "execution_count": null,
   "metadata": {},
   "outputs": [],
   "source": [
    "fig, ax=plt.subplots()\n",
    "\n",
    "ax.plot(wave[indices], fluxesSurfaceMu)\n",
    "plt.xlabel(\"Wavelenght (nm)\")\n",
    "plt.ylabel(\"Flux\")\n",
    "# plt.xlim(200,1000)\n",
    "# plt.ylim(0,8e8)\n"
   ]
  },
  {
   "cell_type": "code",
   "execution_count": 810,
   "metadata": {},
   "outputs": [
    {
     "output_type": "display_data",
     "data": {
      "text/plain": "Canvas(toolbar=Toolbar(toolitems=[('Home', 'Reset original view', 'home', 'home'), ('Back', 'Back to previous …",
      "application/vnd.jupyter.widget-view+json": {
       "version_major": 2,
       "version_minor": 0,
       "model_id": "aacbbca0939148ccb01593c3d3cd3a91"
      }
     },
     "metadata": {}
    }
   ],
   "source": [
    "fluxesSurfaceMu1 = np.load(\"fluxesSurfaceMu0.npy\")\n",
    "fluxesSurfaceMu2 = np.load(\"fluxesSurfaceMu2.npy\")\n",
    "fluxesSurfaceMu3 = np.load(\"fluxesSurfaceMu12.npy\")\n",
    "fluxesSurfaceMu4 = np.load(\"fluxesSurfaceMu22.npy\")\n",
    "fluxesSurfaceMu5 = np.load(\"fluxesSurfaceMu40.npy\")\n",
    "fluxesSurfaceMu6 = np.load(\"fluxesSurfaceMu60.npy\")\n",
    "fluxesSurfaceMu7 = np.load(\"fluxesSurfaceMu120.npy\")\n",
    "\n",
    "\n",
    "\n",
    "fig, ax=plt.subplots()\n",
    "\n",
    "ax.plot(wave[indices]*10, fluxesSurfaceMu1,'k--',label='0 sec')\n",
    "ax.plot(wave[indices]*10, fluxesSurfaceMu2,'k-',label='0.2 sec')\n",
    "ax.plot(wave[indices]*10, fluxesSurfaceMu3,'g--',label='1.2 sec')\n",
    "ax.plot(wave[indices]*10, fluxesSurfaceMu4,'g-',label='2.2 sec')\n",
    "ax.plot(wave[indices]*10, fluxesSurfaceMu5,'r--',label='4.0 sec')\n",
    "ax.plot(wave[indices]*10, fluxesSurfaceMu6,'b--',label='6.0 sec')\n",
    "ax.plot(wave[indices]*10, fluxesSurfaceMu7,'b-',label='12.0 sec')\n",
    "\n",
    "\n",
    "ax.legend()\n",
    "plt.xlabel(\"Wavelenght, Å\")\n",
    "plt.ylabel(\"Flux, erg/cm^2/s/Å\")\n",
    "# plt.axis([2000, 9000, 0, 7e8])\n",
    "plt.axis([0, 10000, 0, 4.55e9])\n",
    "\n",
    "plt.savefig(\"flux_.svg\", format=\"svg\")"
   ]
  },
  {
   "source": [
    "```\n",
    "# flux (lambda) normilized by continuum\n",
    "# The continuum-normalised spectrum is derived by dividing the computed flux \n",
    "# spectrum by the computed continuum flux in every spectral bin. \n",
    "```"
   ],
   "cell_type": "markdown",
   "metadata": {}
  },
  {
   "cell_type": "code",
   "execution_count": 798,
   "metadata": {},
   "outputs": [],
   "source": [
    "fluxesSur1 = np.load(\"fluxesSurfaceMu0.npy\")\n",
    "fluxesSur2 = np.load(\"fluxesSurfaceMu2.npy\")\n",
    "fluxesSur3 = np.load(\"fluxesSurfaceMu12.npy\")\n",
    "fluxesSur4 = np.load(\"fluxesSurfaceMu22.npy\")\n",
    "fluxesSur5 = np.load(\"fluxesSurfaceMu40.npy\")\n",
    "fluxesSur6 = np.load(\"fluxesSurfaceMu60.npy\")\n",
    "fluxesSur7 = np.load(\"fluxesSurfaceMu120.npy\")\n",
    "\n",
    "FluxHloaded = []\n",
    "FluxHloaded.append(fluxesSur1)\n",
    "FluxHloaded.append(fluxesSur2)\n",
    "FluxHloaded.append(fluxesSur3)\n",
    "FluxHloaded.append(fluxesSur4)\n",
    "FluxHloaded.append(fluxesSur5)\n",
    "FluxHloaded.append(fluxesSur6)\n",
    "FluxHloaded.append(fluxesSur7)\n",
    "\n",
    "for i in range(1,7):\n",
    "    normFlux = FluxHloaded[i]/FluxHloaded[0]\n",
    "    # normFluxTocontinuum = (normFlux - normFlux[np.argmin(normFlux)])/(normFlux[np.argmax(normFlux)] - normFlux[np.argmin(normFlux)])\n",
    "    np.save(f\"normFluxSurCon{i+1}.npy\", normFlux)"
   ]
  },
  {
   "cell_type": "code",
   "execution_count": 801,
   "metadata": {},
   "outputs": [
    {
     "output_type": "display_data",
     "data": {
      "text/plain": "Canvas(toolbar=Toolbar(toolitems=[('Home', 'Reset original view', 'home', 'home'), ('Back', 'Back to previous …",
      "application/vnd.jupyter.widget-view+json": {
       "version_major": 2,
       "version_minor": 0,
       "model_id": "30bd6be5a325406eb3c34035b9ce2638"
      }
     },
     "metadata": {}
    }
   ],
   "source": [
    "normFluxCon2 = np.load(\"normFluxSurCon2.npy\")\n",
    "normFluxCon12 = np.load(\"normFluxSurCon3.npy\")\n",
    "normFluxCon22 = np.load(\"normFluxSurCon4.npy\")\n",
    "normFluxCon40 = np.load(\"normFluxSurCon5.npy\")\n",
    "normFluxCon60 = np.load(\"normFluxSurCon6.npy\")\n",
    "normFluxCon120 = np.load(\"normFluxSurCon7.npy\")\n",
    "\n",
    "fig, ax=plt.subplots()\n",
    "\n",
    "wave = data.ray.wavelength\n",
    "\n",
    "\n",
    "ax.plot(wave[indices], normFluxCon2,label='0.2 sec')\n",
    "ax.plot(wave[indices], normFluxCon12,label='1.2 sec')\n",
    "ax.plot(wave[indices], normFluxCon22,label='2.2 sec')\n",
    "ax.plot(wave[indices], normFluxCon40,label='4.0 sec')\n",
    "ax.plot(wave[indices], normFluxCon60,label='6.0 sec')\n",
    "ax.plot(wave[indices], normFluxCon120,label='12.0 sec')\n",
    "\n",
    "\n",
    "ax.legend()\n",
    "plt.xlabel(r'$\\lambda$ (nm)')\n",
    "plt.ylabel(r'Normalized Flux')\n",
    "# #ax.set_yscale('log')\n",
    "plt.axis([0, 800, -100000, 0.6e6])\n",
    "plt.savefig(\"FluxnormSur_.svg\", format=\"svg\")"
   ]
  },
  {
   "source": [
    "```\n",
    "#To make a plot for intensity at a fixed wavelength\n",
    "```"
   ],
   "cell_type": "markdown",
   "metadata": {}
  },
  {
   "cell_type": "code",
   "execution_count": null,
   "metadata": {},
   "outputs": [],
   "source": [
    "%matplotlib widget\n",
    "data.ray.intensity.sel(wavelength=500, method='nearest').plot()"
   ]
  },
  {
   "source": [
    "# Tau=1 for wavelenght"
   ],
   "cell_type": "markdown",
   "metadata": {}
  },
  {
   "cell_type": "code",
   "execution_count": null,
   "metadata": {},
   "outputs": [],
   "source": [
    "%matplotlib widget\n",
    "\n",
    "#data = rh15d.Rh15dout(rhRepoPath / \"rh15d/run/output\")\n",
    "\n",
    "\n",
    "fig, ax = plt.subplots()\n",
    "ax.plot(height / 1e6, massivTau[20])  # height in Mm\n",
    "\n",
    "plt.ylabel(r'$\\tau$$_{20}$')\n",
    "plt.xlabel('H (Mm)')\n",
    "\n",
    "ax.set_yscale('log')\n",
    "ax.axhline(y=1,linestyle='dashed',color='black')\n",
    "#ax.axvline(x=0.5,linestyle='dashed',color='black')\n",
    "plt.savefig(\"tau360_.svg\", format=\"svg\")\n"
   ]
  },
  {
   "source": [
    "# Plot the departure coefficients for the levels of Ca II\n",
    "\n"
   ],
   "cell_type": "markdown",
   "metadata": {}
  },
  {
   "cell_type": "code",
   "execution_count": null,
   "metadata": {},
   "outputs": [],
   "source": [
    "%matplotlib widget\n",
    "data = rh15d.Rh15dout(rhRepoPath / \"rh15d/run/output\")\n",
    "\n",
    "plt.figure()\n",
    "for i in range(5):\n",
    "    plt.plot(data.atmos.height_scale[22,0]/1e6, \n",
    "             data.atom_CA.populations[i, 22, 0]/data.atom_CA.populations_LTE[i, 22, 0],\n",
    "             label='Level %i' % (i + 1))\n",
    "plt.legend(loc=\"upper left\")\n",
    "plt.ylabel(\"Departure coefficients at 0 sec\")\n",
    "plt.xlabel(\"H (Mm)\")\n",
    "#plt.axis([0, 0.4])\n",
    "\n",
    "# plt.figure()\n",
    "# for i in range(5):\n",
    "#     plt.plot(data.atmos.height_scale[0,0]/1e6, \n",
    "#              data.atom_CA.populations[i, 0, 0]/data.atom_CA.populations_LTE[i, 0, 0],\n",
    "#              label='Level %i' % (i + 1))\n",
    "# fig, ax = plt.subplots()\n",
    "# ax.plot(tau500,data.atom_CA.populations[1, 0, 0, 0]/data.atom_CA.populations_LTE[1, 0, 0, 0], label='Level %1' % (1)) \n",
    "# plt.legend(loc=\"upper left\")\n",
    "# plt.xlabel(\"tau500\")\n",
    "# plt.ylim(0.05, 2)\n",
    "# plt.ylabel(\"Departure coefficients\")\n",
    "# plt.ylim(0.05, 2)\n",
    "plt.axis([0, 0.5, 0, 1e5])\n"
   ]
  },
  {
   "cell_type": "code",
   "execution_count": null,
   "metadata": {},
   "outputs": [],
   "source": [
    "%matplotlib widget\n",
    "\n",
    "fig, ax = plt.subplots()\n",
    "ax.plot(data.atmos.height_scale[0, 0].dropna('height')/1e6, data.atom_CA.populations[0,0,0,:].dropna('height')/data.atom_CA.populations_LTE[0,0,0,:].dropna('height'),'r--',label=r'b$_{l}$')\n",
    "ax.plot(data.atmos.height_scale[0, 0].dropna('height')/1e6, np.log10(data.atom_CA.populations[0,3,0,:].dropna('height')/data.atom_CA.populations_LTE[0,3,0,:].dropna('height')),'k-',label=r'b$_{u}$')\n",
    "plt.legend(loc='best')\n",
    "plt.xlabel('H (Mm)')\n",
    "plt.ylabel(r'Log (b$_{i}$)')\n",
    "#plt.xlim([0,2])"
   ]
  },
  {
   "source": [
    "# tau=1"
   ],
   "cell_type": "markdown",
   "metadata": {}
  },
  {
   "cell_type": "code",
   "execution_count": null,
   "metadata": {},
   "outputs": [],
   "source": [
    "%matplotlib widget\n",
    "\n",
    "#data = rh15d.Rh15dout(rhRepoPath / \"rh15d/run/output\")\n",
    "\n",
    "\n",
    "fig, ax = plt.subplots()\n",
    "\n",
    "ax.plot(wave[indices],data.ray.tau_one_height[0,0,indices]/1e6,'k--',label='0 sec')\n",
    "ax.plot(wave[indices],data.ray.tau_one_height[2,0,indices]/1e6,'k-',label='0.2 sec')\n",
    "#ax.plot(wave[indices],data.ray.tau_one_height[12,0,indices]/1e6,'r-',label='1.2 sec')\n",
    "ax.plot(wave[indices],data.ray.tau_one_height[22,0,indices]/1e6,'b-',label='2.2 sec')\n",
    "#ax.plot(wave[indices],data.ray.tau_one_height[40,0,indices]/1e6,'g-',label='4 sec')\n",
    "\n",
    "plt.legend(loc='best')\n",
    "\n",
    "plt.xlabel(r'$\\lambda$ (nm)')\n",
    "plt.ylabel('Height (Mm)')\n"
   ]
  },
  {
   "cell_type": "code",
   "execution_count": null,
   "metadata": {},
   "outputs": [],
   "source": [
    "height = data.ray.height\n",
    "fig, ax = plt.subplots()\n",
    "ax.plot(height/)\n"
   ]
  },
  {
   "source": [
    "# от тау 500"
   ],
   "cell_type": "markdown",
   "metadata": {}
  },
  {
   "cell_type": "code",
   "execution_count": null,
   "metadata": {
    "tags": []
   },
   "outputs": [],
   "source": [
    "# xVals = data.atmos.height_scale[0,0]/1e6\n",
    "# with open(\"/tmp/x.txt\", \"w\") as f:\n",
    "#     for x in xVals.data:\n",
    "#         f.write(f\"{x}\\n\")\n",
    "\n",
    "print(data.atom_CA.populations[0,22,0])\n",
    "# yVals = data.atom_CA.populations[0,0,0]\n",
    "# with open(\"/tmp/y.txt\", \"w\") as f:\n",
    "#     for y in yVals.data:\n",
    "#         f.write(f\"{y}\\n\")\n",
    "\n",
    "\n",
    "#print(data.atom_CA.populations[0,0,0][247])\n",
    "# print(\"- - - - -\")\n",
    "# print(data.atom_CA.populations[1,0,0])\n",
    "# print(\"- - - - -\")\n",
    "# print(data.atom_CA.populations[2,0,0])"
   ]
  },
  {
   "cell_type": "code",
   "execution_count": null,
   "metadata": {},
   "outputs": [],
   "source": [
    "import matplotlib.animation as animation\n",
    "\n",
    "fig, ax = plt.subplots()\n",
    "\n",
    "line, = ax.plot(\n",
    "    data.atmos.height_scale[0,0]/1e6,\n",
    "    data.atom_CA.populations[0,0,0]\n",
    ")\n",
    "\n",
    "def animate(i):\n",
    "    #line.set_xdata(x)\n",
    "    line.set_ydata(data.atom_CA.populations[0, i, 0][0])\n",
    "    return line,\n",
    "\n",
    "ani = animation.FuncAnimation(\n",
    "    fig,\n",
    "    animate,\n",
    "    np.arange(52),\n",
    "    #blit=True,\n",
    "    repeat=False\n",
    ")\n",
    "plt.show()"
   ]
  },
  {
   "cell_type": "code",
   "execution_count": null,
   "metadata": {},
   "outputs": [],
   "source": [
    "%matplotlib widget\n",
    "\n",
    "plt.figure()\n",
    "for i in range(5):\n",
    "    plt.plot(\n",
    "        data.atmos.height_scale[22,0]/1e6, \n",
    "        data.atom_CA.populations[i, 22, 0]/data.atom_CA.populations_LTE[i, 22, 0],\n",
    "        label='Level %i' % (i + 1)\n",
    "    )\n",
    "plt.legend(loc=\"upper left\")\n",
    "plt.xlabel(\"Height (Mm)\")\n",
    "plt.ylabel(\"Departure coefficients\")\n",
    "plt.xlim(0,4)\n",
    "plt.ylim(-20,1e6)\n",
    "#/data.atom_CA.populations_LTE[i, 100, 0]"
   ]
  },
  {
   "source": [
    "# Departure coefficient vs optical depth"
   ],
   "cell_type": "markdown",
   "metadata": {}
  },
  {
   "cell_type": "code",
   "execution_count": null,
   "metadata": {},
   "outputs": [],
   "source": [
    "%matplotlib widget\n",
    "\n",
    "for i in range(6):\n",
    "    plt.plot(np.log10(tau669), np.log10(data.atom_CA.populations[i,22,0,:].dropna('height')/data.atom_CA.populations_LTE[i,22,0,:].dropna('height')),label=r'b'+r'$_{'+str(i)+'}$')\n",
    "    plt.legend(loc='best')\n",
    "    plt.xlabel(r'Log ($\\tau$$_{669}$)')\n",
    "    plt.ylabel(r'Log (b$_{i}$)')\n",
    "    plt.xlim([-12,2])"
   ]
  },
  {
   "source": [
    "# Source function"
   ],
   "cell_type": "markdown",
   "metadata": {}
  },
  {
   "cell_type": "code",
   "execution_count": null,
   "metadata": {},
   "outputs": [],
   "source": [
    "data = rh15d.Rh15dout(rhRepoPath / \"rh15d/run/output\")\n",
    "\n",
    "rh15d_vis.SourceFunction(data);\n",
    "plt.xlim(-0.2,0.4)\n",
    "plt.ylim(0,1e6)"
   ]
  },
  {
   "cell_type": "code",
   "execution_count": null,
   "metadata": {},
   "outputs": [],
   "source": [
    "%matplotlib widget\n",
    "\n",
    "data = rh15d.Rh15dout(rhRepoPath / \"rh15d/run/output\")\n",
    "hf=h5py.File(rhRepoPath / \"rh15d/run/output/output_ray.hdf5\",\"r\")\n",
    "\n",
    "hf.keys()\n",
    "\n",
    "sourceFunction = hf['source_function']\n",
    "\n",
    "fig, ax = plt.subplots()\n",
    "\n",
    "# ax.plot(data.atmos.height_scale[2,0]/1e6,sourceFunction[2,0,:,0],label='0.2 sec')\n",
    "ax.plot(np.log10(tau669),sourceFunction[2,0,:,0],label='0.2 sec')\n",
    "\n",
    "#data.source_function.data"
   ]
  }
 ]
}