{
 "metadata": {
  "language_info": {
   "codemirror_mode": {
    "name": "ipython",
    "version": 3
   },
   "file_extension": ".py",
   "mimetype": "text/x-python",
   "name": "python",
   "nbconvert_exporter": "python",
   "pygments_lexer": "ipython3",
   "version": "3.8.7-final"
  },
  "orig_nbformat": 2,
  "kernelspec": {
   "name": "python3",
   "display_name": "Python 3",
   "language": "python"
  }
 },
 "nbformat": 4,
 "nbformat_minor": 2,
 "cells": [
  {
   "cell_type": "code",
   "execution_count": 197,
   "metadata": {},
   "outputs": [],
   "source": [
    "%matplotlib widget\n",
    "#%matplotlib inline\n",
    "\n",
    "\n",
    "import numpy as np\n",
    "import matplotlib.pyplot as plt\n",
    "from helita.sim import rh15d \n",
    "from helita.vis import rh15d_vis\n",
    "\n",
    "from scipy.integrate import quadrature\n",
    "from scipy.integrate import cumtrapz\n",
    "\n",
    "from pathlib import Path\n",
    "\n",
    "rhRepoPath = Path(\"/Users/elka127/Documents/code/rh\")\n",
    "#set_matplotlib_formats('svg')\n",
    "# plt.rc('legend', frameon=False)\n",
    "# plt.rc('figure', figsize=(7, 7 / 1.75)) # Larger figure sizes\n",
    "# plt.rc('font', size=12)"
   ]
  },
  {
   "source": [
    "# With the Bifrost Snapshot or with existing atmosperes' models\n",
    "\n",
    "```\n",
    "# There are four 1D models of flares on M-dwarfs (/mn/stornext/u3/matsc/rh/Atmos/mflares/). \n",
    "# These are:\n",
    "\n",
    "# radyn_out.F13_dpl_GRID_pt1s.ncdf\n",
    "# tx.m2F12-37.max2F12_Ec37_d3.ncdf\n",
    "# tx.m5F12-37.max5F12_Ec37_d3.ncdf\n",
    "# tx.mF13-37.maxF13_Ec37_d3_dt0.1_10s.ncdf\n",
    "\n",
    "# the three \"tx\" models all have a low cut-off energy of 37 keV and a power index of 3 \n",
    "# (see Allred et al. 2015) \n",
    "# but vary in maximum beam energy: 2e12, 5e12 and 1e13 erg/cm^2/s. \n",
    "\n",
    "#The model from Kowalski et al. 2015 is radyn_out.F13_dpl_GRID_pt1s.ncdf.\n",
    "```\n",
    "\n"
   ],
   "cell_type": "markdown",
   "metadata": {}
  },
  {
   "cell_type": "code",
   "execution_count": null,
   "metadata": {},
   "outputs": [],
   "source": [
    "import h5py\n",
    "from mpl_toolkits.axes_grid1 import make_axes_locatable\n",
    "dpath_sim = \"/Users/elka127/Documents/code/rh/Atmos/\""
   ]
  },
  {
   "cell_type": "code",
   "execution_count": null,
   "metadata": {},
   "outputs": [],
   "source": [
    "# to read xarray.Dataset and see dimentions, coordinates, data variables and attributes \n",
    "import xarray\n",
    "atmos = xarray.open_dataset(dpath_sim+\"radyn_out.F13_dpl_GRID_pt1s.ncdf\")\n",
    "#atmos = xarray.open_dataset(dpath_sim+\"tx.m2F12-37.max2F12_Ec37_d3.ncdf\")\n",
    "#atmos = xarray.open_dataset(dpath_sim+\"tx.m5F12-37.max5F12_Ec37_d3.ncdf\")\n",
    "#atmos = xarray.open_dataset(dpath_sim+\"tx.mF13-37.maxF13_Ec37_d3_dt0.1_10s.ncdf\")\n",
    "atmos\n",
    "# out = xarray.open_dataset(\"/Users/elka127/Documents/code/rh/rh15d/run/output/output_ray.hdf5\")\n",
    "# out\n",
    "#output_indata.hdf5 file.\n",
    "\n",
    "#output_ray.hdf5 file."
   ]
  },
  {
   "source": [
    "```\n",
    "#netcdf4 to hdf5\n",
    "```"
   ],
   "cell_type": "markdown",
   "metadata": {}
  },
  {
   "cell_type": "code",
   "execution_count": null,
   "metadata": {},
   "outputs": [],
   "source": [
    "atmos.to_netcdf(\"newfile.hdf5\", format='NETCDF4')"
   ]
  },
  {
   "source": [
    "```\n",
    "# виджет хелиты все равно не работает даже с переделанным файлом из netcdf\n",
    "# строит только 1 график\n",
    "```"
   ],
   "cell_type": "markdown",
   "metadata": {}
  },
  {
   "cell_type": "code",
   "execution_count": null,
   "metadata": {},
   "outputs": [],
   "source": [
    "from helita.vis import rh15d_vis\n",
    "\n",
    "# hf = h5py.File(dpath_sim+\"radyn_out.F13_dpl_GRID_pt1s.ncdf\",\"r\")\n",
    "# H = hf['z'][0,:]\n",
    "#print(H)\n",
    "rh15d_vis.InputAtmosphere(\"/Users/elka127/Documents/uio/repository/jupyter/newfile.hdf5\")\n",
    "\n"
   ]
  },
  {
   "source": [
    "# Plotting atmospheres in nz"
   ],
   "cell_type": "markdown",
   "metadata": {}
  },
  {
   "cell_type": "code",
   "execution_count": null,
   "metadata": {},
   "outputs": [],
   "source": [
    "import h5py\n",
    "from mpl_toolkits.axes_grid1 import make_axes_locatable\n",
    "dpath_sim = \"/Users/elka127/Documents/code/rh/Atmos\""
   ]
  },
  {
   "cell_type": "code",
   "execution_count": null,
   "metadata": {},
   "outputs": [],
   "source": [
    "#hf = h5py.File(dpath_sim+\"radyn_out.F13_dpl_GRID_pt1s.ncdf\",\"r\")\n",
    "hf = h5py.File(dpath_sim+\"tx.m2F12-37.max2F12_Ec37_d3.ncdf,\"r\")\n",
    "height = hf['z'][0,:,0,:] # geometric height\n",
    "time = hf['x'][:]\n",
    "#print(height.shape())\n",
    "temp = hf['temperature']\n",
    "vlos = hf['velocity_z'] # LOS_V\n",
    "# eden = hf['electron_density']\n",
    "\n",
    "# snapshot_number = hf[\"snapshot_number\"]\n",
    "# nhydr = hf[\"nhydr\"]\n",
    "# x = hf[\"x\"]\n",
    "# z = hf[\"z\"]\n",
    "print(height)\n"
   ]
  },
  {
   "cell_type": "code",
   "execution_count": null,
   "metadata": {},
   "outputs": [],
   "source": [
    "# to plot 2-d atmospheres with height scale as index \n",
    "fig, ax = plt.subplots()\n",
    "#atmos.temperature.plot.hist()\n",
    "atmos.temperature.plot()\n",
    "#atmos.velocity_z.plot()\n",
    "#atmos.electron_density.plot()\n",
    "#im=axs[0].imshow(temp[0,:,0,:])\n",
    "\n",
    "#ax.plot(height / 1e6, time)  # height in Mm\n",
    "ax.set_xlabel('H (Mm)')\n",
    "ax.set_ylabel('time')\n",
    "#ax.set_yscale('log')\n",
    "#ax.set_xscale('log')\n",
    "\n",
    "#ax.set_xlabel('height')\n",
    "#ax.set_ylabel('time')\n"
   ]
  },
  {
   "cell_type": "code",
   "execution_count": null,
   "metadata": {},
   "outputs": [],
   "source": []
  },
  {
   "source": [
    "```\n",
    "# additional way to see variables\n",
    "```"
   ],
   "cell_type": "markdown",
   "metadata": {}
  },
  {
   "cell_type": "code",
   "execution_count": null,
   "metadata": {},
   "outputs": [],
   "source": [
    "hf = h5py.File(dpath_sim+\"radyn_out.F13_dpl_GRID_pt1s.ncdf\",\"r\")\n",
    "#hf = h5py.File(dpath_sim+\"tx.m2F12-37.max2F12_Ec37_d3.ncdf\",\"r\")\n",
    "#hf = h5py.File(dpath_sim+\"tx.m5F12-37.max5F12_Ec37_d3.ncdf\",\"r\")\n",
    "#hf = h5py.File(dpath_sim+\"tx.mF13-37.maxF13_Ec37_d3_dt0.1_10s.ncdf\",\"r\")"
   ]
  },
  {
   "cell_type": "code",
   "execution_count": null,
   "metadata": {},
   "outputs": [],
   "source": [
    "# To see what data is in this file, we can call the keys() method on the file object.\n",
    "hf.keys() # variables in the Bifrost snapshot"
   ]
  },
  {
   "source": [
    "# Plotting atmospheres in real height"
   ],
   "cell_type": "markdown",
   "metadata": {}
  },
  {
   "cell_type": "code",
   "execution_count": null,
   "metadata": {},
   "outputs": [],
   "source": [
    "#from helita.sim import rh15d_vis\n",
    "hf = h5py.File(dpath_sim+\"radyn_out.F13_dpl_GRID_pt1s.ncdf\",\"r\")\n",
    "H = hf['z'][0,:]\n",
    "#print(H)\n",
    "rh15d_vis.InputAtmosphere2D(\"/Users/elka127/Documents/code/rh/rh15d/run/output/output_indata.hdf5\")\n",
    "#nz = H\n",
    "#atmos.temperature.plot.hist()\n",
    "#fig, ax = plt.subplots()\n",
    "#atmos.temperature.plot()\n",
    "#atmos.velocity_z.plot()\n",
    "\n",
    "# atmos.electron_density.plot()\n",
    "# ax.set_xlabel('height')\n",
    "# ax.set_ylabel('time')\n",
    "#hf = h5py.File(rhRepoPath / \"rh15d/run/output/output_indata.hdf5\",\"r\")\n",
    "#hf.keys()\n",
    "# atmos = hf['atmos']\n",
    "# height = hf['height']\n",
    "# inputfile = hf['input']\n",
    "# mpi = hf['mpi']\n",
    "\n",
    "# print(atmos)\n",
    "# print(\"///\")\n",
    "# print(height)\n",
    "# print(\"///\")\n",
    "# print(inputfile)\n",
    "# print(\"///\")\n",
    "# print(mpi)\n",
    "\n",
    "#Blos = hf['B_z'] # LOS B\n",
    "#H = hf['z'][0,:] # geometric height\n",
    "#snapshot_number = hf[\"snapshot_number\"]\n",
    "#nhydr = hf[\"nhydr\"]\n",
    "\n",
    "#import xarray\n",
    "#inputs = xarray.open_dataset(rhRepoPath / \"rh15d/run/output/output_indata.hdf5\")\n"
   ]
  },
  {
   "cell_type": "code",
   "execution_count": null,
   "metadata": {},
   "outputs": [],
   "source": [
    "%matplotlib widget\n",
    "\n",
    "\n",
    "hf=h5py.File(dpath_sim+\"radyn_out.F13_dpl_GRID_pt1s.ncdf\",\"r\")\n",
    "# hf=h5py.File(dpath_sim+\"tx.m2F12-37.max2F12_Ec37_d3.ncdf\",\"r\")\n",
    "# hf=h5py.File(dpath_sim+\"tx.m5F12-37.max2F12_Ec37_d3.ncdf\",\"r\")\n",
    "# hf=h5py.File(dpath_sim+\"tx.mF13-37.maxF13_Ec37_d3_dt0.1_10s.ncdf\",\"r\")\n",
    "\n",
    "hf.keys()\n",
    "\n",
    "tg1t=np.transpose(hf['temperature'][0,:,0,:])\n",
    "vz1t=np.transpose(hf['velocity_z'][0,:,0,:])\n",
    "ed1t=np.transpose(hf['electron_density'][0,:,0,:])\n",
    "\n",
    "z1t=np.transpose(hf['z'][0,:,0,:]/1.e6)\n",
    "\n",
    "fig, ax=plt.subplots()\n",
    "\n",
    "# ax1.plot(z1t[:,0],np.log10(tg1t[:,100]),label='10.0 sec')\n",
    "# ax1.plot(z1t[:,0],np.log10(tg1t[:,75]),label='7.5 sec')\n",
    "# ax1.plot(z1t[:,0],np.log10(tg1t[:,60]),label='6.0 sec')\n",
    "\n",
    "# ax.plot(z1t[:,0],np.log10(tg1t[:,40]),'k--', label='4.0 sec')\n",
    "# ax.plot(z1t[:,0],np.log10(tg1t[:,22]),'k-',label='2.2 sec')\n",
    "# ax.plot(z1t[:,0],np.log10(tg1t[:,12]),'r-.',label='1.2 sec')\n",
    "ax.plot(z1t[:,0],np.log10(tg1t[:,2]),'b-',label='0.2 sec')\n",
    "ax.plot(z1t[:,0],np.log10(tg1t[:,1]),'k-',label='0.1 sec')\n",
    "\n",
    "ax.plot(z1t[:,0],np.log10(tg1t[:,0]),'g-',label='0 sec')\n",
    "\n",
    "# ax.plot(z1t[:,0],vz1t[:,135],label='13.5 sec')\n",
    "# ax.plot(z1t[:,0],vz1t[:,90],label='9.0 sec')\n",
    "# ax.plot(z1t[:,0],vz1t[:,60],label='6.0 sec')\n",
    "\n",
    "# ax.plot(z1t[:,0],vz1t[:,40],label='4.0 sec')\n",
    "# ax.plot(z1t[:,0],vz1t[:,22],label='2.2 sec')\n",
    "# ax.plot(z1t[:,0],vz1t[:,12],label='0.2 sec')\n",
    "# ax.plot(z1t[:,0],vz1t[:,2],label='0.2 sec')\n",
    "\n",
    "# ax.plot(z1t[:,0],vz1t[:,1],label='0.1 sec')\n",
    "# ax.plot(z1t[:,0],vz1t[:,0],label='0 sec')\n",
    "\n",
    "# ax.plot(z1t[:,0],np.log10(ed1t[:,130]),label='13.0 sec')\n",
    "# ax.plot(z1t[:,0],np.log10(ed1t[:,100]),label='10.0 sec')\n",
    "# ax.plot(z1t[:,0],np.log10(ed1t[:,75]),label='7.5 sec')\n",
    "\n",
    "# ax.plot(z1t[:,0],np.log10(ed1t[:,40]),label='4.0 sec')\n",
    "#ax.plot(z1t[:,0],np.log10(ed1t[:,22]),label='2.2 sec')\n",
    "# ax.plot(z1t[:,0],np.log10(ed1t[:,12]),label='1.2 sec')\n",
    "# ax.plot(z1t[:,0],np.log10(ed1t[:,2]),label='0.2 sec')\n",
    "# ax.plot(z1t[:,0],np.log10(ed1t[:,0]),label='0 sec')\n",
    "\n",
    "\n",
    "\n",
    "\n",
    "plt.xlabel('Height (Mm)')\n",
    "\n",
    "plt.ylabel('lg(Temperature (K))')\n",
    "#plt.ylabel('Velocity (m/s)')\n",
    "# plt.xlim(-0.2,0.5)\n",
    "# plt.ylim(-1e5,2e5)\n",
    "#plt.ylabel('lg(Electron Density ())')\n",
    "#plt.title('m2F12-37 Atmos’)\n",
    "ax.legend()  # Add a legend.\n",
    "\n",
    "\n",
    "plt.savefig(\"temperature_.svg\", format=\"svg\")\n",
    "#plt.savefig(\"velocity_z_.svg\", format=\"svg\")\n",
    "# plt.savefig(\"electron_density_.svg\", format=\"svg\")\n"
   ]
  },
  {
   "source": [
    "# Atoms for CaII\n",
    "\n",
    "```\n",
    "# Nmetal\n",
    "   10\n",
    "\n",
    "# Metals\n",
    "#  model file              ACTIVE/PASSIVE  INITIAL_SOLUTION   population file\n",
    "\n",
    "\n",
    "# ../../Atoms/CaII.atom            PASSIVE    ZERO_RADIATION\n",
    "  ../../Atoms/H_6.atom             PASSIVE    ZERO_RADIATION\n",
    "  ../../Atoms/MgII-IRIS.atom       PASSIVE    ZERO_RADIATION\n",
    "  ../../Atoms/CaII_PRD.atom        ACTIVE     ZERO_RADIATION\n",
    "  ../../Atoms/Si.atom              PASSIVE    LTE_POPULATIONS\n",
    "  ../../Atoms/Al.atom              PASSIVE    LTE_POPULATIONS\n",
    "  ../../Atoms/Fe.atom              PASSIVE    LTE_POPULATIONS\n",
    "  ../../Atoms/He.atom              PASSIVE    LTE_POPULATIONS\n",
    "  ../../Atoms/N.atom               PASSIVE    LTE_POPULATIONS\n",
    "  ../../Atoms/Na.atom              PASSIVE    LTE_POPULATIONS\n",
    "  ../../Atoms/S.atom               PASSIVE    LTE_POPULATIONS\n",
    "```"
   ],
   "cell_type": "markdown",
   "metadata": {}
  },
  {
   "cell_type": "code",
   "execution_count": null,
   "metadata": {},
   "outputs": [],
   "source": [
    "data = rh15d.Rh15dout(rhRepoPath / \"rh15d/run/output\")\n",
    "wave = data.ray.wavelength\n",
    "indices = np.arange(len(wave))[(wave > 364.6) & (wave < 500.0)]\n",
    "\n",
    "wave.sel(wavelength=36, method=\"nearest\")\n",
    "index500 = np.argmin(np.abs(wave.data - 393))\n",
    "\n",
    "with open(rhRepoPath / \"rh15d/run/ray.input\", \"w\") as f:\n",
    "    f.write(\"1.00\\n\")\n",
    "    output = str(len(indices) + 1)\n",
    "    for ind in indices:\n",
    "        output += f\" {ind}\"\n",
    "    output += f\" {index500}\\n\"\n",
    "    f.write(output)"
   ]
  },
  {
   "source": [
    "# Writing ray.input file"
   ],
   "cell_type": "markdown",
   "metadata": {}
  },
  {
   "cell_type": "code",
   "execution_count": null,
   "metadata": {},
   "outputs": [],
   "source": [
    "data = rh15d.Rh15dout(rhRepoPath / \"rh15d/run/output\")\n",
    "wave = data.ray.wavelength\n",
    "indices = np.arange(len(wave))[(wave > 392.8) & (wave < 394.0)]\n",
    "\n",
    "#wave.sel(wavelength=500, method=\"nearest\")\n",
    "index500 = np.argmin(np.abs(wave.data - 500))"
   ]
  },
  {
   "source": [
    "```\n",
    "#if we want to save particular wavelenghts, 500 for example, and get its index\n",
    "```"
   ],
   "cell_type": "markdown",
   "metadata": {}
  },
  {
   "cell_type": "code",
   "execution_count": null,
   "metadata": {},
   "outputs": [],
   "source": [
    "wave.sel(wavelength=500, method='nearest')"
   ]
  },
  {
   "cell_type": "code",
   "execution_count": null,
   "metadata": {},
   "outputs": [],
   "source": [
    "index500 = np.argmin(np.abs(wave.data - 500))"
   ]
  },
  {
   "source": [
    "```\n",
    "# To save this into a file ray.input we do:\n",
    "```"
   ],
   "cell_type": "markdown",
   "metadata": {}
  },
  {
   "cell_type": "code",
   "execution_count": null,
   "metadata": {},
   "outputs": [],
   "source": [
    "f = open('ray.input', 'w')  \n",
    "# this will overwrite any existing file!\n",
    "f.write('1.00\\n')\n",
    "output = str(len(indices) + 1)\n",
    "for ind in indices:\n",
    "    output += ' %i' % ind\n",
    "output += ' %i\\n' % index500 \n",
    "f.write(output)\n",
    "f.close()"
   ]
  },
  {
   "source": [
    "# Create own wavetable file"
   ],
   "cell_type": "markdown",
   "metadata": {}
  },
  {
   "source": [
    "```\n",
    "# Writes RH wave file (in xdr format). All wavelengths should be in nm.\n",
    "\n",
    "# Parameters\n",
    "# ----------\n",
    "# start: number\n",
    "#     Starting wavelength.\n",
    "# end: number\n",
    "#     Ending wavelength (non-inclusive)\n",
    "# step: number\n",
    "#     Wavelength separation\n",
    "# outfile: string\n",
    "#     Name of file to write.\n",
    "# ewave: 1-D array, optional\n",
    "#    Array of existing wavelengths. Program will make discard points\n",
    "#    to make sure no step is enforced using these points too.\n",
    "# air: boolean, optional\n",
    "#     If true, will at the end convert the wavelengths into vacuum\n",
    "#     wavelengths.\n",
    "```"
   ],
   "cell_type": "markdown",
   "metadata": {}
  },
  {
   "cell_type": "code",
   "execution_count": null,
   "metadata": {},
   "outputs": [],
   "source": [
    "def make_wave_file(my_wave, start=20, end=4000, step=,5 new_wave=None,\n",
    "                   ewave=None, air=False):\n",
    "                   rh15d.make_wave_file('my_wave.wave', ewave=my_waves)"
   ]
  },
  {
   "cell_type": "code",
   "execution_count": null,
   "metadata": {},
   "outputs": [],
   "source": [
    "#from helita.sim import rh15d\n",
    "#read exisitng file if needed\n",
    "MY_wave = rh15d.read_wave_file(rhRepoPath / \"Atoms/wave_files/My_wave.wave\")\n"
   ]
  },
  {
   "cell_type": "code",
   "execution_count": null,
   "metadata": {},
   "outputs": [],
   "source": [
    "#import xarray\n",
    "#atmos = xarray.open_dataset(dpath_sim+\"radyn_out.F13_dpl_GRID_pt1s.ncdf\")\n",
    "print(MY_wave)"
   ]
  },
  {
   "cell_type": "code",
   "execution_count": null,
   "metadata": {},
   "outputs": [],
   "source": [
    "MY_wave.shape"
   ]
  },
  {
   "source": [
    "# Selecting wavelengths for detailed output"
   ],
   "cell_type": "markdown",
   "metadata": {}
  },
  {
   "cell_type": "code",
   "execution_count": null,
   "metadata": {},
   "outputs": [],
   "source": [
    "data = rh15d.Rh15dout(rhRepoPath / \"rh15d/run/output\")\n",
    "wave = data.ray.wavelength\n",
    "indices = np.arange(len(wave))[(wave > 200) & (wave < 500)]\n",
    "#If we want to see also one particular wavelength (500 in example)\n",
    "wave.sel(wavelength=500, method=\"nearest\")\n",
    "index500 = np.argmin(np.abs(wave.data - 500))\n",
    "\n",
    "with open(rhRepoPath / \"rh15d/run/ray.input\", \"w\") as f:\n",
    "    f.write(\"1.00\\n\")\n",
    "    output = str(len(indices) + 1)\n",
    "    for ind in indices:\n",
    "        output += f\" {ind}\"\n",
    "    output += f\" {index500}\\n\"\n",
    "    f.write(output)"
   ]
  },
  {
   "source": [
    "# Intencity plot for Ca II"
   ],
   "cell_type": "markdown",
   "metadata": {}
  },
  {
   "cell_type": "code",
   "execution_count": 198,
   "metadata": {},
   "outputs": [
    {
     "output_type": "stream",
     "name": "stdout",
     "text": [
      "--- Read /Users/elka127/Documents/code/rh/rh15d/run/output/output_aux.hdf5 file.\n",
      "--- Read /Users/elka127/Documents/code/rh/rh15d/run/output/output_indata.hdf5 file.\n",
      "--- Read /Users/elka127/Documents/code/rh/rh15d/run/output/output_ray.hdf5 file.\n",
      "/Users/elka127/Documents/code/helita/helita/sim/rh15d.py:40: FutureWarning: The autoclose argument is no longer used by xarray.open_dataset() and is now ignored; it will be removed in a future version of xarray. If necessary, you can control the maximum number of simultaneous open files with xarray.set_options(file_cache_maxsize=...).\n",
      "  setattr(self, g, xr.open_dataset(infile, group=g, autoclose=True))\n",
      "/Users/elka127/Documents/code/helita/helita/sim/rh15d.py:53: FutureWarning: The autoclose argument is no longer used by xarray.open_dataset() and is now ignored; it will be removed in a future version of xarray. If necessary, you can control the maximum number of simultaneous open files with xarray.set_options(file_cache_maxsize=...).\n",
      "  self.ray = xr.open_dataset(infile, autoclose=True)\n"
     ]
    }
   ],
   "source": [
    "data = rh15d.Rh15dout(rhRepoPath / \"rh15d/run/output\")"
   ]
  },
  {
   "cell_type": "code",
   "execution_count": null,
   "metadata": {},
   "outputs": [],
   "source": [
    "%matplotlib widget\n",
    "#%matplotlib inline\n",
    "data.ray.intensity.plot()\n",
    "#plt.legend(loc=\"upper left\")\n",
    "plt.xlabel(\"Wavelenght nm\")\n",
    "plt.ylabel(\"Time, s*10\")\n",
    "#plt.axis([20, 1000, 0, 62])"
   ]
  },
  {
   "cell_type": "code",
   "execution_count": null,
   "metadata": {},
   "outputs": [],
   "source": [
    "%matplotlib widget\n",
    "#%matplotlib inline\n",
    "data.ray.intensity.plot()\n",
    "plt.savefig(\"test.svg\", format=\"svg\")\n",
    "plt.axis([392.8, 394.0, 0, 2e-9])"
   ]
  },
  {
   "cell_type": "code",
   "execution_count": null,
   "metadata": {},
   "outputs": [],
   "source": [
    "hf=h5py.File(rhRepoPath / \"rh15d/run/output/output_ray.hdf5\",\"r\")\n",
    "\n",
    "hf.keys()\n",
    "# tau1.plot()"
   ]
  },
  {
   "cell_type": "code",
   "execution_count": 199,
   "metadata": {},
   "outputs": [
    {
     "output_type": "stream",
     "name": "stdout",
     "text": [
      "--- Read /Users/elka127/Documents/code/rh/rh15d/run/output/output_aux.hdf5 file.\n--- Read /Users/elka127/Documents/code/rh/rh15d/run/output/output_indata.hdf5 file.\n--- Read /Users/elka127/Documents/code/rh/rh15d/run/output/output_ray.hdf5 file.\n"
     ]
    }
   ],
   "source": [
    "%matplotlib widget\n",
    "data = rh15d.Rh15dout(rhRepoPath / \"rh15d/run/output\")\n",
    "wave = data.ray.wavelength\n",
    "indices = np.arange(len(wave))[(wave > 20) & (wave < 4000)]\n",
    "#If we want to see also one particular wavelength (500 in example)\n",
    "# wave.sel(wavelength=500, method=\"nearest\")\n",
    "# index500 = np.argmin(np.abs(wave.data - 500))\n",
    "# tau = hf['tau_one_height']\n",
    "# z1t = hf['height'][0,:,0,:]/1.e6 \n",
    "# intens = hf['intensity']\n",
    "# fig1, ax1=plt.subplots()\n",
    "\n",
    "# ax1.plot(z1t[:,0],np.log10(tg1t[:,100]),label='10.0 sec')\n",
    "# ax1.plot(z1t[:,0],np.log10(tg1t[:,75]),label='7.5 sec')\n",
    "# ax1.plot(z1t[:,0],np.log10(tg1t[:,60]),label='6.0 sec')\n",
    "# print(tau)\n",
    "# ax1.plot(tau[:,0],intens[:,0])\n"
   ]
  },
  {
   "cell_type": "code",
   "execution_count": 200,
   "metadata": {},
   "outputs": [
    {
     "output_type": "display_data",
     "data": {
      "text/plain": "Canvas(toolbar=Toolbar(toolitems=[('Home', 'Reset original view', 'home', 'home'), ('Back', 'Back to previous …",
      "application/vnd.jupyter.widget-view+json": {
       "version_major": 2,
       "version_minor": 0,
       "model_id": "96011e7ef061445480819ee767dce8b4"
      }
     },
     "metadata": {}
    }
   ],
   "source": [
    "%matplotlib widget\n",
    "\n",
    "fig, ax=plt.subplots()\n",
    "\n",
    "ax.plot(wave[indices],data.ray.tau_one_height[0,0,indices]/1e6, 'k--',label='0 sec')\n",
    "ax.plot(wave[indices],data.ray.tau_one_height[2,0,indices]/1e6, 'r-',label='0.2 sec')\n",
    "ax.plot(wave[indices],data.ray.tau_one_height[12,0,indices]/1e6, 'r-.',label='1.2 sec')\n",
    "ax.plot(wave[indices],data.ray.tau_one_height[22,0,indices]/1e6, 'b--',label='2.2 sec')\n",
    "ax.plot(wave[indices],data.ray.tau_one_height[40,0,indices]/1e6, 'b-.',label='4. sec')\n",
    "\n",
    "ax.legend(loc=\"upper right\") \n",
    "plt.xlabel(r'$\\lambda$ (nm)')\n",
    "plt.ylabel('Height (Mm)')\n",
    "plt.title(r'$\\tau=1$')\n",
    "plt.savefig(\"Tau_one_height_.svg\", format=\"svg\")\n"
   ]
  },
  {
   "source": [
    "```\n",
    "#To make a plot for intensity at (x, y) = (?, 0), x - time column\n",
    "```"
   ],
   "cell_type": "markdown",
   "metadata": {}
  },
  {
   "cell_type": "code",
   "execution_count": 211,
   "metadata": {},
   "outputs": [
    {
     "output_type": "stream",
     "name": "stdout",
     "text": [
      "<xarray.DataArray 'intensity' ()>\narray(1.434279e-14)\nCoordinates:\n    wavelength  float64 20.0\n    x           float64 10.0\n    y           float64 10.0\nAttributes:\n    units:    W / (Hz m2 sr)\n<xarray.DataArray 'intensity' ()>\narray(4.397142e-09)\nCoordinates:\n    wavelength  float64 3.996e+03\n    x           float64 10.0\n    y           float64 10.0\nAttributes:\n    units:    W / (Hz m2 sr)\n"
     ]
    }
   ],
   "source": [
    "print(data.ray.intensity[0,0,0])\n",
    "print(data.ray.intensity[0,0,1219])"
   ]
  },
  {
   "cell_type": "code",
   "execution_count": 254,
   "metadata": {},
   "outputs": [
    {
     "output_type": "display_data",
     "data": {
      "text/plain": "Canvas(toolbar=Toolbar(toolitems=[('Home', 'Reset original view', 'home', 'home'), ('Back', 'Back to previous …",
      "application/vnd.jupyter.widget-view+json": {
       "version_major": 2,
       "version_minor": 0,
       "model_id": "cf701a03e7584fae9f658784cfdedcf4"
      }
     },
     "metadata": {}
    }
   ],
   "source": [
    "%matplotlib widget\n",
    "\n",
    "fig, ax=plt.subplots()\n",
    "#plt.figure()\n",
    "# for i in range(0,2,12,22,38):\n",
    "#     plt.plot(\n",
    "#         data.ray.intensity[i, 0],\n",
    "#         label='Time %i' % (i)\n",
    "#     )\n",
    "# data.ray.intensity[100, 0].plot(label='10 sec')\n",
    "# data.ray.intensity[75, 0].plot(label='7.5 sec')\n",
    "# data.ray.intensity[60, 0].plot(label='6 sec')\n",
    "\n",
    "ax.plot(wave[indices],data.ray.intensity[0,0,indices],'k--',label='0 sec')\n",
    "ax.plot(wave[indices],data.ray.intensity[2,0,indices],'k-',label='0.2 sec')\n",
    "ax.plot(wave[indices],data.ray.intensity[12,0,indices],'r-',label='1.2 sec')\n",
    "ax.plot(wave[indices],data.ray.intensity[22,0,indices],'b-',label='2.2 sec')\n",
    "ax.plot(wave[indices],data.ray.intensity[40,0,indices],'g-',label='4 sec')\n",
    "\n",
    "\n",
    "# data.ray.intensity[40, 0].plot(label='4 sec')\n",
    "# data.ray.intensity[22, 0].plot(label='2.2 sec')\n",
    "# data.ray.intensity[12, 0].plot(label='1.2 sec')\n",
    "# data.ray.intensity[2, 0].plot(label='0.2 sec')\n",
    "# data.ray.intensity[0, 0].plot(label='0 sec')\n",
    "\n",
    "\n",
    "ax.legend()  # Add a legend.\n",
    "\n",
    "plt.savefig(\"intensity_.svg\", format=\"svg\")\n",
    "plt.xlabel(r'$\\lambda$ (nm)')\n",
    "plt.ylabel(r'Intensity (Stokes I) ($W/(m^2*Hz*sr)$')\n",
    "#ax.set_yscale('log')\n",
    "plt.axis([20, 4000, 0, 8e-7])\n",
    "plt.savefig(\"Intencity_.svg\", format=\"svg\")\n",
    "\n"
   ]
  },
  {
   "source": [
    "```\n",
    "#Flux from Intencity\n",
    "```"
   ],
   "cell_type": "markdown",
   "metadata": {}
  },
  {
   "source": [
    "```\n",
    "# Calculating Flux from Intensity in dimensions W/m^2/Hz in 2D array, file:fluxes2d.npy\n",
    "# Calculating Surface Flux in erg/cm^2/s/å in 2D array, file:luxesSurface2d.npy\n",
    "```"
   ],
   "cell_type": "markdown",
   "metadata": {}
  },
  {
   "cell_type": "code",
   "execution_count": 209,
   "metadata": {},
   "outputs": [
    {
     "output_type": "stream",
     "name": "stdout",
     "text": [
      "c = (299792458.0, 'm s^-1', 0.0)\n"
     ]
    }
   ],
   "source": [
    "import scipy.constants\n",
    "\n",
    "print(\"c = %s\"%str(scipy.constants.physical_constants[\"speed of light in vacuum\"]))"
   ]
  },
  {
   "cell_type": "code",
   "execution_count": 266,
   "metadata": {
    "tags": []
   },
   "outputs": [],
   "source": [
    "#import scipy.constants\n",
    "from scipy.integrate import quad, dblquad\n",
    "\n",
    "fluxes = []\n",
    "fluxesSurface = []\n",
    "# const for dimension converting\n",
    "const1 = 2.99792458e+21\n",
    "#const1 = scipy.constants.physical_constants[\"speed of light in vacuum\"]*\n",
    "# uncomment for all columns calculation - takes quite some time\n",
    "#for i in range(data.ray.intensity.x.count().data):\n",
    "#for i in [0,2,12,22,40]:\n",
    "for i in [0]:\n",
    "    for ii in range(data.ray.intensity.wavelength.count().data):\n",
    "        flx, err = quad(lambda x: np.sin(x)*np.cos(x)*data.ray.intensity[i,0,ii].data, 0, np.pi)\n",
    "\n",
    "#for i in range(data.ray.intensity.x.count().data):\n",
    "#for i in [0,2,12,22,40]:\n",
    "# for i in [12]:\n",
    "#     for ii in range(data.ray.intensity.wavelength.count().data):\n",
    "#         flx, err = dblquad(lambda x, y: np.sin(x)*np.cos(x)*data.ray.intensity[i,0,ii].data, 0, 2*np.pi, lambda x: 0, lambda x: np.pi)\n",
    "        fluxes.append(flx * 2.0 * np.pi)\n",
    "#         fluxes.append(flx)\n",
    "        fluxesSurface.append(const1 * flx /(np.power(data.ray.intensity.wavelength[ii].data * 10.0,2)))\n"
   ]
  },
  {
   "cell_type": "code",
   "execution_count": 267,
   "metadata": {},
   "outputs": [
    {
     "output_type": "stream",
     "name": "stdout",
     "text": [
      "(1, 1220) 7.313937073006931e-30\n(1, 1220) 8.723052413382181e-14\n"
     ]
    }
   ],
   "source": [
    "# Write fluxes from 1D to 2D arrays\n",
    "fluxesNP = np.array(fluxes)\n",
    "fluxes2d = fluxesNP.reshape(1,1220)\n",
    "print(fluxes2d.shape, fluxes2d[0,0])\n",
    "np.save(\"fluxes2d.npy\", fluxes2d)\n",
    "\n",
    "fluxesSurfaceNP = np.array(fluxesSurface)\n",
    "fluxesSurface2d = fluxesSurfaceNP.reshape(1,1220)\n",
    "print(fluxesSurface2d.shape, fluxesSurface2d[0,0])\n",
    "np.save(\"fluxesSurface2d.npy\", fluxesSurface2d)"
   ]
  },
  {
   "cell_type": "code",
   "execution_count": 256,
   "metadata": {},
   "outputs": [
    {
     "output_type": "stream",
     "name": "stdout",
     "text": [
      "(1, 1220) 1.027821265280859e-23\n(1, 1220) 8.508863671236626e-10\n"
     ]
    }
   ],
   "source": [
    "print(fluxes2d.shape, fluxes2d[0,72])\n",
    "print(fluxesSurface2d.shape, fluxesSurface2d[0,72])\n"
   ]
  },
  {
   "source": [
    "```\n",
    "# Load fluxes from files\n",
    "```"
   ],
   "cell_type": "markdown",
   "metadata": {}
  },
  {
   "cell_type": "code",
   "execution_count": 257,
   "metadata": {},
   "outputs": [
    {
     "output_type": "stream",
     "name": "stdout",
     "text": [
      "(1, 1220)\n(1, 1220)\n"
     ]
    }
   ],
   "source": [
    "FluxesLoaded = np.load(\"fluxes2d.npy\")\n",
    "print(FluxesLoaded.shape)\n",
    "\n",
    "SurfaceFluxesLoaded = np.load(\"fluxesSurface2d.npy\")\n",
    "print(FluxesLoaded.shape)\n"
   ]
  },
  {
   "source": [
    "```\n",
    "# Graph for Flux in particular time columns\n",
    "```"
   ],
   "cell_type": "markdown",
   "metadata": {}
  },
  {
   "cell_type": "code",
   "execution_count": 222,
   "metadata": {},
   "outputs": [
    {
     "output_type": "display_data",
     "data": {
      "text/plain": "Canvas(toolbar=Toolbar(toolitems=[('Home', 'Reset original view', 'home', 'home'), ('Back', 'Back to previous …",
      "application/vnd.jupyter.widget-view+json": {
       "version_major": 2,
       "version_minor": 0,
       "model_id": "fb6a5b9af0734e01a07993e534cb0c16"
      }
     },
     "metadata": {}
    }
   ],
   "source": [
    "%matplotlib widget\n",
    "fig, ax=plt.subplots()\n",
    "#np.load(\"Flux.npy\")\n",
    "\n",
    "# ax.plot(wave[indices],(FluxesLoaded[0,:]),'k--',label='0 sec')\n",
    "ax.plot(wave[indices],(FluxesLoaded[0,:]),'r-',label='0.2 sec')\n",
    "# ax.plot(wave[indices],(FluxesLoaded[2,:]),'b-',label='1.2 sec')\n",
    "# ax.plot(wave[indices],(FluxesLoaded[3,:]),'g-',label='2.2 sec')\n",
    "# ax.plot(wave[indices],(FluxesLoaded[4,:]),'k-',label='4.0 sec')\n",
    "\n",
    "\n",
    "ax.legend()\n",
    "plt.xlabel(\"Wavelenght nm\")\n",
    "plt.ylabel(\"Flux, W/(m2 Hz)\")\n",
    "#plt.axis([0, 4000, 0, 1.5e-6])\n",
    "\n",
    "plt.savefig(\"flux_.svg\", format=\"svg\")\n"
   ]
  },
  {
   "cell_type": "code",
   "execution_count": 223,
   "metadata": {},
   "outputs": [
    {
     "output_type": "display_data",
     "data": {
      "text/plain": "Canvas(toolbar=Toolbar(toolitems=[('Home', 'Reset original view', 'home', 'home'), ('Back', 'Back to previous …",
      "application/vnd.jupyter.widget-view+json": {
       "version_major": 2,
       "version_minor": 0,
       "model_id": "0b17e182010a40748c58a2fd95079729"
      }
     },
     "metadata": {}
    }
   ],
   "source": [
    "%matplotlib widget\n",
    "fig, ax=plt.subplots()\n",
    "#np.load(\"Flux.npy\")\n",
    "\n",
    "\n",
    "# ax.plot(wave[indices],(SurfaceFluxesLoaded[0,:]),'k--',label='0 sec')\n",
    "ax.plot(wave[indices],(SurfaceFluxesLoaded[0,:]),'r-',label='0.2 sec')\n",
    "# ax.plot(wave[indices],(SurfaceFluxesLoaded[2,:]),'b-.',label='1.2 sec')\n",
    "# ax.plot(wave[indices],(SurfaceFluxesLoaded[3,:]),'g-',label='2.2 sec')\n",
    "# ax.plot(wave[indices],(SurfaceFluxesLoaded[4,:]),'k-',label='4.0 sec')\n",
    "\n",
    "\n",
    "ax.legend()\n",
    "plt.xlabel(\"Wavelenght nm\")\n",
    "plt.ylabel(\"Flux, erg/cm^2/s/Å\")\n",
    "#plt.axis([0, 4000, 0, 1.5e-6])\n",
    "\n",
    "plt.savefig(\"flux_.svg\", format=\"svg\")\n"
   ]
  },
  {
   "cell_type": "code",
   "execution_count": 265,
   "metadata": {},
   "outputs": [
    {
     "output_type": "stream",
     "name": "stdout",
     "text": [
      "3.3087753147295615e-20\n"
     ]
    }
   ],
   "source": [
    "import scipy.integrate as scp\n",
    "#print(data.ray.intensity.wavelength[1219].data)\n",
    "#for i in range()\n",
    "fluxesSum = scp.trapz(FluxesLoaded[0,:], x=None, dx=1.0, axis=-1)\n",
    "print(fluxesSum)"
   ]
  },
  {
   "source": [
    "```\n",
    "#To make a plot for intensity at a fixed wavelength\n",
    "```\n"
   ],
   "cell_type": "markdown",
   "metadata": {}
  },
  {
   "cell_type": "code",
   "execution_count": null,
   "metadata": {},
   "outputs": [],
   "source": [
    "%matplotlib widget\n",
    "data.ray.intensity.sel(wavelength=500, method='nearest').plot()\n"
   ]
  },
  {
   "cell_type": "code",
   "execution_count": null,
   "metadata": {},
   "outputs": [],
   "source": [
    "rh15d_vis.InputAtmosphere(data)"
   ]
  },
  {
   "source": [
    "# Calculating optical depths"
   ],
   "cell_type": "markdown",
   "metadata": {}
  },
  {
   "cell_type": "code",
   "execution_count": null,
   "metadata": {},
   "outputs": [],
   "source": [
    "data = rh15d.Rh15dout(rhRepoPath / \"rh15d/run/output\")\n",
    "print(data.ray.wavelength_selected)\n",
    "print(\"-\")\n",
    "print(data.ray.wavelength_selected.data)\n",
    "\n",
    "# first column\n",
    "height = data.atmos.height_scale[0, 0].dropna('height')  \n",
    "# index of 500 nm\n",
    "index500 = np.argmin(np.abs(data.ray.wavelength_selected.data - 280))  \n",
    "\n",
    "tau500 = cumtrapz(data.ray.chi[0, 0, :, index500].dropna('height'), x=-height)\n",
    "# ensure tau500 and height have same size\n",
    "tau500 = np.concatenate([[1e-20], tau500])  \n",
    "\n",
    " "
   ]
  },
  {
   "cell_type": "code",
   "execution_count": null,
   "metadata": {},
   "outputs": [],
   "source": [
    "%matplotlib widget\n",
    "\n",
    "fig, ax = plt.subplots()\n",
    "ax.plot(height / 1e6, tau500)  # height in Mm\n",
    "\n",
    "plt.ylabel(r'$\\tau$$_{500}$')\n",
    "plt.xlabel('H (Mm)')\n",
    "\n",
    "ax.set_yscale('log')\n",
    "ax.axhline(y=1,linestyle='dashed',color='black')\n",
    "#ax.axvline(x=0.5,linestyle='dashed',color='black')\n",
    "plt.savefig(\"tau360_.svg\", format=\"svg\")\n"
   ]
  },
  {
   "source": [
    "# Departure coefficients"
   ],
   "cell_type": "markdown",
   "metadata": {}
  },
  {
   "cell_type": "code",
   "execution_count": null,
   "metadata": {},
   "outputs": [],
   "source": [
    "data.atom_CA\n"
   ]
  },
  {
   "source": [
    "# Plot the departure coefficients for the levels of Ca II\n",
    "\n"
   ],
   "cell_type": "markdown",
   "metadata": {}
  },
  {
   "cell_type": "code",
   "execution_count": null,
   "metadata": {},
   "outputs": [],
   "source": [
    "%matplotlib widget\n",
    "\n",
    "plt.figure()\n",
    "for i in range(5):\n",
    "    plt.plot(data.atmos.height_scale[0,0]/1e6, \n",
    "             data.atom_CA.populations[i, 0, 0]/data.atom_CA.populations_LTE[i, 0, 0],\n",
    "             label='Level %i' % (i + 1))\n",
    "plt.legend(loc=\"upper left\")\n",
    "plt.ylabel(\"Departure coefficients at 2.2 sec\")\n",
    "plt.xlabel(\"H (Mm)\")\n",
    "#plt.axis([0, 0.4])\n",
    "\n",
    "# plt.figure()\n",
    "# for i in range(5):\n",
    "#     plt.plot(data.atmos.height_scale[0,0]/1e6, \n",
    "#              data.atom_CA.populations[i, 0, 0]/data.atom_CA.populations_LTE[i, 0, 0],\n",
    "#              label='Level %i' % (i + 1))\n",
    "# fig, ax = plt.subplots()\n",
    "# ax.plot(tau500,data.atom_CA.populations[1, 0, 0, 0]/data.atom_CA.populations_LTE[1, 0, 0, 0], label='Level %1' % (1)) \n",
    "# plt.legend(loc=\"upper left\")\n",
    "# plt.xlabel(\"tau500\")\n",
    "# plt.ylim(0.05, 2)\n",
    "# plt.ylabel(\"Departure coefficients\")\n",
    "# plt.ylim(0.05, 2)\n",
    "#plt.axis([0, 0.5, 0, 1e7])\n"
   ]
  },
  {
   "cell_type": "code",
   "execution_count": null,
   "metadata": {},
   "outputs": [],
   "source": [
    "%matplotlib widget\n",
    "\n",
    "fig, ax = plt.subplots()\n",
    "ax.plot(data.atmos.height_scale[0, 0].dropna('height')/1e6, data.atom_CA.populations[0,0,0,:].dropna('height')/data.atom_CA.populations_LTE[0,0,0,:].dropna('height'),'r--',label=r'b$_{l}$')\n",
    "ax.plot(data.atmos.height_scale[0, 0].dropna('height')/1e6, np.log10(data.atom_CA.populations[0,3,0,:].dropna('height')/data.atom_CA.populations_LTE[0,3,0,:].dropna('height')),'k-',label=r'b$_{u}$')\n",
    "plt.legend(loc='best')\n",
    "plt.xlabel('H (Mm)')\n",
    "plt.ylabel(r'Log (b$_{i}$)')\n",
    "#plt.xlim([0,2])"
   ]
  },
  {
   "source": [
    "# tau=1"
   ],
   "cell_type": "markdown",
   "metadata": {}
  },
  {
   "cell_type": "code",
   "execution_count": null,
   "metadata": {},
   "outputs": [],
   "source": [
    "%matplotlib widget\n",
    "\n",
    "fig, ax = plt.subplots()\n",
    "\n",
    "ax.plot(wave[indices],data.ray.tau_one_height[0,0,indices]/1e6,'k--',label='0 sec')\n",
    "ax.plot(wave[indices],data.ray.tau_one_height[2,0,indices]/1e6,'k-',label='0.2 sec')\n",
    "ax.plot(wave[indices],data.ray.tau_one_height[12,0,indices]/1e6,'r-',label='1.2 sec')\n",
    "ax.plot(wave[indices],data.ray.tau_one_height[22,0,indices]/1e6,'b-',label='2.2 sec')\n",
    "ax.plot(wave[indices],data.ray.tau_one_height[40,0,indices]/1e6,'g-',label='4 sec')\n",
    "\n",
    "plt.legend(loc='best')\n",
    "\n",
    "plt.xlabel(r'$\\lambda$ (nm)')\n",
    "plt.ylabel('Height (Mm)')\n"
   ]
  },
  {
   "cell_type": "code",
   "execution_count": null,
   "metadata": {},
   "outputs": [],
   "source": [
    "height = data.ray.height\n",
    "fig, ax = plt.subplots()\n",
    "ax.plot(height/)\n"
   ]
  },
  {
   "source": [
    "# от тау 500"
   ],
   "cell_type": "markdown",
   "metadata": {}
  },
  {
   "cell_type": "code",
   "execution_count": null,
   "metadata": {
    "tags": []
   },
   "outputs": [],
   "source": [
    "# xVals = data.atmos.height_scale[0,0]/1e6\n",
    "# with open(\"/tmp/x.txt\", \"w\") as f:\n",
    "#     for x in xVals.data:\n",
    "#         f.write(f\"{x}\\n\")\n",
    "\n",
    "print(data.atom_CA.populations[0,22,0])\n",
    "# yVals = data.atom_CA.populations[0,0,0]\n",
    "# with open(\"/tmp/y.txt\", \"w\") as f:\n",
    "#     for y in yVals.data:\n",
    "#         f.write(f\"{y}\\n\")\n",
    "\n",
    "\n",
    "#print(data.atom_CA.populations[0,0,0][247])\n",
    "# print(\"- - - - -\")\n",
    "# print(data.atom_CA.populations[1,0,0])\n",
    "# print(\"- - - - -\")\n",
    "# print(data.atom_CA.populations[2,0,0])"
   ]
  },
  {
   "cell_type": "code",
   "execution_count": null,
   "metadata": {},
   "outputs": [],
   "source": [
    "import matplotlib.animation as animation\n",
    "\n",
    "fig, ax = plt.subplots()\n",
    "\n",
    "line, = ax.plot(\n",
    "    data.atmos.height_scale[0,0]/1e6,\n",
    "    data.atom_CA.populations[0,0,0]\n",
    ")\n",
    "\n",
    "def animate(i):\n",
    "    #line.set_xdata(x)\n",
    "    line.set_ydata(data.atom_CA.populations[0, i, 0][0])\n",
    "    return line,\n",
    "\n",
    "ani = animation.FuncAnimation(\n",
    "    fig,\n",
    "    animate,\n",
    "    np.arange(52),\n",
    "    #blit=True,\n",
    "    repeat=False\n",
    ")\n",
    "plt.show()"
   ]
  },
  {
   "cell_type": "code",
   "execution_count": null,
   "metadata": {},
   "outputs": [],
   "source": [
    "%matplotlib widget\n",
    "\n",
    "plt.figure()\n",
    "for i in range(5):\n",
    "    plt.plot(\n",
    "        data.atmos.height_scale[22,0]/1e6, \n",
    "        data.atom_CA.populations[i, 22, 0]/data.atom_CA.populations_LTE[i, 22, 0],\n",
    "        label='Level %i' % (i + 1)\n",
    "    )\n",
    "plt.legend(loc=\"upper left\")\n",
    "plt.xlabel(\"Height (Mm)\")\n",
    "plt.ylabel(\"Departure coefficients\")\n",
    "plt.xlim(0,4)\n",
    "plt.ylim(-20,1e6)\n",
    "#/data.atom_CA.populations_LTE[i, 100, 0]"
   ]
  },
  {
   "source": [
    "# Departure coefficient vs optical depth"
   ],
   "cell_type": "markdown",
   "metadata": {}
  },
  {
   "cell_type": "code",
   "execution_count": null,
   "metadata": {},
   "outputs": [],
   "source": [
    "%matplotlib widget\n",
    "\n",
    "for i in range(6):\n",
    "    plt.plot(np.log10(tau280), np.log10(data.atom_CA.populations[i,22,0,:].dropna('height')/data.atom_CA.populations_LTE[i,22,0,:].dropna('height')),label=r'b'+r'$_{'+str(i)+'}$')\n",
    "    plt.legend(loc='best')\n",
    "    plt.xlabel(r'Log ($\\tau$$_{280}$)')\n",
    "    plt.ylabel(r'Log (b$_{i}$)')\n",
    "    plt.xlim([-12,2])"
   ]
  },
  {
   "source": [
    "# Source function"
   ],
   "cell_type": "markdown",
   "metadata": {}
  },
  {
   "cell_type": "code",
   "execution_count": null,
   "metadata": {},
   "outputs": [],
   "source": [
    "rh15d_vis.SourceFunction(data);\n",
    "plt.xlim(-0.2,0.4)\n",
    "plt.ylim(0,1e6)"
   ]
  },
  {
   "source": [
    "# Различные блоки, которые не пригодились или не работают"
   ],
   "cell_type": "markdown",
   "metadata": {}
  },
  {
   "cell_type": "code",
   "execution_count": null,
   "metadata": {
    "tags": []
   },
   "outputs": [],
   "source": [
    "# from scipy import integrate\n",
    "# from integrate import quad, dblquad\n",
    "from scipy.integrate import quad, dblquad\n",
    "fluxes = []\n",
    "\n",
    "# def u(x):\n",
    "#     #print(i, ii)\n",
    "#     return np.cos(x)*data.ray.intensity[i,0,ii].data\n",
    "#print(u(0))\n",
    "#x = np.cos(y)\n",
    "#print(data.ray.intensity)\n",
    "#print(data.ray.intensity.shape, data.ray.intensity.count().data)\n",
    "for i in range(data.ray.intensity.x.count().data):\n",
    "    for ii in range(data.ray.intensity.wavelength.count().data):\n",
    "        #print(data.ray.intensity[i,0,ii].data)\n",
    "        flx, err = dblquad(lambda x, y: np.sin(x)*np.cos(x)*data.ray.intensity[i,0,ii].data, 0, np.pi, lambda x: 0, lambda x: np.pi/2)\n",
    "        #integrate.quad(lambda x: x*data.ray.intensity[i,0,ii].data, -1, 1) #weight=\"cos\", wvar=1)\n",
    "        #fluxes.append(round(flx,5))\n",
    "        #print(flx)\n",
    "        fluxes.append(flx)\n",
    "#print(fluxes)\n",
    "np.save(\"Flux.npy\",fluxes)"
   ]
  },
  {
   "cell_type": "code",
   "execution_count": null,
   "metadata": {},
   "outputs": [],
   "source": [
    "%matplotlib widget\n",
    "import numpy as np\n",
    "import matplotlib.pyplot as plt\n",
    "from helita.sim import rh15d\n",
    "import h5py\n",
    "\n",
    "hf=h5py.File(dpath_sim+\"radyn_out.F13_dpl_GRID_pt1s.ncdf\",\"r\")\n",
    "\n",
    "hf.keys()\n",
    "\n",
    "tg1t=np.transpose(hf['temperature'][0,:,0,:])\n",
    "vz1t=np.transpose(hf['velocity_z'][0,:,0,:])\n",
    "z1t=np.transpose(hf['z'][0,:,0,:]/1.e6)\n",
    "\n",
    "fig1, ax1=plt.subplots()\n",
    "#ax1.plot(vz1t[:,22],np.log10(tg1t[:,22]))\n",
    "ax1.plot(vz1t[:,0],(tg1t[:,0]))\n",
    "\n",
    "plt.xlabel('Height (Mm)')\n",
    "plt.ylabel('(Velocity (m/s))')\n",
    "\n",
    "#plt.ylabel('lg(Temperature (K))')\n",
    "#plt.title('Figure 1’)"
   ]
  },
  {
   "source": [
    "# further nonsence with atmo\n"
   ],
   "cell_type": "markdown",
   "metadata": {}
  },
  {
   "cell_type": "code",
   "execution_count": null,
   "metadata": {},
   "outputs": [],
   "source": [
    "rh15d_vis.InputAtmosphere(\"/Users/elka127/Documents/uio/ast5210/docs/untitled folder/rh_ast5210/Atmos/bifrost_cb24bih_s385_cut.hdf5\");\n",
    "#rh15d_vis.InputAtmosphere(\"/Users/elka127/Documents/uio/ast5210/docs/untitled folder/rh_ast5210/Atmos/bifrost_cb24bih_s385_cut.hdf5\");\n",
    "# import h5py\n",
    "#   data = h5py.File(rhRepoPath / \"rh15d/run/output/output_indata.hdf5\",\"r\")\n",
    "#   for group in data.keys():\n",
    "#        print(group)"
   ]
  },
  {
   "cell_type": "code",
   "execution_count": null,
   "metadata": {},
   "outputs": [],
   "source": [
    "atmosTemp = atmos.temperature \n",
    "#atmostemp\n",
    "\n",
    "# print(atmosTemp[0,:,:,248])\n",
    "# print()\n",
    "# print(atmosTemp[0,:,:,247])\n",
    "\n",
    "# 1 - nt(1) - ?\n",
    "# 2 - nx(52) - время\n",
    "# 3 - ny(1) - ?\n",
    "# 4 - nz(249) - высота\n",
    "\n",
    "# sm1 = atmosTemp[0,0,0,248]\n",
    "# print(sm1)\n",
    "# sm2 = atmosTemp[0,0,0]\n",
    "# print(sm2)\n",
    "\n",
    "#print(atmosTemp[0,:,:,:])\n",
    "\n",
    "# ---\n",
    "\n",
    "atmosHeight = atmos.z\n",
    "atmosHeight"
   ]
  },
  {
   "cell_type": "code",
   "execution_count": null,
   "metadata": {},
   "outputs": [],
   "source": [
    "fig, axs = plt.subplots(1,3,figsize=(15,5),facecolor='w', edgecolor='k')\n",
    "#fig.subplots_adjust(hspace = 0.1,wspace=0.25,left=0.05,right=0.95,top=0.93,bottom=0.07)\n",
    "#axs.ravel()\n",
    "\n",
    "# im=axs[0].imshow(atmosTemp[0,:,:,248],cmap='plasma')\n",
    "# im=axs[1].imshow(atmosTemp[0,:,:,247],cmap='plasma')\n",
    "# im=axs[2].imshow(atmosTemp[0,:,:,246],cmap='plasma')\n",
    "\n",
    "im=axs[0].plot(atmosTemp[0,:,:,247])\n",
    "im=axs[1].plot(atmosHeight[0,:,:,247])\n",
    "#im=axs[2].plot(atmosTemp[0,:,:,246])\n",
    "\n",
    "# divider0 = make_axes_locatable(axs[0])\n",
    "# cax0 = divider0.append_axes(\"right\", size=\"5%\", pad=0.05)\n",
    "# cbar0=plt.colorbar(im,cax=cax0)\n",
    "# cbar0.set_label('T (K)')\n",
    "\n",
    "# divider1 = make_axes_locatable(axs[1])\n",
    "# cax1 = divider1.append_axes(\"right\", size=\"5%\", pad=0.05)\n",
    "# cbar1=plt.colorbar(im,cax=cax1)\n",
    "# cbar1.set_label('T (K)')\n",
    "\n",
    "#axs[0].set_xlabel('pixels')\n",
    "axs[0].set_ylabel('pixels')"
   ]
  },
  {
   "cell_type": "code",
   "execution_count": null,
   "metadata": {},
   "outputs": [],
   "source": [
    "import h5py\n",
    "data = h5py.File(rhRepoPath / \"rh15d/run/output/output_indata.hdf5\",\"r\")\n",
    "for group in data.keys():\n",
    "    print(group)"
   ]
  },
  {
   "cell_type": "code",
   "execution_count": null,
   "metadata": {},
   "outputs": [],
   "source": [
    "import xarray\n",
    "atmos = xarray.open_dataset(\"/Users/elka127/Documents/uio/ast5210/docs/untitled folder/rh_ast5210/Atmos/bifrost_cb24bih_s385_cut.hdf5\")\n",
    "atmos"
   ]
  },
  {
   "cell_type": "code",
   "execution_count": null,
   "metadata": {},
   "outputs": [],
   "source": [
    "atmos.temperature.plot()"
   ]
  },
  {
   "cell_type": "code",
   "execution_count": null,
   "metadata": {},
   "outputs": [],
   "source": [
    "import h5py\n",
    "from mpl_toolkits.axes_grid1 import make_axes_locatable\n",
    "dpath_sim = \"/Users/elka127/Documents/uio/project-Mflare/mflares/\"\n",
    "\n",
    "from helita.sim import bifrost\n",
    "data = bifrost.BifrostData(\"radyn_out.F13_dpl_GRID_pt1s\", snap=300, fdir=dpath_sim+\"radyn_out.F13_dpl_GRID_pt1s.ncdf\")"
   ]
  },
  {
   "cell_type": "code",
   "execution_count": null,
   "metadata": {},
   "outputs": [],
   "source": []
  },
  {
   "cell_type": "code",
   "execution_count": null,
   "metadata": {},
   "outputs": [],
   "source": [
    "#H = hf['z'][0,:] \n",
    "# geometric height\n",
    "plt.figure()\n",
    "plt.plot(\n",
    "        atmos.height_scale[0,0]/1e6, \n",
    "        atmos.electron_density[0, 0, 0]\n",
    ")\n",
    "print(atmos.height_scale[0,0]/1e6)\n"
   ]
  },
  {
   "cell_type": "code",
   "execution_count": null,
   "metadata": {},
   "outputs": [],
   "source": [
    "import matplotlib.pyplot as plt\n",
    "import numpy as np\n",
    "\n",
    "# hf = h5py.File(dpath_sim+\"radyn_out.F13_dpl_GRID_pt1s.ncdf\",\"r\")\n",
    "# height = hf['z'][0,:,0,:] # geometric height\n",
    "# time = hf['x'][:]\n",
    "# temp = hf['temperature']\n",
    "# vlos = hf['velocity_z'] # LOS_V\n",
    "# eden = hf['electron_density']\n",
    "\n",
    "hf=h5py.File(dpath_sim+\"radyn_out.F13_dpl_GRID_pt1s.ncdf\",\"r\")\n",
    "\n",
    "hf.keys()\n",
    "\n",
    "tg1t=np.transpose(hf['temperature'][0,:,0,:])\n",
    "vz1t=np.transpose(hf['velocity_z'][0,:,0,:])\n",
    "ed1t=np.transpose(hf['electron_density'][0,:,0,:])\n",
    "\n",
    "z1t=np.transpose(hf['z'][0,:,0,:]/1.e6)\n",
    "\n",
    "fig, axs =plt.subplots(1,3,figsize=(15,5),facecolor='w', edgecolor='k')\n",
    "fig.subplots_adjust(hspace = 0.25,wspace=0.25,left=0.05,right=0.95,top=0.93,bottom=0.07)\n",
    "axs.ravel()\n",
    "im=axs[0].matshow(tg1t)\n",
    "divider1 = make_axes_locatable(axs[0])\n",
    "cax0 = divider1.append_axes(\"right\", size=\"5%\", pad=0.05)\n",
    "cbar=plt.colorbar(im,cax=cax0)\n",
    "cbar.set_label('T (K)')\n",
    "axs[0].set_xlabel('time')\n",
    "axs[0].set_ylabel('height')\n",
    "\n",
    "# im=axs[1].matshow(vlos[0,:,0,:]/1e3,cmap='bwr',vmax=1.5,vmin=-1.5)\n",
    "# divider1 = make_axes_locatable(axs[1])\n",
    "# cax0 = divider1.append_axes(\"right\", size=\"5%\", pad=0.05)\n",
    "# cbar=plt.colorbar(im,cax=cax0)\n",
    "# cbar.set_label('V (km/s)')\n",
    "# axs[1].set_xlabel('height')\n",
    "# axs[1].set_ylabel('time')\n",
    "\n",
    "# im=axs[2].matshow(eden[0,:,0,:]*1e4,cmap='BrBG',vmax=20,vmin=-100)\n",
    "# divider1 = make_axes_locatable(axs[2])\n",
    "# cax0 = divider1.append_axes(\"right\", size=\"5%\", pad=0.05)\n",
    "# cbar=plt.colorbar(im,cax=cax0)\n",
    "# cbar.set_label('electron density (G)')\n",
    "# axs[2].set_xlabel('height')\n",
    "# axs[2].set_ylabel('time')"
   ]
  }
 ]
}